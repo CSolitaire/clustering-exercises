{
 "cells": [
  {
   "cell_type": "markdown",
   "metadata": {},
   "source": [
    "## Clustering Lesson - Data Wrangling - Mall Dataset\n",
    "### Corey Solitaire\n",
    "#### 10/12/2020"
   ]
  },
  {
   "cell_type": "code",
   "execution_count": 1,
   "metadata": {},
   "outputs": [],
   "source": [
    "import wrangle_mall\n",
    "import pandas as pd\n",
    "import numpy as np\n",
    "import matplotlib.pyplot as plt"
   ]
  },
  {
   "cell_type": "markdown",
   "metadata": {},
   "source": [
    "## 1. Acquire data from mall_customers.customers in mysql database. "
   ]
  },
  {
   "cell_type": "code",
   "execution_count": 2,
   "metadata": {},
   "outputs": [],
   "source": [
    "df = wrangle_mall.get_mall_data(cached=True)"
   ]
  },
  {
   "cell_type": "code",
   "execution_count": 3,
   "metadata": {},
   "outputs": [
    {
     "data": {
      "text/html": [
       "<div>\n",
       "<style scoped>\n",
       "    .dataframe tbody tr th:only-of-type {\n",
       "        vertical-align: middle;\n",
       "    }\n",
       "\n",
       "    .dataframe tbody tr th {\n",
       "        vertical-align: top;\n",
       "    }\n",
       "\n",
       "    .dataframe thead th {\n",
       "        text-align: right;\n",
       "    }\n",
       "</style>\n",
       "<table border=\"1\" class=\"dataframe\">\n",
       "  <thead>\n",
       "    <tr style=\"text-align: right;\">\n",
       "      <th></th>\n",
       "      <th>customer_id</th>\n",
       "      <th>gender</th>\n",
       "      <th>age</th>\n",
       "      <th>annual_income</th>\n",
       "      <th>spending_score</th>\n",
       "    </tr>\n",
       "  </thead>\n",
       "  <tbody>\n",
       "    <tr>\n",
       "      <th>0</th>\n",
       "      <td>1</td>\n",
       "      <td>Male</td>\n",
       "      <td>19</td>\n",
       "      <td>15</td>\n",
       "      <td>39</td>\n",
       "    </tr>\n",
       "    <tr>\n",
       "      <th>1</th>\n",
       "      <td>2</td>\n",
       "      <td>Male</td>\n",
       "      <td>21</td>\n",
       "      <td>15</td>\n",
       "      <td>81</td>\n",
       "    </tr>\n",
       "    <tr>\n",
       "      <th>2</th>\n",
       "      <td>3</td>\n",
       "      <td>Female</td>\n",
       "      <td>20</td>\n",
       "      <td>16</td>\n",
       "      <td>6</td>\n",
       "    </tr>\n",
       "    <tr>\n",
       "      <th>3</th>\n",
       "      <td>4</td>\n",
       "      <td>Female</td>\n",
       "      <td>23</td>\n",
       "      <td>16</td>\n",
       "      <td>77</td>\n",
       "    </tr>\n",
       "    <tr>\n",
       "      <th>4</th>\n",
       "      <td>5</td>\n",
       "      <td>Female</td>\n",
       "      <td>31</td>\n",
       "      <td>17</td>\n",
       "      <td>40</td>\n",
       "    </tr>\n",
       "  </tbody>\n",
       "</table>\n",
       "</div>"
      ],
      "text/plain": [
       "   customer_id  gender  age  annual_income  spending_score\n",
       "0            1    Male   19             15              39\n",
       "1            2    Male   21             15              81\n",
       "2            3  Female   20             16               6\n",
       "3            4  Female   23             16              77\n",
       "4            5  Female   31             17              40"
      ]
     },
     "execution_count": 3,
     "metadata": {},
     "output_type": "execute_result"
    }
   ],
   "source": [
    "df.head()"
   ]
  },
  {
   "cell_type": "markdown",
   "metadata": {},
   "source": [
    "## 2. Summarize data (include distributions and descriptive statistics)."
   ]
  },
  {
   "cell_type": "code",
   "execution_count": 4,
   "metadata": {},
   "outputs": [
    {
     "name": "stdout",
     "output_type": "stream",
     "text": [
      "The shape of the df:\n",
      "(200, 5)\n",
      "\n",
      "\n",
      "Columns, Non-Null Count, Data Type:\n",
      "<class 'pandas.core.frame.DataFrame'>\n",
      "RangeIndex: 200 entries, 0 to 199\n",
      "Data columns (total 5 columns):\n",
      " #   Column          Non-Null Count  Dtype \n",
      "---  ------          --------------  ----- \n",
      " 0   customer_id     200 non-null    int64 \n",
      " 1   gender          200 non-null    object\n",
      " 2   age             200 non-null    int64 \n",
      " 3   annual_income   200 non-null    int64 \n",
      " 4   spending_score  200 non-null    int64 \n",
      "dtypes: int64(4), object(1)\n",
      "memory usage: 7.9+ KB\n",
      "None\n",
      "\n",
      "\n",
      "Summary statistics for the df:\n",
      "       customer_id         age  annual_income  spending_score\n",
      "count   200.000000  200.000000     200.000000      200.000000\n",
      "mean    100.500000   38.850000      60.560000       50.200000\n",
      "std      57.879185   13.969007      26.264721       25.823522\n",
      "min       1.000000   18.000000      15.000000        1.000000\n",
      "25%      50.750000   28.750000      41.500000       34.750000\n",
      "50%     100.500000   36.000000      61.500000       50.000000\n",
      "75%     150.250000   49.000000      78.000000       73.000000\n",
      "max     200.000000   70.000000     137.000000       99.000000\n",
      "\n",
      "\n",
      "Number of NaN values per column:\n",
      "customer_id       0\n",
      "gender            0\n",
      "age               0\n",
      "annual_income     0\n",
      "spending_score    0\n",
      "dtype: int64\n",
      "\n",
      "\n",
      "Number of NaN values per row:\n",
      "0      0\n",
      "1      0\n",
      "2      0\n",
      "3      0\n",
      "4      0\n",
      "      ..\n",
      "195    0\n",
      "196    0\n",
      "197    0\n",
      "198    0\n",
      "199    0\n",
      "Length: 200, dtype: int64\n",
      "\n",
      "\n",
      "Count and percent missing per row\n",
      "                num_rows_missing  pct_rows_missing\n",
      "customer_id                    0               0.0\n",
      "gender                         0               0.0\n",
      "age                            0               0.0\n",
      "annual_income                  0               0.0\n",
      "spending_score                 0               0.0\n",
      "\n",
      "\n",
      "Count and percent missing per column\n",
      "                num_cols_missing  pct_cols_missing  num_rows\n",
      "age                            0               0.0         0\n",
      "annual_income                  0               0.0         0\n",
      "customer_id                    0               0.0         0\n",
      "gender                         0               0.0         0\n",
      "spending_score                 0               0.0         0\n",
      "\n",
      "\n",
      "Value Counts per Column:\n",
      "----------------------------------------customer_id---------------------------------------- - "
     ]
    },
    {
     "data": {
      "text/plain": [
       "200    1\n",
       "63     1\n",
       "73     1\n",
       "72     1\n",
       "71     1\n",
       "70     1\n",
       "69     1\n",
       "68     1\n",
       "67     1\n",
       "66     1\n",
       "Name: customer_id, dtype: int64"
      ]
     },
     "metadata": {},
     "output_type": "display_data"
    },
    {
     "name": "stdout",
     "output_type": "stream",
     "text": [
      "----------------------------------------gender---------------------------------------- - "
     ]
    },
    {
     "data": {
      "text/plain": [
       "Female    112\n",
       "Male       88\n",
       "Name: gender, dtype: int64"
      ]
     },
     "metadata": {},
     "output_type": "display_data"
    },
    {
     "name": "stdout",
     "output_type": "stream",
     "text": [
      "----------------------------------------age---------------------------------------- - "
     ]
    },
    {
     "data": {
      "text/plain": [
       "32    11\n",
       "35     9\n",
       "19     8\n",
       "31     8\n",
       "30     7\n",
       "49     7\n",
       "27     6\n",
       "47     6\n",
       "40     6\n",
       "23     6\n",
       "Name: age, dtype: int64"
      ]
     },
     "metadata": {},
     "output_type": "display_data"
    },
    {
     "name": "stdout",
     "output_type": "stream",
     "text": [
      "----------------------------------------annual_income---------------------------------------- - "
     ]
    },
    {
     "data": {
      "text/plain": [
       "54    12\n",
       "78    12\n",
       "60     6\n",
       "87     6\n",
       "62     6\n",
       "63     6\n",
       "71     6\n",
       "48     6\n",
       "33     4\n",
       "19     4\n",
       "Name: annual_income, dtype: int64"
      ]
     },
     "metadata": {},
     "output_type": "display_data"
    },
    {
     "name": "stdout",
     "output_type": "stream",
     "text": [
      "----------------------------------------spending_score---------------------------------------- - "
     ]
    },
    {
     "data": {
      "text/plain": [
       "42    8\n",
       "55    7\n",
       "46    6\n",
       "73    6\n",
       "35    5\n",
       "52    5\n",
       "59    5\n",
       "48    5\n",
       "75    5\n",
       "50    5\n",
       "Name: spending_score, dtype: int64"
      ]
     },
     "metadata": {},
     "output_type": "display_data"
    }
   ],
   "source": [
    "wrangle_mall.df_summary(df)"
   ]
  },
  {
   "cell_type": "markdown",
   "metadata": {},
   "source": [
    "## 3. Detect outliers using IQR."
   ]
  },
  {
   "cell_type": "code",
   "execution_count": 5,
   "metadata": {},
   "outputs": [
    {
     "name": "stdout",
     "output_type": "stream",
     "text": [
      "~~~\n",
      "customer_id_outliers\n",
      "count    0.0\n",
      "mean     NaN\n",
      "std      NaN\n",
      "min      NaN\n",
      "25%      NaN\n",
      "50%      NaN\n",
      "75%      NaN\n",
      "max      NaN\n",
      "Name: customer_id_outliers, dtype: float64\n",
      "~~~\n",
      "age_outliers\n",
      "count    0.0\n",
      "mean     NaN\n",
      "std      NaN\n",
      "min      NaN\n",
      "25%      NaN\n",
      "50%      NaN\n",
      "75%      NaN\n",
      "max      NaN\n",
      "Name: age_outliers, dtype: float64\n",
      "~~~\n",
      "annual_income_outliers\n",
      "count    2.00\n",
      "mean     4.25\n",
      "std      0.00\n",
      "min      4.25\n",
      "25%      4.25\n",
      "50%      4.25\n",
      "75%      4.25\n",
      "max      4.25\n",
      "Name: annual_income_outliers, dtype: float64\n",
      "~~~\n",
      "spending_score_outliers\n",
      "count    0.0\n",
      "mean     NaN\n",
      "std      NaN\n",
      "min      NaN\n",
      "25%      NaN\n",
      "50%      NaN\n",
      "75%      NaN\n",
      "max      NaN\n",
      "Name: spending_score_outliers, dtype: float64\n"
     ]
    }
   ],
   "source": [
    "wrangle_mall.quartiles_and_outliers(df)"
   ]
  },
  {
   "cell_type": "markdown",
   "metadata": {},
   "source": [
    "## 4. Split data (train, validate, and test split)."
   ]
  },
  {
   "cell_type": "code",
   "execution_count": 6,
   "metadata": {},
   "outputs": [
    {
     "ename": "AttributeError",
     "evalue": "module 'wrangle_mall' has no attribute 'wrangle_mall'",
     "output_type": "error",
     "traceback": [
      "\u001b[0;31m---------------------------------------------------------------------------\u001b[0m",
      "\u001b[0;31mAttributeError\u001b[0m                            Traceback (most recent call last)",
      "\u001b[0;32m<ipython-input-6-0ef6dba85fe5>\u001b[0m in \u001b[0;36m<module>\u001b[0;34m\u001b[0m\n\u001b[0;32m----> 1\u001b[0;31m \u001b[0mdf\u001b[0m\u001b[0;34m,\u001b[0m \u001b[0mX_train_explore\u001b[0m\u001b[0;34m,\u001b[0m \u001b[0mX_train_scaled\u001b[0m\u001b[0;34m,\u001b[0m \u001b[0mX_validate_scaled\u001b[0m\u001b[0;34m,\u001b[0m \u001b[0mX_test_scaled\u001b[0m \u001b[0;34m=\u001b[0m \u001b[0mwrangle_mall\u001b[0m\u001b[0;34m.\u001b[0m\u001b[0mwrangle_mall\u001b[0m\u001b[0;34m(\u001b[0m\u001b[0mget_mall_data\u001b[0m\u001b[0;34m(\u001b[0m\u001b[0mcached\u001b[0m\u001b[0;34m=\u001b[0m\u001b[0;32mTrue\u001b[0m\u001b[0;34m)\u001b[0m\u001b[0;34m)\u001b[0m\u001b[0;34m\u001b[0m\u001b[0;34m\u001b[0m\u001b[0m\n\u001b[0m",
      "\u001b[0;31mAttributeError\u001b[0m: module 'wrangle_mall' has no attribute 'wrangle_mall'"
     ]
    }
   ],
   "source": [
    "df, X_train_explore, X_train_scaled, X_validate_scaled, X_test_scaled = wrangle_mall.wrangle_mall(get_mall_data(cached=True))"
   ]
  },
  {
   "cell_type": "code",
   "execution_count": null,
   "metadata": {},
   "outputs": [],
   "source": []
  }
 ],
 "metadata": {
  "kernelspec": {
   "display_name": "Python 3",
   "language": "python",
   "name": "python3"
  },
  "language_info": {
   "codemirror_mode": {
    "name": "ipython",
    "version": 3
   },
   "file_extension": ".py",
   "mimetype": "text/x-python",
   "name": "python",
   "nbconvert_exporter": "python",
   "pygments_lexer": "ipython3",
   "version": "3.8.3"
  }
 },
 "nbformat": 4,
 "nbformat_minor": 4
}
