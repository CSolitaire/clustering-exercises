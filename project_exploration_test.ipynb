{
 "cells": [
  {
   "cell_type": "code",
   "execution_count": 1,
   "metadata": {},
   "outputs": [],
   "source": [
    "import acquire\n",
    "import prepare\n",
    "import wrangle\n",
    "import pandas as pd\n",
    "import numpy as np\n",
    "import seaborn as sns\n",
    "pd.options.display.float_format = '{:20,.2f}'.format\n",
    "import matplotlib.pyplot as plt\n",
    "from math import sqrt\n",
    "from scipy import stats\n",
    "from sklearn.preprocessing import StandardScaler, QuantileTransformer, PowerTransformer, RobustScaler, MinMaxScaler\n",
    "import warnings\n",
    "warnings.filterwarnings(\"ignore\")\n",
    "from sklearn.model_selection import train_test_split\n",
    "from statsmodels.formula.api import ols\n",
    "from sklearn.metrics import mean_squared_error, r2_score, explained_variance_score\n",
    "from sklearn.feature_selection import f_regression, SelectKBest, RFE \n",
    "from sklearn.linear_model import LinearRegression, LassoLars, TweedieRegressor\n",
    "from sklearn.preprocessing import PolynomialFeatures\n",
    "from sklearn.cluster import KMeans"
   ]
  },
  {
   "cell_type": "code",
   "execution_count": 2,
   "metadata": {},
   "outputs": [
    {
     "data": {
      "text/plain": [
       "((43332, 21), (18572, 21), (15476, 21))"
      ]
     },
     "execution_count": 2,
     "metadata": {},
     "output_type": "execute_result"
    }
   ],
   "source": [
    "#df = wrangle.get_zillow_data()\n",
    "train, validate, test = wrangle.clean_zillow(wrangle.get_zillow_data()) \n",
    "train.shape, validate.shape, test.shape"
   ]
  },
  {
   "cell_type": "code",
   "execution_count": 3,
   "metadata": {},
   "outputs": [],
   "source": [
    "# What happens if we eliminate outliers from train\n",
    "def outliers(train):\n",
    "    # Remove Outliers (Train) Using IQR\n",
    "    \n",
    "    # Make new dataframe from categorical variables\n",
    "    cat_df = train[[\"regionidzip\",\"county\",\"propertylandusedesc\",\"heatingorsystemdesc\"]].copy()\n",
    "    # remove categorical variavbles for outlier examination\n",
    "    train_df = train.drop(columns=[\"regionidzip\",\"county\",\"propertylandusedesc\",\"heatingorsystemdesc\"])\n",
    "    # Drop Outliers in Dataframe (Set = 6)\n",
    "    Q1 = train.quantile(0.25)\n",
    "    Q3 = train.quantile(0.75)\n",
    "    IQR = Q3 - Q1\n",
    "    train_df_out = train_df[~((train_df < (Q1 - 6 * IQR)) |(train_df > (Q3 + 6 * IQR))).any(axis=1)]\n",
    "    train = pd.concat([train_df_out, cat_df], axis=1).reindex(train_df_out.index)\n",
    "    return train"
   ]
  },
  {
   "cell_type": "code",
   "execution_count": 4,
   "metadata": {},
   "outputs": [
    {
     "data": {
      "text/plain": [
       "(26371, 21)"
      ]
     },
     "execution_count": 4,
     "metadata": {},
     "output_type": "execute_result"
    }
   ],
   "source": [
    "train = outliers(train)\n",
    "train.shape"
   ]
  },
  {
   "cell_type": "code",
   "execution_count": 5,
   "metadata": {},
   "outputs": [],
   "source": [
    "def la_county(train):\n",
    "    # Create LA County df\n",
    "    la_train_df = train[train.county=='Los Angeles']\n",
    "    la_validate_df = validate[validate.county=='Los Angeles']\n",
    "    la_test_df = test[test.county=='Los Angeles'] \n",
    "    \n",
    "    # Remove Outliers (Train) Using IQR\n",
    "    \n",
    "    # Make new dataframe from categorical variables\n",
    "    cat_df = la_train_df[[\"regionidzip\",\"county\",\"propertylandusedesc\",\"heatingorsystemdesc\"]].copy()\n",
    "    # remove categorical variavbles for outlier examination\n",
    "    la_df = la_train_df.drop(columns=[\"regionidzip\",\"county\",\"propertylandusedesc\",\"heatingorsystemdesc\"])\n",
    "    # Drop Outliers in Dataframe (Set = 6)\n",
    "    Q1 = la_train_df.quantile(0.25)\n",
    "    Q3 = la_train_df.quantile(0.75)\n",
    "    IQR = Q3 - Q1\n",
    "    la_df_out = la_df[~((la_df < (Q1 - 6 * IQR)) |(la_df > (Q3 + 6 * IQR))).any(axis=1)]\n",
    "    la_train_df = pd.concat([la_df_out, cat_df], axis=1).reindex(la_df_out.index)\n",
    "    return la_train_df"
   ]
  },
  {
   "cell_type": "code",
   "execution_count": 6,
   "metadata": {},
   "outputs": [
    {
     "data": {
      "text/plain": [
       "(21200, 21)"
      ]
     },
     "execution_count": 6,
     "metadata": {},
     "output_type": "execute_result"
    }
   ],
   "source": [
    "la_trial = la_county(train)\n",
    "la_trial.shape"
   ]
  },
  {
   "cell_type": "code",
   "execution_count": 7,
   "metadata": {},
   "outputs": [],
   "source": [
    "def vc_county(train):\n",
    "    # Create Venture County df\n",
    "    vc_train_df = train[train.county=='Ventura']\n",
    "    vc_validate_df = validate[validate.county=='Ventura']\n",
    "    vc_test_df = test[test.county== 'Ventura'] \n",
    "    \n",
    "    # Remove Outliers (Train) Using IQR\n",
    "    \n",
    "    # Make new dataframe from categorical variables\n",
    "    cat_df = vc_train_df[[\"regionidzip\",\"county\",\"propertylandusedesc\",\"heatingorsystemdesc\"]].copy()\n",
    "    # remove categorical variavbles for outlier examination\n",
    "    vc_df = vc_train_df.drop(columns=[\"regionidzip\",\"county\",\"propertylandusedesc\",\"heatingorsystemdesc\"])\n",
    "    # Drop Outliers in Dataframe (Set = 6)\n",
    "    Q1 = vc_train_df.quantile(0.25)\n",
    "    Q3 = vc_train_df.quantile(0.75)\n",
    "    IQR = Q3 - Q1\n",
    "    vc_df_out = vc_df[~((vc_df < (Q1 - 6 * IQR)) |(vc_df > (Q3 + 6 * IQR))).any(axis=1)]\n",
    "    vc_train_df = pd.concat([vc_df_out, cat_df], axis=1).reindex(vc_df_out.index)\n",
    "    return vc_train_df"
   ]
  },
  {
   "cell_type": "code",
   "execution_count": 8,
   "metadata": {},
   "outputs": [
    {
     "data": {
      "text/plain": [
       "(32, 21)"
      ]
     },
     "execution_count": 8,
     "metadata": {},
     "output_type": "execute_result"
    }
   ],
   "source": [
    "vc_trial = vc_county(train)\n",
    "vc_trial.shape"
   ]
  },
  {
   "cell_type": "code",
   "execution_count": 9,
   "metadata": {},
   "outputs": [],
   "source": [
    "def oc_county(train):\n",
    "    # Create Orange County df\n",
    "    oc_train_df = train[train.county=='Orange']\n",
    "    oc_validate_df = validate[validate.county=='Orange']\n",
    "    oc_test_df = test[test.county== 'Orange'] \n",
    "    \n",
    "    # Remove Outliers (Train) Using IQR\n",
    "    \n",
    "    # Make new dataframe from categorical variables\n",
    "    cat_df = oc_train_df[[\"regionidzip\",\"county\",\"propertylandusedesc\",\"heatingorsystemdesc\"]].copy()\n",
    "    # remove categorical variavbles for outlier examination\n",
    "    oc_df = oc_train_df.drop(columns=[\"regionidzip\",\"county\",\"propertylandusedesc\",\"heatingorsystemdesc\"])\n",
    "    # Drop Outliers in Dataframe (Set = 6)\n",
    "    Q1 = oc_train_df.quantile(0.25)\n",
    "    Q3 = oc_train_df.quantile(0.75)\n",
    "    IQR = Q3 - Q1\n",
    "    oc_df_out = oc_df[~((oc_df < (Q1 - 6 * IQR)) |(oc_df > (Q3 + 6 * IQR))).any(axis=1)]\n",
    "    oc_train_df = pd.concat([oc_df_out, cat_df], axis=1).reindex(oc_df_out.index)\n",
    "    return oc_train_df"
   ]
  },
  {
   "cell_type": "code",
   "execution_count": 10,
   "metadata": {},
   "outputs": [
    {
     "data": {
      "text/plain": [
       "(4592, 21)"
      ]
     },
     "execution_count": 10,
     "metadata": {},
     "output_type": "execute_result"
    }
   ],
   "source": [
    "oc_trial = oc_county(train)\n",
    "oc_trial.shape"
   ]
  },
  {
   "cell_type": "markdown",
   "metadata": {},
   "source": [
    "#### New Dataframes based on County"
   ]
  },
  {
   "cell_type": "code",
   "execution_count": 11,
   "metadata": {},
   "outputs": [
    {
     "data": {
      "text/plain": [
       "((21600, 21), (38, 21), (4733, 21))"
      ]
     },
     "execution_count": 11,
     "metadata": {},
     "output_type": "execute_result"
    }
   ],
   "source": [
    "# LA County\n",
    "la_df = train[train.county=='Los Angeles']\n",
    "la_df.shape\n",
    "\n",
    "# Ventura County\n",
    "vc_df = train[train.county=='Ventura']\n",
    "vc_df.shape\n",
    "\n",
    "# Orange County\n",
    "oc_df = train[train.county=='Orange']\n",
    "\n",
    "la_df.shape, vc_df.shape, oc_df.shape"
   ]
  },
  {
   "cell_type": "markdown",
   "metadata": {},
   "source": [
    "#### Remove Outliers  using IQR, and recombining Dataframe Afterwards"
   ]
  },
  {
   "cell_type": "code",
   "execution_count": 12,
   "metadata": {},
   "outputs": [
    {
     "data": {
      "text/plain": [
       "(21200, 21)"
      ]
     },
     "execution_count": 12,
     "metadata": {},
     "output_type": "execute_result"
    }
   ],
   "source": [
    "from scipy import stats\n",
    "import numpy as np\n",
    "\n",
    "# Must remove categorical variables before outlier elimination\n",
    "\n",
    "# Make new dataframe from categorical variables\n",
    "cat_df = la_df[[\"regionidzip\",\"county\",\"propertylandusedesc\",\"heatingorsystemdesc\"]].copy()\n",
    "# remove categorical variavbles for outlier examination\n",
    "la_df = la_df.drop(columns=[\"regionidzip\",\"county\",\"propertylandusedesc\",\"heatingorsystemdesc\"])\n",
    "\n",
    "\n",
    "# Drop Outliers in Dataframe (Set = 6 not 1.5)\n",
    "# IQR of 1.5 and 3 removed too many values, so left at 6, and still removed 5,000 Properties\n",
    "\n",
    "Q1 = la_df.quantile(0.25)\n",
    "Q3 = la_df.quantile(0.75)\n",
    "IQR = Q3 - Q1\n",
    "\n",
    "la_df_out = la_df[~((la_df < (Q1 - 6 * IQR)) |(la_df > (Q3 + 6 * IQR))).any(axis=1)]\n",
    "la_df_out.shape\n",
    "\n",
    "#Recombine New datframe with categorical columns\n",
    "la_df = pd.concat([la_df_out, cat_df], axis=1).reindex(la_df_out.index)\n",
    "la_df.shape"
   ]
  },
  {
   "cell_type": "code",
   "execution_count": null,
   "metadata": {},
   "outputs": [],
   "source": []
  }
 ],
 "metadata": {
  "kernelspec": {
   "display_name": "Python 3",
   "language": "python",
   "name": "python3"
  },
  "language_info": {
   "codemirror_mode": {
    "name": "ipython",
    "version": 3
   },
   "file_extension": ".py",
   "mimetype": "text/x-python",
   "name": "python",
   "nbconvert_exporter": "python",
   "pygments_lexer": "ipython3",
   "version": "3.8.3"
  }
 },
 "nbformat": 4,
 "nbformat_minor": 4
}
