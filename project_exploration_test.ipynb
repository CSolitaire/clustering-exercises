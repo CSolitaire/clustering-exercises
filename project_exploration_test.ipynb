{
 "cells": [
  {
   "cell_type": "code",
   "execution_count": 1,
   "metadata": {},
   "outputs": [],
   "source": [
    "import acquire\n",
    "import prepare\n",
    "import wrangle\n",
    "import explore\n",
    "import pandas as pd\n",
    "import numpy as np\n",
    "import seaborn as sns\n",
    "pd.options.display.float_format = '{:20,.2f}'.format\n",
    "import matplotlib.pyplot as plt\n",
    "from math import sqrt\n",
    "from scipy import stats\n",
    "from sklearn.preprocessing import StandardScaler, QuantileTransformer, PowerTransformer, RobustScaler, MinMaxScaler\n",
    "import warnings\n",
    "warnings.filterwarnings(\"ignore\")\n",
    "from sklearn.model_selection import train_test_split\n",
    "from statsmodels.formula.api import ols\n",
    "from sklearn.metrics import mean_squared_error, r2_score, explained_variance_score\n",
    "from sklearn.feature_selection import f_regression, SelectKBest, RFE \n",
    "from sklearn.linear_model import LinearRegression, LassoLars, TweedieRegressor\n",
    "from sklearn.preprocessing import PolynomialFeatures\n",
    "from sklearn.cluster import KMeans"
   ]
  },
  {
   "cell_type": "code",
   "execution_count": 2,
   "metadata": {},
   "outputs": [
    {
     "data": {
      "text/plain": [
       "((43332, 21), (18572, 21), (15476, 21))"
      ]
     },
     "execution_count": 2,
     "metadata": {},
     "output_type": "execute_result"
    }
   ],
   "source": [
    "#df = wrangle.get_zillow_data()\n",
    "train, validate, test = wrangle.clean_zillow(wrangle.get_zillow_data()) \n",
    "train.shape, validate.shape, test.shape"
   ]
  },
  {
   "cell_type": "code",
   "execution_count": 3,
   "metadata": {},
   "outputs": [
    {
     "data": {
      "text/html": [
       "<div>\n",
       "<style scoped>\n",
       "    .dataframe tbody tr th:only-of-type {\n",
       "        vertical-align: middle;\n",
       "    }\n",
       "\n",
       "    .dataframe tbody tr th {\n",
       "        vertical-align: top;\n",
       "    }\n",
       "\n",
       "    .dataframe thead th {\n",
       "        text-align: right;\n",
       "    }\n",
       "</style>\n",
       "<table border=\"1\" class=\"dataframe\">\n",
       "  <thead>\n",
       "    <tr style=\"text-align: right;\">\n",
       "      <th></th>\n",
       "      <th>bathroomcnt</th>\n",
       "      <th>bedroomcnt</th>\n",
       "      <th>calculatedfinishedsquarefeet</th>\n",
       "      <th>latitude</th>\n",
       "      <th>longitude</th>\n",
       "      <th>lotsizesquarefeet</th>\n",
       "      <th>rawcensustractandblock</th>\n",
       "      <th>regionidzip</th>\n",
       "      <th>roomcnt</th>\n",
       "      <th>unitcnt</th>\n",
       "      <th>yearbuilt</th>\n",
       "      <th>structuretaxvaluedollarcnt</th>\n",
       "      <th>taxvaluedollarcnt</th>\n",
       "      <th>assessmentyear</th>\n",
       "      <th>landtaxvaluedollarcnt</th>\n",
       "      <th>taxamount</th>\n",
       "      <th>censustractandblock</th>\n",
       "      <th>logerror</th>\n",
       "      <th>heatingorsystemdesc</th>\n",
       "      <th>propertylandusedesc</th>\n",
       "      <th>county</th>\n",
       "    </tr>\n",
       "  </thead>\n",
       "  <tbody>\n",
       "    <tr>\n",
       "      <th>14505</th>\n",
       "      <td>1</td>\n",
       "      <td>2</td>\n",
       "      <td>936</td>\n",
       "      <td>34.07</td>\n",
       "      <td>-117.76</td>\n",
       "      <td>4057</td>\n",
       "      <td>60374023</td>\n",
       "      <td>96508</td>\n",
       "      <td>0</td>\n",
       "      <td>1</td>\n",
       "      <td>1924</td>\n",
       "      <td>8,877.00</td>\n",
       "      <td>19,208.00</td>\n",
       "      <td>2016</td>\n",
       "      <td>10,331.00</td>\n",
       "      <td>413.73</td>\n",
       "      <td>60,374,023,033,004.00</td>\n",
       "      <td>-0.04</td>\n",
       "      <td>Floor/Wall</td>\n",
       "      <td>Single Family Residential</td>\n",
       "      <td>Los Angeles</td>\n",
       "    </tr>\n",
       "  </tbody>\n",
       "</table>\n",
       "</div>"
      ],
      "text/plain": [
       "       bathroomcnt  bedroomcnt  calculatedfinishedsquarefeet  \\\n",
       "14505            1           2                           936   \n",
       "\n",
       "                  latitude            longitude  lotsizesquarefeet  \\\n",
       "14505                34.07              -117.76               4057   \n",
       "\n",
       "       rawcensustractandblock regionidzip  roomcnt  unitcnt yearbuilt  \\\n",
       "14505                60374023       96508        0        1      1924   \n",
       "\n",
       "       structuretaxvaluedollarcnt    taxvaluedollarcnt  assessmentyear  \\\n",
       "14505                    8,877.00            19,208.00            2016   \n",
       "\n",
       "       landtaxvaluedollarcnt            taxamount   censustractandblock  \\\n",
       "14505              10,331.00               413.73 60,374,023,033,004.00   \n",
       "\n",
       "                  logerror heatingorsystemdesc        propertylandusedesc  \\\n",
       "14505                -0.04          Floor/Wall  Single Family Residential   \n",
       "\n",
       "            county  \n",
       "14505  Los Angeles  "
      ]
     },
     "execution_count": 3,
     "metadata": {},
     "output_type": "execute_result"
    }
   ],
   "source": [
    "# Set option to see all colums in dataframe\n",
    "pd.set_option('display.max_columns', None)\n",
    "train.head(1)"
   ]
  },
  {
   "cell_type": "code",
   "execution_count": 4,
   "metadata": {},
   "outputs": [
    {
     "name": "stdout",
     "output_type": "stream",
     "text": [
      "<class 'pandas.core.frame.DataFrame'>\n",
      "Int64Index: 43332 entries, 14505 to 54422\n",
      "Data columns (total 21 columns):\n",
      " #   Column                        Non-Null Count  Dtype   \n",
      "---  ------                        --------------  -----   \n",
      " 0   bathroomcnt                   43332 non-null  int64   \n",
      " 1   bedroomcnt                    43332 non-null  int64   \n",
      " 2   calculatedfinishedsquarefeet  43332 non-null  int64   \n",
      " 3   latitude                      43332 non-null  float64 \n",
      " 4   longitude                     43332 non-null  float64 \n",
      " 5   lotsizesquarefeet             43332 non-null  int64   \n",
      " 6   rawcensustractandblock        43332 non-null  int64   \n",
      " 7   regionidzip                   43332 non-null  category\n",
      " 8   roomcnt                       43332 non-null  int64   \n",
      " 9   unitcnt                       43332 non-null  int64   \n",
      " 10  yearbuilt                     43332 non-null  category\n",
      " 11  structuretaxvaluedollarcnt    43332 non-null  float64 \n",
      " 12  taxvaluedollarcnt             43332 non-null  float64 \n",
      " 13  assessmentyear                43332 non-null  int64   \n",
      " 14  landtaxvaluedollarcnt         43332 non-null  float64 \n",
      " 15  taxamount                     43332 non-null  float64 \n",
      " 16  censustractandblock           43332 non-null  float64 \n",
      " 17  logerror                      43332 non-null  float64 \n",
      " 18  heatingorsystemdesc           43332 non-null  category\n",
      " 19  propertylandusedesc           43332 non-null  category\n",
      " 20  county                        43332 non-null  category\n",
      "dtypes: category(5), float64(8), int64(8)\n",
      "memory usage: 5.9 MB\n"
     ]
    }
   ],
   "source": [
    "train.info()"
   ]
  },
  {
   "cell_type": "code",
   "execution_count": 6,
   "metadata": {},
   "outputs": [
    {
     "ename": "IndentationError",
     "evalue": "unindent does not match any outer indentation level (<tokenize>, line 7)",
     "output_type": "error",
     "traceback": [
      "\u001b[0;36m  File \u001b[0;32m\"<tokenize>\"\u001b[0;36m, line \u001b[0;32m7\u001b[0m\n\u001b[0;31m    train[\"county\"] = train[\"county\"].cat.codes\u001b[0m\n\u001b[0m    ^\u001b[0m\n\u001b[0;31mIndentationError\u001b[0m\u001b[0;31m:\u001b[0m unindent does not match any outer indentation level\n"
     ]
    }
   ],
   "source": [
    "def scale_zillow(train, validate, test):\n",
    "      '''\n",
    "    This function take categorical variables and splits them in to cat.codes for modeling\n",
    "    '''\n",
    "    ############################################################################################\n",
    "    ############################################################################################\n",
    "    train[\"county\"] = train[\"county\"].cat.codes\n",
    "    validate[\"county\"] = validate[\"county\"].cat.codes\n",
    "    test[\"county\"] = test[\"county\"].cat.codes\n",
    "    ############################################################################################\n",
    "    train[\"heatingorsystemdesc\"] = train[\"heatingorsystemdesc\"].cat.codes\n",
    "    validate[\"heatingorsystemdesc\"] = validate[\"heatingorsystemdesc\"].cat.codes\n",
    "    test[\"heatingorsystemdesc\"] = test[\"heatingorsystemdesc\"].cat.codes\n",
    "    ############################################################################################\n",
    "    train[\"propertylandusedesc\"] = train[\"propertylandusedesc\"].cat.codes\n",
    "    validate[\"propertylandusedesc\"] = validate[\"propertylandusedesc\"].cat.codes\n",
    "    test[\"propertylandusedesc\"] = test[\"propertylandusedesc\"].cat.codes\n",
    "    ############################################################################################\n",
    "    train[\"regionidzip\"] = train[\"regionidzip\"].astype('category')\n",
    "    train[\"regionidzip\"] = train[\"regionidzip\"].cat.codes # Not a Number\n",
    "    validate[\"regionidzip\"] = validate[\"regionidzip\"].astype('category')\n",
    "    validate[\"regionidzip\"] = validate[\"regionidzip\"].cat.codes # Not a Number\n",
    "    test[\"regionidzip\"] = test[\"regionidzip\"].astype('category')\n",
    "    test[\"regionidzip\"] = test[\"regionidzip\"].cat.codes # Not a Number\n",
    "    ############################################################################################\n",
    "    train[\"yearbuilt\"] = train[\"yearbuilt\"].astype('category')\n",
    "    train[\"yearbuilt\"] = train[\"yearbuilt\"].cat.codes # Not a Number   \n",
    "    validate[\"yearbuilt\"] = validate[\"yearbuilt\"].astype('category')\n",
    "    validate[\"yearbuilt\"] = validate[\"yearbuilt\"].cat.codes # Not a Number \n",
    "    test[\"yearbuilt\"] = test[\"yearbuilt\"].astype('category')\n",
    "    test[\"yearbuilt\"] = test[\"yearbuilt\"].cat.codes # Not a Number  \n",
    "    \n",
    "    return train_s, validate_s, test_s"
   ]
  },
  {
   "cell_type": "code",
   "execution_count": null,
   "metadata": {},
   "outputs": [],
   "source": []
  },
  {
   "cell_type": "code",
   "execution_count": null,
   "metadata": {},
   "outputs": [],
   "source": []
  },
  {
   "cell_type": "markdown",
   "metadata": {},
   "source": [
    "#### Clustering Train (Target Variable = Log Error)"
   ]
  },
  {
   "cell_type": "code",
   "execution_count": null,
   "metadata": {},
   "outputs": [],
   "source": [
    "X = train_scaled[['age', 'bmi', 'children', 'smoker', 'charges']]\n",
    "kmeans = KMeans(n_clusters=5)\n",
    "kmeans.fit(X)\n",
    "train['cluster'] = kmeans.labels_"
   ]
  },
  {
   "cell_type": "markdown",
   "metadata": {},
   "source": [
    "#### Basic Visualizations (Train)"
   ]
  },
  {
   "cell_type": "code",
   "execution_count": null,
   "metadata": {},
   "outputs": [],
   "source": [
    "# How bedroomcount affects the relationship between squarefeet and logerror\n",
    "\n",
    "sns.scatterplot(x='calculatedfinishedsquarefeet', y='logerror',\n",
    "               data=train)\n",
    "plt.title(\"Visualizing the relationship between logerror and squarefeet\")\n",
    "plt.show()"
   ]
  },
  {
   "cell_type": "code",
   "execution_count": null,
   "metadata": {},
   "outputs": [],
   "source": [
    "# How tax value affects logerror\n",
    "\n",
    "sns.scatterplot(x='taxvaluedollarcnt', y='logerror',\n",
    "               data=train)\n",
    "plt.title(\"Visualizing the relationship between logerror and Assessed Tax Value\")\n",
    "plt.show()"
   ]
  },
  {
   "cell_type": "markdown",
   "metadata": {},
   "source": [
    "#### New Dataframes based on County w/ Outliers Removed"
   ]
  },
  {
   "cell_type": "code",
   "execution_count": null,
   "metadata": {},
   "outputs": [],
   "source": [
    "# Split in to train df per county, remove outliers using IQR (6)\n",
    "\n",
    "la_train_df, vc_train_df, oc_train_df = explore.counties_no_outliers(train)\n",
    "la_train_df.shape, vc_train_df.shape, oc_train_df.shape"
   ]
  },
  {
   "cell_type": "markdown",
   "metadata": {},
   "source": [
    "#### Basic Visualizations w/Outliers Removed (Per County)"
   ]
  },
  {
   "cell_type": "code",
   "execution_count": null,
   "metadata": {},
   "outputs": [],
   "source": [
    "# How bedroomcount affects the relationship between squarefeet and logerror (La County)\n",
    "\n",
    "sns.scatterplot(x='calculatedfinishedsquarefeet', y='logerror',\n",
    "               data=la_train_df)\n",
    "plt.title(\"Visualizing the relationship between logerror and squarefeet in LA County\")\n",
    "plt.show()"
   ]
  },
  {
   "cell_type": "code",
   "execution_count": null,
   "metadata": {},
   "outputs": [],
   "source": [
    "# How bedroomcount affects the relationship between squarefeet and logerror (Ventura County)\n",
    "\n",
    "sns.scatterplot(x='calculatedfinishedsquarefeet', y='logerror',\n",
    "               data=vc_train_df)\n",
    "plt.title(\"Visualizing the relationship between logerror and squarefeet in Ventura County\")\n",
    "plt.show()"
   ]
  },
  {
   "cell_type": "code",
   "execution_count": null,
   "metadata": {},
   "outputs": [],
   "source": [
    "# How bedroomcount affects the relationship between squarefeet and logerror (Orange County)\n",
    "\n",
    "sns.scatterplot(x='calculatedfinishedsquarefeet', y='logerror',\n",
    "               data=oc_train_df)\n",
    "plt.title(\"Visualizing the relationship between logerror and squarefeet in Orange County\")\n",
    "plt.show()"
   ]
  },
  {
   "cell_type": "code",
   "execution_count": null,
   "metadata": {},
   "outputs": [],
   "source": [
    "# How tax value affects logerror in LA County\n",
    "\n",
    "sns.scatterplot(x='taxvaluedollarcnt', y='logerror',\n",
    "               data=la_train_df)\n",
    "plt.title(\"Visualizing the relationship between logerror and Assessed Tax Value in LA County\")\n",
    "plt.show()"
   ]
  },
  {
   "cell_type": "code",
   "execution_count": null,
   "metadata": {},
   "outputs": [],
   "source": [
    "# How tax value affects logerror in Ventura County\n",
    "\n",
    "sns.scatterplot(x='taxvaluedollarcnt', y='logerror',\n",
    "               data=vc_train_df)\n",
    "plt.title(\"Visualizing the relationship between logerror and Assessed Tax Value in Ventura County\")\n",
    "plt.show()"
   ]
  },
  {
   "cell_type": "code",
   "execution_count": null,
   "metadata": {},
   "outputs": [],
   "source": [
    "# How tax value affects logerror in Orange County\n",
    "\n",
    "sns.scatterplot(x='taxvaluedollarcnt', y='logerror',\n",
    "               data=oc_train_df)\n",
    "plt.title(\"Visualizing the relationship between logerror and Assessed Tax Value in Orange County\")\n",
    "plt.show()"
   ]
  },
  {
   "cell_type": "code",
   "execution_count": null,
   "metadata": {},
   "outputs": [],
   "source": []
  },
  {
   "cell_type": "code",
   "execution_count": null,
   "metadata": {},
   "outputs": [],
   "source": []
  },
  {
   "cell_type": "code",
   "execution_count": null,
   "metadata": {},
   "outputs": [],
   "source": []
  },
  {
   "cell_type": "code",
   "execution_count": null,
   "metadata": {},
   "outputs": [],
   "source": []
  },
  {
   "cell_type": "code",
   "execution_count": null,
   "metadata": {},
   "outputs": [],
   "source": []
  },
  {
   "cell_type": "code",
   "execution_count": null,
   "metadata": {},
   "outputs": [],
   "source": []
  },
  {
   "cell_type": "code",
   "execution_count": null,
   "metadata": {},
   "outputs": [],
   "source": []
  }
 ],
 "metadata": {
  "kernelspec": {
   "display_name": "Python 3",
   "language": "python",
   "name": "python3"
  },
  "language_info": {
   "codemirror_mode": {
    "name": "ipython",
    "version": 3
   },
   "file_extension": ".py",
   "mimetype": "text/x-python",
   "name": "python",
   "nbconvert_exporter": "python",
   "pygments_lexer": "ipython3",
   "version": "3.8.3"
  }
 },
 "nbformat": 4,
 "nbformat_minor": 4
}
