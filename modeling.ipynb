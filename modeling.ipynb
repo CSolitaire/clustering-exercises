{
 "cells": [
  {
   "cell_type": "markdown",
   "metadata": {},
   "source": [
    "# Modeling (Clustering Unit)\n",
    "## Corey Solitaire\n",
    "#### 10.15.2020"
   ]
  },
  {
   "cell_type": "code",
   "execution_count": 1,
   "metadata": {},
   "outputs": [],
   "source": [
    "import acquire\n",
    "import prepare\n",
    "import wrangle\n",
    "import pandas as pd\n",
    "import numpy as np\n",
    "import seaborn as sns\n",
    "pd.options.display.float_format = '{:20,.2f}'.format\n",
    "import matplotlib.pyplot as plt\n",
    "from math import sqrt\n",
    "from scipy import stats\n",
    "from sklearn.preprocessing import StandardScaler, QuantileTransformer, PowerTransformer, RobustScaler, MinMaxScaler\n",
    "import warnings\n",
    "warnings.filterwarnings(\"ignore\")\n",
    "from sklearn.model_selection import train_test_split\n",
    "from statsmodels.formula.api import ols\n",
    "from sklearn.metrics import mean_squared_error, r2_score, explained_variance_score\n",
    "from sklearn.feature_selection import f_regression, SelectKBest, RFE \n",
    "from sklearn.linear_model import LinearRegression, LassoLars, TweedieRegressor\n",
    "from sklearn.preprocessing import PolynomialFeatures\n",
    "from sklearn.cluster import KMeans"
   ]
  },
  {
   "cell_type": "code",
   "execution_count": 2,
   "metadata": {},
   "outputs": [
    {
     "data": {
      "text/plain": [
       "((43332, 21), (18572, 21), (15476, 21))"
      ]
     },
     "execution_count": 2,
     "metadata": {},
     "output_type": "execute_result"
    }
   ],
   "source": [
    "#df = wrangle.get_zillow_data()\n",
    "train, validate, test = wrangle.clean_zillow(wrangle.get_zillow_data()) \n",
    "train.shape, validate.shape, test.shape"
   ]
  },
  {
   "cell_type": "code",
   "execution_count": 3,
   "metadata": {},
   "outputs": [
    {
     "name": "stdout",
     "output_type": "stream",
     "text": [
      "<class 'pandas.core.frame.DataFrame'>\n",
      "Int64Index: 43332 entries, 14505 to 54422\n",
      "Data columns (total 21 columns):\n",
      " #   Column                        Non-Null Count  Dtype   \n",
      "---  ------                        --------------  -----   \n",
      " 0   bathroomcnt                   43332 non-null  int64   \n",
      " 1   bedroomcnt                    43332 non-null  int64   \n",
      " 2   calculatedfinishedsquarefeet  43332 non-null  int64   \n",
      " 3   latitude                      43332 non-null  float64 \n",
      " 4   longitude                     43332 non-null  float64 \n",
      " 5   lotsizesquarefeet             43332 non-null  int64   \n",
      " 6   rawcensustractandblock        43332 non-null  int64   \n",
      " 7   regionidzip                   43332 non-null  category\n",
      " 8   roomcnt                       43332 non-null  int64   \n",
      " 9   unitcnt                       43332 non-null  int64   \n",
      " 10  yearbuilt                     43332 non-null  int64   \n",
      " 11  structuretaxvaluedollarcnt    43332 non-null  float64 \n",
      " 12  taxvaluedollarcnt             43332 non-null  float64 \n",
      " 13  assessmentyear                43332 non-null  int64   \n",
      " 14  landtaxvaluedollarcnt         43332 non-null  float64 \n",
      " 15  taxamount                     43332 non-null  float64 \n",
      " 16  censustractandblock           43332 non-null  float64 \n",
      " 17  logerror                      43332 non-null  float64 \n",
      " 18  heatingorsystemdesc           43332 non-null  category\n",
      " 19  propertylandusedesc           43332 non-null  category\n",
      " 20  county                        43332 non-null  category\n",
      "dtypes: category(4), float64(8), int64(9)\n",
      "memory usage: 6.2 MB\n"
     ]
    }
   ],
   "source": [
    "train.info()"
   ]
  },
  {
   "cell_type": "markdown",
   "metadata": {},
   "source": [
    "#### New Dataframes based on County"
   ]
  },
  {
   "cell_type": "code",
   "execution_count": 4,
   "metadata": {},
   "outputs": [
    {
     "data": {
      "text/plain": [
       "((28462, 21), (3452, 21), (11418, 21))"
      ]
     },
     "execution_count": 4,
     "metadata": {},
     "output_type": "execute_result"
    }
   ],
   "source": [
    "# LA County\n",
    "la_df = train[train.county=='Los Angeles']\n",
    "la_df.shape\n",
    "\n",
    "# Ventura County\n",
    "vc_df = train[train.county=='Ventura']\n",
    "vc_df.shape\n",
    "\n",
    "# Orange County\n",
    "oc_df = train[train.county=='Orange']\n",
    "\n",
    "la_df.shape, vc_df.shape, oc_df.shape"
   ]
  },
  {
   "cell_type": "markdown",
   "metadata": {},
   "source": [
    "#### Remove Outliers  using IQR, and recombining Dataframe Afterwards"
   ]
  },
  {
   "cell_type": "code",
   "execution_count": 5,
   "metadata": {},
   "outputs": [
    {
     "data": {
      "text/plain": [
       "bathroomcnt                                             1\n",
       "bedroomcnt                                              2\n",
       "calculatedfinishedsquarefeet                          936\n",
       "latitude                                            34.07\n",
       "longitude                                         -117.76\n",
       "lotsizesquarefeet                                    4057\n",
       "rawcensustractandblock                           60374023\n",
       "regionidzip                                         96508\n",
       "roomcnt                                                 0\n",
       "unitcnt                                                 1\n",
       "yearbuilt                                            1924\n",
       "structuretaxvaluedollarcnt                       8,877.00\n",
       "taxvaluedollarcnt                               19,208.00\n",
       "assessmentyear                                       2016\n",
       "landtaxvaluedollarcnt                           10,331.00\n",
       "taxamount                                          413.73\n",
       "censustractandblock                 60,374,023,033,004.00\n",
       "logerror                                            -0.04\n",
       "heatingorsystemdesc                            Floor/Wall\n",
       "propertylandusedesc             Single Family Residential\n",
       "county                                        Los Angeles\n",
       "Name: 14505, dtype: object"
      ]
     },
     "execution_count": 5,
     "metadata": {},
     "output_type": "execute_result"
    }
   ],
   "source": [
    "\n",
    "rowData = la_df.loc[14505, : ]\n",
    "rowData"
   ]
  },
  {
   "cell_type": "code",
   "execution_count": null,
   "metadata": {},
   "outputs": [],
   "source": []
  },
  {
   "cell_type": "code",
   "execution_count": 6,
   "metadata": {},
   "outputs": [
    {
     "data": {
      "text/plain": [
       "(23029, 17)"
      ]
     },
     "execution_count": 6,
     "metadata": {},
     "output_type": "execute_result"
    }
   ],
   "source": [
    "from scipy import stats\n",
    "import numpy as np\n",
    "\n",
    "# Must remove categorical variables before outlier elimination\n",
    "\n",
    "# Make new dataframe from categorical variables\n",
    "cat_df = la_df[[\"regionidzip\",\"county\",\"propertylandusedesc\",\"heatingorsystemdesc\"]].copy()\n",
    "# remove categorical variavbles for outlier examination\n",
    "la_df = la_df.drop(columns=[\"regionidzip\",\"county\",\"propertylandusedesc\",\"heatingorsystemdesc\"])\n",
    "\n",
    "\n",
    "# Drop Outliers in Dataframe (Set = 3 not 1.5)\n",
    "# IQR of 1.5 and 3 removed too many values, so left at 6, and still removed 5,000 Properties\n",
    "\n",
    "Q1 = la_df.quantile(0.25)\n",
    "Q3 = la_df.quantile(0.75)\n",
    "IQR = Q3 - Q1\n",
    "\n",
    "la_df_out = la_df[~((la_df < (Q1 - 6 * IQR)) |(la_df > (Q3 + 6 * IQR))).any(axis=1)]\n",
    "la_df_out.shape"
   ]
  },
  {
   "cell_type": "code",
   "execution_count": 7,
   "metadata": {},
   "outputs": [],
   "source": [
    "la_df = pd.concat([la_df_out, cat_df], axis=1).reindex(la_df_out.index)"
   ]
  },
  {
   "cell_type": "code",
   "execution_count": 8,
   "metadata": {},
   "outputs": [
    {
     "data": {
      "text/plain": [
       "(23029, 21)"
      ]
     },
     "execution_count": 8,
     "metadata": {},
     "output_type": "execute_result"
    }
   ],
   "source": [
    "la_df.shape"
   ]
  },
  {
   "cell_type": "code",
   "execution_count": 9,
   "metadata": {},
   "outputs": [
    {
     "data": {
      "text/html": [
       "<div>\n",
       "<style scoped>\n",
       "    .dataframe tbody tr th:only-of-type {\n",
       "        vertical-align: middle;\n",
       "    }\n",
       "\n",
       "    .dataframe tbody tr th {\n",
       "        vertical-align: top;\n",
       "    }\n",
       "\n",
       "    .dataframe thead th {\n",
       "        text-align: right;\n",
       "    }\n",
       "</style>\n",
       "<table border=\"1\" class=\"dataframe\">\n",
       "  <thead>\n",
       "    <tr style=\"text-align: right;\">\n",
       "      <th></th>\n",
       "      <th>bathroomcnt</th>\n",
       "      <th>bedroomcnt</th>\n",
       "      <th>calculatedfinishedsquarefeet</th>\n",
       "      <th>latitude</th>\n",
       "      <th>longitude</th>\n",
       "      <th>lotsizesquarefeet</th>\n",
       "      <th>rawcensustractandblock</th>\n",
       "      <th>roomcnt</th>\n",
       "      <th>unitcnt</th>\n",
       "      <th>yearbuilt</th>\n",
       "      <th>...</th>\n",
       "      <th>taxvaluedollarcnt</th>\n",
       "      <th>assessmentyear</th>\n",
       "      <th>landtaxvaluedollarcnt</th>\n",
       "      <th>taxamount</th>\n",
       "      <th>censustractandblock</th>\n",
       "      <th>logerror</th>\n",
       "      <th>regionidzip</th>\n",
       "      <th>county</th>\n",
       "      <th>propertylandusedesc</th>\n",
       "      <th>heatingorsystemdesc</th>\n",
       "    </tr>\n",
       "  </thead>\n",
       "  <tbody>\n",
       "    <tr>\n",
       "      <th>14505</th>\n",
       "      <td>1.00</td>\n",
       "      <td>2.00</td>\n",
       "      <td>936.00</td>\n",
       "      <td>34.07</td>\n",
       "      <td>-117.76</td>\n",
       "      <td>4,057.00</td>\n",
       "      <td>60,374,023.00</td>\n",
       "      <td>0.00</td>\n",
       "      <td>1.00</td>\n",
       "      <td>1,924.00</td>\n",
       "      <td>...</td>\n",
       "      <td>19,208.00</td>\n",
       "      <td>2,016.00</td>\n",
       "      <td>10,331.00</td>\n",
       "      <td>413.73</td>\n",
       "      <td>60,374,023,033,004.00</td>\n",
       "      <td>-0.04</td>\n",
       "      <td>96508</td>\n",
       "      <td>Los Angeles</td>\n",
       "      <td>Single Family Residential</td>\n",
       "      <td>Floor/Wall</td>\n",
       "    </tr>\n",
       "    <tr>\n",
       "      <th>69608</th>\n",
       "      <td>1.00</td>\n",
       "      <td>2.00</td>\n",
       "      <td>861.00</td>\n",
       "      <td>33.85</td>\n",
       "      <td>-118.18</td>\n",
       "      <td>7,013.00</td>\n",
       "      <td>60,375,715.00</td>\n",
       "      <td>0.00</td>\n",
       "      <td>1.00</td>\n",
       "      <td>1,943.00</td>\n",
       "      <td>...</td>\n",
       "      <td>305,308.00</td>\n",
       "      <td>2,016.00</td>\n",
       "      <td>244,248.00</td>\n",
       "      <td>3,778.39</td>\n",
       "      <td>60,375,715,021,000.00</td>\n",
       "      <td>0.00</td>\n",
       "      <td>96241</td>\n",
       "      <td>Los Angeles</td>\n",
       "      <td>Single Family Residential</td>\n",
       "      <td>Central</td>\n",
       "    </tr>\n",
       "    <tr>\n",
       "      <th>37105</th>\n",
       "      <td>3.00</td>\n",
       "      <td>4.00</td>\n",
       "      <td>2,132.00</td>\n",
       "      <td>34.20</td>\n",
       "      <td>-118.52</td>\n",
       "      <td>5,000.00</td>\n",
       "      <td>60,371,318.00</td>\n",
       "      <td>0.00</td>\n",
       "      <td>1.00</td>\n",
       "      <td>1,951.00</td>\n",
       "      <td>...</td>\n",
       "      <td>568,184.00</td>\n",
       "      <td>2,016.00</td>\n",
       "      <td>397,188.00</td>\n",
       "      <td>6,933.97</td>\n",
       "      <td>60,371,318,001,018.00</td>\n",
       "      <td>0.02</td>\n",
       "      <td>96364</td>\n",
       "      <td>Los Angeles</td>\n",
       "      <td>Single Family Residential</td>\n",
       "      <td>Central</td>\n",
       "    </tr>\n",
       "    <tr>\n",
       "      <th>6417</th>\n",
       "      <td>1.00</td>\n",
       "      <td>3.00</td>\n",
       "      <td>1,368.00</td>\n",
       "      <td>33.74</td>\n",
       "      <td>-118.29</td>\n",
       "      <td>5,625.00</td>\n",
       "      <td>60,372,962.00</td>\n",
       "      <td>0.00</td>\n",
       "      <td>1.00</td>\n",
       "      <td>1,912.00</td>\n",
       "      <td>...</td>\n",
       "      <td>285,417.00</td>\n",
       "      <td>2,016.00</td>\n",
       "      <td>212,207.00</td>\n",
       "      <td>3,536.60</td>\n",
       "      <td>60,372,962,103,004.00</td>\n",
       "      <td>0.01</td>\n",
       "      <td>96221</td>\n",
       "      <td>Los Angeles</td>\n",
       "      <td>Single Family Residential</td>\n",
       "      <td>Floor/Wall</td>\n",
       "    </tr>\n",
       "    <tr>\n",
       "      <th>16759</th>\n",
       "      <td>1.00</td>\n",
       "      <td>2.00</td>\n",
       "      <td>798.00</td>\n",
       "      <td>33.92</td>\n",
       "      <td>-118.42</td>\n",
       "      <td>4,420.00</td>\n",
       "      <td>60,376,201.00</td>\n",
       "      <td>0.00</td>\n",
       "      <td>1.00</td>\n",
       "      <td>1,920.00</td>\n",
       "      <td>...</td>\n",
       "      <td>1,250,000.00</td>\n",
       "      <td>2,016.00</td>\n",
       "      <td>875,000.00</td>\n",
       "      <td>13,909.72</td>\n",
       "      <td>60,376,201,012,012.00</td>\n",
       "      <td>0.07</td>\n",
       "      <td>96103</td>\n",
       "      <td>Los Angeles</td>\n",
       "      <td>Single Family Residential</td>\n",
       "      <td>Central</td>\n",
       "    </tr>\n",
       "  </tbody>\n",
       "</table>\n",
       "<p>5 rows × 21 columns</p>\n",
       "</div>"
      ],
      "text/plain": [
       "               bathroomcnt           bedroomcnt  calculatedfinishedsquarefeet  \\\n",
       "14505                 1.00                 2.00                        936.00   \n",
       "69608                 1.00                 2.00                        861.00   \n",
       "37105                 3.00                 4.00                      2,132.00   \n",
       "6417                  1.00                 3.00                      1,368.00   \n",
       "16759                 1.00                 2.00                        798.00   \n",
       "\n",
       "                  latitude            longitude    lotsizesquarefeet  \\\n",
       "14505                34.07              -117.76             4,057.00   \n",
       "69608                33.85              -118.18             7,013.00   \n",
       "37105                34.20              -118.52             5,000.00   \n",
       "6417                 33.74              -118.29             5,625.00   \n",
       "16759                33.92              -118.42             4,420.00   \n",
       "\n",
       "       rawcensustractandblock              roomcnt              unitcnt  \\\n",
       "14505           60,374,023.00                 0.00                 1.00   \n",
       "69608           60,375,715.00                 0.00                 1.00   \n",
       "37105           60,371,318.00                 0.00                 1.00   \n",
       "6417            60,372,962.00                 0.00                 1.00   \n",
       "16759           60,376,201.00                 0.00                 1.00   \n",
       "\n",
       "                 yearbuilt  ...    taxvaluedollarcnt       assessmentyear  \\\n",
       "14505             1,924.00  ...            19,208.00             2,016.00   \n",
       "69608             1,943.00  ...           305,308.00             2,016.00   \n",
       "37105             1,951.00  ...           568,184.00             2,016.00   \n",
       "6417              1,912.00  ...           285,417.00             2,016.00   \n",
       "16759             1,920.00  ...         1,250,000.00             2,016.00   \n",
       "\n",
       "       landtaxvaluedollarcnt            taxamount   censustractandblock  \\\n",
       "14505              10,331.00               413.73 60,374,023,033,004.00   \n",
       "69608             244,248.00             3,778.39 60,375,715,021,000.00   \n",
       "37105             397,188.00             6,933.97 60,371,318,001,018.00   \n",
       "6417              212,207.00             3,536.60 60,372,962,103,004.00   \n",
       "16759             875,000.00            13,909.72 60,376,201,012,012.00   \n",
       "\n",
       "                  logerror  regionidzip       county  \\\n",
       "14505                -0.04        96508  Los Angeles   \n",
       "69608                 0.00        96241  Los Angeles   \n",
       "37105                 0.02        96364  Los Angeles   \n",
       "6417                  0.01        96221  Los Angeles   \n",
       "16759                 0.07        96103  Los Angeles   \n",
       "\n",
       "             propertylandusedesc heatingorsystemdesc  \n",
       "14505  Single Family Residential          Floor/Wall  \n",
       "69608  Single Family Residential             Central  \n",
       "37105  Single Family Residential             Central  \n",
       "6417   Single Family Residential          Floor/Wall  \n",
       "16759  Single Family Residential             Central  \n",
       "\n",
       "[5 rows x 21 columns]"
      ]
     },
     "execution_count": 9,
     "metadata": {},
     "output_type": "execute_result"
    }
   ],
   "source": [
    "la_df.head()"
   ]
  },
  {
   "cell_type": "markdown",
   "metadata": {},
   "source": [
    "***This process works, and will need to be implemented in a new function in the wrangle.py file***"
   ]
  },
  {
   "cell_type": "markdown",
   "metadata": {},
   "source": [
    "***"
   ]
  },
  {
   "cell_type": "markdown",
   "metadata": {},
   "source": [
    "#### Zip Codes per County"
   ]
  },
  {
   "cell_type": "code",
   "execution_count": 10,
   "metadata": {},
   "outputs": [
    {
     "data": {
      "text/plain": [
       "279"
      ]
     },
     "execution_count": 10,
     "metadata": {},
     "output_type": "execute_result"
    }
   ],
   "source": [
    "#Zip Codes LA\n",
    "\n",
    "len(la_df['regionidzip'].unique()) "
   ]
  },
  {
   "cell_type": "markdown",
   "metadata": {},
   "source": [
    "Does LA have 280 Zipcodes? - Internet says yes, wow!"
   ]
  },
  {
   "cell_type": "code",
   "execution_count": 11,
   "metadata": {},
   "outputs": [
    {
     "data": {
      "text/plain": [
       "30"
      ]
     },
     "execution_count": 11,
     "metadata": {},
     "output_type": "execute_result"
    }
   ],
   "source": [
    "#Zip Codes Ventura\n",
    "\n",
    "len(vc_df['regionidzip'].unique()) "
   ]
  },
  {
   "cell_type": "code",
   "execution_count": 12,
   "metadata": {},
   "outputs": [
    {
     "data": {
      "text/plain": [
       "88"
      ]
     },
     "execution_count": 12,
     "metadata": {},
     "output_type": "execute_result"
    }
   ],
   "source": [
    "#Zip Codes Orange\n",
    "\n",
    "len(oc_df['regionidzip'].unique()) "
   ]
  },
  {
   "cell_type": "code",
   "execution_count": null,
   "metadata": {},
   "outputs": [],
   "source": [
    "\n"
   ]
  },
  {
   "cell_type": "markdown",
   "metadata": {},
   "source": [
    "***"
   ]
  },
  {
   "cell_type": "markdown",
   "metadata": {},
   "source": [
    "#### Scale Data"
   ]
  },
  {
   "cell_type": "code",
   "execution_count": null,
   "metadata": {},
   "outputs": [],
   "source": []
  },
  {
   "cell_type": "markdown",
   "metadata": {},
   "source": [
    "#### Model Data"
   ]
  },
  {
   "cell_type": "code",
   "execution_count": null,
   "metadata": {},
   "outputs": [],
   "source": []
  },
  {
   "cell_type": "markdown",
   "metadata": {},
   "source": [
    "***"
   ]
  },
  {
   "cell_type": "markdown",
   "metadata": {},
   "source": [
    "# Modeling Exercise:"
   ]
  },
  {
   "cell_type": "markdown",
   "metadata": {},
   "source": [
    "## 1. Clustering with the Iris Dataset\n",
    "\n",
    "**Using this lesson as a guide, perform clustering on the iris dataset.**"
   ]
  },
  {
   "cell_type": "code",
   "execution_count": 13,
   "metadata": {},
   "outputs": [],
   "source": [
    "iris = sns.load_dataset('iris')\n",
    "\n",
    "# data split\n",
    "train_and_validate, test = train_test_split(iris, test_size=.1, random_state=123)\n",
    "train, validate = train_test_split(train_and_validate, test_size=.1, random_state=123)\n",
    "\n",
    "# scale\n",
    "scaler = StandardScaler()\n",
    "cols = ['petal_length', 'sepal_length', 'petal_width', 'sepal_width']\n",
    "train_scaled = train.copy()\n",
    "train_scaled[cols] = scaler.fit_transform(train[cols])"
   ]
  },
  {
   "cell_type": "markdown",
   "metadata": {},
   "source": [
    "#### a. Choose features other than the ones used in the lesson.\n",
    "\n",
    " Clustering Formatt   \n",
    "1. choose features to cluster on   \n",
    "2. choose k   \n",
    "3. create and fit the model   "
   ]
  },
  {
   "cell_type": "code",
   "execution_count": 14,
   "metadata": {},
   "outputs": [
    {
     "data": {
      "text/plain": [
       "KMeans(n_clusters=3)"
      ]
     },
     "execution_count": 14,
     "metadata": {},
     "output_type": "execute_result"
    }
   ],
   "source": [
    "# Fiting K-means object\n",
    "\n",
    "X = train_scaled[['sepal_width', 'sepal_length']]\n",
    "kmeans = KMeans(n_clusters=3)\n",
    "kmeans.fit(X)"
   ]
  },
  {
   "cell_type": "code",
   "execution_count": 15,
   "metadata": {},
   "outputs": [
    {
     "data": {
      "text/html": [
       "<div>\n",
       "<style scoped>\n",
       "    .dataframe tbody tr th:only-of-type {\n",
       "        vertical-align: middle;\n",
       "    }\n",
       "\n",
       "    .dataframe tbody tr th {\n",
       "        vertical-align: top;\n",
       "    }\n",
       "\n",
       "    .dataframe thead th {\n",
       "        text-align: right;\n",
       "    }\n",
       "</style>\n",
       "<table border=\"1\" class=\"dataframe\">\n",
       "  <thead>\n",
       "    <tr style=\"text-align: right;\">\n",
       "      <th></th>\n",
       "      <th>sepal_length</th>\n",
       "      <th>sepal_width</th>\n",
       "      <th>petal_length</th>\n",
       "      <th>petal_width</th>\n",
       "      <th>species</th>\n",
       "      <th>cluster</th>\n",
       "    </tr>\n",
       "  </thead>\n",
       "  <tbody>\n",
       "    <tr>\n",
       "      <th>41</th>\n",
       "      <td>4.50</td>\n",
       "      <td>2.30</td>\n",
       "      <td>1.30</td>\n",
       "      <td>0.30</td>\n",
       "      <td>setosa</td>\n",
       "      <td>1</td>\n",
       "    </tr>\n",
       "    <tr>\n",
       "      <th>142</th>\n",
       "      <td>5.80</td>\n",
       "      <td>2.70</td>\n",
       "      <td>5.10</td>\n",
       "      <td>1.90</td>\n",
       "      <td>virginica</td>\n",
       "      <td>1</td>\n",
       "    </tr>\n",
       "    <tr>\n",
       "      <th>82</th>\n",
       "      <td>5.80</td>\n",
       "      <td>2.70</td>\n",
       "      <td>3.90</td>\n",
       "      <td>1.20</td>\n",
       "      <td>versicolor</td>\n",
       "      <td>1</td>\n",
       "    </tr>\n",
       "    <tr>\n",
       "      <th>127</th>\n",
       "      <td>6.10</td>\n",
       "      <td>3.00</td>\n",
       "      <td>4.90</td>\n",
       "      <td>1.80</td>\n",
       "      <td>virginica</td>\n",
       "      <td>1</td>\n",
       "    </tr>\n",
       "    <tr>\n",
       "      <th>28</th>\n",
       "      <td>5.20</td>\n",
       "      <td>3.40</td>\n",
       "      <td>1.40</td>\n",
       "      <td>0.20</td>\n",
       "      <td>setosa</td>\n",
       "      <td>2</td>\n",
       "    </tr>\n",
       "    <tr>\n",
       "      <th>...</th>\n",
       "      <td>...</td>\n",
       "      <td>...</td>\n",
       "      <td>...</td>\n",
       "      <td>...</td>\n",
       "      <td>...</td>\n",
       "      <td>...</td>\n",
       "    </tr>\n",
       "    <tr>\n",
       "      <th>29</th>\n",
       "      <td>4.70</td>\n",
       "      <td>3.20</td>\n",
       "      <td>1.60</td>\n",
       "      <td>0.20</td>\n",
       "      <td>setosa</td>\n",
       "      <td>2</td>\n",
       "    </tr>\n",
       "    <tr>\n",
       "      <th>52</th>\n",
       "      <td>6.90</td>\n",
       "      <td>3.10</td>\n",
       "      <td>4.90</td>\n",
       "      <td>1.50</td>\n",
       "      <td>versicolor</td>\n",
       "      <td>0</td>\n",
       "    </tr>\n",
       "    <tr>\n",
       "      <th>1</th>\n",
       "      <td>4.90</td>\n",
       "      <td>3.00</td>\n",
       "      <td>1.40</td>\n",
       "      <td>0.20</td>\n",
       "      <td>setosa</td>\n",
       "      <td>2</td>\n",
       "    </tr>\n",
       "    <tr>\n",
       "      <th>57</th>\n",
       "      <td>4.90</td>\n",
       "      <td>2.40</td>\n",
       "      <td>3.30</td>\n",
       "      <td>1.00</td>\n",
       "      <td>versicolor</td>\n",
       "      <td>1</td>\n",
       "    </tr>\n",
       "    <tr>\n",
       "      <th>39</th>\n",
       "      <td>5.10</td>\n",
       "      <td>3.40</td>\n",
       "      <td>1.50</td>\n",
       "      <td>0.20</td>\n",
       "      <td>setosa</td>\n",
       "      <td>2</td>\n",
       "    </tr>\n",
       "  </tbody>\n",
       "</table>\n",
       "<p>121 rows × 6 columns</p>\n",
       "</div>"
      ],
      "text/plain": [
       "            sepal_length          sepal_width         petal_length  \\\n",
       "41                  4.50                 2.30                 1.30   \n",
       "142                 5.80                 2.70                 5.10   \n",
       "82                  5.80                 2.70                 3.90   \n",
       "127                 6.10                 3.00                 4.90   \n",
       "28                  5.20                 3.40                 1.40   \n",
       "..                   ...                  ...                  ...   \n",
       "29                  4.70                 3.20                 1.60   \n",
       "52                  6.90                 3.10                 4.90   \n",
       "1                   4.90                 3.00                 1.40   \n",
       "57                  4.90                 2.40                 3.30   \n",
       "39                  5.10                 3.40                 1.50   \n",
       "\n",
       "             petal_width     species  cluster  \n",
       "41                  0.30      setosa        1  \n",
       "142                 1.90   virginica        1  \n",
       "82                  1.20  versicolor        1  \n",
       "127                 1.80   virginica        1  \n",
       "28                  0.20      setosa        2  \n",
       "..                   ...         ...      ...  \n",
       "29                  0.20      setosa        2  \n",
       "52                  1.50  versicolor        0  \n",
       "1                   0.20      setosa        2  \n",
       "57                  1.00  versicolor        1  \n",
       "39                  0.20      setosa        2  \n",
       "\n",
       "[121 rows x 6 columns]"
      ]
     },
     "execution_count": 15,
     "metadata": {},
     "output_type": "execute_result"
    }
   ],
   "source": [
    "# Adds clusters back to dataframe\n",
    "train['cluster'] = kmeans.labels_\n",
    "train"
   ]
  },
  {
   "cell_type": "code",
   "execution_count": 16,
   "metadata": {},
   "outputs": [
    {
     "data": {
      "text/html": [
       "<div>\n",
       "<style scoped>\n",
       "    .dataframe tbody tr th:only-of-type {\n",
       "        vertical-align: middle;\n",
       "    }\n",
       "\n",
       "    .dataframe tbody tr th {\n",
       "        vertical-align: top;\n",
       "    }\n",
       "\n",
       "    .dataframe thead th {\n",
       "        text-align: right;\n",
       "    }\n",
       "</style>\n",
       "<table border=\"1\" class=\"dataframe\">\n",
       "  <thead>\n",
       "    <tr style=\"text-align: right;\">\n",
       "      <th></th>\n",
       "      <th>sepal_length</th>\n",
       "      <th>sepal_width</th>\n",
       "      <th>petal_length</th>\n",
       "      <th>petal_width</th>\n",
       "    </tr>\n",
       "    <tr>\n",
       "      <th>cluster</th>\n",
       "      <th></th>\n",
       "      <th></th>\n",
       "      <th></th>\n",
       "      <th></th>\n",
       "    </tr>\n",
       "  </thead>\n",
       "  <tbody>\n",
       "    <tr>\n",
       "      <th>0</th>\n",
       "      <td>6.86</td>\n",
       "      <td>3.11</td>\n",
       "      <td>5.47</td>\n",
       "      <td>1.88</td>\n",
       "    </tr>\n",
       "    <tr>\n",
       "      <th>1</th>\n",
       "      <td>5.76</td>\n",
       "      <td>2.66</td>\n",
       "      <td>4.35</td>\n",
       "      <td>1.42</td>\n",
       "    </tr>\n",
       "    <tr>\n",
       "      <th>2</th>\n",
       "      <td>5.08</td>\n",
       "      <td>3.47</td>\n",
       "      <td>1.54</td>\n",
       "      <td>0.29</td>\n",
       "    </tr>\n",
       "  </tbody>\n",
       "</table>\n",
       "</div>"
      ],
      "text/plain": [
       "                sepal_length          sepal_width         petal_length  \\\n",
       "cluster                                                                  \n",
       "0                       6.86                 3.11                 5.47   \n",
       "1                       5.76                 2.66                 4.35   \n",
       "2                       5.08                 3.47                 1.54   \n",
       "\n",
       "                 petal_width  \n",
       "cluster                       \n",
       "0                       1.88  \n",
       "1                       1.42  \n",
       "2                       0.29  "
      ]
     },
     "execution_count": 16,
     "metadata": {},
     "output_type": "execute_result"
    }
   ],
   "source": [
    "# Groups all features by the clusters that were identified, then determiens the average for each feature per cluster\n",
    "\n",
    "train.groupby('cluster').mean()"
   ]
  },
  {
   "cell_type": "markdown",
   "metadata": {},
   "source": [
    "#### b. Visualize the results of your clustering."
   ]
  },
  {
   "cell_type": "code",
   "execution_count": 17,
   "metadata": {},
   "outputs": [
    {
     "data": {
      "image/png": "[encoded data removed]",
      "text/plain": [
       "<Figure size 936x504 with 1 Axes>"
      ]
     },
     "metadata": {
      "needs_background": "light"
     },
     "output_type": "display_data"
    }
   ],
   "source": [
    "# Visualize seleted variables\n",
    "fig, ax = plt.subplots(figsize=(13, 7))\n",
    "\n",
    "for cluster, subset in train.groupby('cluster'):\n",
    "    ax.scatter(subset.sepal_width, subset.sepal_length, label=cluster)\n",
    "ax.legend(title='cluster')\n",
    "ax.set(ylabel='sepal length', xlabel='sepal width')\n",
    "\n",
    "train.groupby('cluster').mean().plot.scatter(y='sepal_length', x='sepal_width', marker='x', s=500, ax=ax, c='black')\n",
    "plt.title('K-menas Clustering K=3')\n",
    "plt.show()"
   ]
  },
  {
   "cell_type": "markdown",
   "metadata": {},
   "source": [
    "#### c. Use the elbow method to visually select a good value for k.\n",
    "\n",
    "Elbow Method Demo   \n",
    "\n",
    "1. Choose a range of k values   \n",
    "2. Create a model for each k and record inertia   \n",
    "3. Visualize results (k vs inertia)   \n",
    "\n"
   ]
  },
  {
   "cell_type": "code",
   "execution_count": 18,
   "metadata": {},
   "outputs": [
    {
     "data": {
      "image/png": "[encoded data removed]",
      "text/plain": [
       "<Figure size 936x504 with 1 Axes>"
      ]
     },
     "metadata": {
      "needs_background": "light"
     },
     "output_type": "display_data"
    }
   ],
   "source": [
    "# Determining K using Elbow Method\n",
    "\n",
    "output = {}\n",
    "\n",
    "for k in range(1, 12):\n",
    "    kmeans = KMeans(n_clusters=k)\n",
    "    kmeans.fit(X)\n",
    "    output[k] = kmeans.inertia_\n",
    "\n",
    "ax = pd.Series(output).plot(figsize=(13, 7))\n",
    "ax.set(xlabel='k', ylabel='inertia', xticks=range(1, 12), title='The elbow method for determining k')\n",
    "ax.grid()"
   ]
  },
  {
   "cell_type": "markdown",
   "metadata": {},
   "source": [
    "***\n",
    "\n",
    "**Verifies that a k of three is valid for this dataset**\n",
    "\n",
    "***"
   ]
  },
  {
   "cell_type": "markdown",
   "metadata": {},
   "source": [
    "#### d. Repeat the clustering, this time with 3 different features."
   ]
  },
  {
   "cell_type": "code",
   "execution_count": 19,
   "metadata": {},
   "outputs": [
    {
     "data": {
      "text/plain": [
       "KMeans(n_clusters=3)"
      ]
     },
     "execution_count": 19,
     "metadata": {},
     "output_type": "execute_result"
    }
   ],
   "source": [
    "# This time I will use all 4 features (Scaled)\n",
    "\n",
    "X = train_scaled[['sepal_width', 'sepal_length', 'petal_length', 'petal_width']]\n",
    "kmeans = KMeans(n_clusters=3)\n",
    "kmeans.fit(X)"
   ]
  },
  {
   "cell_type": "code",
   "execution_count": 20,
   "metadata": {},
   "outputs": [
    {
     "data": {
      "text/html": [
       "<div>\n",
       "<style scoped>\n",
       "    .dataframe tbody tr th:only-of-type {\n",
       "        vertical-align: middle;\n",
       "    }\n",
       "\n",
       "    .dataframe tbody tr th {\n",
       "        vertical-align: top;\n",
       "    }\n",
       "\n",
       "    .dataframe thead th {\n",
       "        text-align: right;\n",
       "    }\n",
       "</style>\n",
       "<table border=\"1\" class=\"dataframe\">\n",
       "  <thead>\n",
       "    <tr style=\"text-align: right;\">\n",
       "      <th></th>\n",
       "      <th>sepal_length</th>\n",
       "      <th>sepal_width</th>\n",
       "      <th>petal_length</th>\n",
       "      <th>petal_width</th>\n",
       "      <th>species</th>\n",
       "      <th>cluster</th>\n",
       "    </tr>\n",
       "  </thead>\n",
       "  <tbody>\n",
       "    <tr>\n",
       "      <th>41</th>\n",
       "      <td>4.50</td>\n",
       "      <td>2.30</td>\n",
       "      <td>1.30</td>\n",
       "      <td>0.30</td>\n",
       "      <td>setosa</td>\n",
       "      <td>0</td>\n",
       "    </tr>\n",
       "    <tr>\n",
       "      <th>142</th>\n",
       "      <td>5.80</td>\n",
       "      <td>2.70</td>\n",
       "      <td>5.10</td>\n",
       "      <td>1.90</td>\n",
       "      <td>virginica</td>\n",
       "      <td>2</td>\n",
       "    </tr>\n",
       "    <tr>\n",
       "      <th>82</th>\n",
       "      <td>5.80</td>\n",
       "      <td>2.70</td>\n",
       "      <td>3.90</td>\n",
       "      <td>1.20</td>\n",
       "      <td>versicolor</td>\n",
       "      <td>2</td>\n",
       "    </tr>\n",
       "    <tr>\n",
       "      <th>127</th>\n",
       "      <td>6.10</td>\n",
       "      <td>3.00</td>\n",
       "      <td>4.90</td>\n",
       "      <td>1.80</td>\n",
       "      <td>virginica</td>\n",
       "      <td>1</td>\n",
       "    </tr>\n",
       "    <tr>\n",
       "      <th>28</th>\n",
       "      <td>5.20</td>\n",
       "      <td>3.40</td>\n",
       "      <td>1.40</td>\n",
       "      <td>0.20</td>\n",
       "      <td>setosa</td>\n",
       "      <td>0</td>\n",
       "    </tr>\n",
       "    <tr>\n",
       "      <th>...</th>\n",
       "      <td>...</td>\n",
       "      <td>...</td>\n",
       "      <td>...</td>\n",
       "      <td>...</td>\n",
       "      <td>...</td>\n",
       "      <td>...</td>\n",
       "    </tr>\n",
       "    <tr>\n",
       "      <th>29</th>\n",
       "      <td>4.70</td>\n",
       "      <td>3.20</td>\n",
       "      <td>1.60</td>\n",
       "      <td>0.20</td>\n",
       "      <td>setosa</td>\n",
       "      <td>0</td>\n",
       "    </tr>\n",
       "    <tr>\n",
       "      <th>52</th>\n",
       "      <td>6.90</td>\n",
       "      <td>3.10</td>\n",
       "      <td>4.90</td>\n",
       "      <td>1.50</td>\n",
       "      <td>versicolor</td>\n",
       "      <td>1</td>\n",
       "    </tr>\n",
       "    <tr>\n",
       "      <th>1</th>\n",
       "      <td>4.90</td>\n",
       "      <td>3.00</td>\n",
       "      <td>1.40</td>\n",
       "      <td>0.20</td>\n",
       "      <td>setosa</td>\n",
       "      <td>0</td>\n",
       "    </tr>\n",
       "    <tr>\n",
       "      <th>57</th>\n",
       "      <td>4.90</td>\n",
       "      <td>2.40</td>\n",
       "      <td>3.30</td>\n",
       "      <td>1.00</td>\n",
       "      <td>versicolor</td>\n",
       "      <td>2</td>\n",
       "    </tr>\n",
       "    <tr>\n",
       "      <th>39</th>\n",
       "      <td>5.10</td>\n",
       "      <td>3.40</td>\n",
       "      <td>1.50</td>\n",
       "      <td>0.20</td>\n",
       "      <td>setosa</td>\n",
       "      <td>0</td>\n",
       "    </tr>\n",
       "  </tbody>\n",
       "</table>\n",
       "<p>121 rows × 6 columns</p>\n",
       "</div>"
      ],
      "text/plain": [
       "            sepal_length          sepal_width         petal_length  \\\n",
       "41                  4.50                 2.30                 1.30   \n",
       "142                 5.80                 2.70                 5.10   \n",
       "82                  5.80                 2.70                 3.90   \n",
       "127                 6.10                 3.00                 4.90   \n",
       "28                  5.20                 3.40                 1.40   \n",
       "..                   ...                  ...                  ...   \n",
       "29                  4.70                 3.20                 1.60   \n",
       "52                  6.90                 3.10                 4.90   \n",
       "1                   4.90                 3.00                 1.40   \n",
       "57                  4.90                 2.40                 3.30   \n",
       "39                  5.10                 3.40                 1.50   \n",
       "\n",
       "             petal_width     species  cluster  \n",
       "41                  0.30      setosa        0  \n",
       "142                 1.90   virginica        2  \n",
       "82                  1.20  versicolor        2  \n",
       "127                 1.80   virginica        1  \n",
       "28                  0.20      setosa        0  \n",
       "..                   ...         ...      ...  \n",
       "29                  0.20      setosa        0  \n",
       "52                  1.50  versicolor        1  \n",
       "1                   0.20      setosa        0  \n",
       "57                  1.00  versicolor        2  \n",
       "39                  0.20      setosa        0  \n",
       "\n",
       "[121 rows x 6 columns]"
      ]
     },
     "execution_count": 20,
     "metadata": {},
     "output_type": "execute_result"
    }
   ],
   "source": [
    "# Adds clusters back to dataframe\n",
    "train['cluster'] = kmeans.labels_\n",
    "train"
   ]
  },
  {
   "cell_type": "code",
   "execution_count": 21,
   "metadata": {},
   "outputs": [
    {
     "data": {
      "text/html": [
       "<div>\n",
       "<style scoped>\n",
       "    .dataframe tbody tr th:only-of-type {\n",
       "        vertical-align: middle;\n",
       "    }\n",
       "\n",
       "    .dataframe tbody tr th {\n",
       "        vertical-align: top;\n",
       "    }\n",
       "\n",
       "    .dataframe thead th {\n",
       "        text-align: right;\n",
       "    }\n",
       "</style>\n",
       "<table border=\"1\" class=\"dataframe\">\n",
       "  <thead>\n",
       "    <tr style=\"text-align: right;\">\n",
       "      <th></th>\n",
       "      <th>sepal_length</th>\n",
       "      <th>sepal_width</th>\n",
       "      <th>petal_length</th>\n",
       "      <th>petal_width</th>\n",
       "    </tr>\n",
       "    <tr>\n",
       "      <th>cluster</th>\n",
       "      <th></th>\n",
       "      <th></th>\n",
       "      <th></th>\n",
       "      <th></th>\n",
       "    </tr>\n",
       "  </thead>\n",
       "  <tbody>\n",
       "    <tr>\n",
       "      <th>0</th>\n",
       "      <td>5.04</td>\n",
       "      <td>3.45</td>\n",
       "      <td>1.47</td>\n",
       "      <td>0.26</td>\n",
       "    </tr>\n",
       "    <tr>\n",
       "      <th>1</th>\n",
       "      <td>6.82</td>\n",
       "      <td>3.11</td>\n",
       "      <td>5.50</td>\n",
       "      <td>1.90</td>\n",
       "    </tr>\n",
       "    <tr>\n",
       "      <th>2</th>\n",
       "      <td>5.78</td>\n",
       "      <td>2.67</td>\n",
       "      <td>4.35</td>\n",
       "      <td>1.41</td>\n",
       "    </tr>\n",
       "  </tbody>\n",
       "</table>\n",
       "</div>"
      ],
      "text/plain": [
       "                sepal_length          sepal_width         petal_length  \\\n",
       "cluster                                                                  \n",
       "0                       5.04                 3.45                 1.47   \n",
       "1                       6.82                 3.11                 5.50   \n",
       "2                       5.78                 2.67                 4.35   \n",
       "\n",
       "                 petal_width  \n",
       "cluster                       \n",
       "0                       0.26  \n",
       "1                       1.90  \n",
       "2                       1.41  "
      ]
     },
     "execution_count": 21,
     "metadata": {},
     "output_type": "execute_result"
    }
   ],
   "source": [
    "# Groups all features by the clusters that were identified, then determiens the average for each feature per cluster\n",
    "\n",
    "train.groupby('cluster').mean()"
   ]
  },
  {
   "cell_type": "code",
   "execution_count": 22,
   "metadata": {},
   "outputs": [
    {
     "data": {
      "image/png": "[encoded data removed]",
      "text/plain": [
       "<Figure size 936x504 with 1 Axes>"
      ]
     },
     "metadata": {
      "needs_background": "light"
     },
     "output_type": "display_data"
    }
   ],
   "source": [
    "# Determining K using Elbow Method\n",
    "\n",
    "output = {}\n",
    "\n",
    "for k in range(1, 12):\n",
    "    kmeans = KMeans(n_clusters=k)\n",
    "    kmeans.fit(X)\n",
    "    output[k] = kmeans.inertia_\n",
    "\n",
    "ax = pd.Series(output).plot(figsize=(13, 7))\n",
    "ax.set(xlabel='k', ylabel='inertia', xticks=range(1, 12), title='The elbow method for determining k')\n",
    "ax.grid()"
   ]
  },
  {
   "cell_type": "markdown",
   "metadata": {},
   "source": [
    "***\n",
    "\n",
    "**Verifies that a k of three is valid for this dataset**\n",
    "\n",
    "***"
   ]
  },
  {
   "cell_type": "markdown",
   "metadata": {},
   "source": [
    "## 2. Use the techniques discussed in this lesson, as well as the insights gained from the exploration exercise to perform clustering on the mall customers dataset. Be sure to visualize your results!"
   ]
  },
  {
   "cell_type": "code",
   "execution_count": 23,
   "metadata": {},
   "outputs": [
    {
     "data": {
      "text/html": [
       "<div>\n",
       "<style scoped>\n",
       "    .dataframe tbody tr th:only-of-type {\n",
       "        vertical-align: middle;\n",
       "    }\n",
       "\n",
       "    .dataframe tbody tr th {\n",
       "        vertical-align: top;\n",
       "    }\n",
       "\n",
       "    .dataframe thead th {\n",
       "        text-align: right;\n",
       "    }\n",
       "</style>\n",
       "<table border=\"1\" class=\"dataframe\">\n",
       "  <thead>\n",
       "    <tr style=\"text-align: right;\">\n",
       "      <th></th>\n",
       "      <th>customer_id</th>\n",
       "      <th>age</th>\n",
       "      <th>annual_income</th>\n",
       "      <th>spending_score</th>\n",
       "      <th>gender_Female</th>\n",
       "      <th>gender_Male</th>\n",
       "    </tr>\n",
       "  </thead>\n",
       "  <tbody>\n",
       "    <tr>\n",
       "      <th>0</th>\n",
       "      <td>1</td>\n",
       "      <td>19</td>\n",
       "      <td>15</td>\n",
       "      <td>39</td>\n",
       "      <td>0</td>\n",
       "      <td>1</td>\n",
       "    </tr>\n",
       "    <tr>\n",
       "      <th>1</th>\n",
       "      <td>2</td>\n",
       "      <td>21</td>\n",
       "      <td>15</td>\n",
       "      <td>81</td>\n",
       "      <td>0</td>\n",
       "      <td>1</td>\n",
       "    </tr>\n",
       "    <tr>\n",
       "      <th>2</th>\n",
       "      <td>3</td>\n",
       "      <td>20</td>\n",
       "      <td>16</td>\n",
       "      <td>6</td>\n",
       "      <td>1</td>\n",
       "      <td>0</td>\n",
       "    </tr>\n",
       "    <tr>\n",
       "      <th>3</th>\n",
       "      <td>4</td>\n",
       "      <td>23</td>\n",
       "      <td>16</td>\n",
       "      <td>77</td>\n",
       "      <td>1</td>\n",
       "      <td>0</td>\n",
       "    </tr>\n",
       "    <tr>\n",
       "      <th>4</th>\n",
       "      <td>5</td>\n",
       "      <td>31</td>\n",
       "      <td>17</td>\n",
       "      <td>40</td>\n",
       "      <td>1</td>\n",
       "      <td>0</td>\n",
       "    </tr>\n",
       "  </tbody>\n",
       "</table>\n",
       "</div>"
      ],
      "text/plain": [
       "   customer_id  age  annual_income  spending_score  gender_Female  gender_Male\n",
       "0            1   19             15              39              0            1\n",
       "1            2   21             15              81              0            1\n",
       "2            3   20             16               6              1            0\n",
       "3            4   23             16              77              1            0\n",
       "4            5   31             17              40              1            0"
      ]
     },
     "execution_count": 23,
     "metadata": {},
     "output_type": "execute_result"
    }
   ],
   "source": [
    "import wrangle_mall\n",
    "df = wrangle_mall.get_mall_data(cached=True)\n",
    "# turn gender in to dummy variable\n",
    "df = pd.get_dummies(df, columns=['gender'])\n",
    "df.head()"
   ]
  },
  {
   "cell_type": "code",
   "execution_count": 24,
   "metadata": {},
   "outputs": [
    {
     "data": {
      "text/plain": [
       "Index(['customer_id', 'age', 'annual_income', 'spending_score',\n",
       "       'gender_Female', 'gender_Male'],\n",
       "      dtype='object')"
      ]
     },
     "execution_count": 24,
     "metadata": {},
     "output_type": "execute_result"
    }
   ],
   "source": [
    "df.columns"
   ]
  },
  {
   "cell_type": "markdown",
   "metadata": {},
   "source": [
    "####  Split/Scale"
   ]
  },
  {
   "cell_type": "code",
   "execution_count": 25,
   "metadata": {},
   "outputs": [],
   "source": [
    "# data split\n",
    "train_and_validate, test = train_test_split(df, test_size=.1, random_state=123)\n",
    "train, validate = train_test_split(train_and_validate, test_size=.1, random_state=123)"
   ]
  },
  {
   "cell_type": "code",
   "execution_count": 26,
   "metadata": {},
   "outputs": [],
   "source": [
    "# scale\n",
    "scaler = StandardScaler()\n",
    "cols = ['age','annual_income','spending_score','customer_id']\n",
    "train_scaled = train.copy()\n",
    "train_scaled[cols] = scaler.fit_transform(train[cols])"
   ]
  },
  {
   "cell_type": "code",
   "execution_count": 27,
   "metadata": {},
   "outputs": [
    {
     "data": {
      "text/html": [
       "<div>\n",
       "<style scoped>\n",
       "    .dataframe tbody tr th:only-of-type {\n",
       "        vertical-align: middle;\n",
       "    }\n",
       "\n",
       "    .dataframe tbody tr th {\n",
       "        vertical-align: top;\n",
       "    }\n",
       "\n",
       "    .dataframe thead th {\n",
       "        text-align: right;\n",
       "    }\n",
       "</style>\n",
       "<table border=\"1\" class=\"dataframe\">\n",
       "  <thead>\n",
       "    <tr style=\"text-align: right;\">\n",
       "      <th></th>\n",
       "      <th>customer_id</th>\n",
       "      <th>age</th>\n",
       "      <th>annual_income</th>\n",
       "      <th>spending_score</th>\n",
       "      <th>gender_Female</th>\n",
       "      <th>gender_Male</th>\n",
       "    </tr>\n",
       "  </thead>\n",
       "  <tbody>\n",
       "    <tr>\n",
       "      <th>12</th>\n",
       "      <td>-1.49</td>\n",
       "      <td>1.38</td>\n",
       "      <td>-1.51</td>\n",
       "      <td>-1.35</td>\n",
       "      <td>1</td>\n",
       "      <td>0</td>\n",
       "    </tr>\n",
       "    <tr>\n",
       "      <th>64</th>\n",
       "      <td>-0.60</td>\n",
       "      <td>1.74</td>\n",
       "      <td>-0.47</td>\n",
       "      <td>0.06</td>\n",
       "      <td>0</td>\n",
       "      <td>1</td>\n",
       "    </tr>\n",
       "    <tr>\n",
       "      <th>175</th>\n",
       "      <td>1.30</td>\n",
       "      <td>-0.63</td>\n",
       "      <td>1.02</td>\n",
       "      <td>1.43</td>\n",
       "      <td>1</td>\n",
       "      <td>0</td>\n",
       "    </tr>\n",
       "    <tr>\n",
       "      <th>87</th>\n",
       "      <td>-0.21</td>\n",
       "      <td>-1.20</td>\n",
       "      <td>-0.13</td>\n",
       "      <td>0.22</td>\n",
       "      <td>1</td>\n",
       "      <td>0</td>\n",
       "    </tr>\n",
       "    <tr>\n",
       "      <th>111</th>\n",
       "      <td>0.20</td>\n",
       "      <td>-1.41</td>\n",
       "      <td>0.09</td>\n",
       "      <td>0.18</td>\n",
       "      <td>1</td>\n",
       "      <td>0</td>\n",
       "    </tr>\n",
       "  </tbody>\n",
       "</table>\n",
       "</div>"
      ],
      "text/plain": [
       "             customer_id                  age        annual_income  \\\n",
       "12                 -1.49                 1.38                -1.51   \n",
       "64                 -0.60                 1.74                -0.47   \n",
       "175                 1.30                -0.63                 1.02   \n",
       "87                 -0.21                -1.20                -0.13   \n",
       "111                 0.20                -1.41                 0.09   \n",
       "\n",
       "          spending_score  gender_Female  gender_Male  \n",
       "12                 -1.35              1            0  \n",
       "64                  0.06              0            1  \n",
       "175                 1.43              1            0  \n",
       "87                  0.22              1            0  \n",
       "111                 0.18              1            0  "
      ]
     },
     "execution_count": 27,
     "metadata": {},
     "output_type": "execute_result"
    }
   ],
   "source": [
    "# Visualize train_scaled\n",
    "train_scaled.head()"
   ]
  },
  {
   "cell_type": "markdown",
   "metadata": {},
   "source": [
    "***\n",
    "\n",
    "#### Cluster   \n",
    "1. choose features to cluster on   \n",
    "2. choose k   \n",
    "3. create and fit the model   \n",
    "\n",
    "***"
   ]
  },
  {
   "cell_type": "code",
   "execution_count": 28,
   "metadata": {},
   "outputs": [
    {
     "data": {
      "text/plain": [
       "KMeans(n_clusters=4)"
      ]
     },
     "execution_count": 28,
     "metadata": {},
     "output_type": "execute_result"
    }
   ],
   "source": [
    "# I want to choose age, annual_income, spending_score and gender to cluster on\n",
    "\n",
    "X = train_scaled[['age', 'annual_income', 'spending_score', 'gender_Female', 'gender_Male']]\n",
    "kmeans = KMeans(n_clusters=4)   # Lots of variables so I will go with a k of 5 (Too high changed to 4)\n",
    "kmeans.fit(X)"
   ]
  },
  {
   "cell_type": "code",
   "execution_count": 29,
   "metadata": {},
   "outputs": [
    {
     "data": {
      "text/html": [
       "<div>\n",
       "<style scoped>\n",
       "    .dataframe tbody tr th:only-of-type {\n",
       "        vertical-align: middle;\n",
       "    }\n",
       "\n",
       "    .dataframe tbody tr th {\n",
       "        vertical-align: top;\n",
       "    }\n",
       "\n",
       "    .dataframe thead th {\n",
       "        text-align: right;\n",
       "    }\n",
       "</style>\n",
       "<table border=\"1\" class=\"dataframe\">\n",
       "  <thead>\n",
       "    <tr style=\"text-align: right;\">\n",
       "      <th></th>\n",
       "      <th>customer_id</th>\n",
       "      <th>age</th>\n",
       "      <th>annual_income</th>\n",
       "      <th>spending_score</th>\n",
       "      <th>gender_Female</th>\n",
       "      <th>gender_Male</th>\n",
       "      <th>cluster</th>\n",
       "    </tr>\n",
       "  </thead>\n",
       "  <tbody>\n",
       "    <tr>\n",
       "      <th>12</th>\n",
       "      <td>13</td>\n",
       "      <td>58</td>\n",
       "      <td>20</td>\n",
       "      <td>15</td>\n",
       "      <td>1</td>\n",
       "      <td>0</td>\n",
       "      <td>2</td>\n",
       "    </tr>\n",
       "    <tr>\n",
       "      <th>64</th>\n",
       "      <td>65</td>\n",
       "      <td>63</td>\n",
       "      <td>48</td>\n",
       "      <td>51</td>\n",
       "      <td>0</td>\n",
       "      <td>1</td>\n",
       "      <td>2</td>\n",
       "    </tr>\n",
       "    <tr>\n",
       "      <th>175</th>\n",
       "      <td>176</td>\n",
       "      <td>30</td>\n",
       "      <td>88</td>\n",
       "      <td>86</td>\n",
       "      <td>1</td>\n",
       "      <td>0</td>\n",
       "      <td>1</td>\n",
       "    </tr>\n",
       "    <tr>\n",
       "      <th>87</th>\n",
       "      <td>88</td>\n",
       "      <td>22</td>\n",
       "      <td>57</td>\n",
       "      <td>55</td>\n",
       "      <td>1</td>\n",
       "      <td>0</td>\n",
       "      <td>0</td>\n",
       "    </tr>\n",
       "    <tr>\n",
       "      <th>111</th>\n",
       "      <td>112</td>\n",
       "      <td>19</td>\n",
       "      <td>63</td>\n",
       "      <td>54</td>\n",
       "      <td>1</td>\n",
       "      <td>0</td>\n",
       "      <td>0</td>\n",
       "    </tr>\n",
       "    <tr>\n",
       "      <th>...</th>\n",
       "      <td>...</td>\n",
       "      <td>...</td>\n",
       "      <td>...</td>\n",
       "      <td>...</td>\n",
       "      <td>...</td>\n",
       "      <td>...</td>\n",
       "      <td>...</td>\n",
       "    </tr>\n",
       "    <tr>\n",
       "      <th>139</th>\n",
       "      <td>140</td>\n",
       "      <td>35</td>\n",
       "      <td>74</td>\n",
       "      <td>72</td>\n",
       "      <td>1</td>\n",
       "      <td>0</td>\n",
       "      <td>1</td>\n",
       "    </tr>\n",
       "    <tr>\n",
       "      <th>167</th>\n",
       "      <td>168</td>\n",
       "      <td>33</td>\n",
       "      <td>86</td>\n",
       "      <td>95</td>\n",
       "      <td>1</td>\n",
       "      <td>0</td>\n",
       "      <td>1</td>\n",
       "    </tr>\n",
       "    <tr>\n",
       "      <th>0</th>\n",
       "      <td>1</td>\n",
       "      <td>19</td>\n",
       "      <td>15</td>\n",
       "      <td>39</td>\n",
       "      <td>0</td>\n",
       "      <td>1</td>\n",
       "      <td>0</td>\n",
       "    </tr>\n",
       "    <tr>\n",
       "      <th>70</th>\n",
       "      <td>71</td>\n",
       "      <td>70</td>\n",
       "      <td>49</td>\n",
       "      <td>55</td>\n",
       "      <td>0</td>\n",
       "      <td>1</td>\n",
       "      <td>2</td>\n",
       "    </tr>\n",
       "    <tr>\n",
       "      <th>48</th>\n",
       "      <td>49</td>\n",
       "      <td>29</td>\n",
       "      <td>40</td>\n",
       "      <td>42</td>\n",
       "      <td>1</td>\n",
       "      <td>0</td>\n",
       "      <td>0</td>\n",
       "    </tr>\n",
       "  </tbody>\n",
       "</table>\n",
       "<p>162 rows × 7 columns</p>\n",
       "</div>"
      ],
      "text/plain": [
       "     customer_id  age  annual_income  spending_score  gender_Female  \\\n",
       "12            13   58             20              15              1   \n",
       "64            65   63             48              51              0   \n",
       "175          176   30             88              86              1   \n",
       "87            88   22             57              55              1   \n",
       "111          112   19             63              54              1   \n",
       "..           ...  ...            ...             ...            ...   \n",
       "139          140   35             74              72              1   \n",
       "167          168   33             86              95              1   \n",
       "0              1   19             15              39              0   \n",
       "70            71   70             49              55              0   \n",
       "48            49   29             40              42              1   \n",
       "\n",
       "     gender_Male  cluster  \n",
       "12             0        2  \n",
       "64             1        2  \n",
       "175            0        1  \n",
       "87             0        0  \n",
       "111            0        0  \n",
       "..           ...      ...  \n",
       "139            0        1  \n",
       "167            0        1  \n",
       "0              1        0  \n",
       "70             1        2  \n",
       "48             0        0  \n",
       "\n",
       "[162 rows x 7 columns]"
      ]
     },
     "execution_count": 29,
     "metadata": {},
     "output_type": "execute_result"
    }
   ],
   "source": [
    "# Going to take the labels I have created and added them back on the data table\n",
    "train['cluster'] = kmeans.labels_\n",
    "train"
   ]
  },
  {
   "cell_type": "code",
   "execution_count": 30,
   "metadata": {},
   "outputs": [
    {
     "data": {
      "text/html": [
       "<div>\n",
       "<style scoped>\n",
       "    .dataframe tbody tr th:only-of-type {\n",
       "        vertical-align: middle;\n",
       "    }\n",
       "\n",
       "    .dataframe tbody tr th {\n",
       "        vertical-align: top;\n",
       "    }\n",
       "\n",
       "    .dataframe thead th {\n",
       "        text-align: right;\n",
       "    }\n",
       "</style>\n",
       "<table border=\"1\" class=\"dataframe\">\n",
       "  <thead>\n",
       "    <tr style=\"text-align: right;\">\n",
       "      <th></th>\n",
       "      <th>customer_id</th>\n",
       "      <th>age</th>\n",
       "      <th>annual_income</th>\n",
       "      <th>spending_score</th>\n",
       "      <th>gender_Female</th>\n",
       "      <th>gender_Male</th>\n",
       "      <th>n_observations</th>\n",
       "    </tr>\n",
       "    <tr>\n",
       "      <th>cluster</th>\n",
       "      <th></th>\n",
       "      <th></th>\n",
       "      <th></th>\n",
       "      <th></th>\n",
       "      <th></th>\n",
       "      <th></th>\n",
       "      <th></th>\n",
       "    </tr>\n",
       "  </thead>\n",
       "  <tbody>\n",
       "    <tr>\n",
       "      <th>0</th>\n",
       "      <td>53.40</td>\n",
       "      <td>24.93</td>\n",
       "      <td>39.96</td>\n",
       "      <td>60.00</td>\n",
       "      <td>0.58</td>\n",
       "      <td>0.42</td>\n",
       "      <td>45</td>\n",
       "    </tr>\n",
       "    <tr>\n",
       "      <th>1</th>\n",
       "      <td>160.03</td>\n",
       "      <td>32.76</td>\n",
       "      <td>85.91</td>\n",
       "      <td>80.64</td>\n",
       "      <td>0.61</td>\n",
       "      <td>0.39</td>\n",
       "      <td>33</td>\n",
       "    </tr>\n",
       "    <tr>\n",
       "      <th>2</th>\n",
       "      <td>64.60</td>\n",
       "      <td>53.44</td>\n",
       "      <td>45.75</td>\n",
       "      <td>39.12</td>\n",
       "      <td>0.62</td>\n",
       "      <td>0.38</td>\n",
       "      <td>52</td>\n",
       "    </tr>\n",
       "    <tr>\n",
       "      <th>3</th>\n",
       "      <td>161.81</td>\n",
       "      <td>40.50</td>\n",
       "      <td>87.66</td>\n",
       "      <td>18.88</td>\n",
       "      <td>0.50</td>\n",
       "      <td>0.50</td>\n",
       "      <td>32</td>\n",
       "    </tr>\n",
       "  </tbody>\n",
       "</table>\n",
       "</div>"
      ],
      "text/plain": [
       "                 customer_id                  age        annual_income  \\\n",
       "cluster                                                                  \n",
       "0                      53.40                24.93                39.96   \n",
       "1                     160.03                32.76                85.91   \n",
       "2                      64.60                53.44                45.75   \n",
       "3                     161.81                40.50                87.66   \n",
       "\n",
       "              spending_score        gender_Female          gender_Male  \\\n",
       "cluster                                                                  \n",
       "0                      60.00                 0.58                 0.42   \n",
       "1                      80.64                 0.61                 0.39   \n",
       "2                      39.12                 0.62                 0.38   \n",
       "3                      18.88                 0.50                 0.50   \n",
       "\n",
       "         n_observations  \n",
       "cluster                  \n",
       "0                    45  \n",
       "1                    33  \n",
       "2                    52  \n",
       "3                    32  "
      ]
     },
     "execution_count": 30,
     "metadata": {},
     "output_type": "execute_result"
    }
   ],
   "source": [
    "# Going to take the number of observations per cluster and add them to the data table\n",
    "pd.concat([\n",
    "    train.groupby('cluster').mean(),\n",
    "    train.groupby('cluster').size().rename('n_observations'),\n",
    "], axis=1)"
   ]
  },
  {
   "cell_type": "code",
   "execution_count": 31,
   "metadata": {},
   "outputs": [
    {
     "data": {
      "image/png": "[encoded data removed]",
      "text/plain": [
       "<Figure size 936x504 with 1 Axes>"
      ]
     },
     "metadata": {
      "needs_background": "light"
     },
     "output_type": "display_data"
    }
   ],
   "source": [
    "# Determining K using Elbow Method\n",
    "\n",
    "output = {}\n",
    "\n",
    "for k in range(1, 12):\n",
    "    kmeans = KMeans(n_clusters=k)\n",
    "    kmeans.fit(X)\n",
    "    output[k] = kmeans.inertia_\n",
    "\n",
    "ax = pd.Series(output).plot(figsize=(13, 7))\n",
    "ax.set(xlabel='k', ylabel='inertia', xticks=range(1, 12), title='The elbow method for determining k')\n",
    "ax.grid()"
   ]
  },
  {
   "cell_type": "markdown",
   "metadata": {},
   "source": [
    "***\n",
    "\n",
    "**Suggests that my K of 5 is to large, I am going to go back and use a k of 4 and then compare**\n",
    "\n",
    "***"
   ]
  },
  {
   "cell_type": "code",
   "execution_count": 32,
   "metadata": {},
   "outputs": [
    {
     "data": {
      "text/html": [
       "<div>\n",
       "<style scoped>\n",
       "    .dataframe tbody tr th:only-of-type {\n",
       "        vertical-align: middle;\n",
       "    }\n",
       "\n",
       "    .dataframe tbody tr th {\n",
       "        vertical-align: top;\n",
       "    }\n",
       "\n",
       "    .dataframe thead th {\n",
       "        text-align: right;\n",
       "    }\n",
       "</style>\n",
       "<table border=\"1\" class=\"dataframe\">\n",
       "  <thead>\n",
       "    <tr style=\"text-align: right;\">\n",
       "      <th></th>\n",
       "      <th>customer_id</th>\n",
       "      <th>age</th>\n",
       "      <th>annual_income</th>\n",
       "      <th>spending_score</th>\n",
       "      <th>gender_Female</th>\n",
       "      <th>gender_Male</th>\n",
       "      <th>n_observations</th>\n",
       "    </tr>\n",
       "    <tr>\n",
       "      <th>cluster</th>\n",
       "      <th></th>\n",
       "      <th></th>\n",
       "      <th></th>\n",
       "      <th></th>\n",
       "      <th></th>\n",
       "      <th></th>\n",
       "      <th></th>\n",
       "    </tr>\n",
       "  </thead>\n",
       "  <tbody>\n",
       "    <tr>\n",
       "      <th>0</th>\n",
       "      <td>53.40</td>\n",
       "      <td>24.93</td>\n",
       "      <td>39.96</td>\n",
       "      <td>60.00</td>\n",
       "      <td>0.58</td>\n",
       "      <td>0.42</td>\n",
       "      <td>45</td>\n",
       "    </tr>\n",
       "    <tr>\n",
       "      <th>1</th>\n",
       "      <td>160.03</td>\n",
       "      <td>32.76</td>\n",
       "      <td>85.91</td>\n",
       "      <td>80.64</td>\n",
       "      <td>0.61</td>\n",
       "      <td>0.39</td>\n",
       "      <td>33</td>\n",
       "    </tr>\n",
       "    <tr>\n",
       "      <th>2</th>\n",
       "      <td>64.60</td>\n",
       "      <td>53.44</td>\n",
       "      <td>45.75</td>\n",
       "      <td>39.12</td>\n",
       "      <td>0.62</td>\n",
       "      <td>0.38</td>\n",
       "      <td>52</td>\n",
       "    </tr>\n",
       "    <tr>\n",
       "      <th>3</th>\n",
       "      <td>161.81</td>\n",
       "      <td>40.50</td>\n",
       "      <td>87.66</td>\n",
       "      <td>18.88</td>\n",
       "      <td>0.50</td>\n",
       "      <td>0.50</td>\n",
       "      <td>32</td>\n",
       "    </tr>\n",
       "  </tbody>\n",
       "</table>\n",
       "</div>"
      ],
      "text/plain": [
       "                 customer_id                  age        annual_income  \\\n",
       "cluster                                                                  \n",
       "0                      53.40                24.93                39.96   \n",
       "1                     160.03                32.76                85.91   \n",
       "2                      64.60                53.44                45.75   \n",
       "3                     161.81                40.50                87.66   \n",
       "\n",
       "              spending_score        gender_Female          gender_Male  \\\n",
       "cluster                                                                  \n",
       "0                      60.00                 0.58                 0.42   \n",
       "1                      80.64                 0.61                 0.39   \n",
       "2                      39.12                 0.62                 0.38   \n",
       "3                      18.88                 0.50                 0.50   \n",
       "\n",
       "         n_observations  \n",
       "cluster                  \n",
       "0                    45  \n",
       "1                    33  \n",
       "2                    52  \n",
       "3                    32  "
      ]
     },
     "execution_count": 32,
     "metadata": {},
     "output_type": "execute_result"
    }
   ],
   "source": [
    "# Going to take the number of observations per cluster and add them to the data table\n",
    "pd.concat([\n",
    "    train.groupby('cluster').mean(),\n",
    "    train.groupby('cluster').size().rename('n_observations'),\n",
    "], axis=1)"
   ]
  },
  {
   "cell_type": "markdown",
   "metadata": {},
   "source": [
    "***\n",
    "\n",
    "**Takeaway: K @ 5**\n",
    "- Each cluster has roughly the same number of observations, suggests that data is evenly distributed   \n",
    "- People with the lowest average spending score are females, about 47 years old, that make 27K a year   \n",
    "- People with the hight spending score are females, about 32 years old, with an annual income of 86K a year   \n",
    "- Females appear to have the highest spending score, regardless of other features   \n",
    "\n",
    "***\n",
    "\n",
    "**Takeaway: K @ 4**    \n",
    "- distribution is still good   \n",
    "- Lowest Spending Score - People around 40 with incomes ~ 87K    * Different\n",
    "- Highest Spending SCore - Females around 33 with incomes ~ 86K  * Same  \n",
    "- Females appear to have the highest spending score, regardless of other features * Same\n",
    "\n",
    "***"
   ]
  },
  {
   "cell_type": "markdown",
   "metadata": {},
   "source": [
    "#### Final Visualizations:"
   ]
  },
  {
   "cell_type": "code",
   "execution_count": 33,
   "metadata": {},
   "outputs": [
    {
     "data": {
      "image/png": "[encoded data removed]",
      "text/plain": [
       "<Figure size 432x288 with 1 Axes>"
      ]
     },
     "metadata": {
      "needs_background": "light"
     },
     "output_type": "display_data"
    }
   ],
   "source": [
    "# How age affects spending score\n",
    "\n",
    "sns.scatterplot(x='age', y='spending_score',\n",
    "               data=train, hue='cluster')\n",
    "plt.title(\"Visualizing the relationship between Age and Spending Score Clustered\")\n",
    "plt.show()"
   ]
  },
  {
   "cell_type": "markdown",
   "metadata": {},
   "source": [
    "**Still a lot of overlap between clusters**"
   ]
  },
  {
   "cell_type": "markdown",
   "metadata": {},
   "source": [
    "***"
   ]
  },
  {
   "cell_type": "code",
   "execution_count": 34,
   "metadata": {},
   "outputs": [
    {
     "data": {
      "image/png": "[encoded data removed]",
      "text/plain": [
       "<Figure size 432x288 with 1 Axes>"
      ]
     },
     "metadata": {
      "needs_background": "light"
     },
     "output_type": "display_data"
    }
   ],
   "source": [
    "# How income affects spending score\n",
    "\n",
    "sns.scatterplot(x='annual_income', y='spending_score',\n",
    "               data=train, hue='cluster')\n",
    "plt.title(\"Visualizing the relationship between Annual Income and Spending Score Clustered\")\n",
    "plt.show()"
   ]
  },
  {
   "cell_type": "markdown",
   "metadata": {},
   "source": [
    "**This is the relationship that is best predicted by clustering**"
   ]
  },
  {
   "cell_type": "markdown",
   "metadata": {},
   "source": [
    "***"
   ]
  },
  {
   "cell_type": "markdown",
   "metadata": {},
   "source": [
    "## 3. How does scaling impact the results of clustering?\n",
    "\n",
    "**Compare k-means clustering results on scaled and unscaled data. You can show how the resulting clusters differ either with descriptive statistics or visually.**"
   ]
  },
  {
   "cell_type": "code",
   "execution_count": 38,
   "metadata": {},
   "outputs": [
    {
     "data": {
      "text/html": [
       "<div>\n",
       "<style scoped>\n",
       "    .dataframe tbody tr th:only-of-type {\n",
       "        vertical-align: middle;\n",
       "    }\n",
       "\n",
       "    .dataframe tbody tr th {\n",
       "        vertical-align: top;\n",
       "    }\n",
       "\n",
       "    .dataframe thead th {\n",
       "        text-align: right;\n",
       "    }\n",
       "</style>\n",
       "<table border=\"1\" class=\"dataframe\">\n",
       "  <thead>\n",
       "    <tr style=\"text-align: right;\">\n",
       "      <th></th>\n",
       "      <th>customer_id</th>\n",
       "      <th>age</th>\n",
       "      <th>annual_income</th>\n",
       "      <th>spending_score</th>\n",
       "      <th>gender_Female</th>\n",
       "      <th>gender_Male</th>\n",
       "      <th>cluster</th>\n",
       "    </tr>\n",
       "  </thead>\n",
       "  <tbody>\n",
       "    <tr>\n",
       "      <th>12</th>\n",
       "      <td>13</td>\n",
       "      <td>58</td>\n",
       "      <td>20</td>\n",
       "      <td>15</td>\n",
       "      <td>1</td>\n",
       "      <td>0</td>\n",
       "      <td>1</td>\n",
       "    </tr>\n",
       "    <tr>\n",
       "      <th>64</th>\n",
       "      <td>65</td>\n",
       "      <td>63</td>\n",
       "      <td>48</td>\n",
       "      <td>51</td>\n",
       "      <td>0</td>\n",
       "      <td>1</td>\n",
       "      <td>1</td>\n",
       "    </tr>\n",
       "    <tr>\n",
       "      <th>175</th>\n",
       "      <td>176</td>\n",
       "      <td>30</td>\n",
       "      <td>88</td>\n",
       "      <td>86</td>\n",
       "      <td>1</td>\n",
       "      <td>0</td>\n",
       "      <td>0</td>\n",
       "    </tr>\n",
       "    <tr>\n",
       "      <th>87</th>\n",
       "      <td>88</td>\n",
       "      <td>22</td>\n",
       "      <td>57</td>\n",
       "      <td>55</td>\n",
       "      <td>1</td>\n",
       "      <td>0</td>\n",
       "      <td>3</td>\n",
       "    </tr>\n",
       "    <tr>\n",
       "      <th>111</th>\n",
       "      <td>112</td>\n",
       "      <td>19</td>\n",
       "      <td>63</td>\n",
       "      <td>54</td>\n",
       "      <td>1</td>\n",
       "      <td>0</td>\n",
       "      <td>3</td>\n",
       "    </tr>\n",
       "  </tbody>\n",
       "</table>\n",
       "</div>"
      ],
      "text/plain": [
       "     customer_id  age  annual_income  spending_score  gender_Female  \\\n",
       "12            13   58             20              15              1   \n",
       "64            65   63             48              51              0   \n",
       "175          176   30             88              86              1   \n",
       "87            88   22             57              55              1   \n",
       "111          112   19             63              54              1   \n",
       "\n",
       "     gender_Male  cluster  \n",
       "12             0        1  \n",
       "64             1        1  \n",
       "175            0        0  \n",
       "87             0        3  \n",
       "111            0        3  "
      ]
     },
     "execution_count": 38,
     "metadata": {},
     "output_type": "execute_result"
    }
   ],
   "source": [
    "train.head()"
   ]
  },
  {
   "cell_type": "code",
   "execution_count": 35,
   "metadata": {},
   "outputs": [
    {
     "data": {
      "text/plain": [
       "KMeans(n_clusters=4)"
      ]
     },
     "execution_count": 35,
     "metadata": {},
     "output_type": "execute_result"
    }
   ],
   "source": [
    "# Clustering on Non-Scaled Data\n",
    "\n",
    "X = train[['age', 'annual_income', 'spending_score', 'gender_Female', 'gender_Male']]\n",
    "kmeans = KMeans(n_clusters=4)\n",
    "kmeans.fit(X)"
   ]
  },
  {
   "cell_type": "code",
   "execution_count": 36,
   "metadata": {},
   "outputs": [
    {
     "data": {
      "text/html": [
       "<div>\n",
       "<style scoped>\n",
       "    .dataframe tbody tr th:only-of-type {\n",
       "        vertical-align: middle;\n",
       "    }\n",
       "\n",
       "    .dataframe tbody tr th {\n",
       "        vertical-align: top;\n",
       "    }\n",
       "\n",
       "    .dataframe thead th {\n",
       "        text-align: right;\n",
       "    }\n",
       "</style>\n",
       "<table border=\"1\" class=\"dataframe\">\n",
       "  <thead>\n",
       "    <tr style=\"text-align: right;\">\n",
       "      <th></th>\n",
       "      <th>customer_id</th>\n",
       "      <th>age</th>\n",
       "      <th>annual_income</th>\n",
       "      <th>spending_score</th>\n",
       "      <th>gender_Female</th>\n",
       "      <th>gender_Male</th>\n",
       "      <th>cluster</th>\n",
       "    </tr>\n",
       "  </thead>\n",
       "  <tbody>\n",
       "    <tr>\n",
       "      <th>12</th>\n",
       "      <td>13</td>\n",
       "      <td>58</td>\n",
       "      <td>20</td>\n",
       "      <td>15</td>\n",
       "      <td>1</td>\n",
       "      <td>0</td>\n",
       "      <td>1</td>\n",
       "    </tr>\n",
       "    <tr>\n",
       "      <th>64</th>\n",
       "      <td>65</td>\n",
       "      <td>63</td>\n",
       "      <td>48</td>\n",
       "      <td>51</td>\n",
       "      <td>0</td>\n",
       "      <td>1</td>\n",
       "      <td>1</td>\n",
       "    </tr>\n",
       "    <tr>\n",
       "      <th>175</th>\n",
       "      <td>176</td>\n",
       "      <td>30</td>\n",
       "      <td>88</td>\n",
       "      <td>86</td>\n",
       "      <td>1</td>\n",
       "      <td>0</td>\n",
       "      <td>0</td>\n",
       "    </tr>\n",
       "    <tr>\n",
       "      <th>87</th>\n",
       "      <td>88</td>\n",
       "      <td>22</td>\n",
       "      <td>57</td>\n",
       "      <td>55</td>\n",
       "      <td>1</td>\n",
       "      <td>0</td>\n",
       "      <td>3</td>\n",
       "    </tr>\n",
       "    <tr>\n",
       "      <th>111</th>\n",
       "      <td>112</td>\n",
       "      <td>19</td>\n",
       "      <td>63</td>\n",
       "      <td>54</td>\n",
       "      <td>1</td>\n",
       "      <td>0</td>\n",
       "      <td>3</td>\n",
       "    </tr>\n",
       "    <tr>\n",
       "      <th>...</th>\n",
       "      <td>...</td>\n",
       "      <td>...</td>\n",
       "      <td>...</td>\n",
       "      <td>...</td>\n",
       "      <td>...</td>\n",
       "      <td>...</td>\n",
       "      <td>...</td>\n",
       "    </tr>\n",
       "    <tr>\n",
       "      <th>139</th>\n",
       "      <td>140</td>\n",
       "      <td>35</td>\n",
       "      <td>74</td>\n",
       "      <td>72</td>\n",
       "      <td>1</td>\n",
       "      <td>0</td>\n",
       "      <td>0</td>\n",
       "    </tr>\n",
       "    <tr>\n",
       "      <th>167</th>\n",
       "      <td>168</td>\n",
       "      <td>33</td>\n",
       "      <td>86</td>\n",
       "      <td>95</td>\n",
       "      <td>1</td>\n",
       "      <td>0</td>\n",
       "      <td>0</td>\n",
       "    </tr>\n",
       "    <tr>\n",
       "      <th>0</th>\n",
       "      <td>1</td>\n",
       "      <td>19</td>\n",
       "      <td>15</td>\n",
       "      <td>39</td>\n",
       "      <td>0</td>\n",
       "      <td>1</td>\n",
       "      <td>3</td>\n",
       "    </tr>\n",
       "    <tr>\n",
       "      <th>70</th>\n",
       "      <td>71</td>\n",
       "      <td>70</td>\n",
       "      <td>49</td>\n",
       "      <td>55</td>\n",
       "      <td>0</td>\n",
       "      <td>1</td>\n",
       "      <td>1</td>\n",
       "    </tr>\n",
       "    <tr>\n",
       "      <th>48</th>\n",
       "      <td>49</td>\n",
       "      <td>29</td>\n",
       "      <td>40</td>\n",
       "      <td>42</td>\n",
       "      <td>1</td>\n",
       "      <td>0</td>\n",
       "      <td>3</td>\n",
       "    </tr>\n",
       "  </tbody>\n",
       "</table>\n",
       "<p>162 rows × 7 columns</p>\n",
       "</div>"
      ],
      "text/plain": [
       "     customer_id  age  annual_income  spending_score  gender_Female  \\\n",
       "12            13   58             20              15              1   \n",
       "64            65   63             48              51              0   \n",
       "175          176   30             88              86              1   \n",
       "87            88   22             57              55              1   \n",
       "111          112   19             63              54              1   \n",
       "..           ...  ...            ...             ...            ...   \n",
       "139          140   35             74              72              1   \n",
       "167          168   33             86              95              1   \n",
       "0              1   19             15              39              0   \n",
       "70            71   70             49              55              0   \n",
       "48            49   29             40              42              1   \n",
       "\n",
       "     gender_Male  cluster  \n",
       "12             0        1  \n",
       "64             1        1  \n",
       "175            0        0  \n",
       "87             0        3  \n",
       "111            0        3  \n",
       "..           ...      ...  \n",
       "139            0        0  \n",
       "167            0        0  \n",
       "0              1        3  \n",
       "70             1        1  \n",
       "48             0        3  \n",
       "\n",
       "[162 rows x 7 columns]"
      ]
     },
     "execution_count": 36,
     "metadata": {},
     "output_type": "execute_result"
    }
   ],
   "source": [
    "# Going to take the labels I have created and added them back on the data table\n",
    "train['cluster'] = kmeans.labels_\n",
    "train"
   ]
  },
  {
   "cell_type": "code",
   "execution_count": 37,
   "metadata": {},
   "outputs": [
    {
     "data": {
      "text/html": [
       "<div>\n",
       "<style scoped>\n",
       "    .dataframe tbody tr th:only-of-type {\n",
       "        vertical-align: middle;\n",
       "    }\n",
       "\n",
       "    .dataframe tbody tr th {\n",
       "        vertical-align: top;\n",
       "    }\n",
       "\n",
       "    .dataframe thead th {\n",
       "        text-align: right;\n",
       "    }\n",
       "</style>\n",
       "<table border=\"1\" class=\"dataframe\">\n",
       "  <thead>\n",
       "    <tr style=\"text-align: right;\">\n",
       "      <th></th>\n",
       "      <th>customer_id</th>\n",
       "      <th>age</th>\n",
       "      <th>annual_income</th>\n",
       "      <th>spending_score</th>\n",
       "      <th>gender_Female</th>\n",
       "      <th>gender_Male</th>\n",
       "      <th>n_observations</th>\n",
       "    </tr>\n",
       "    <tr>\n",
       "      <th>cluster</th>\n",
       "      <th></th>\n",
       "      <th></th>\n",
       "      <th></th>\n",
       "      <th></th>\n",
       "      <th></th>\n",
       "      <th></th>\n",
       "      <th></th>\n",
       "    </tr>\n",
       "  </thead>\n",
       "  <tbody>\n",
       "    <tr>\n",
       "      <th>0</th>\n",
       "      <td>160.03</td>\n",
       "      <td>32.76</td>\n",
       "      <td>85.91</td>\n",
       "      <td>80.64</td>\n",
       "      <td>0.61</td>\n",
       "      <td>0.39</td>\n",
       "      <td>33</td>\n",
       "    </tr>\n",
       "    <tr>\n",
       "      <th>1</th>\n",
       "      <td>62.57</td>\n",
       "      <td>52.48</td>\n",
       "      <td>44.74</td>\n",
       "      <td>38.43</td>\n",
       "      <td>0.63</td>\n",
       "      <td>0.37</td>\n",
       "      <td>54</td>\n",
       "    </tr>\n",
       "    <tr>\n",
       "      <th>2</th>\n",
       "      <td>161.81</td>\n",
       "      <td>40.50</td>\n",
       "      <td>87.66</td>\n",
       "      <td>18.88</td>\n",
       "      <td>0.50</td>\n",
       "      <td>0.50</td>\n",
       "      <td>32</td>\n",
       "    </tr>\n",
       "    <tr>\n",
       "      <th>3</th>\n",
       "      <td>55.42</td>\n",
       "      <td>24.81</td>\n",
       "      <td>40.95</td>\n",
       "      <td>61.84</td>\n",
       "      <td>0.56</td>\n",
       "      <td>0.44</td>\n",
       "      <td>43</td>\n",
       "    </tr>\n",
       "  </tbody>\n",
       "</table>\n",
       "</div>"
      ],
      "text/plain": [
       "                 customer_id                  age        annual_income  \\\n",
       "cluster                                                                  \n",
       "0                     160.03                32.76                85.91   \n",
       "1                      62.57                52.48                44.74   \n",
       "2                     161.81                40.50                87.66   \n",
       "3                      55.42                24.81                40.95   \n",
       "\n",
       "              spending_score        gender_Female          gender_Male  \\\n",
       "cluster                                                                  \n",
       "0                      80.64                 0.61                 0.39   \n",
       "1                      38.43                 0.63                 0.37   \n",
       "2                      18.88                 0.50                 0.50   \n",
       "3                      61.84                 0.56                 0.44   \n",
       "\n",
       "         n_observations  \n",
       "cluster                  \n",
       "0                    33  \n",
       "1                    54  \n",
       "2                    32  \n",
       "3                    43  "
      ]
     },
     "execution_count": 37,
     "metadata": {},
     "output_type": "execute_result"
    }
   ],
   "source": [
    "# Going to take the unscaled number of observations per cluster and add them to the data table\n",
    "pd.concat([\n",
    "    train.groupby('cluster').mean(),\n",
    "    train.groupby('cluster').size().rename('n_observations'),\n",
    "], axis=1)"
   ]
  },
  {
   "cell_type": "markdown",
   "metadata": {},
   "source": [
    "***\n",
    "\n",
    "**Takeaway: K @ 5**\n",
    "- Each cluster has roughly the same number of observations, suggests that data is evenly distributed   \n",
    "- People with the lowest average spending score are females, about 47 years old, that make 27K a year   \n",
    "- People with the hight spending score are females, about 32 years old, with an annual income of 86K a year   \n",
    "- Females appear to have the highest spending score, regardless of other features   \n",
    "\n",
    "***\n",
    "\n",
    "**Takeaway: K @ 4**    \n",
    "- distribution is still good   \n",
    "- Lowest Spending Score - People around 40 with incomes ~ 87K    **Different**\n",
    "- Highest Spending SCore - Females around 33 with incomes ~ 86K  **Same**  \n",
    "- Females appear to have the highest spending score, regardless of other features **Same**\n",
    "\n",
    "***\n",
    "\n",
    "**Takeaway: Unscaled**\n",
    "- distribution is still good\n",
    "- Lowest Spending Score - People around 40 with incomes ~ 87K  **SAME**\n",
    "- Highest Spending Score - Females around 33 with incomes ~ 86K  **Same** \n",
    "- Females appear to have the highest spending score, regardless of other features **Same**\n",
    "**Unscaled data did not seem to have any affect on outcome**"
   ]
  },
  {
   "cell_type": "code",
   "execution_count": null,
   "metadata": {},
   "outputs": [],
   "source": []
  }
 ],
 "metadata": {
  "kernelspec": {
   "display_name": "Python 3",
   "language": "python",
   "name": "python3"
  },
  "language_info": {
   "codemirror_mode": {
    "name": "ipython",
    "version": 3
   },
   "file_extension": ".py",
   "mimetype": "text/x-python",
   "name": "python",
   "nbconvert_exporter": "python",
   "pygments_lexer": "ipython3",
   "version": "3.8.3"
  }
 },
 "nbformat": 4,
 "nbformat_minor": 4
}
