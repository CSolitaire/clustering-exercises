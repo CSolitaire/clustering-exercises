{
 "cells": [
  {
   "cell_type": "markdown",
   "metadata": {},
   "source": [
    "### Introduction to Machine Learning: Clustering\n",
    "#### Corey Solitaire\n",
    "#### 10/09/2020"
   ]
  },
  {
   "cell_type": "code",
   "execution_count": 1,
   "metadata": {},
   "outputs": [],
   "source": [
    "import acquire\n",
    "import prepare\n",
    "# import src.explore\n",
    "# import src.model\n",
    "import pandas as pd\n",
    "import numpy as np\n",
    "import seaborn as sns\n",
    "import matplotlib.pyplot as plt\n",
    "from math import sqrt\n",
    "from scipy import stats\n",
    "\n",
    "import warnings\n",
    "warnings.filterwarnings(\"ignore\")\n",
    "\n",
    "from statsmodels.formula.api import ols\n",
    "from sklearn.metrics import mean_squared_error, r2_score, explained_variance_score\n",
    "from sklearn.feature_selection import f_regression, SelectKBest, RFE \n",
    "from sklearn.linear_model import LinearRegression, LassoLars, TweedieRegressor\n",
    "from sklearn.preprocessing import PolynomialFeatures"
   ]
  },
  {
   "cell_type": "markdown",
   "metadata": {},
   "source": [
    "### Acquire & Summarize"
   ]
  },
  {
   "cell_type": "markdown",
   "metadata": {},
   "source": [
    "**1. Acquire data from mySQL using the python module to connect and query. You will want to end with a single dataframe. Make sure to include: the logerror, all fields related to the properties that are available. You will end up using all the tables in the database.**\n",
    "\n",
    "    - Be sure to do the correct join (inner, outer, etc.). We do not want to eliminate properties purely because they may have a null value for airconditioningtypeid.\n",
    "    - Only include properties with a transaction in 2017, and include only the last transaction for each properity (so no duplicate property ID's), along with zestimate error and date of transaction.\n",
    "    - Only include properties that include a latitude and longitude value."
   ]
  },
  {
   "cell_type": "code",
   "execution_count": 2,
   "metadata": {},
   "outputs": [],
   "source": [
    "# Acquire df\n",
    "df = acquire.get_zillow_data(cached=True)"
   ]
  },
  {
   "cell_type": "code",
   "execution_count": 3,
   "metadata": {},
   "outputs": [
    {
     "data": {
      "text/plain": [
       "(77381, 70)"
      ]
     },
     "execution_count": 3,
     "metadata": {},
     "output_type": "execute_result"
    }
   ],
   "source": [
    "df.shape"
   ]
  },
  {
   "cell_type": "code",
   "execution_count": 4,
   "metadata": {},
   "outputs": [],
   "source": [
    "# Rename duplicate column id/id with id_delete/id\n",
    "df.columns = ['parcelid', 'typeconstructiontypeid', 'storytypeid',\n",
    "       'propertylandusetypeid', 'heatingorsystemtypeid', 'buildingclasstypeid',\n",
    "       'architecturalstyletypeid', 'airconditioningtypeid', 'id_delete',\n",
    "       'basementsqft', 'bathroomcnt', 'bedroomcnt', 'buildingqualitytypeid',\n",
    "       'calculatedbathnbr', 'decktypeid', 'finishedfloor1squarefeet',\n",
    "       'calculatedfinishedsquarefeet', 'finishedsquarefeet12',\n",
    "       'finishedsquarefeet13', 'finishedsquarefeet15', 'finishedsquarefeet50',\n",
    "       'finishedsquarefeet6', 'fips', 'fireplacecnt', 'fullbathcnt',\n",
    "       'garagecarcnt', 'garagetotalsqft', 'hashottuborspa', 'latitude',\n",
    "       'longitude', 'lotsizesquarefeet', 'poolcnt', 'poolsizesum',\n",
    "       'pooltypeid10', 'pooltypeid2', 'pooltypeid7',\n",
    "       'propertycountylandusecode', 'propertyzoningdesc',\n",
    "       'rawcensustractandblock', 'regionidcity', 'regionidcounty',\n",
    "       'regionidneighborhood', 'regionidzip', 'roomcnt', 'threequarterbathnbr',\n",
    "       'unitcnt', 'yardbuildingsqft17', 'yardbuildingsqft26', 'yearbuilt',\n",
    "       'numberofstories', 'fireplaceflag', 'structuretaxvaluedollarcnt',\n",
    "       'taxvaluedollarcnt', 'assessmentyear', 'landtaxvaluedollarcnt',\n",
    "       'taxamount', 'taxdelinquencyflag', 'taxdelinquencyyear',\n",
    "       'censustractandblock', 'id', 'logerror', 'pid', 'tdate',\n",
    "       'airconditioningdesc', 'architecturalstyledesc', 'buildingclassdesc',\n",
    "       'heatingorsystemdesc', 'propertylandusedesc', 'storydesc',\n",
    "       'typeconstructiondesc']"
   ]
  },
  {
   "cell_type": "code",
   "execution_count": 5,
   "metadata": {},
   "outputs": [
    {
     "data": {
      "text/html": [
       "<div>\n",
       "<style scoped>\n",
       "    .dataframe tbody tr th:only-of-type {\n",
       "        vertical-align: middle;\n",
       "    }\n",
       "\n",
       "    .dataframe tbody tr th {\n",
       "        vertical-align: top;\n",
       "    }\n",
       "\n",
       "    .dataframe thead th {\n",
       "        text-align: right;\n",
       "    }\n",
       "</style>\n",
       "<table border=\"1\" class=\"dataframe\">\n",
       "  <thead>\n",
       "    <tr style=\"text-align: right;\">\n",
       "      <th></th>\n",
       "      <th>parcelid</th>\n",
       "      <th>typeconstructiontypeid</th>\n",
       "      <th>storytypeid</th>\n",
       "      <th>propertylandusetypeid</th>\n",
       "      <th>heatingorsystemtypeid</th>\n",
       "      <th>buildingclasstypeid</th>\n",
       "      <th>architecturalstyletypeid</th>\n",
       "      <th>airconditioningtypeid</th>\n",
       "      <th>basementsqft</th>\n",
       "      <th>bathroomcnt</th>\n",
       "      <th>...</th>\n",
       "      <th>id</th>\n",
       "      <th>logerror</th>\n",
       "      <th>tdate</th>\n",
       "      <th>airconditioningdesc</th>\n",
       "      <th>architecturalstyledesc</th>\n",
       "      <th>buildingclassdesc</th>\n",
       "      <th>heatingorsystemdesc</th>\n",
       "      <th>propertylandusedesc</th>\n",
       "      <th>storydesc</th>\n",
       "      <th>typeconstructiondesc</th>\n",
       "    </tr>\n",
       "  </thead>\n",
       "  <tbody>\n",
       "    <tr>\n",
       "      <th>0</th>\n",
       "      <td>14297519</td>\n",
       "      <td>NaN</td>\n",
       "      <td>NaN</td>\n",
       "      <td>261.0</td>\n",
       "      <td>NaN</td>\n",
       "      <td>NaN</td>\n",
       "      <td>NaN</td>\n",
       "      <td>NaN</td>\n",
       "      <td>NaN</td>\n",
       "      <td>3.5</td>\n",
       "      <td>...</td>\n",
       "      <td>0</td>\n",
       "      <td>0.025595</td>\n",
       "      <td>2017-01-01</td>\n",
       "      <td>None</td>\n",
       "      <td>None</td>\n",
       "      <td>None</td>\n",
       "      <td>None</td>\n",
       "      <td>Single Family Residential</td>\n",
       "      <td>None</td>\n",
       "      <td>None</td>\n",
       "    </tr>\n",
       "    <tr>\n",
       "      <th>1</th>\n",
       "      <td>17052889</td>\n",
       "      <td>NaN</td>\n",
       "      <td>NaN</td>\n",
       "      <td>261.0</td>\n",
       "      <td>NaN</td>\n",
       "      <td>NaN</td>\n",
       "      <td>NaN</td>\n",
       "      <td>NaN</td>\n",
       "      <td>NaN</td>\n",
       "      <td>1.0</td>\n",
       "      <td>...</td>\n",
       "      <td>1</td>\n",
       "      <td>0.055619</td>\n",
       "      <td>2017-01-01</td>\n",
       "      <td>None</td>\n",
       "      <td>None</td>\n",
       "      <td>None</td>\n",
       "      <td>None</td>\n",
       "      <td>Single Family Residential</td>\n",
       "      <td>None</td>\n",
       "      <td>None</td>\n",
       "    </tr>\n",
       "    <tr>\n",
       "      <th>2</th>\n",
       "      <td>14186244</td>\n",
       "      <td>NaN</td>\n",
       "      <td>NaN</td>\n",
       "      <td>261.0</td>\n",
       "      <td>NaN</td>\n",
       "      <td>NaN</td>\n",
       "      <td>NaN</td>\n",
       "      <td>NaN</td>\n",
       "      <td>NaN</td>\n",
       "      <td>2.0</td>\n",
       "      <td>...</td>\n",
       "      <td>2</td>\n",
       "      <td>0.005383</td>\n",
       "      <td>2017-01-01</td>\n",
       "      <td>None</td>\n",
       "      <td>None</td>\n",
       "      <td>None</td>\n",
       "      <td>None</td>\n",
       "      <td>Single Family Residential</td>\n",
       "      <td>None</td>\n",
       "      <td>None</td>\n",
       "    </tr>\n",
       "    <tr>\n",
       "      <th>3</th>\n",
       "      <td>12177905</td>\n",
       "      <td>NaN</td>\n",
       "      <td>NaN</td>\n",
       "      <td>261.0</td>\n",
       "      <td>2.0</td>\n",
       "      <td>NaN</td>\n",
       "      <td>NaN</td>\n",
       "      <td>NaN</td>\n",
       "      <td>NaN</td>\n",
       "      <td>3.0</td>\n",
       "      <td>...</td>\n",
       "      <td>3</td>\n",
       "      <td>-0.103410</td>\n",
       "      <td>2017-01-01</td>\n",
       "      <td>None</td>\n",
       "      <td>None</td>\n",
       "      <td>None</td>\n",
       "      <td>Central</td>\n",
       "      <td>Single Family Residential</td>\n",
       "      <td>None</td>\n",
       "      <td>None</td>\n",
       "    </tr>\n",
       "    <tr>\n",
       "      <th>4</th>\n",
       "      <td>10887214</td>\n",
       "      <td>NaN</td>\n",
       "      <td>NaN</td>\n",
       "      <td>266.0</td>\n",
       "      <td>2.0</td>\n",
       "      <td>NaN</td>\n",
       "      <td>NaN</td>\n",
       "      <td>1.0</td>\n",
       "      <td>NaN</td>\n",
       "      <td>3.0</td>\n",
       "      <td>...</td>\n",
       "      <td>4</td>\n",
       "      <td>0.006940</td>\n",
       "      <td>2017-01-01</td>\n",
       "      <td>Central</td>\n",
       "      <td>None</td>\n",
       "      <td>None</td>\n",
       "      <td>Central</td>\n",
       "      <td>Condominium</td>\n",
       "      <td>None</td>\n",
       "      <td>None</td>\n",
       "    </tr>\n",
       "  </tbody>\n",
       "</table>\n",
       "<p>5 rows × 68 columns</p>\n",
       "</div>"
      ],
      "text/plain": [
       "   parcelid  typeconstructiontypeid  storytypeid  propertylandusetypeid  \\\n",
       "0  14297519                     NaN          NaN                  261.0   \n",
       "1  17052889                     NaN          NaN                  261.0   \n",
       "2  14186244                     NaN          NaN                  261.0   \n",
       "3  12177905                     NaN          NaN                  261.0   \n",
       "4  10887214                     NaN          NaN                  266.0   \n",
       "\n",
       "   heatingorsystemtypeid  buildingclasstypeid  architecturalstyletypeid  \\\n",
       "0                    NaN                  NaN                       NaN   \n",
       "1                    NaN                  NaN                       NaN   \n",
       "2                    NaN                  NaN                       NaN   \n",
       "3                    2.0                  NaN                       NaN   \n",
       "4                    2.0                  NaN                       NaN   \n",
       "\n",
       "   airconditioningtypeid  basementsqft  bathroomcnt  ...  id  logerror  \\\n",
       "0                    NaN           NaN          3.5  ...   0  0.025595   \n",
       "1                    NaN           NaN          1.0  ...   1  0.055619   \n",
       "2                    NaN           NaN          2.0  ...   2  0.005383   \n",
       "3                    NaN           NaN          3.0  ...   3 -0.103410   \n",
       "4                    1.0           NaN          3.0  ...   4  0.006940   \n",
       "\n",
       "        tdate  airconditioningdesc  architecturalstyledesc  buildingclassdesc  \\\n",
       "0  2017-01-01                 None                    None               None   \n",
       "1  2017-01-01                 None                    None               None   \n",
       "2  2017-01-01                 None                    None               None   \n",
       "3  2017-01-01                 None                    None               None   \n",
       "4  2017-01-01              Central                    None               None   \n",
       "\n",
       "   heatingorsystemdesc        propertylandusedesc  storydesc  \\\n",
       "0                 None  Single Family Residential       None   \n",
       "1                 None  Single Family Residential       None   \n",
       "2                 None  Single Family Residential       None   \n",
       "3              Central  Single Family Residential       None   \n",
       "4              Central                Condominium       None   \n",
       "\n",
       "   typeconstructiondesc  \n",
       "0                  None  \n",
       "1                  None  \n",
       "2                  None  \n",
       "3                  None  \n",
       "4                  None  \n",
       "\n",
       "[5 rows x 68 columns]"
      ]
     },
     "execution_count": 5,
     "metadata": {},
     "output_type": "execute_result"
    }
   ],
   "source": [
    "# Delete duplicate columns id_delete and pid (dupilcate of parcelid)\n",
    "df.drop(columns = ['id_delete','pid'], inplace = True)\n",
    "df.shape()"
   ]
  },
  {
   "cell_type": "markdown",
   "metadata": {},
   "source": [
    "***\n",
    "\n",
    "**2. Summarize your data (summary stats, info, dtypes, shape, distributions, value_counts, etc.)**\n",
    "\n",
    "***"
   ]
  },
  {
   "cell_type": "code",
   "execution_count": 12,
   "metadata": {},
   "outputs": [],
   "source": [
    "def df_summary(df):\n",
    "    print('The shape of the df:') \n",
    "    print(df.shape)  # df shape (row/column)\n",
    "    print('\\n')\n",
    "    print('Columns, Non-Null Count, Data Type:')\n",
    "    print(df.info())      # Column, Non Null Count, Data Type\n",
    "    print('\\n')\n",
    "    print('Summary statistics for the df:') \n",
    "    print(df.describe())             # Summary Statistics on Numeric Data Types\n",
    "    print('\\n')\n",
    "    print('Number of NaN values per column:') \n",
    "    print(df.isna().sum())           # NaN by column\n",
    "    print('\\n')\n",
    "    print('Number of NaN values per row:')  \n",
    "    print(df.isnull().sum(axis=1))   # NaN by row\n",
    "    print('\\n')\n",
    "    print('Value Counts per Column:')\n",
    "    for col in df.columns:\n",
    "        print('-' * 40 + col + '-' * 40 , end=' - ')\n",
    "        display(df[col].value_counts().head(10))\n",
    "        #display(df_resp[col].value_counts())  # Displays all Values, not just First 10"
   ]
  },
  {
   "cell_type": "code",
   "execution_count": 13,
   "metadata": {},
   "outputs": [
    {
     "name": "stdout",
     "output_type": "stream",
     "text": [
      "The shape of the df:\n",
      "(77381, 68)\n",
      "\n",
      "\n",
      "Columns, Non-Null Count, Data Type:\n",
      "<class 'pandas.core.frame.DataFrame'>\n",
      "RangeIndex: 77381 entries, 0 to 77380\n",
      "Data columns (total 68 columns):\n",
      " #   Column                        Non-Null Count  Dtype  \n",
      "---  ------                        --------------  -----  \n",
      " 0   parcelid                      77381 non-null  int64  \n",
      " 1   typeconstructiontypeid        222 non-null    float64\n",
      " 2   storytypeid                   50 non-null     float64\n",
      " 3   propertylandusetypeid         77381 non-null  float64\n",
      " 4   heatingorsystemtypeid         49440 non-null  float64\n",
      " 5   buildingclasstypeid           15 non-null     float64\n",
      " 6   architecturalstyletypeid      206 non-null    float64\n",
      " 7   airconditioningtypeid         24953 non-null  float64\n",
      " 8   basementsqft                  50 non-null     float64\n",
      " 9   bathroomcnt                   77381 non-null  float64\n",
      " 10  bedroomcnt                    77381 non-null  float64\n",
      " 11  buildingqualitytypeid         49672 non-null  float64\n",
      " 12  calculatedbathnbr             76772 non-null  float64\n",
      " 13  decktypeid                    614 non-null    float64\n",
      " 14  finishedfloor1squarefeet      6023 non-null   float64\n",
      " 15  calculatedfinishedsquarefeet  77185 non-null  float64\n",
      " 16  finishedsquarefeet12          73749 non-null  float64\n",
      " 17  finishedsquarefeet13          41 non-null     float64\n",
      " 18  finishedsquarefeet15          3009 non-null   float64\n",
      " 19  finishedsquarefeet50          6023 non-null   float64\n",
      " 20  finishedsquarefeet6           386 non-null    float64\n",
      " 21  fips                          77381 non-null  float64\n",
      " 22  fireplacecnt                  8276 non-null   float64\n",
      " 23  fullbathcnt                   76772 non-null  float64\n",
      " 24  garagecarcnt                  25474 non-null  float64\n",
      " 25  garagetotalsqft               25474 non-null  float64\n",
      " 26  hashottuborspa                1538 non-null   float64\n",
      " 27  latitude                      77381 non-null  float64\n",
      " 28  longitude                     77381 non-null  float64\n",
      " 29  lotsizesquarefeet             69142 non-null  float64\n",
      " 30  poolcnt                       16137 non-null  float64\n",
      " 31  poolsizesum                   867 non-null    float64\n",
      " 32  pooltypeid10                  464 non-null    float64\n",
      " 33  pooltypeid2                   1074 non-null   float64\n",
      " 34  pooltypeid7                   15042 non-null  float64\n",
      " 35  propertycountylandusecode     77381 non-null  object \n",
      " 36  propertyzoningdesc            50331 non-null  object \n",
      " 37  rawcensustractandblock        77381 non-null  float64\n",
      " 38  regionidcity                  75910 non-null  float64\n",
      " 39  regionidcounty                77381 non-null  float64\n",
      " 40  regionidneighborhood          30890 non-null  float64\n",
      " 41  regionidzip                   77331 non-null  float64\n",
      " 42  roomcnt                       77381 non-null  float64\n",
      " 43  threequarterbathnbr           10096 non-null  float64\n",
      " 44  unitcnt                       50563 non-null  float64\n",
      " 45  yardbuildingsqft17            2388 non-null   float64\n",
      " 46  yardbuildingsqft26            70 non-null     float64\n",
      " 47  yearbuilt                     77118 non-null  float64\n",
      " 48  numberofstories               17560 non-null  float64\n",
      " 49  fireplaceflag                 172 non-null    float64\n",
      " 50  structuretaxvaluedollarcnt    77269 non-null  float64\n",
      " 51  taxvaluedollarcnt             77380 non-null  float64\n",
      " 52  assessmentyear                77381 non-null  float64\n",
      " 53  landtaxvaluedollarcnt         77379 non-null  float64\n",
      " 54  taxamount                     77376 non-null  float64\n",
      " 55  taxdelinquencyflag            2886 non-null   object \n",
      " 56  taxdelinquencyyear            2886 non-null   float64\n",
      " 57  censustractandblock           77137 non-null  float64\n",
      " 58  id                            77381 non-null  int64  \n",
      " 59  logerror                      77381 non-null  float64\n",
      " 60  tdate                         77381 non-null  object \n",
      " 61  airconditioningdesc           24953 non-null  object \n",
      " 62  architecturalstyledesc        206 non-null    object \n",
      " 63  buildingclassdesc             15 non-null     object \n",
      " 64  heatingorsystemdesc           49440 non-null  object \n",
      " 65  propertylandusedesc           77381 non-null  object \n",
      " 66  storydesc                     50 non-null     object \n",
      " 67  typeconstructiondesc          222 non-null    object \n",
      "dtypes: float64(55), int64(2), object(11)\n",
      "memory usage: 40.1+ MB\n",
      "None\n",
      "\n",
      "\n",
      "Summary statistics for the df:\n",
      "           parcelid  typeconstructiontypeid  storytypeid  \\\n",
      "count  7.738100e+04              222.000000         50.0   \n",
      "mean   1.300715e+07                6.040541          7.0   \n",
      "std    3.481346e+06                0.557285          0.0   \n",
      "min    1.071186e+07                4.000000          7.0   \n",
      "25%    1.153830e+07                6.000000          7.0   \n",
      "50%    1.253157e+07                6.000000          7.0   \n",
      "75%    1.421183e+07                6.000000          7.0   \n",
      "max    1.676893e+08               13.000000          7.0   \n",
      "\n",
      "       propertylandusetypeid  heatingorsystemtypeid  buildingclasstypeid  \\\n",
      "count           77381.000000           49440.000000            15.000000   \n",
      "mean              261.826340               3.920510             3.933333   \n",
      "std                 5.141199               3.592779             0.258199   \n",
      "min                31.000000               1.000000             3.000000   \n",
      "25%               261.000000               2.000000             4.000000   \n",
      "50%               261.000000               2.000000             4.000000   \n",
      "75%               266.000000               7.000000             4.000000   \n",
      "max               275.000000              24.000000             4.000000   \n",
      "\n",
      "       architecturalstyletypeid  airconditioningtypeid  basementsqft  \\\n",
      "count                206.000000           24953.000000     50.000000   \n",
      "mean                   7.388350               1.813289    679.720000   \n",
      "std                    2.734542               2.967894    689.703546   \n",
      "min                    2.000000               1.000000     38.000000   \n",
      "25%                    7.000000               1.000000    273.000000   \n",
      "50%                    7.000000               1.000000    515.000000   \n",
      "75%                    7.000000               1.000000    796.500000   \n",
      "max                   21.000000              13.000000   3560.000000   \n",
      "\n",
      "        bathroomcnt  ...  fireplaceflag  structuretaxvaluedollarcnt  \\\n",
      "count  77381.000000  ...          172.0                7.726900e+04   \n",
      "mean       2.299130  ...            1.0                1.893145e+05   \n",
      "std        0.996651  ...            0.0                2.300874e+05   \n",
      "min        0.000000  ...            1.0                4.400000e+01   \n",
      "25%        2.000000  ...            1.0                8.426500e+04   \n",
      "50%        2.000000  ...            1.0                1.364990e+05   \n",
      "75%        3.000000  ...            1.0                2.187870e+05   \n",
      "max       18.000000  ...            1.0                1.142179e+07   \n",
      "\n",
      "       taxvaluedollarcnt  assessmentyear  landtaxvaluedollarcnt  \\\n",
      "count       7.738000e+04         77381.0           7.737900e+04   \n",
      "mean        4.901345e+05          2016.0           3.010954e+05   \n",
      "std         6.534440e+05             0.0           4.925960e+05   \n",
      "min         1.000000e+03          2016.0           1.610000e+02   \n",
      "25%         2.070000e+05          2016.0           8.550400e+04   \n",
      "50%         3.589755e+05          2016.0           2.033720e+05   \n",
      "75%         5.690015e+05          2016.0           3.667965e+05   \n",
      "max         4.906124e+07          2016.0           4.895220e+07   \n",
      "\n",
      "           taxamount  taxdelinquencyyear  censustractandblock            id  \\\n",
      "count   77376.000000         2886.000000         7.713700e+04  77381.000000   \n",
      "mean     5995.532346           14.087318         6.049673e+13  38848.692754   \n",
      "std      7622.844153            2.185663         1.535242e+12  22402.429065   \n",
      "min        19.920000            3.000000         6.037101e+13      0.000000   \n",
      "25%      2715.632500           14.000000         6.037311e+13  19461.000000   \n",
      "50%      4450.695000           15.000000         6.037603e+13  38870.000000   \n",
      "75%      6927.790000           15.000000         6.059042e+13  58253.000000   \n",
      "max    586639.300000           99.000000         4.830301e+14  77613.000000   \n",
      "\n",
      "           logerror  \n",
      "count  77381.000000  \n",
      "mean       0.016625  \n",
      "std        0.170191  \n",
      "min       -4.655420  \n",
      "25%       -0.024377  \n",
      "50%        0.006627  \n",
      "75%        0.039203  \n",
      "max        5.262999  \n",
      "\n",
      "[8 rows x 57 columns]\n",
      "\n",
      "\n",
      "Number of NaN values per column:\n",
      "parcelid                      0\n",
      "typeconstructiontypeid    77159\n",
      "storytypeid               77331\n",
      "propertylandusetypeid         0\n",
      "heatingorsystemtypeid     27941\n",
      "                          ...  \n",
      "buildingclassdesc         77366\n",
      "heatingorsystemdesc       27941\n",
      "propertylandusedesc           0\n",
      "storydesc                 77331\n",
      "typeconstructiondesc      77159\n",
      "Length: 68, dtype: int64\n",
      "\n",
      "\n",
      "Number of NaN values per row:\n",
      "0        36\n",
      "1        33\n",
      "2        34\n",
      "3        32\n",
      "4        29\n",
      "         ..\n",
      "77376    33\n",
      "77377    32\n",
      "77378    32\n",
      "77379    34\n",
      "77380    34\n",
      "Length: 77381, dtype: int64\n",
      "\n",
      "\n",
      "Value Counts per Column:\n",
      "----------------------------------------parcelid---------------------------------------- - "
     ]
    },
    {
     "data": {
      "text/plain": [
       "12086286    1\n",
       "13842812    1\n",
       "17089101    1\n",
       "14604878    1\n",
       "11149905    1\n",
       "12104347    1\n",
       "11077074    1\n",
       "17173076    1\n",
       "12714581    1\n",
       "12458582    1\n",
       "Name: parcelid, dtype: int64"
      ]
     },
     "metadata": {},
     "output_type": "display_data"
    },
    {
     "name": "stdout",
     "output_type": "stream",
     "text": [
      "----------------------------------------typeconstructiontypeid---------------------------------------- - "
     ]
    },
    {
     "data": {
      "text/plain": [
       "6.0     219\n",
       "4.0       1\n",
       "13.0      1\n",
       "10.0      1\n",
       "Name: typeconstructiontypeid, dtype: int64"
      ]
     },
     "metadata": {},
     "output_type": "display_data"
    },
    {
     "name": "stdout",
     "output_type": "stream",
     "text": [
      "----------------------------------------storytypeid---------------------------------------- - "
     ]
    },
    {
     "data": {
      "text/plain": [
       "7.0    50\n",
       "Name: storytypeid, dtype: int64"
      ]
     },
     "metadata": {},
     "output_type": "display_data"
    },
    {
     "name": "stdout",
     "output_type": "stream",
     "text": [
      "----------------------------------------propertylandusetypeid---------------------------------------- - "
     ]
    },
    {
     "data": {
      "text/plain": [
       "261.0    52320\n",
       "266.0    19294\n",
       "246.0     2009\n",
       "269.0     1944\n",
       "248.0      727\n",
       "247.0      535\n",
       "265.0      333\n",
       "263.0       74\n",
       "275.0       58\n",
       "260.0       37\n",
       "Name: propertylandusetypeid, dtype: int64"
      ]
     },
     "metadata": {},
     "output_type": "display_data"
    },
    {
     "name": "stdout",
     "output_type": "stream",
     "text": [
      "----------------------------------------heatingorsystemtypeid---------------------------------------- - "
     ]
    },
    {
     "data": {
      "text/plain": [
       "2.0     33550\n",
       "7.0     14065\n",
       "24.0      846\n",
       "6.0       776\n",
       "20.0      104\n",
       "13.0       59\n",
       "18.0       23\n",
       "1.0        13\n",
       "10.0        3\n",
       "11.0        1\n",
       "Name: heatingorsystemtypeid, dtype: int64"
      ]
     },
     "metadata": {},
     "output_type": "display_data"
    },
    {
     "name": "stdout",
     "output_type": "stream",
     "text": [
      "----------------------------------------buildingclasstypeid---------------------------------------- - "
     ]
    },
    {
     "data": {
      "text/plain": [
       "4.0    14\n",
       "3.0     1\n",
       "Name: buildingclasstypeid, dtype: int64"
      ]
     },
     "metadata": {},
     "output_type": "display_data"
    },
    {
     "name": "stdout",
     "output_type": "stream",
     "text": [
      "----------------------------------------architecturalstyletypeid---------------------------------------- - "
     ]
    },
    {
     "data": {
      "text/plain": [
       "7.0     172\n",
       "8.0      19\n",
       "21.0      7\n",
       "2.0       5\n",
       "3.0       3\n",
       "Name: architecturalstyletypeid, dtype: int64"
      ]
     },
     "metadata": {},
     "output_type": "display_data"
    },
    {
     "name": "stdout",
     "output_type": "stream",
     "text": [
      "----------------------------------------airconditioningtypeid---------------------------------------- - "
     ]
    },
    {
     "data": {
      "text/plain": [
       "1.0     23133\n",
       "13.0     1574\n",
       "5.0       167\n",
       "11.0       53\n",
       "9.0        26\n",
       "Name: airconditioningtypeid, dtype: int64"
      ]
     },
     "metadata": {},
     "output_type": "display_data"
    },
    {
     "name": "stdout",
     "output_type": "stream",
     "text": [
      "----------------------------------------basementsqft---------------------------------------- - "
     ]
    },
    {
     "data": {
      "text/plain": [
       "700.0     2\n",
       "515.0     2\n",
       "900.0     2\n",
       "912.0     2\n",
       "640.0     2\n",
       "273.0     2\n",
       "100.0     2\n",
       "3560.0    1\n",
       "669.0     1\n",
       "252.0     1\n",
       "Name: basementsqft, dtype: int64"
      ]
     },
     "metadata": {},
     "output_type": "display_data"
    },
    {
     "name": "stdout",
     "output_type": "stream",
     "text": [
      "----------------------------------------bathroomcnt---------------------------------------- - "
     ]
    },
    {
     "data": {
      "text/plain": [
       "2.0    31485\n",
       "3.0    17313\n",
       "1.0    12902\n",
       "2.5     6604\n",
       "4.0     3352\n",
       "1.5     1415\n",
       "3.5     1034\n",
       "5.0     1026\n",
       "4.5      695\n",
       "0.0      592\n",
       "Name: bathroomcnt, dtype: int64"
      ]
     },
     "metadata": {},
     "output_type": "display_data"
    },
    {
     "name": "stdout",
     "output_type": "stream",
     "text": [
      "----------------------------------------bedroomcnt---------------------------------------- - "
     ]
    },
    {
     "data": {
      "text/plain": [
       "3.0    30362\n",
       "2.0    19169\n",
       "4.0    17513\n",
       "5.0     4543\n",
       "1.0     3379\n",
       "6.0      998\n",
       "0.0      830\n",
       "8.0      252\n",
       "7.0      208\n",
       "9.0       70\n",
       "Name: bedroomcnt, dtype: int64"
      ]
     },
     "metadata": {},
     "output_type": "display_data"
    },
    {
     "name": "stdout",
     "output_type": "stream",
     "text": [
      "----------------------------------------buildingqualitytypeid---------------------------------------- - "
     ]
    },
    {
     "data": {
      "text/plain": [
       "8.0     14645\n",
       "6.0     13462\n",
       "4.0      9483\n",
       "7.0      5971\n",
       "9.0      2299\n",
       "5.0      2088\n",
       "11.0      931\n",
       "3.0       329\n",
       "10.0      313\n",
       "12.0      116\n",
       "Name: buildingqualitytypeid, dtype: int64"
      ]
     },
     "metadata": {},
     "output_type": "display_data"
    },
    {
     "name": "stdout",
     "output_type": "stream",
     "text": [
      "----------------------------------------calculatedbathnbr---------------------------------------- - "
     ]
    },
    {
     "data": {
      "text/plain": [
       "2.0    31485\n",
       "3.0    17313\n",
       "1.0    12902\n",
       "2.5     6595\n",
       "4.0     3352\n",
       "1.5     1408\n",
       "3.5     1034\n",
       "5.0     1026\n",
       "4.5      695\n",
       "6.0      417\n",
       "Name: calculatedbathnbr, dtype: int64"
      ]
     },
     "metadata": {},
     "output_type": "display_data"
    },
    {
     "name": "stdout",
     "output_type": "stream",
     "text": [
      "----------------------------------------decktypeid---------------------------------------- - "
     ]
    },
    {
     "data": {
      "text/plain": [
       "66.0    614\n",
       "Name: decktypeid, dtype: int64"
      ]
     },
     "metadata": {},
     "output_type": "display_data"
    },
    {
     "name": "stdout",
     "output_type": "stream",
     "text": [
      "----------------------------------------finishedfloor1squarefeet---------------------------------------- - "
     ]
    },
    {
     "data": {
      "text/plain": [
       "1252.0    22\n",
       "1205.0    21\n",
       "780.0     21\n",
       "1462.0    21\n",
       "1498.0    21\n",
       "1441.0    21\n",
       "1070.0    20\n",
       "1227.0    19\n",
       "1431.0    18\n",
       "880.0     17\n",
       "Name: finishedfloor1squarefeet, dtype: int64"
      ]
     },
     "metadata": {},
     "output_type": "display_data"
    },
    {
     "name": "stdout",
     "output_type": "stream",
     "text": [
      "----------------------------------------calculatedfinishedsquarefeet---------------------------------------- - "
     ]
    },
    {
     "data": {
      "text/plain": [
       "1200.0    181\n",
       "1120.0    169\n",
       "1440.0    147\n",
       "1080.0    132\n",
       "1260.0    120\n",
       "1176.0    119\n",
       "1300.0    118\n",
       "1040.0    118\n",
       "1570.0    117\n",
       "1232.0    117\n",
       "Name: calculatedfinishedsquarefeet, dtype: int64"
      ]
     },
     "metadata": {},
     "output_type": "display_data"
    },
    {
     "name": "stdout",
     "output_type": "stream",
     "text": [
      "----------------------------------------finishedsquarefeet12---------------------------------------- - "
     ]
    },
    {
     "data": {
      "text/plain": [
       "1200.0    176\n",
       "1120.0    165\n",
       "1080.0    131\n",
       "1440.0    120\n",
       "1260.0    116\n",
       "1040.0    116\n",
       "1232.0    116\n",
       "1300.0    114\n",
       "1570.0    114\n",
       "1400.0    112\n",
       "Name: finishedsquarefeet12, dtype: int64"
      ]
     },
     "metadata": {},
     "output_type": "display_data"
    },
    {
     "name": "stdout",
     "output_type": "stream",
     "text": [
      "----------------------------------------finishedsquarefeet13---------------------------------------- - "
     ]
    },
    {
     "data": {
      "text/plain": [
       "1440.0    18\n",
       "1344.0     5\n",
       "1488.0     3\n",
       "1536.0     3\n",
       "1248.0     2\n",
       "1152.0     2\n",
       "1392.0     2\n",
       "1512.0     1\n",
       "1200.0     1\n",
       "1060.0     1\n",
       "Name: finishedsquarefeet13, dtype: int64"
      ]
     },
     "metadata": {},
     "output_type": "display_data"
    },
    {
     "name": "stdout",
     "output_type": "stream",
     "text": [
      "----------------------------------------finishedsquarefeet15---------------------------------------- - "
     ]
    },
    {
     "data": {
      "text/plain": [
       "1680.0    16\n",
       "1536.0    12\n",
       "2016.0    12\n",
       "1600.0    10\n",
       "1440.0     9\n",
       "1560.0     9\n",
       "1512.0     9\n",
       "1584.0     8\n",
       "1740.0     8\n",
       "1864.0     7\n",
       "Name: finishedsquarefeet15, dtype: int64"
      ]
     },
     "metadata": {},
     "output_type": "display_data"
    },
    {
     "name": "stdout",
     "output_type": "stream",
     "text": [
      "----------------------------------------finishedsquarefeet50---------------------------------------- - "
     ]
    },
    {
     "data": {
      "text/plain": [
       "1252.0    22\n",
       "1498.0    21\n",
       "780.0     21\n",
       "1462.0    21\n",
       "1205.0    21\n",
       "1441.0    21\n",
       "1070.0    20\n",
       "1227.0    19\n",
       "1431.0    18\n",
       "1226.0    17\n",
       "Name: finishedsquarefeet50, dtype: int64"
      ]
     },
     "metadata": {},
     "output_type": "display_data"
    },
    {
     "name": "stdout",
     "output_type": "stream",
     "text": [
      "----------------------------------------finishedsquarefeet6---------------------------------------- - "
     ]
    },
    {
     "data": {
      "text/plain": [
       "952.0     4\n",
       "3552.0    3\n",
       "3500.0    3\n",
       "520.0     3\n",
       "750.0     3\n",
       "935.0     2\n",
       "912.0     2\n",
       "2361.0    2\n",
       "624.0     2\n",
       "2635.0    2\n",
       "Name: finishedsquarefeet6, dtype: int64"
      ]
     },
     "metadata": {},
     "output_type": "display_data"
    },
    {
     "name": "stdout",
     "output_type": "stream",
     "text": [
      "----------------------------------------fips---------------------------------------- - "
     ]
    },
    {
     "data": {
      "text/plain": [
       "6037.0    50551\n",
       "6059.0    20593\n",
       "6111.0     6237\n",
       "Name: fips, dtype: int64"
      ]
     },
     "metadata": {},
     "output_type": "display_data"
    },
    {
     "name": "stdout",
     "output_type": "stream",
     "text": [
      "----------------------------------------fireplacecnt---------------------------------------- - "
     ]
    },
    {
     "data": {
      "text/plain": [
       "1.0    7008\n",
       "2.0     995\n",
       "3.0     235\n",
       "4.0      35\n",
       "5.0       3\n",
       "Name: fireplacecnt, dtype: int64"
      ]
     },
     "metadata": {},
     "output_type": "display_data"
    },
    {
     "name": "stdout",
     "output_type": "stream",
     "text": [
      "----------------------------------------fullbathcnt---------------------------------------- - "
     ]
    },
    {
     "data": {
      "text/plain": [
       "2.0     38097\n",
       "3.0     18351\n",
       "1.0     14310\n",
       "4.0      4048\n",
       "5.0      1245\n",
       "6.0       454\n",
       "7.0       121\n",
       "8.0       111\n",
       "9.0        23\n",
       "10.0        7\n",
       "Name: fullbathcnt, dtype: int64"
      ]
     },
     "metadata": {},
     "output_type": "display_data"
    },
    {
     "name": "stdout",
     "output_type": "stream",
     "text": [
      "----------------------------------------garagecarcnt---------------------------------------- - "
     ]
    },
    {
     "data": {
      "text/plain": [
       "2.0     18608\n",
       "1.0      5676\n",
       "3.0       632\n",
       "4.0       255\n",
       "0.0       230\n",
       "5.0        45\n",
       "6.0        14\n",
       "7.0         4\n",
       "10.0        3\n",
       "9.0         2\n",
       "Name: garagecarcnt, dtype: int64"
      ]
     },
     "metadata": {},
     "output_type": "display_data"
    },
    {
     "name": "stdout",
     "output_type": "stream",
     "text": [
      "----------------------------------------garagetotalsqft---------------------------------------- - "
     ]
    },
    {
     "data": {
      "text/plain": [
       "0.0      7685\n",
       "400.0     786\n",
       "441.0     678\n",
       "462.0     658\n",
       "360.0     646\n",
       "460.0     569\n",
       "420.0     549\n",
       "440.0     539\n",
       "483.0     413\n",
       "480.0     303\n",
       "Name: garagetotalsqft, dtype: int64"
      ]
     },
     "metadata": {},
     "output_type": "display_data"
    },
    {
     "name": "stdout",
     "output_type": "stream",
     "text": [
      "----------------------------------------hashottuborspa---------------------------------------- - "
     ]
    },
    {
     "data": {
      "text/plain": [
       "1.0    1538\n",
       "Name: hashottuborspa, dtype: int64"
      ]
     },
     "metadata": {},
     "output_type": "display_data"
    },
    {
     "name": "stdout",
     "output_type": "stream",
     "text": [
      "----------------------------------------latitude---------------------------------------- - "
     ]
    },
    {
     "data": {
      "text/plain": [
       "33984600.0    40\n",
       "33665651.0    38\n",
       "33766300.0    34\n",
       "34056700.0    32\n",
       "34225100.0    29\n",
       "34410700.0    27\n",
       "33785200.0    27\n",
       "33954400.0    26\n",
       "34171800.0    25\n",
       "34048000.0    23\n",
       "Name: latitude, dtype: int64"
      ]
     },
     "metadata": {},
     "output_type": "display_data"
    },
    {
     "name": "stdout",
     "output_type": "stream",
     "text": [
      "----------------------------------------longitude---------------------------------------- - "
     ]
    },
    {
     "data": {
      "text/plain": [
       "-118438000.0    63\n",
       "-118435000.0    62\n",
       "-118390000.0    60\n",
       "-118445000.0    60\n",
       "-118377000.0    59\n",
       "-118389000.0    58\n",
       "-118433000.0    56\n",
       "-118188000.0    55\n",
       "-118432000.0    55\n",
       "-118378000.0    52\n",
       "Name: longitude, dtype: int64"
      ]
     },
     "metadata": {},
     "output_type": "display_data"
    },
    {
     "name": "stdout",
     "output_type": "stream",
     "text": [
      "----------------------------------------lotsizesquarefeet---------------------------------------- - "
     ]
    },
    {
     "data": {
      "text/plain": [
       "6000.0    892\n",
       "5000.0    437\n",
       "7200.0    314\n",
       "7000.0    297\n",
       "6500.0    294\n",
       "7500.0    238\n",
       "6600.0    167\n",
       "5400.0    145\n",
       "4000.0    143\n",
       "5200.0    137\n",
       "Name: lotsizesquarefeet, dtype: int64"
      ]
     },
     "metadata": {},
     "output_type": "display_data"
    },
    {
     "name": "stdout",
     "output_type": "stream",
     "text": [
      "----------------------------------------poolcnt---------------------------------------- - "
     ]
    },
    {
     "data": {
      "text/plain": [
       "1.0    16137\n",
       "Name: poolcnt, dtype: int64"
      ]
     },
     "metadata": {},
     "output_type": "display_data"
    },
    {
     "name": "stdout",
     "output_type": "stream",
     "text": [
      "----------------------------------------poolsizesum---------------------------------------- - "
     ]
    },
    {
     "data": {
      "text/plain": [
       "450.0    90\n",
       "400.0    38\n",
       "500.0    30\n",
       "600.0    27\n",
       "512.0    25\n",
       "800.0    25\n",
       "480.0    19\n",
       "544.0    14\n",
       "576.0    14\n",
       "360.0    13\n",
       "Name: poolsizesum, dtype: int64"
      ]
     },
     "metadata": {},
     "output_type": "display_data"
    },
    {
     "name": "stdout",
     "output_type": "stream",
     "text": [
      "----------------------------------------pooltypeid10---------------------------------------- - "
     ]
    },
    {
     "data": {
      "text/plain": [
       "1.0    464\n",
       "Name: pooltypeid10, dtype: int64"
      ]
     },
     "metadata": {},
     "output_type": "display_data"
    },
    {
     "name": "stdout",
     "output_type": "stream",
     "text": [
      "----------------------------------------pooltypeid2---------------------------------------- - "
     ]
    },
    {
     "data": {
      "text/plain": [
       "1.0    1074\n",
       "Name: pooltypeid2, dtype: int64"
      ]
     },
     "metadata": {},
     "output_type": "display_data"
    },
    {
     "name": "stdout",
     "output_type": "stream",
     "text": [
      "----------------------------------------pooltypeid7---------------------------------------- - "
     ]
    },
    {
     "data": {
      "text/plain": [
       "1.0    15042\n",
       "Name: pooltypeid7, dtype: int64"
      ]
     },
     "metadata": {},
     "output_type": "display_data"
    },
    {
     "name": "stdout",
     "output_type": "stream",
     "text": [
      "----------------------------------------propertycountylandusecode---------------------------------------- - "
     ]
    },
    {
     "data": {
      "text/plain": [
       "0100    26714\n",
       "122     13045\n",
       "010C     8813\n",
       "0101     6399\n",
       "34       4922\n",
       "1111     3353\n",
       "1        2393\n",
       "010E     2047\n",
       "010D     1943\n",
       "0200     1835\n",
       "Name: propertycountylandusecode, dtype: int64"
      ]
     },
     "metadata": {},
     "output_type": "display_data"
    },
    {
     "name": "stdout",
     "output_type": "stream",
     "text": [
      "----------------------------------------propertyzoningdesc---------------------------------------- - "
     ]
    },
    {
     "data": {
      "text/plain": [
       "LAR1       6747\n",
       "LAR3       2437\n",
       "LARS       1389\n",
       "LBR1N      1222\n",
       "LARD1.5    1127\n",
       "LAR2       1031\n",
       "SCUR2       956\n",
       "LARD2       849\n",
       "LARA        654\n",
       "LARE11      628\n",
       "Name: propertyzoningdesc, dtype: int64"
      ]
     },
     "metadata": {},
     "output_type": "display_data"
    },
    {
     "name": "stdout",
     "output_type": "stream",
     "text": [
      "----------------------------------------rawcensustractandblock---------------------------------------- - "
     ]
    },
    {
     "data": {
      "text/plain": [
       "6.059063e+07    60\n",
       "6.037137e+07    60\n",
       "6.037920e+07    58\n",
       "6.037277e+07    51\n",
       "6.059032e+07    43\n",
       "6.037139e+07    40\n",
       "6.059063e+07    39\n",
       "6.037274e+07    39\n",
       "6.037577e+07    39\n",
       "6.037578e+07    38\n",
       "Name: rawcensustractandblock, dtype: int64"
      ]
     },
     "metadata": {},
     "output_type": "display_data"
    },
    {
     "name": "stdout",
     "output_type": "stream",
     "text": [
      "----------------------------------------regionidcity---------------------------------------- - "
     ]
    },
    {
     "data": {
      "text/plain": [
       "12447.0    17948\n",
       "46298.0     2588\n",
       "5534.0      1912\n",
       "54311.0     1880\n",
       "52650.0     1669\n",
       "40227.0     1590\n",
       "16764.0     1467\n",
       "25218.0     1354\n",
       "34278.0     1195\n",
       "27110.0     1107\n",
       "Name: regionidcity, dtype: int64"
      ]
     },
     "metadata": {},
     "output_type": "display_data"
    },
    {
     "name": "stdout",
     "output_type": "stream",
     "text": [
      "----------------------------------------regionidcounty---------------------------------------- - "
     ]
    },
    {
     "data": {
      "text/plain": [
       "3101.0    50551\n",
       "1286.0    20593\n",
       "2061.0     6237\n",
       "Name: regionidcounty, dtype: int64"
      ]
     },
     "metadata": {},
     "output_type": "display_data"
    },
    {
     "name": "stdout",
     "output_type": "stream",
     "text": [
      "----------------------------------------regionidneighborhood---------------------------------------- - "
     ]
    },
    {
     "data": {
      "text/plain": [
       "27080.0     717\n",
       "48570.0     704\n",
       "37739.0     684\n",
       "118208.0    669\n",
       "51906.0     549\n",
       "268496.0    531\n",
       "48200.0     525\n",
       "54300.0     521\n",
       "274049.0    466\n",
       "113455.0    458\n",
       "Name: regionidneighborhood, dtype: int64"
      ]
     },
     "metadata": {},
     "output_type": "display_data"
    },
    {
     "name": "stdout",
     "output_type": "stream",
     "text": [
      "----------------------------------------regionidzip---------------------------------------- - "
     ]
    },
    {
     "data": {
      "text/plain": [
       "97319.0    825\n",
       "96987.0    753\n",
       "97318.0    708\n",
       "97118.0    613\n",
       "96974.0    593\n",
       "96993.0    591\n",
       "97328.0    589\n",
       "97329.0    587\n",
       "96962.0    525\n",
       "96996.0    520\n",
       "Name: regionidzip, dtype: int64"
      ]
     },
     "metadata": {},
     "output_type": "display_data"
    },
    {
     "name": "stdout",
     "output_type": "stream",
     "text": [
      "----------------------------------------roomcnt---------------------------------------- - "
     ]
    },
    {
     "data": {
      "text/plain": [
       "0.0     59808\n",
       "6.0      4513\n",
       "7.0      3838\n",
       "5.0      3016\n",
       "8.0      2872\n",
       "4.0      1415\n",
       "9.0      1193\n",
       "10.0      339\n",
       "3.0       211\n",
       "11.0      108\n",
       "Name: roomcnt, dtype: int64"
      ]
     },
     "metadata": {},
     "output_type": "display_data"
    },
    {
     "name": "stdout",
     "output_type": "stream",
     "text": [
      "----------------------------------------threequarterbathnbr---------------------------------------- - "
     ]
    },
    {
     "data": {
      "text/plain": [
       "1.0    10012\n",
       "2.0       75\n",
       "3.0        8\n",
       "7.0        1\n",
       "Name: threequarterbathnbr, dtype: int64"
      ]
     },
     "metadata": {},
     "output_type": "display_data"
    },
    {
     "name": "stdout",
     "output_type": "stream",
     "text": [
      "----------------------------------------unitcnt---------------------------------------- - "
     ]
    },
    {
     "data": {
      "text/plain": [
       "1.0      47293\n",
       "2.0       2018\n",
       "4.0        723\n",
       "3.0        525\n",
       "6.0          1\n",
       "45.0         1\n",
       "237.0        1\n",
       "42.0         1\n",
       "Name: unitcnt, dtype: int64"
      ]
     },
     "metadata": {},
     "output_type": "display_data"
    },
    {
     "name": "stdout",
     "output_type": "stream",
     "text": [
      "----------------------------------------yardbuildingsqft17---------------------------------------- - "
     ]
    },
    {
     "data": {
      "text/plain": [
       "200.0    103\n",
       "240.0     76\n",
       "300.0     50\n",
       "180.0     42\n",
       "120.0     38\n",
       "288.0     38\n",
       "400.0     37\n",
       "360.0     35\n",
       "280.0     33\n",
       "144.0     30\n",
       "Name: yardbuildingsqft17, dtype: int64"
      ]
     },
     "metadata": {},
     "output_type": "display_data"
    },
    {
     "name": "stdout",
     "output_type": "stream",
     "text": [
      "----------------------------------------yardbuildingsqft26---------------------------------------- - "
     ]
    },
    {
     "data": {
      "text/plain": [
       "120.0    3\n",
       "30.0     3\n",
       "56.0     2\n",
       "88.0     2\n",
       "33.0     2\n",
       "240.0    2\n",
       "300.0    2\n",
       "144.0    2\n",
       "448.0    2\n",
       "169.0    1\n",
       "Name: yardbuildingsqft26, dtype: int64"
      ]
     },
     "metadata": {},
     "output_type": "display_data"
    },
    {
     "name": "stdout",
     "output_type": "stream",
     "text": [
      "----------------------------------------yearbuilt---------------------------------------- - "
     ]
    },
    {
     "data": {
      "text/plain": [
       "1955.0    1969\n",
       "1989.0    1787\n",
       "1950.0    1673\n",
       "1964.0    1642\n",
       "1954.0    1583\n",
       "1973.0    1567\n",
       "1953.0    1549\n",
       "1956.0    1448\n",
       "1987.0    1430\n",
       "1979.0    1428\n",
       "Name: yearbuilt, dtype: int64"
      ]
     },
     "metadata": {},
     "output_type": "display_data"
    },
    {
     "name": "stdout",
     "output_type": "stream",
     "text": [
      "----------------------------------------numberofstories---------------------------------------- - "
     ]
    },
    {
     "data": {
      "text/plain": [
       "1.0    10366\n",
       "2.0     6757\n",
       "3.0      436\n",
       "6.0        1\n",
       "Name: numberofstories, dtype: int64"
      ]
     },
     "metadata": {},
     "output_type": "display_data"
    },
    {
     "name": "stdout",
     "output_type": "stream",
     "text": [
      "----------------------------------------fireplaceflag---------------------------------------- - "
     ]
    },
    {
     "data": {
      "text/plain": [
       "1.0    172\n",
       "Name: fireplaceflag, dtype: int64"
      ]
     },
     "metadata": {},
     "output_type": "display_data"
    },
    {
     "name": "stdout",
     "output_type": "stream",
     "text": [
      "----------------------------------------structuretaxvaluedollarcnt---------------------------------------- - "
     ]
    },
    {
     "data": {
      "text/plain": [
       "100000.0    82\n",
       "200000.0    58\n",
       "203050.0    55\n",
       "90000.0     52\n",
       "95000.0     49\n",
       "101525.0    49\n",
       "120000.0    44\n",
       "207106.0    43\n",
       "110000.0    42\n",
       "150000.0    41\n",
       "Name: structuretaxvaluedollarcnt, dtype: int64"
      ]
     },
     "metadata": {},
     "output_type": "display_data"
    },
    {
     "name": "stdout",
     "output_type": "stream",
     "text": [
      "----------------------------------------taxvaluedollarcnt---------------------------------------- - "
     ]
    },
    {
     "data": {
      "text/plain": [
       "400000.0    56\n",
       "600000.0    50\n",
       "350000.0    49\n",
       "450000.0    45\n",
       "500000.0    43\n",
       "420000.0    43\n",
       "455000.0    43\n",
       "340000.0    42\n",
       "375000.0    41\n",
       "300000.0    40\n",
       "Name: taxvaluedollarcnt, dtype: int64"
      ]
     },
     "metadata": {},
     "output_type": "display_data"
    },
    {
     "name": "stdout",
     "output_type": "stream",
     "text": [
      "----------------------------------------assessmentyear---------------------------------------- - "
     ]
    },
    {
     "data": {
      "text/plain": [
       "2016.0    77381\n",
       "Name: assessmentyear, dtype: int64"
      ]
     },
     "metadata": {},
     "output_type": "display_data"
    },
    {
     "name": "stdout",
     "output_type": "stream",
     "text": [
      "----------------------------------------landtaxvaluedollarcnt---------------------------------------- - "
     ]
    },
    {
     "data": {
      "text/plain": [
       "21299.0     97\n",
       "22755.0     68\n",
       "304575.0    65\n",
       "203050.0    63\n",
       "30210.0     63\n",
       "212207.0    61\n",
       "208047.0    59\n",
       "18611.0     56\n",
       "16749.0     55\n",
       "16522.0     53\n",
       "Name: landtaxvaluedollarcnt, dtype: int64"
      ]
     },
     "metadata": {},
     "output_type": "display_data"
    },
    {
     "name": "stdout",
     "output_type": "stream",
     "text": [
      "----------------------------------------taxamount---------------------------------------- - "
     ]
    },
    {
     "data": {
      "text/plain": [
       "2418.22    8\n",
       "3720.52    7\n",
       "2217.31    5\n",
       "1725.20    5\n",
       "3815.22    5\n",
       "4401.72    5\n",
       "2388.63    4\n",
       "345.72     4\n",
       "3860.10    4\n",
       "3700.94    4\n",
       "Name: taxamount, dtype: int64"
      ]
     },
     "metadata": {},
     "output_type": "display_data"
    },
    {
     "name": "stdout",
     "output_type": "stream",
     "text": [
      "----------------------------------------taxdelinquencyflag---------------------------------------- - "
     ]
    },
    {
     "data": {
      "text/plain": [
       "Y    2886\n",
       "Name: taxdelinquencyflag, dtype: int64"
      ]
     },
     "metadata": {},
     "output_type": "display_data"
    },
    {
     "name": "stdout",
     "output_type": "stream",
     "text": [
      "----------------------------------------taxdelinquencyyear---------------------------------------- - "
     ]
    },
    {
     "data": {
      "text/plain": [
       "15.0    1552\n",
       "14.0     799\n",
       "13.0     183\n",
       "12.0     113\n",
       "11.0      98\n",
       "10.0      66\n",
       "9.0       47\n",
       "8.0       14\n",
       "7.0       10\n",
       "6.0        1\n",
       "Name: taxdelinquencyyear, dtype: int64"
      ]
     },
     "metadata": {},
     "output_type": "display_data"
    },
    {
     "name": "stdout",
     "output_type": "stream",
     "text": [
      "----------------------------------------censustractandblock---------------------------------------- - "
     ]
    },
    {
     "data": {
      "text/plain": [
       "6.037137e+13    60\n",
       "6.037277e+13    51\n",
       "6.059032e+13    44\n",
       "6.059063e+13    41\n",
       "6.037920e+13    41\n",
       "6.037139e+13    40\n",
       "6.037920e+13    40\n",
       "6.059063e+13    40\n",
       "6.037577e+13    39\n",
       "6.037578e+13    38\n",
       "Name: censustractandblock, dtype: int64"
      ]
     },
     "metadata": {},
     "output_type": "display_data"
    },
    {
     "name": "stdout",
     "output_type": "stream",
     "text": [
      "----------------------------------------id---------------------------------------- - "
     ]
    },
    {
     "data": {
      "text/plain": [
       "2047     1\n",
       "4759     1\n",
       "25241    1\n",
       "31386    1\n",
       "29339    1\n",
       "19100    1\n",
       "17053    1\n",
       "23198    1\n",
       "21151    1\n",
       "76464    1\n",
       "Name: id, dtype: int64"
      ]
     },
     "metadata": {},
     "output_type": "display_data"
    },
    {
     "name": "stdout",
     "output_type": "stream",
     "text": [
      "----------------------------------------logerror---------------------------------------- - "
     ]
    },
    {
     "data": {
      "text/plain": [
       "0.000231    7\n",
       "0.002652    7\n",
       "0.008932    5\n",
       "0.006909    5\n",
       "0.011157    5\n",
       "0.003152    5\n",
       "0.000727    5\n",
       "0.008257    5\n",
       "0.001878    5\n",
       "0.000420    5\n",
       "Name: logerror, dtype: int64"
      ]
     },
     "metadata": {},
     "output_type": "display_data"
    },
    {
     "name": "stdout",
     "output_type": "stream",
     "text": [
      "----------------------------------------tdate---------------------------------------- - "
     ]
    },
    {
     "data": {
      "text/plain": [
       "2017-06-30    1189\n",
       "2017-04-28     911\n",
       "2017-05-31     867\n",
       "2017-07-28     814\n",
       "2017-08-31     781\n",
       "2017-03-31     770\n",
       "2017-05-26     743\n",
       "2017-06-16     727\n",
       "2017-06-23     706\n",
       "2017-08-25     696\n",
       "Name: tdate, dtype: int64"
      ]
     },
     "metadata": {},
     "output_type": "display_data"
    },
    {
     "name": "stdout",
     "output_type": "stream",
     "text": [
      "----------------------------------------airconditioningdesc---------------------------------------- - "
     ]
    },
    {
     "data": {
      "text/plain": [
       "Central          23133\n",
       "Yes               1574\n",
       "None               167\n",
       "Wall Unit           53\n",
       "Refrigeration       26\n",
       "Name: airconditioningdesc, dtype: int64"
      ]
     },
     "metadata": {},
     "output_type": "display_data"
    },
    {
     "name": "stdout",
     "output_type": "stream",
     "text": [
      "----------------------------------------architecturalstyledesc---------------------------------------- - "
     ]
    },
    {
     "data": {
      "text/plain": [
       "Contemporary     172\n",
       "Conventional      19\n",
       "Ranch/Rambler      7\n",
       "Bungalow           5\n",
       "Cape Cod           3\n",
       "Name: architecturalstyledesc, dtype: int64"
      ]
     },
     "metadata": {},
     "output_type": "display_data"
    },
    {
     "name": "stdout",
     "output_type": "stream",
     "text": [
      "----------------------------------------buildingclassdesc---------------------------------------- - "
     ]
    },
    {
     "data": {
      "text/plain": [
       "Buildings having wood or wood and steel frames                                                                                                                                                                                             14\n",
       "Buildings having exterior walls built of a non-combustible material such as brick, concrete, block or poured concrete. Interior partitions and roof structures are built of combustible materials. Floor may be concrete or wood frame.     1\n",
       "Name: buildingclassdesc, dtype: int64"
      ]
     },
     "metadata": {},
     "output_type": "display_data"
    },
    {
     "name": "stdout",
     "output_type": "stream",
     "text": [
      "----------------------------------------heatingorsystemdesc---------------------------------------- - "
     ]
    },
    {
     "data": {
      "text/plain": [
       "Central       33550\n",
       "Floor/Wall    14065\n",
       "Yes             846\n",
       "Forced air      776\n",
       "Solar           104\n",
       "None             59\n",
       "Radiant          23\n",
       "Baseboard        13\n",
       "Gravity           3\n",
       "Heat Pump         1\n",
       "Name: heatingorsystemdesc, dtype: int64"
      ]
     },
     "metadata": {},
     "output_type": "display_data"
    },
    {
     "name": "stdout",
     "output_type": "stream",
     "text": [
      "----------------------------------------propertylandusedesc---------------------------------------- - "
     ]
    },
    {
     "data": {
      "text/plain": [
       "Single Family Residential                     52320\n",
       "Condominium                                   19294\n",
       "Duplex (2 Units, Any Combination)              2009\n",
       "Planned Unit Development                       1944\n",
       "Quadruplex (4 Units, Any Combination)           727\n",
       "Triplex (3 Units, Any Combination)              535\n",
       "Cluster Home                                    333\n",
       "Mobile Home                                      74\n",
       "Manufactured, Modular, Prefabricated Homes       58\n",
       "Residential General                              37\n",
       "Name: propertylandusedesc, dtype: int64"
      ]
     },
     "metadata": {},
     "output_type": "display_data"
    },
    {
     "name": "stdout",
     "output_type": "stream",
     "text": [
      "----------------------------------------storydesc---------------------------------------- - "
     ]
    },
    {
     "data": {
      "text/plain": [
       "Basement    50\n",
       "Name: storydesc, dtype: int64"
      ]
     },
     "metadata": {},
     "output_type": "display_data"
    },
    {
     "name": "stdout",
     "output_type": "stream",
     "text": [
      "----------------------------------------typeconstructiondesc---------------------------------------- - "
     ]
    },
    {
     "data": {
      "text/plain": [
       "Frame       219\n",
       "Metal         1\n",
       "Concrete      1\n",
       "Masonry       1\n",
       "Name: typeconstructiondesc, dtype: int64"
      ]
     },
     "metadata": {},
     "output_type": "display_data"
    }
   ],
   "source": [
    "df_summary(df)"
   ]
  },
  {
   "attachments": {
    "image.png": {
     "image/png": "[encoded data removed]"
    }
   },
   "cell_type": "markdown",
   "metadata": {},
   "source": [
    "***\n",
    "\n",
    "**3. Write a function that takes in a dataframe of observations and attributes and returns a dataframe where each row is an atttribute name, the first column is the number of rows with missing values for that attribute, and the second column is percent of total rows that have missing values for that attribute. Run the function and document takeaways from this on how you want to handle missing values.** \n",
    "\n",
    "![image.png](attachment:image.png)\n",
    "\n",
    "***"
   ]
  },
  {
   "cell_type": "code",
   "execution_count": null,
   "metadata": {},
   "outputs": [],
   "source": [
    "def count_and_percent_missing(df):\n",
    "    percent_missing = df.isnull().sum() * 100 / len(df)\n",
    "    total_missing = df.isnull().sum()\n",
    "    missing_value_df = pd.DataFrame({'total_missing': total_missing,\n",
    "                                     'percent_missing': percent_missing})\n",
    "    return missing_value_df"
   ]
  },
  {
   "cell_type": "code",
   "execution_count": null,
   "metadata": {},
   "outputs": [],
   "source": [
    "count_and_percent_missing(df)"
   ]
  },
  {
   "attachments": {
    "image.png": {
     "image/png": "[encoded data removed]"
    }
   },
   "cell_type": "markdown",
   "metadata": {},
   "source": [
    "***\n",
    "\n",
    "**4. Write a function that takes in a dataframe and returns a dataframe with 3 columns: the number of columns missing, percent of columns missing, and number of rows with n columns missing. Run the function and document takeaways from this on how you want to handle missing values.** \n",
    "\n",
    "![image.png](attachment:image.png)\n",
    "\n",
    "***"
   ]
  },
  {
   "cell_type": "code",
   "execution_count": null,
   "metadata": {},
   "outputs": [],
   "source": [
    "#df.apply(lambda x: x.value_counts()).T.stack()\n",
    "def to_frequency_table(df):\n",
    "    frequencytable = {}\n",
    "    for key in df:\n",
    "        if key in frequencytable:\n",
    "            frequencytable[key] += 1\n",
    "        else:\n",
    "            frequencytable[key] = 1\n",
    "    return frequencytable\n",
    "to_frequency_table(df)"
   ]
  },
  {
   "cell_type": "code",
   "execution_count": null,
   "metadata": {},
   "outputs": [],
   "source": [
    "# num_rows = lambda x:(df.iloc[x].isnull().sum())\n",
    "# num_cols_missing = df.loc[:, df.isna().any()].count()\n",
    "# pct_cols_missing = round(df.loc[:, df.isna().any()].count() / len(df.index),3)\n",
    "# missing_cols_and_rows_df = pd.DataFrame({'num_cols_missing': num_cols_missing,\n",
    "#                                          'pct_cols_missing': pct_cols_missing,\n",
    "#                                          'num_rows': num_rows})\n",
    "# missing_cols_and_rows_df"
   ]
  },
  {
   "cell_type": "code",
   "execution_count": null,
   "metadata": {},
   "outputs": [],
   "source": [
    "num_cols_missing = df.loc[:, df.isna().any()].count()\n",
    "pct_cols_missing = round(df.loc[:, df.isna().any()].count() / len(df.index),3)\n",
    "missing_cols_and_rows_df = pd.DataFrame({'num_cols_missing': num_cols_missing,\n",
    "                                         'pct_cols_missing': pct_cols_missing})\n",
    "                                        \n",
    "missing_cols_and_rows_df"
   ]
  },
  {
   "cell_type": "code",
   "execution_count": null,
   "metadata": {},
   "outputs": [],
   "source": []
  },
  {
   "cell_type": "code",
   "execution_count": null,
   "metadata": {},
   "outputs": [],
   "source": [
    "len(df.index)"
   ]
  },
  {
   "cell_type": "code",
   "execution_count": null,
   "metadata": {},
   "outputs": [],
   "source": [
    "len(df.columns)"
   ]
  },
  {
   "cell_type": "markdown",
   "metadata": {},
   "source": [
    "### Prep Data Function:"
   ]
  },
  {
   "cell_type": "code",
   "execution_count": null,
   "metadata": {},
   "outputs": [],
   "source": [
    "# Function to Prep Data\n",
    "def data_prep(df, cols_to_remove=[], prop_required_column=.5, prop_required_row=.75):\n",
    "    \n",
    "    def remove_columns(df, cols_to_remove):  \n",
    "        df = df.drop(columns=cols_to_remove)\n",
    "        return df\n",
    "\n",
    "    def handle_missing_values(df, prop_required_column = .5, prop_required_row = .75):\n",
    "        threshold = int(round(prop_required_column*len(df.index),0))\n",
    "        df.dropna(axis=1, thresh=threshold, inplace=True)\n",
    "        threshold = int(round(prop_required_row*len(df.columns),0))\n",
    "        df.dropna(axis=0, thresh=threshold, inplace=True)\n",
    "        return df\n",
    "    \n",
    "    df = remove_columns(df, cols_to_remove)  # Removes Specified Columns\n",
    "    df = handle_missing_values(df, prop_required_column, prop_required_row) # Removes Specified Rows\n",
    "    #df.dropna(inplace=True) # Drops all Null Values From Dataframe\n",
    "    return df\n",
    "\n",
    "\n",
    "# How to Call the Function\n",
    "# df = prepare.data_prep(\n",
    "#     df,\n",
    "#     cols_to_remove=[],\n",
    "#     prop_required_column=.6,\n",
    "#     prop_required_row=.75\n",
    "# )"
   ]
  }
 ],
 "metadata": {
  "kernelspec": {
   "display_name": "Python 3",
   "language": "python",
   "name": "python3"
  },
  "language_info": {
   "codemirror_mode": {
    "name": "ipython",
    "version": 3
   },
   "file_extension": ".py",
   "mimetype": "text/x-python",
   "name": "python",
   "nbconvert_exporter": "python",
   "pygments_lexer": "ipython3",
   "version": "3.8.3"
  }
 },
 "nbformat": 4,
 "nbformat_minor": 4
}
