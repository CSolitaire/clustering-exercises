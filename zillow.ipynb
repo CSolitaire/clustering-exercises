{
 "cells": [
  {
   "cell_type": "markdown",
   "metadata": {},
   "source": [
    "### Introduction to Machine Learning: Clustering (Zillow)\n",
    "#### Corey Solitaire\n",
    "#### 10/09/2020"
   ]
  },
  {
   "cell_type": "code",
   "execution_count": 1,
   "metadata": {},
   "outputs": [],
   "source": [
    "import acquire\n",
    "import prepare\n",
    "import wrangle_zillow\n",
    "import pandas as pd\n",
    "import numpy as np\n",
    "import seaborn as sns\n",
    "import matplotlib.pyplot as plt\n",
    "from math import sqrt\n",
    "from scipy import stats\n",
    "from sklearn.preprocessing import StandardScaler, QuantileTransformer, PowerTransformer, RobustScaler, MinMaxScaler\n",
    "import warnings\n",
    "warnings.filterwarnings(\"ignore\")\n",
    "from sklearn.model_selection import train_test_split\n",
    "from statsmodels.formula.api import ols\n",
    "from sklearn.metrics import mean_squared_error, r2_score, explained_variance_score\n",
    "from sklearn.feature_selection import f_regression, SelectKBest, RFE \n",
    "from sklearn.linear_model import LinearRegression, LassoLars, TweedieRegressor\n",
    "from sklearn.preprocessing import PolynomialFeatures"
   ]
  },
  {
   "cell_type": "markdown",
   "metadata": {},
   "source": [
    "## Acquire & Summarize"
   ]
  },
  {
   "cell_type": "markdown",
   "metadata": {},
   "source": [
    "### 1. Acquire data from mySQL using the python module to connect and query. You will want to end with a single dataframe. Make sure to include: the logerror, all fields related to the properties that are available. You will end up using all the tables in the database.\n",
    "\n",
    "    - Be sure to do the correct join (inner, outer, etc.). We do not want to eliminate properties purely because they may have a null value for airconditioningtypeid.\n",
    "    - Only include properties with a transaction in 2017, and include only the last transaction for each properity (so no duplicate property ID's), along with zestimate error and date of transaction.\n",
    "    - Only include properties that include a latitude and longitude value."
   ]
  },
  {
   "cell_type": "code",
   "execution_count": 2,
   "metadata": {},
   "outputs": [],
   "source": [
    "# Acquire df\n",
    "df = acquire.get_zillow_data(cached=False)\n",
    "#pd.set_option('display.max_rows', df.shape[0]+1) # Shows all the rows"
   ]
  },
  {
   "cell_type": "code",
   "execution_count": 3,
   "metadata": {},
   "outputs": [
    {
     "data": {
      "text/plain": [
       "(77381, 70)"
      ]
     },
     "execution_count": 3,
     "metadata": {},
     "output_type": "execute_result"
    }
   ],
   "source": [
    "df.shape"
   ]
  },
  {
   "cell_type": "code",
   "execution_count": 4,
   "metadata": {},
   "outputs": [],
   "source": [
    "# Rename duplicate column id/id with id_delete/id\n",
    "def rename_columns(df):\n",
    "    df.columns = ['parcelid', 'typeconstructiontypeid', 'storytypeid',\n",
    "           'propertylandusetypeid', 'heatingorsystemtypeid', 'buildingclasstypeid',\n",
    "           'architecturalstyletypeid', 'airconditioningtypeid', 'id_delete',\n",
    "           'basementsqft', 'bathroomcnt', 'bedroomcnt', 'buildingqualitytypeid',\n",
    "           'calculatedbathnbr', 'decktypeid', 'finishedfloor1squarefeet',\n",
    "           'calculatedfinishedsquarefeet', 'finishedsquarefeet12',\n",
    "           'finishedsquarefeet13', 'finishedsquarefeet15', 'finishedsquarefeet50',\n",
    "           'finishedsquarefeet6', 'fips', 'fireplacecnt', 'fullbathcnt',\n",
    "           'garagecarcnt', 'garagetotalsqft', 'hashottuborspa', 'latitude',\n",
    "           'longitude', 'lotsizesquarefeet', 'poolcnt', 'poolsizesum',\n",
    "           'pooltypeid10', 'pooltypeid2', 'pooltypeid7',\n",
    "           'propertycountylandusecode', 'propertyzoningdesc',\n",
    "           'rawcensustractandblock', 'regionidcity', 'regionidcounty',\n",
    "           'regionidneighborhood', 'regionidzip', 'roomcnt', 'threequarterbathnbr',\n",
    "           'unitcnt', 'yardbuildingsqft17', 'yardbuildingsqft26', 'yearbuilt',\n",
    "           'numberofstories', 'fireplaceflag', 'structuretaxvaluedollarcnt',\n",
    "           'taxvaluedollarcnt', 'assessmentyear', 'landtaxvaluedollarcnt',\n",
    "           'taxamount', 'taxdelinquencyflag', 'taxdelinquencyyear',\n",
    "           'censustractandblock', 'id', 'logerror', 'pid', 'tdate',\n",
    "           'airconditioningdesc', 'architecturalstyledesc', 'buildingclassdesc',\n",
    "           'heatingorsystemdesc', 'propertylandusedesc', 'storydesc',\n",
    "           'typeconstructiondesc']\n",
    "    df.drop(columns = ['id_delete','pid'], inplace = True)\n",
    "    df = df.drop(df.index[[77380]], inplace = True)\n",
    "    return df\n"
   ]
  },
  {
   "cell_type": "code",
   "execution_count": 5,
   "metadata": {},
   "outputs": [],
   "source": [
    "rename_columns(df)"
   ]
  },
  {
   "cell_type": "code",
   "execution_count": 6,
   "metadata": {},
   "outputs": [
    {
     "data": {
      "text/plain": [
       "(77380, 68)"
      ]
     },
     "execution_count": 6,
     "metadata": {},
     "output_type": "execute_result"
    }
   ],
   "source": [
    "df.shape"
   ]
  },
  {
   "cell_type": "code",
   "execution_count": 7,
   "metadata": {},
   "outputs": [],
   "source": [
    "# Delete duplicate columns id_delete and pid (dupilcate of parcelid)\n",
    "#df.drop(columns = ['id_delete','pid'], inplace = True)\n",
    "#df.shape"
   ]
  },
  {
   "cell_type": "markdown",
   "metadata": {},
   "source": [
    "***\n",
    "\n",
    "### 2. Summarize your data (summary stats, info, dtypes, shape, distributions, value_counts, etc.)\n",
    "\n",
    "***"
   ]
  },
  {
   "cell_type": "code",
   "execution_count": 8,
   "metadata": {},
   "outputs": [],
   "source": [
    "def df_summary(df):\n",
    "    print('The shape of the df:') \n",
    "    print(df.shape)  # df shape (row/column)\n",
    "    print('\\n')\n",
    "    print('Columns, Non-Null Count, Data Type:')\n",
    "    print(df.info())      # Column, Non Null Count, Data Type\n",
    "    print('\\n')\n",
    "    print('Summary statistics for the df:') \n",
    "    print(df.describe())             # Summary Statistics on Numeric Data Types\n",
    "    print('\\n')\n",
    "    print('Number of NaN values per column:') \n",
    "    print(df.isna().sum())           # NaN by column\n",
    "    print('\\n')\n",
    "    print('Number of NaN values per row:')  \n",
    "    print(df.isnull().sum(axis=1))   # NaN by row\n",
    "    print('\\n')\n",
    "    print('Value Counts per Column:')\n",
    "    for col in df.columns:\n",
    "        print('-' * 40 + col + '-' * 40 , end=' - ')\n",
    "        display(df[col].value_counts(dropna=False).head(10))\n",
    "        #display(df_resp[col].value_counts())  # Displays all Values, not just First 10"
   ]
  },
  {
   "cell_type": "code",
   "execution_count": 9,
   "metadata": {},
   "outputs": [
    {
     "name": "stdout",
     "output_type": "stream",
     "text": [
      "The shape of the df:\n",
      "(77380, 68)\n",
      "\n",
      "\n",
      "Columns, Non-Null Count, Data Type:\n",
      "<class 'pandas.core.frame.DataFrame'>\n",
      "Int64Index: 77380 entries, 0 to 77379\n",
      "Data columns (total 68 columns):\n",
      " #   Column                        Non-Null Count  Dtype  \n",
      "---  ------                        --------------  -----  \n",
      " 0   parcelid                      77380 non-null  int64  \n",
      " 1   typeconstructiontypeid        222 non-null    float64\n",
      " 2   storytypeid                   50 non-null     float64\n",
      " 3   propertylandusetypeid         77380 non-null  float64\n",
      " 4   heatingorsystemtypeid         49439 non-null  float64\n",
      " 5   buildingclasstypeid           15 non-null     float64\n",
      " 6   architecturalstyletypeid      206 non-null    float64\n",
      " 7   airconditioningtypeid         24953 non-null  float64\n",
      " 8   basementsqft                  50 non-null     float64\n",
      " 9   bathroomcnt                   77380 non-null  float64\n",
      " 10  bedroomcnt                    77380 non-null  float64\n",
      " 11  buildingqualitytypeid         49671 non-null  float64\n",
      " 12  calculatedbathnbr             76771 non-null  float64\n",
      " 13  decktypeid                    614 non-null    float64\n",
      " 14  finishedfloor1squarefeet      6023 non-null   float64\n",
      " 15  calculatedfinishedsquarefeet  77184 non-null  float64\n",
      " 16  finishedsquarefeet12          73748 non-null  float64\n",
      " 17  finishedsquarefeet13          41 non-null     float64\n",
      " 18  finishedsquarefeet15          3009 non-null   float64\n",
      " 19  finishedsquarefeet50          6023 non-null   float64\n",
      " 20  finishedsquarefeet6           386 non-null    float64\n",
      " 21  fips                          77380 non-null  float64\n",
      " 22  fireplacecnt                  8276 non-null   float64\n",
      " 23  fullbathcnt                   76771 non-null  float64\n",
      " 24  garagecarcnt                  25474 non-null  float64\n",
      " 25  garagetotalsqft               25474 non-null  float64\n",
      " 26  hashottuborspa                1538 non-null   float64\n",
      " 27  latitude                      77380 non-null  float64\n",
      " 28  longitude                     77380 non-null  float64\n",
      " 29  lotsizesquarefeet             69141 non-null  float64\n",
      " 30  poolcnt                       16137 non-null  float64\n",
      " 31  poolsizesum                   867 non-null    float64\n",
      " 32  pooltypeid10                  464 non-null    float64\n",
      " 33  pooltypeid2                   1074 non-null   float64\n",
      " 34  pooltypeid7                   15042 non-null  float64\n",
      " 35  propertycountylandusecode     77380 non-null  object \n",
      " 36  propertyzoningdesc            50330 non-null  object \n",
      " 37  rawcensustractandblock        77380 non-null  float64\n",
      " 38  regionidcity                  75909 non-null  float64\n",
      " 39  regionidcounty                77380 non-null  float64\n",
      " 40  regionidneighborhood          30890 non-null  float64\n",
      " 41  regionidzip                   77330 non-null  float64\n",
      " 42  roomcnt                       77380 non-null  float64\n",
      " 43  threequarterbathnbr           10096 non-null  float64\n",
      " 44  unitcnt                       50562 non-null  float64\n",
      " 45  yardbuildingsqft17            2388 non-null   float64\n",
      " 46  yardbuildingsqft26            70 non-null     float64\n",
      " 47  yearbuilt                     77117 non-null  float64\n",
      " 48  numberofstories               17560 non-null  float64\n",
      " 49  fireplaceflag                 172 non-null    float64\n",
      " 50  structuretaxvaluedollarcnt    77268 non-null  float64\n",
      " 51  taxvaluedollarcnt             77379 non-null  float64\n",
      " 52  assessmentyear                77380 non-null  float64\n",
      " 53  landtaxvaluedollarcnt         77378 non-null  float64\n",
      " 54  taxamount                     77375 non-null  float64\n",
      " 55  taxdelinquencyflag            2886 non-null   object \n",
      " 56  taxdelinquencyyear            2886 non-null   float64\n",
      " 57  censustractandblock           77136 non-null  float64\n",
      " 58  id                            77380 non-null  int64  \n",
      " 59  logerror                      77380 non-null  float64\n",
      " 60  tdate                         77380 non-null  object \n",
      " 61  airconditioningdesc           24953 non-null  object \n",
      " 62  architecturalstyledesc        206 non-null    object \n",
      " 63  buildingclassdesc             15 non-null     object \n",
      " 64  heatingorsystemdesc           49439 non-null  object \n",
      " 65  propertylandusedesc           77380 non-null  object \n",
      " 66  storydesc                     50 non-null     object \n",
      " 67  typeconstructiondesc          222 non-null    object \n",
      "dtypes: float64(55), int64(2), object(11)\n",
      "memory usage: 40.7+ MB\n",
      "None\n",
      "\n",
      "\n",
      "Summary statistics for the df:\n",
      "           parcelid  typeconstructiontypeid  storytypeid  \\\n",
      "count  7.738000e+04              222.000000         50.0   \n",
      "mean   1.300715e+07                6.040541          7.0   \n",
      "std    3.481368e+06                0.557285          0.0   \n",
      "min    1.071186e+07                4.000000          7.0   \n",
      "25%    1.153830e+07                6.000000          7.0   \n",
      "50%    1.253155e+07                6.000000          7.0   \n",
      "75%    1.421184e+07                6.000000          7.0   \n",
      "max    1.676893e+08               13.000000          7.0   \n",
      "\n",
      "       propertylandusetypeid  heatingorsystemtypeid  buildingclasstypeid  \\\n",
      "count           77380.000000           49439.000000            15.000000   \n",
      "mean              261.826350               3.920447             3.933333   \n",
      "std                 5.141231               3.592789             0.258199   \n",
      "min                31.000000               1.000000             3.000000   \n",
      "25%               261.000000               2.000000             4.000000   \n",
      "50%               261.000000               2.000000             4.000000   \n",
      "75%               266.000000               7.000000             4.000000   \n",
      "max               275.000000              24.000000             4.000000   \n",
      "\n",
      "       architecturalstyletypeid  airconditioningtypeid  basementsqft  \\\n",
      "count                206.000000           24953.000000     50.000000   \n",
      "mean                   7.388350               1.813289    679.720000   \n",
      "std                    2.734542               2.967894    689.703546   \n",
      "min                    2.000000               1.000000     38.000000   \n",
      "25%                    7.000000               1.000000    273.000000   \n",
      "50%                    7.000000               1.000000    515.000000   \n",
      "75%                    7.000000               1.000000    796.500000   \n",
      "max                   21.000000              13.000000   3560.000000   \n",
      "\n",
      "        bathroomcnt  ...  fireplaceflag  structuretaxvaluedollarcnt  \\\n",
      "count  77380.000000  ...          172.0                7.726800e+04   \n",
      "mean       2.299134  ...            1.0                1.893160e+05   \n",
      "std        0.996657  ...            0.0                2.300886e+05   \n",
      "min        0.000000  ...            1.0                4.400000e+01   \n",
      "25%        2.000000  ...            1.0                8.426500e+04   \n",
      "50%        2.000000  ...            1.0                1.364995e+05   \n",
      "75%        3.000000  ...            1.0                2.187875e+05   \n",
      "max       18.000000  ...            1.0                1.142179e+07   \n",
      "\n",
      "       taxvaluedollarcnt  assessmentyear  landtaxvaluedollarcnt  \\\n",
      "count       7.737900e+04         77380.0           7.737800e+04   \n",
      "mean        4.901375e+05          2016.0           3.010969e+05   \n",
      "std         6.534477e+05             0.0           4.925990e+05   \n",
      "min         1.000000e+03          2016.0           1.610000e+02   \n",
      "25%         2.070000e+05          2016.0           8.550400e+04   \n",
      "50%         3.589760e+05          2016.0           2.033835e+05   \n",
      "75%         5.690030e+05          2016.0           3.668022e+05   \n",
      "max         4.906124e+07          2016.0           4.895220e+07   \n",
      "\n",
      "           taxamount  taxdelinquencyyear  censustractandblock            id  \\\n",
      "count   77375.000000         2886.000000         7.713600e+04  77380.000000   \n",
      "mean     5995.566592           14.087318         6.049674e+13  38848.191794   \n",
      "std      7622.887460            2.185663         1.535252e+12  22402.140388   \n",
      "min        19.920000            3.000000         6.037101e+13      0.000000   \n",
      "25%      2715.585000           14.000000         6.037311e+13  19460.750000   \n",
      "50%      4450.720000           15.000000         6.037603e+13  38869.500000   \n",
      "75%      6927.800000           15.000000         6.059042e+13  58252.250000   \n",
      "max    586639.300000           99.000000         4.830301e+14  77612.000000   \n",
      "\n",
      "           logerror  \n",
      "count  77380.000000  \n",
      "mean       0.016628  \n",
      "std        0.170190  \n",
      "min       -4.655420  \n",
      "25%       -0.024377  \n",
      "50%        0.006627  \n",
      "75%        0.039204  \n",
      "max        5.262999  \n",
      "\n",
      "[8 rows x 57 columns]\n",
      "\n",
      "\n",
      "Number of NaN values per column:\n",
      "parcelid                      0\n",
      "typeconstructiontypeid    77158\n",
      "storytypeid               77330\n",
      "propertylandusetypeid         0\n",
      "heatingorsystemtypeid     27941\n",
      "                          ...  \n",
      "buildingclassdesc         77365\n",
      "heatingorsystemdesc       27941\n",
      "propertylandusedesc           0\n",
      "storydesc                 77330\n",
      "typeconstructiondesc      77158\n",
      "Length: 68, dtype: int64\n",
      "\n",
      "\n",
      "Number of NaN values per row:\n",
      "0        36\n",
      "1        33\n",
      "2        34\n",
      "3        32\n",
      "4        29\n",
      "         ..\n",
      "77375    29\n",
      "77376    33\n",
      "77377    32\n",
      "77378    32\n",
      "77379    34\n",
      "Length: 77380, dtype: int64\n",
      "\n",
      "\n",
      "Value Counts per Column:\n",
      "----------------------------------------parcelid---------------------------------------- - "
     ]
    },
    {
     "data": {
      "text/plain": [
       "12086286    1\n",
       "13842812    1\n",
       "17089101    1\n",
       "14604878    1\n",
       "11149905    1\n",
       "12104347    1\n",
       "11077074    1\n",
       "17173076    1\n",
       "12714581    1\n",
       "12458582    1\n",
       "Name: parcelid, dtype: int64"
      ]
     },
     "metadata": {},
     "output_type": "display_data"
    },
    {
     "name": "stdout",
     "output_type": "stream",
     "text": [
      "----------------------------------------typeconstructiontypeid---------------------------------------- - "
     ]
    },
    {
     "data": {
      "text/plain": [
       "NaN     77158\n",
       "6.0       219\n",
       "4.0         1\n",
       "13.0        1\n",
       "10.0        1\n",
       "Name: typeconstructiontypeid, dtype: int64"
      ]
     },
     "metadata": {},
     "output_type": "display_data"
    },
    {
     "name": "stdout",
     "output_type": "stream",
     "text": [
      "----------------------------------------storytypeid---------------------------------------- - "
     ]
    },
    {
     "data": {
      "text/plain": [
       "NaN    77330\n",
       "7.0       50\n",
       "Name: storytypeid, dtype: int64"
      ]
     },
     "metadata": {},
     "output_type": "display_data"
    },
    {
     "name": "stdout",
     "output_type": "stream",
     "text": [
      "----------------------------------------propertylandusetypeid---------------------------------------- - "
     ]
    },
    {
     "data": {
      "text/plain": [
       "261.0    52319\n",
       "266.0    19294\n",
       "246.0     2009\n",
       "269.0     1944\n",
       "248.0      727\n",
       "247.0      535\n",
       "265.0      333\n",
       "263.0       74\n",
       "275.0       58\n",
       "260.0       37\n",
       "Name: propertylandusetypeid, dtype: int64"
      ]
     },
     "metadata": {},
     "output_type": "display_data"
    },
    {
     "name": "stdout",
     "output_type": "stream",
     "text": [
      "----------------------------------------heatingorsystemtypeid---------------------------------------- - "
     ]
    },
    {
     "data": {
      "text/plain": [
       "2.0     33550\n",
       "NaN     27941\n",
       "7.0     14064\n",
       "24.0      846\n",
       "6.0       776\n",
       "20.0      104\n",
       "13.0       59\n",
       "18.0       23\n",
       "1.0        13\n",
       "10.0        3\n",
       "Name: heatingorsystemtypeid, dtype: int64"
      ]
     },
     "metadata": {},
     "output_type": "display_data"
    },
    {
     "name": "stdout",
     "output_type": "stream",
     "text": [
      "----------------------------------------buildingclasstypeid---------------------------------------- - "
     ]
    },
    {
     "data": {
      "text/plain": [
       "NaN    77365\n",
       "4.0       14\n",
       "3.0        1\n",
       "Name: buildingclasstypeid, dtype: int64"
      ]
     },
     "metadata": {},
     "output_type": "display_data"
    },
    {
     "name": "stdout",
     "output_type": "stream",
     "text": [
      "----------------------------------------architecturalstyletypeid---------------------------------------- - "
     ]
    },
    {
     "data": {
      "text/plain": [
       "NaN     77174\n",
       "7.0       172\n",
       "8.0        19\n",
       "21.0        7\n",
       "2.0         5\n",
       "3.0         3\n",
       "Name: architecturalstyletypeid, dtype: int64"
      ]
     },
     "metadata": {},
     "output_type": "display_data"
    },
    {
     "name": "stdout",
     "output_type": "stream",
     "text": [
      "----------------------------------------airconditioningtypeid---------------------------------------- - "
     ]
    },
    {
     "data": {
      "text/plain": [
       "NaN     52427\n",
       "1.0     23133\n",
       "13.0     1574\n",
       "5.0       167\n",
       "11.0       53\n",
       "9.0        26\n",
       "Name: airconditioningtypeid, dtype: int64"
      ]
     },
     "metadata": {},
     "output_type": "display_data"
    },
    {
     "name": "stdout",
     "output_type": "stream",
     "text": [
      "----------------------------------------basementsqft---------------------------------------- - "
     ]
    },
    {
     "data": {
      "text/plain": [
       "NaN      77330\n",
       "700.0        2\n",
       "515.0        2\n",
       "900.0        2\n",
       "912.0        2\n",
       "640.0        2\n",
       "273.0        2\n",
       "100.0        2\n",
       "669.0        1\n",
       "252.0        1\n",
       "Name: basementsqft, dtype: int64"
      ]
     },
     "metadata": {},
     "output_type": "display_data"
    },
    {
     "name": "stdout",
     "output_type": "stream",
     "text": [
      "----------------------------------------bathroomcnt---------------------------------------- - "
     ]
    },
    {
     "data": {
      "text/plain": [
       "2.0    31484\n",
       "3.0    17313\n",
       "1.0    12902\n",
       "2.5     6604\n",
       "4.0     3352\n",
       "1.5     1415\n",
       "3.5     1034\n",
       "5.0     1026\n",
       "4.5      695\n",
       "0.0      592\n",
       "Name: bathroomcnt, dtype: int64"
      ]
     },
     "metadata": {},
     "output_type": "display_data"
    },
    {
     "name": "stdout",
     "output_type": "stream",
     "text": [
      "----------------------------------------bedroomcnt---------------------------------------- - "
     ]
    },
    {
     "data": {
      "text/plain": [
       "3.0    30361\n",
       "2.0    19169\n",
       "4.0    17513\n",
       "5.0     4543\n",
       "1.0     3379\n",
       "6.0      998\n",
       "0.0      830\n",
       "8.0      252\n",
       "7.0      208\n",
       "9.0       70\n",
       "Name: bedroomcnt, dtype: int64"
      ]
     },
     "metadata": {},
     "output_type": "display_data"
    },
    {
     "name": "stdout",
     "output_type": "stream",
     "text": [
      "----------------------------------------buildingqualitytypeid---------------------------------------- - "
     ]
    },
    {
     "data": {
      "text/plain": [
       "NaN     27709\n",
       "8.0     14645\n",
       "6.0     13462\n",
       "4.0      9482\n",
       "7.0      5971\n",
       "9.0      2299\n",
       "5.0      2088\n",
       "11.0      931\n",
       "3.0       329\n",
       "10.0      313\n",
       "Name: buildingqualitytypeid, dtype: int64"
      ]
     },
     "metadata": {},
     "output_type": "display_data"
    },
    {
     "name": "stdout",
     "output_type": "stream",
     "text": [
      "----------------------------------------calculatedbathnbr---------------------------------------- - "
     ]
    },
    {
     "data": {
      "text/plain": [
       "2.0    31484\n",
       "3.0    17313\n",
       "1.0    12902\n",
       "2.5     6595\n",
       "4.0     3352\n",
       "1.5     1408\n",
       "3.5     1034\n",
       "5.0     1026\n",
       "4.5      695\n",
       "NaN      609\n",
       "Name: calculatedbathnbr, dtype: int64"
      ]
     },
     "metadata": {},
     "output_type": "display_data"
    },
    {
     "name": "stdout",
     "output_type": "stream",
     "text": [
      "----------------------------------------decktypeid---------------------------------------- - "
     ]
    },
    {
     "data": {
      "text/plain": [
       "NaN     76766\n",
       "66.0      614\n",
       "Name: decktypeid, dtype: int64"
      ]
     },
     "metadata": {},
     "output_type": "display_data"
    },
    {
     "name": "stdout",
     "output_type": "stream",
     "text": [
      "----------------------------------------finishedfloor1squarefeet---------------------------------------- - "
     ]
    },
    {
     "data": {
      "text/plain": [
       "NaN       71357\n",
       "1252.0       22\n",
       "1498.0       21\n",
       "1441.0       21\n",
       "780.0        21\n",
       "1462.0       21\n",
       "1205.0       21\n",
       "1070.0       20\n",
       "1227.0       19\n",
       "1431.0       18\n",
       "Name: finishedfloor1squarefeet, dtype: int64"
      ]
     },
     "metadata": {},
     "output_type": "display_data"
    },
    {
     "name": "stdout",
     "output_type": "stream",
     "text": [
      "----------------------------------------calculatedfinishedsquarefeet---------------------------------------- - "
     ]
    },
    {
     "data": {
      "text/plain": [
       "NaN       196\n",
       "1200.0    181\n",
       "1120.0    169\n",
       "1440.0    147\n",
       "1080.0    132\n",
       "1260.0    120\n",
       "1176.0    119\n",
       "1300.0    118\n",
       "1040.0    118\n",
       "1232.0    117\n",
       "Name: calculatedfinishedsquarefeet, dtype: int64"
      ]
     },
     "metadata": {},
     "output_type": "display_data"
    },
    {
     "name": "stdout",
     "output_type": "stream",
     "text": [
      "----------------------------------------finishedsquarefeet12---------------------------------------- - "
     ]
    },
    {
     "data": {
      "text/plain": [
       "NaN       3632\n",
       "1200.0     176\n",
       "1120.0     165\n",
       "1080.0     131\n",
       "1440.0     120\n",
       "1232.0     116\n",
       "1260.0     116\n",
       "1040.0     116\n",
       "1300.0     114\n",
       "1570.0     114\n",
       "Name: finishedsquarefeet12, dtype: int64"
      ]
     },
     "metadata": {},
     "output_type": "display_data"
    },
    {
     "name": "stdout",
     "output_type": "stream",
     "text": [
      "----------------------------------------finishedsquarefeet13---------------------------------------- - "
     ]
    },
    {
     "data": {
      "text/plain": [
       "NaN       77339\n",
       "1440.0       18\n",
       "1344.0        5\n",
       "1488.0        3\n",
       "1536.0        3\n",
       "1248.0        2\n",
       "1152.0        2\n",
       "1392.0        2\n",
       "1512.0        1\n",
       "1200.0        1\n",
       "Name: finishedsquarefeet13, dtype: int64"
      ]
     },
     "metadata": {},
     "output_type": "display_data"
    },
    {
     "name": "stdout",
     "output_type": "stream",
     "text": [
      "----------------------------------------finishedsquarefeet15---------------------------------------- - "
     ]
    },
    {
     "data": {
      "text/plain": [
       "NaN       74371\n",
       "1680.0       16\n",
       "1536.0       12\n",
       "2016.0       12\n",
       "1600.0       10\n",
       "1440.0        9\n",
       "1560.0        9\n",
       "1512.0        9\n",
       "1740.0        8\n",
       "1584.0        8\n",
       "Name: finishedsquarefeet15, dtype: int64"
      ]
     },
     "metadata": {},
     "output_type": "display_data"
    },
    {
     "name": "stdout",
     "output_type": "stream",
     "text": [
      "----------------------------------------finishedsquarefeet50---------------------------------------- - "
     ]
    },
    {
     "data": {
      "text/plain": [
       "NaN       71357\n",
       "1252.0       22\n",
       "1462.0       21\n",
       "1441.0       21\n",
       "780.0        21\n",
       "1205.0       21\n",
       "1498.0       21\n",
       "1070.0       20\n",
       "1227.0       19\n",
       "1431.0       18\n",
       "Name: finishedsquarefeet50, dtype: int64"
      ]
     },
     "metadata": {},
     "output_type": "display_data"
    },
    {
     "name": "stdout",
     "output_type": "stream",
     "text": [
      "----------------------------------------finishedsquarefeet6---------------------------------------- - "
     ]
    },
    {
     "data": {
      "text/plain": [
       "NaN       76994\n",
       "952.0         4\n",
       "750.0         3\n",
       "3500.0        3\n",
       "3552.0        3\n",
       "520.0         3\n",
       "4300.0        2\n",
       "1539.0        2\n",
       "4213.0        2\n",
       "2110.0        2\n",
       "Name: finishedsquarefeet6, dtype: int64"
      ]
     },
     "metadata": {},
     "output_type": "display_data"
    },
    {
     "name": "stdout",
     "output_type": "stream",
     "text": [
      "----------------------------------------fips---------------------------------------- - "
     ]
    },
    {
     "data": {
      "text/plain": [
       "6037.0    50550\n",
       "6059.0    20593\n",
       "6111.0     6237\n",
       "Name: fips, dtype: int64"
      ]
     },
     "metadata": {},
     "output_type": "display_data"
    },
    {
     "name": "stdout",
     "output_type": "stream",
     "text": [
      "----------------------------------------fireplacecnt---------------------------------------- - "
     ]
    },
    {
     "data": {
      "text/plain": [
       "NaN    69104\n",
       "1.0     7008\n",
       "2.0      995\n",
       "3.0      235\n",
       "4.0       35\n",
       "5.0        3\n",
       "Name: fireplacecnt, dtype: int64"
      ]
     },
     "metadata": {},
     "output_type": "display_data"
    },
    {
     "name": "stdout",
     "output_type": "stream",
     "text": [
      "----------------------------------------fullbathcnt---------------------------------------- - "
     ]
    },
    {
     "data": {
      "text/plain": [
       "2.0    38096\n",
       "3.0    18351\n",
       "1.0    14310\n",
       "4.0     4048\n",
       "5.0     1245\n",
       "NaN      609\n",
       "6.0      454\n",
       "7.0      121\n",
       "8.0      111\n",
       "9.0       23\n",
       "Name: fullbathcnt, dtype: int64"
      ]
     },
     "metadata": {},
     "output_type": "display_data"
    },
    {
     "name": "stdout",
     "output_type": "stream",
     "text": [
      "----------------------------------------garagecarcnt---------------------------------------- - "
     ]
    },
    {
     "data": {
      "text/plain": [
       "NaN     51906\n",
       "2.0     18608\n",
       "1.0      5676\n",
       "3.0       632\n",
       "4.0       255\n",
       "0.0       230\n",
       "5.0        45\n",
       "6.0        14\n",
       "7.0         4\n",
       "10.0        3\n",
       "Name: garagecarcnt, dtype: int64"
      ]
     },
     "metadata": {},
     "output_type": "display_data"
    },
    {
     "name": "stdout",
     "output_type": "stream",
     "text": [
      "----------------------------------------garagetotalsqft---------------------------------------- - "
     ]
    },
    {
     "data": {
      "text/plain": [
       "NaN      51906\n",
       "0.0       7685\n",
       "400.0      786\n",
       "441.0      678\n",
       "462.0      658\n",
       "360.0      646\n",
       "460.0      569\n",
       "420.0      549\n",
       "440.0      539\n",
       "483.0      413\n",
       "Name: garagetotalsqft, dtype: int64"
      ]
     },
     "metadata": {},
     "output_type": "display_data"
    },
    {
     "name": "stdout",
     "output_type": "stream",
     "text": [
      "----------------------------------------hashottuborspa---------------------------------------- - "
     ]
    },
    {
     "data": {
      "text/plain": [
       "NaN    75842\n",
       "1.0     1538\n",
       "Name: hashottuborspa, dtype: int64"
      ]
     },
     "metadata": {},
     "output_type": "display_data"
    },
    {
     "name": "stdout",
     "output_type": "stream",
     "text": [
      "----------------------------------------latitude---------------------------------------- - "
     ]
    },
    {
     "data": {
      "text/plain": [
       "33984600.0    40\n",
       "33665651.0    38\n",
       "33766300.0    34\n",
       "34056700.0    32\n",
       "34225100.0    29\n",
       "33785200.0    27\n",
       "34410700.0    27\n",
       "33954400.0    26\n",
       "34171800.0    25\n",
       "34150100.0    23\n",
       "Name: latitude, dtype: int64"
      ]
     },
     "metadata": {},
     "output_type": "display_data"
    },
    {
     "name": "stdout",
     "output_type": "stream",
     "text": [
      "----------------------------------------longitude---------------------------------------- - "
     ]
    },
    {
     "data": {
      "text/plain": [
       "-118438000.0    63\n",
       "-118435000.0    62\n",
       "-118445000.0    60\n",
       "-118390000.0    60\n",
       "-118377000.0    59\n",
       "-118389000.0    58\n",
       "-118433000.0    56\n",
       "-118188000.0    55\n",
       "-118432000.0    55\n",
       "-118378000.0    52\n",
       "Name: longitude, dtype: int64"
      ]
     },
     "metadata": {},
     "output_type": "display_data"
    },
    {
     "name": "stdout",
     "output_type": "stream",
     "text": [
      "----------------------------------------lotsizesquarefeet---------------------------------------- - "
     ]
    },
    {
     "data": {
      "text/plain": [
       "NaN       8239\n",
       "6000.0     892\n",
       "5000.0     437\n",
       "7200.0     314\n",
       "7000.0     297\n",
       "6500.0     294\n",
       "7500.0     238\n",
       "6600.0     167\n",
       "5400.0     145\n",
       "4000.0     143\n",
       "Name: lotsizesquarefeet, dtype: int64"
      ]
     },
     "metadata": {},
     "output_type": "display_data"
    },
    {
     "name": "stdout",
     "output_type": "stream",
     "text": [
      "----------------------------------------poolcnt---------------------------------------- - "
     ]
    },
    {
     "data": {
      "text/plain": [
       "NaN    61243\n",
       "1.0    16137\n",
       "Name: poolcnt, dtype: int64"
      ]
     },
     "metadata": {},
     "output_type": "display_data"
    },
    {
     "name": "stdout",
     "output_type": "stream",
     "text": [
      "----------------------------------------poolsizesum---------------------------------------- - "
     ]
    },
    {
     "data": {
      "text/plain": [
       "NaN      76513\n",
       "450.0       90\n",
       "400.0       38\n",
       "500.0       30\n",
       "600.0       27\n",
       "512.0       25\n",
       "800.0       25\n",
       "480.0       19\n",
       "576.0       14\n",
       "544.0       14\n",
       "Name: poolsizesum, dtype: int64"
      ]
     },
     "metadata": {},
     "output_type": "display_data"
    },
    {
     "name": "stdout",
     "output_type": "stream",
     "text": [
      "----------------------------------------pooltypeid10---------------------------------------- - "
     ]
    },
    {
     "data": {
      "text/plain": [
       "NaN    76916\n",
       "1.0      464\n",
       "Name: pooltypeid10, dtype: int64"
      ]
     },
     "metadata": {},
     "output_type": "display_data"
    },
    {
     "name": "stdout",
     "output_type": "stream",
     "text": [
      "----------------------------------------pooltypeid2---------------------------------------- - "
     ]
    },
    {
     "data": {
      "text/plain": [
       "NaN    76306\n",
       "1.0     1074\n",
       "Name: pooltypeid2, dtype: int64"
      ]
     },
     "metadata": {},
     "output_type": "display_data"
    },
    {
     "name": "stdout",
     "output_type": "stream",
     "text": [
      "----------------------------------------pooltypeid7---------------------------------------- - "
     ]
    },
    {
     "data": {
      "text/plain": [
       "NaN    62338\n",
       "1.0    15042\n",
       "Name: pooltypeid7, dtype: int64"
      ]
     },
     "metadata": {},
     "output_type": "display_data"
    },
    {
     "name": "stdout",
     "output_type": "stream",
     "text": [
      "----------------------------------------propertycountylandusecode---------------------------------------- - "
     ]
    },
    {
     "data": {
      "text/plain": [
       "0100    26713\n",
       "122     13045\n",
       "010C     8813\n",
       "0101     6399\n",
       "34       4922\n",
       "1111     3353\n",
       "1        2393\n",
       "010E     2047\n",
       "010D     1943\n",
       "0200     1835\n",
       "Name: propertycountylandusecode, dtype: int64"
      ]
     },
     "metadata": {},
     "output_type": "display_data"
    },
    {
     "name": "stdout",
     "output_type": "stream",
     "text": [
      "----------------------------------------propertyzoningdesc---------------------------------------- - "
     ]
    },
    {
     "data": {
      "text/plain": [
       "NaN        27050\n",
       "LAR1        6747\n",
       "LAR3        2437\n",
       "LARS        1389\n",
       "LBR1N       1222\n",
       "LARD1.5     1127\n",
       "LAR2        1031\n",
       "SCUR2        956\n",
       "LARD2        849\n",
       "LARA         654\n",
       "Name: propertyzoningdesc, dtype: int64"
      ]
     },
     "metadata": {},
     "output_type": "display_data"
    },
    {
     "name": "stdout",
     "output_type": "stream",
     "text": [
      "----------------------------------------rawcensustractandblock---------------------------------------- - "
     ]
    },
    {
     "data": {
      "text/plain": [
       "6.059063e+07    60\n",
       "6.037137e+07    60\n",
       "6.037920e+07    58\n",
       "6.037277e+07    51\n",
       "6.059032e+07    43\n",
       "6.037139e+07    40\n",
       "6.037577e+07    39\n",
       "6.037274e+07    39\n",
       "6.059063e+07    39\n",
       "6.037578e+07    38\n",
       "Name: rawcensustractandblock, dtype: int64"
      ]
     },
     "metadata": {},
     "output_type": "display_data"
    },
    {
     "name": "stdout",
     "output_type": "stream",
     "text": [
      "----------------------------------------regionidcity---------------------------------------- - "
     ]
    },
    {
     "data": {
      "text/plain": [
       "12447.0    17948\n",
       "46298.0     2588\n",
       "5534.0      1912\n",
       "54311.0     1880\n",
       "52650.0     1669\n",
       "40227.0     1590\n",
       "NaN         1471\n",
       "16764.0     1467\n",
       "25218.0     1354\n",
       "34278.0     1195\n",
       "Name: regionidcity, dtype: int64"
      ]
     },
     "metadata": {},
     "output_type": "display_data"
    },
    {
     "name": "stdout",
     "output_type": "stream",
     "text": [
      "----------------------------------------regionidcounty---------------------------------------- - "
     ]
    },
    {
     "data": {
      "text/plain": [
       "3101.0    50550\n",
       "1286.0    20593\n",
       "2061.0     6237\n",
       "Name: regionidcounty, dtype: int64"
      ]
     },
     "metadata": {},
     "output_type": "display_data"
    },
    {
     "name": "stdout",
     "output_type": "stream",
     "text": [
      "----------------------------------------regionidneighborhood---------------------------------------- - "
     ]
    },
    {
     "data": {
      "text/plain": [
       "NaN         46490\n",
       "27080.0       717\n",
       "48570.0       704\n",
       "37739.0       684\n",
       "118208.0      669\n",
       "51906.0       549\n",
       "268496.0      531\n",
       "48200.0       525\n",
       "54300.0       521\n",
       "274049.0      466\n",
       "Name: regionidneighborhood, dtype: int64"
      ]
     },
     "metadata": {},
     "output_type": "display_data"
    },
    {
     "name": "stdout",
     "output_type": "stream",
     "text": [
      "----------------------------------------regionidzip---------------------------------------- - "
     ]
    },
    {
     "data": {
      "text/plain": [
       "97319.0    825\n",
       "96987.0    753\n",
       "97318.0    708\n",
       "97118.0    613\n",
       "96974.0    593\n",
       "96993.0    591\n",
       "97328.0    589\n",
       "97329.0    587\n",
       "96962.0    525\n",
       "96996.0    520\n",
       "Name: regionidzip, dtype: int64"
      ]
     },
     "metadata": {},
     "output_type": "display_data"
    },
    {
     "name": "stdout",
     "output_type": "stream",
     "text": [
      "----------------------------------------roomcnt---------------------------------------- - "
     ]
    },
    {
     "data": {
      "text/plain": [
       "0.0     59807\n",
       "6.0      4513\n",
       "7.0      3838\n",
       "5.0      3016\n",
       "8.0      2872\n",
       "4.0      1415\n",
       "9.0      1193\n",
       "10.0      339\n",
       "3.0       211\n",
       "11.0      108\n",
       "Name: roomcnt, dtype: int64"
      ]
     },
     "metadata": {},
     "output_type": "display_data"
    },
    {
     "name": "stdout",
     "output_type": "stream",
     "text": [
      "----------------------------------------threequarterbathnbr---------------------------------------- - "
     ]
    },
    {
     "data": {
      "text/plain": [
       "NaN    67284\n",
       "1.0    10012\n",
       "2.0       75\n",
       "3.0        8\n",
       "7.0        1\n",
       "Name: threequarterbathnbr, dtype: int64"
      ]
     },
     "metadata": {},
     "output_type": "display_data"
    },
    {
     "name": "stdout",
     "output_type": "stream",
     "text": [
      "----------------------------------------unitcnt---------------------------------------- - "
     ]
    },
    {
     "data": {
      "text/plain": [
       "1.0      47292\n",
       "NaN      26818\n",
       "2.0       2018\n",
       "4.0        723\n",
       "3.0        525\n",
       "6.0          1\n",
       "45.0         1\n",
       "237.0        1\n",
       "42.0         1\n",
       "Name: unitcnt, dtype: int64"
      ]
     },
     "metadata": {},
     "output_type": "display_data"
    },
    {
     "name": "stdout",
     "output_type": "stream",
     "text": [
      "----------------------------------------yardbuildingsqft17---------------------------------------- - "
     ]
    },
    {
     "data": {
      "text/plain": [
       "NaN      74992\n",
       "200.0      103\n",
       "240.0       76\n",
       "300.0       50\n",
       "180.0       42\n",
       "288.0       38\n",
       "120.0       38\n",
       "400.0       37\n",
       "360.0       35\n",
       "280.0       33\n",
       "Name: yardbuildingsqft17, dtype: int64"
      ]
     },
     "metadata": {},
     "output_type": "display_data"
    },
    {
     "name": "stdout",
     "output_type": "stream",
     "text": [
      "----------------------------------------yardbuildingsqft26---------------------------------------- - "
     ]
    },
    {
     "data": {
      "text/plain": [
       "NaN      77310\n",
       "30.0         3\n",
       "120.0        3\n",
       "240.0        2\n",
       "88.0         2\n",
       "56.0         2\n",
       "33.0         2\n",
       "300.0        2\n",
       "144.0        2\n",
       "448.0        2\n",
       "Name: yardbuildingsqft26, dtype: int64"
      ]
     },
     "metadata": {},
     "output_type": "display_data"
    },
    {
     "name": "stdout",
     "output_type": "stream",
     "text": [
      "----------------------------------------yearbuilt---------------------------------------- - "
     ]
    },
    {
     "data": {
      "text/plain": [
       "1955.0    1969\n",
       "1989.0    1787\n",
       "1950.0    1673\n",
       "1964.0    1642\n",
       "1954.0    1583\n",
       "1973.0    1567\n",
       "1953.0    1549\n",
       "1956.0    1448\n",
       "1987.0    1430\n",
       "1979.0    1428\n",
       "Name: yearbuilt, dtype: int64"
      ]
     },
     "metadata": {},
     "output_type": "display_data"
    },
    {
     "name": "stdout",
     "output_type": "stream",
     "text": [
      "----------------------------------------numberofstories---------------------------------------- - "
     ]
    },
    {
     "data": {
      "text/plain": [
       "NaN    59820\n",
       "1.0    10366\n",
       "2.0     6757\n",
       "3.0      436\n",
       "6.0        1\n",
       "Name: numberofstories, dtype: int64"
      ]
     },
     "metadata": {},
     "output_type": "display_data"
    },
    {
     "name": "stdout",
     "output_type": "stream",
     "text": [
      "----------------------------------------fireplaceflag---------------------------------------- - "
     ]
    },
    {
     "data": {
      "text/plain": [
       "NaN    77208\n",
       "1.0      172\n",
       "Name: fireplaceflag, dtype: int64"
      ]
     },
     "metadata": {},
     "output_type": "display_data"
    },
    {
     "name": "stdout",
     "output_type": "stream",
     "text": [
      "----------------------------------------structuretaxvaluedollarcnt---------------------------------------- - "
     ]
    },
    {
     "data": {
      "text/plain": [
       "NaN         112\n",
       "100000.0     82\n",
       "200000.0     58\n",
       "203050.0     55\n",
       "90000.0      52\n",
       "95000.0      49\n",
       "101525.0     49\n",
       "120000.0     44\n",
       "207106.0     43\n",
       "110000.0     42\n",
       "Name: structuretaxvaluedollarcnt, dtype: int64"
      ]
     },
     "metadata": {},
     "output_type": "display_data"
    },
    {
     "name": "stdout",
     "output_type": "stream",
     "text": [
      "----------------------------------------taxvaluedollarcnt---------------------------------------- - "
     ]
    },
    {
     "data": {
      "text/plain": [
       "400000.0    56\n",
       "600000.0    50\n",
       "350000.0    49\n",
       "450000.0    45\n",
       "500000.0    43\n",
       "420000.0    43\n",
       "455000.0    43\n",
       "340000.0    42\n",
       "375000.0    41\n",
       "300000.0    40\n",
       "Name: taxvaluedollarcnt, dtype: int64"
      ]
     },
     "metadata": {},
     "output_type": "display_data"
    },
    {
     "name": "stdout",
     "output_type": "stream",
     "text": [
      "----------------------------------------assessmentyear---------------------------------------- - "
     ]
    },
    {
     "data": {
      "text/plain": [
       "2016.0    77380\n",
       "Name: assessmentyear, dtype: int64"
      ]
     },
     "metadata": {},
     "output_type": "display_data"
    },
    {
     "name": "stdout",
     "output_type": "stream",
     "text": [
      "----------------------------------------landtaxvaluedollarcnt---------------------------------------- - "
     ]
    },
    {
     "data": {
      "text/plain": [
       "21299.0     97\n",
       "22755.0     68\n",
       "304575.0    65\n",
       "30210.0     63\n",
       "203050.0    63\n",
       "212207.0    61\n",
       "208047.0    59\n",
       "18611.0     56\n",
       "16749.0     55\n",
       "16542.0     53\n",
       "Name: landtaxvaluedollarcnt, dtype: int64"
      ]
     },
     "metadata": {},
     "output_type": "display_data"
    },
    {
     "name": "stdout",
     "output_type": "stream",
     "text": [
      "----------------------------------------taxamount---------------------------------------- - "
     ]
    },
    {
     "data": {
      "text/plain": [
       "2418.22    8\n",
       "3720.52    7\n",
       "NaN        5\n",
       "2217.31    5\n",
       "4401.72    5\n",
       "1725.20    5\n",
       "3815.22    5\n",
       "2388.63    4\n",
       "345.72     4\n",
       "3860.10    4\n",
       "Name: taxamount, dtype: int64"
      ]
     },
     "metadata": {},
     "output_type": "display_data"
    },
    {
     "name": "stdout",
     "output_type": "stream",
     "text": [
      "----------------------------------------taxdelinquencyflag---------------------------------------- - "
     ]
    },
    {
     "data": {
      "text/plain": [
       "NaN    74494\n",
       "Y       2886\n",
       "Name: taxdelinquencyflag, dtype: int64"
      ]
     },
     "metadata": {},
     "output_type": "display_data"
    },
    {
     "name": "stdout",
     "output_type": "stream",
     "text": [
      "----------------------------------------taxdelinquencyyear---------------------------------------- - "
     ]
    },
    {
     "data": {
      "text/plain": [
       "NaN     74494\n",
       "15.0     1552\n",
       "14.0      799\n",
       "13.0      183\n",
       "12.0      113\n",
       "11.0       98\n",
       "10.0       66\n",
       "9.0        47\n",
       "8.0        14\n",
       "7.0        10\n",
       "Name: taxdelinquencyyear, dtype: int64"
      ]
     },
     "metadata": {},
     "output_type": "display_data"
    },
    {
     "name": "stdout",
     "output_type": "stream",
     "text": [
      "----------------------------------------censustractandblock---------------------------------------- - "
     ]
    },
    {
     "data": {
      "text/plain": [
       "NaN             244\n",
       "6.037137e+13     60\n",
       "6.037277e+13     51\n",
       "6.059032e+13     44\n",
       "6.059063e+13     41\n",
       "6.037920e+13     41\n",
       "6.059063e+13     40\n",
       "6.037139e+13     40\n",
       "6.037920e+13     40\n",
       "6.037577e+13     39\n",
       "Name: censustractandblock, dtype: int64"
      ]
     },
     "metadata": {},
     "output_type": "display_data"
    },
    {
     "name": "stdout",
     "output_type": "stream",
     "text": [
      "----------------------------------------id---------------------------------------- - "
     ]
    },
    {
     "data": {
      "text/plain": [
       "2047     1\n",
       "27288    1\n",
       "31386    1\n",
       "29339    1\n",
       "19100    1\n",
       "17053    1\n",
       "23198    1\n",
       "21151    1\n",
       "76464    1\n",
       "74417    1\n",
       "Name: id, dtype: int64"
      ]
     },
     "metadata": {},
     "output_type": "display_data"
    },
    {
     "name": "stdout",
     "output_type": "stream",
     "text": [
      "----------------------------------------logerror---------------------------------------- - "
     ]
    },
    {
     "data": {
      "text/plain": [
       "0.002652    7\n",
       "0.000231    7\n",
       "0.001878    5\n",
       "0.003152    5\n",
       "0.008257    5\n",
       "0.006909    5\n",
       "0.011157    5\n",
       "0.000420    5\n",
       "0.008932    5\n",
       "0.000727    5\n",
       "Name: logerror, dtype: int64"
      ]
     },
     "metadata": {},
     "output_type": "display_data"
    },
    {
     "name": "stdout",
     "output_type": "stream",
     "text": [
      "----------------------------------------tdate---------------------------------------- - "
     ]
    },
    {
     "data": {
      "text/plain": [
       "2017-06-30    1189\n",
       "2017-04-28     911\n",
       "2017-05-31     867\n",
       "2017-07-28     814\n",
       "2017-08-31     781\n",
       "2017-03-31     770\n",
       "2017-05-26     743\n",
       "2017-06-16     727\n",
       "2017-06-23     706\n",
       "2017-08-25     696\n",
       "Name: tdate, dtype: int64"
      ]
     },
     "metadata": {},
     "output_type": "display_data"
    },
    {
     "name": "stdout",
     "output_type": "stream",
     "text": [
      "----------------------------------------airconditioningdesc---------------------------------------- - "
     ]
    },
    {
     "data": {
      "text/plain": [
       "NaN              52427\n",
       "Central          23133\n",
       "Yes               1574\n",
       "None               167\n",
       "Wall Unit           53\n",
       "Refrigeration       26\n",
       "Name: airconditioningdesc, dtype: int64"
      ]
     },
     "metadata": {},
     "output_type": "display_data"
    },
    {
     "name": "stdout",
     "output_type": "stream",
     "text": [
      "----------------------------------------architecturalstyledesc---------------------------------------- - "
     ]
    },
    {
     "data": {
      "text/plain": [
       "NaN              77174\n",
       "Contemporary       172\n",
       "Conventional        19\n",
       "Ranch/Rambler        7\n",
       "Bungalow             5\n",
       "Cape Cod             3\n",
       "Name: architecturalstyledesc, dtype: int64"
      ]
     },
     "metadata": {},
     "output_type": "display_data"
    },
    {
     "name": "stdout",
     "output_type": "stream",
     "text": [
      "----------------------------------------buildingclassdesc---------------------------------------- - "
     ]
    },
    {
     "data": {
      "text/plain": [
       "NaN                                                                                                                                                                                                                                        77365\n",
       "Buildings having wood or wood and steel frames                                                                                                                                                                                                14\n",
       "Buildings having exterior walls built of a non-combustible material such as brick, concrete, block or poured concrete. Interior partitions and roof structures are built of combustible materials. Floor may be concrete or wood frame.        1\n",
       "Name: buildingclassdesc, dtype: int64"
      ]
     },
     "metadata": {},
     "output_type": "display_data"
    },
    {
     "name": "stdout",
     "output_type": "stream",
     "text": [
      "----------------------------------------heatingorsystemdesc---------------------------------------- - "
     ]
    },
    {
     "data": {
      "text/plain": [
       "Central       33550\n",
       "NaN           27941\n",
       "Floor/Wall    14064\n",
       "Yes             846\n",
       "Forced air      776\n",
       "Solar           104\n",
       "None             59\n",
       "Radiant          23\n",
       "Baseboard        13\n",
       "Gravity           3\n",
       "Name: heatingorsystemdesc, dtype: int64"
      ]
     },
     "metadata": {},
     "output_type": "display_data"
    },
    {
     "name": "stdout",
     "output_type": "stream",
     "text": [
      "----------------------------------------propertylandusedesc---------------------------------------- - "
     ]
    },
    {
     "data": {
      "text/plain": [
       "Single Family Residential                     52319\n",
       "Condominium                                   19294\n",
       "Duplex (2 Units, Any Combination)              2009\n",
       "Planned Unit Development                       1944\n",
       "Quadruplex (4 Units, Any Combination)           727\n",
       "Triplex (3 Units, Any Combination)              535\n",
       "Cluster Home                                    333\n",
       "Mobile Home                                      74\n",
       "Manufactured, Modular, Prefabricated Homes       58\n",
       "Residential General                              37\n",
       "Name: propertylandusedesc, dtype: int64"
      ]
     },
     "metadata": {},
     "output_type": "display_data"
    },
    {
     "name": "stdout",
     "output_type": "stream",
     "text": [
      "----------------------------------------storydesc---------------------------------------- - "
     ]
    },
    {
     "data": {
      "text/plain": [
       "NaN         77330\n",
       "Basement       50\n",
       "Name: storydesc, dtype: int64"
      ]
     },
     "metadata": {},
     "output_type": "display_data"
    },
    {
     "name": "stdout",
     "output_type": "stream",
     "text": [
      "----------------------------------------typeconstructiondesc---------------------------------------- - "
     ]
    },
    {
     "data": {
      "text/plain": [
       "NaN         77158\n",
       "Frame         219\n",
       "Concrete        1\n",
       "Metal           1\n",
       "Masonry         1\n",
       "Name: typeconstructiondesc, dtype: int64"
      ]
     },
     "metadata": {},
     "output_type": "display_data"
    }
   ],
   "source": [
    "df_summary(df)"
   ]
  },
  {
   "cell_type": "markdown",
   "metadata": {},
   "source": [
    "***\n",
    "\n",
    "### 3. Write a function that takes in a dataframe of observations and attributes and returns a dataframe where each row is an atttribute name, the first column is the number of rows with missing values for that attribute, and the second column is percent of total rows that have missing values for that attribute. Run the function and document takeaways from this on how you want to handle missing values.*\n",
    "\n",
    "***"
   ]
  },
  {
   "cell_type": "code",
   "execution_count": 10,
   "metadata": {},
   "outputs": [],
   "source": [
    "def count_and_percent_missing_row(df):\n",
    "    percent_missing = df.isnull().sum() * 100 / len(df)\n",
    "    total_missing = df.isnull().sum()\n",
    "    missing_value_df = pd.DataFrame({'num_rows_missing': total_missing,\n",
    "                                     'pct_rows_missing': percent_missing})\n",
    "    return missing_value_df"
   ]
  },
  {
   "cell_type": "code",
   "execution_count": 11,
   "metadata": {},
   "outputs": [
    {
     "data": {
      "text/html": [
       "<div>\n",
       "<style scoped>\n",
       "    .dataframe tbody tr th:only-of-type {\n",
       "        vertical-align: middle;\n",
       "    }\n",
       "\n",
       "    .dataframe tbody tr th {\n",
       "        vertical-align: top;\n",
       "    }\n",
       "\n",
       "    .dataframe thead th {\n",
       "        text-align: right;\n",
       "    }\n",
       "</style>\n",
       "<table border=\"1\" class=\"dataframe\">\n",
       "  <thead>\n",
       "    <tr style=\"text-align: right;\">\n",
       "      <th></th>\n",
       "      <th>num_rows_missing</th>\n",
       "      <th>pct_rows_missing</th>\n",
       "    </tr>\n",
       "  </thead>\n",
       "  <tbody>\n",
       "    <tr>\n",
       "      <th>parcelid</th>\n",
       "      <td>0</td>\n",
       "      <td>0.000000</td>\n",
       "    </tr>\n",
       "    <tr>\n",
       "      <th>typeconstructiontypeid</th>\n",
       "      <td>77158</td>\n",
       "      <td>99.713104</td>\n",
       "    </tr>\n",
       "    <tr>\n",
       "      <th>storytypeid</th>\n",
       "      <td>77330</td>\n",
       "      <td>99.935384</td>\n",
       "    </tr>\n",
       "    <tr>\n",
       "      <th>propertylandusetypeid</th>\n",
       "      <td>0</td>\n",
       "      <td>0.000000</td>\n",
       "    </tr>\n",
       "    <tr>\n",
       "      <th>heatingorsystemtypeid</th>\n",
       "      <td>27941</td>\n",
       "      <td>36.108814</td>\n",
       "    </tr>\n",
       "    <tr>\n",
       "      <th>...</th>\n",
       "      <td>...</td>\n",
       "      <td>...</td>\n",
       "    </tr>\n",
       "    <tr>\n",
       "      <th>buildingclassdesc</th>\n",
       "      <td>77365</td>\n",
       "      <td>99.980615</td>\n",
       "    </tr>\n",
       "    <tr>\n",
       "      <th>heatingorsystemdesc</th>\n",
       "      <td>27941</td>\n",
       "      <td>36.108814</td>\n",
       "    </tr>\n",
       "    <tr>\n",
       "      <th>propertylandusedesc</th>\n",
       "      <td>0</td>\n",
       "      <td>0.000000</td>\n",
       "    </tr>\n",
       "    <tr>\n",
       "      <th>storydesc</th>\n",
       "      <td>77330</td>\n",
       "      <td>99.935384</td>\n",
       "    </tr>\n",
       "    <tr>\n",
       "      <th>typeconstructiondesc</th>\n",
       "      <td>77158</td>\n",
       "      <td>99.713104</td>\n",
       "    </tr>\n",
       "  </tbody>\n",
       "</table>\n",
       "<p>68 rows × 2 columns</p>\n",
       "</div>"
      ],
      "text/plain": [
       "                        num_rows_missing  pct_rows_missing\n",
       "parcelid                               0          0.000000\n",
       "typeconstructiontypeid             77158         99.713104\n",
       "storytypeid                        77330         99.935384\n",
       "propertylandusetypeid                  0          0.000000\n",
       "heatingorsystemtypeid              27941         36.108814\n",
       "...                                  ...               ...\n",
       "buildingclassdesc                  77365         99.980615\n",
       "heatingorsystemdesc                27941         36.108814\n",
       "propertylandusedesc                    0          0.000000\n",
       "storydesc                          77330         99.935384\n",
       "typeconstructiondesc               77158         99.713104\n",
       "\n",
       "[68 rows x 2 columns]"
      ]
     },
     "execution_count": 11,
     "metadata": {},
     "output_type": "execute_result"
    }
   ],
   "source": [
    "count_and_percent_missing_row(df)"
   ]
  },
  {
   "cell_type": "markdown",
   "metadata": {},
   "source": [
    "***\n",
    "\n",
    "#### Based on this I would want to delete attributes that have less than 50% of their data missing.\n",
    "\n",
    "***"
   ]
  },
  {
   "cell_type": "markdown",
   "metadata": {},
   "source": [
    "***\n",
    "\n",
    "### 4. Write a function that takes in a dataframe and returns a dataframe with 3 columns: the number of columns missing, percent of columns missing, and number of rows with n columns missing. Run the function and document takeaways from this on how you want to handle missing values.\n",
    "\n",
    "***"
   ]
  },
  {
   "cell_type": "code",
   "execution_count": 12,
   "metadata": {
    "scrolled": true
   },
   "outputs": [],
   "source": [
    "def count_and_percent_missing_column(df):\n",
    "    num_rows = df.loc[:].isnull().sum()\n",
    "    num_cols_missing = df.loc[:, df.isna().any()].count()\n",
    "    pct_cols_missing = round(df.loc[:, df.isna().any()].count() / len(df.index) * 100, 3)\n",
    "    missing_cols_and_rows_df = pd.DataFrame({'num_cols_missing': num_cols_missing,\n",
    "                                             'pct_cols_missing': pct_cols_missing,\n",
    "                                             'num_rows': num_rows})\n",
    "    missing_cols_and_rows_df = missing_cols_and_rows_df.fillna(0)\n",
    "    missing_cols_and_rows_df['num_cols_missing'] = missing_cols_and_rows_df['num_cols_missing'].astype(int)\n",
    "    return missing_cols_and_rows_df"
   ]
  },
  {
   "cell_type": "code",
   "execution_count": 13,
   "metadata": {},
   "outputs": [
    {
     "data": {
      "text/html": [
       "<div>\n",
       "<style scoped>\n",
       "    .dataframe tbody tr th:only-of-type {\n",
       "        vertical-align: middle;\n",
       "    }\n",
       "\n",
       "    .dataframe tbody tr th {\n",
       "        vertical-align: top;\n",
       "    }\n",
       "\n",
       "    .dataframe thead th {\n",
       "        text-align: right;\n",
       "    }\n",
       "</style>\n",
       "<table border=\"1\" class=\"dataframe\">\n",
       "  <thead>\n",
       "    <tr style=\"text-align: right;\">\n",
       "      <th></th>\n",
       "      <th>num_cols_missing</th>\n",
       "      <th>pct_cols_missing</th>\n",
       "      <th>num_rows</th>\n",
       "    </tr>\n",
       "  </thead>\n",
       "  <tbody>\n",
       "    <tr>\n",
       "      <th>airconditioningdesc</th>\n",
       "      <td>24953</td>\n",
       "      <td>32.247</td>\n",
       "      <td>52427</td>\n",
       "    </tr>\n",
       "    <tr>\n",
       "      <th>airconditioningtypeid</th>\n",
       "      <td>24953</td>\n",
       "      <td>32.247</td>\n",
       "      <td>52427</td>\n",
       "    </tr>\n",
       "    <tr>\n",
       "      <th>architecturalstyledesc</th>\n",
       "      <td>206</td>\n",
       "      <td>0.266</td>\n",
       "      <td>77174</td>\n",
       "    </tr>\n",
       "    <tr>\n",
       "      <th>architecturalstyletypeid</th>\n",
       "      <td>206</td>\n",
       "      <td>0.266</td>\n",
       "      <td>77174</td>\n",
       "    </tr>\n",
       "    <tr>\n",
       "      <th>assessmentyear</th>\n",
       "      <td>0</td>\n",
       "      <td>0.000</td>\n",
       "      <td>0</td>\n",
       "    </tr>\n",
       "    <tr>\n",
       "      <th>...</th>\n",
       "      <td>...</td>\n",
       "      <td>...</td>\n",
       "      <td>...</td>\n",
       "    </tr>\n",
       "    <tr>\n",
       "      <th>typeconstructiontypeid</th>\n",
       "      <td>222</td>\n",
       "      <td>0.287</td>\n",
       "      <td>77158</td>\n",
       "    </tr>\n",
       "    <tr>\n",
       "      <th>unitcnt</th>\n",
       "      <td>50562</td>\n",
       "      <td>65.342</td>\n",
       "      <td>26818</td>\n",
       "    </tr>\n",
       "    <tr>\n",
       "      <th>yardbuildingsqft17</th>\n",
       "      <td>2388</td>\n",
       "      <td>3.086</td>\n",
       "      <td>74992</td>\n",
       "    </tr>\n",
       "    <tr>\n",
       "      <th>yardbuildingsqft26</th>\n",
       "      <td>70</td>\n",
       "      <td>0.090</td>\n",
       "      <td>77310</td>\n",
       "    </tr>\n",
       "    <tr>\n",
       "      <th>yearbuilt</th>\n",
       "      <td>77117</td>\n",
       "      <td>99.660</td>\n",
       "      <td>263</td>\n",
       "    </tr>\n",
       "  </tbody>\n",
       "</table>\n",
       "<p>68 rows × 3 columns</p>\n",
       "</div>"
      ],
      "text/plain": [
       "                          num_cols_missing  pct_cols_missing  num_rows\n",
       "airconditioningdesc                  24953            32.247     52427\n",
       "airconditioningtypeid                24953            32.247     52427\n",
       "architecturalstyledesc                 206             0.266     77174\n",
       "architecturalstyletypeid               206             0.266     77174\n",
       "assessmentyear                           0             0.000         0\n",
       "...                                    ...               ...       ...\n",
       "typeconstructiontypeid                 222             0.287     77158\n",
       "unitcnt                              50562            65.342     26818\n",
       "yardbuildingsqft17                    2388             3.086     74992\n",
       "yardbuildingsqft26                      70             0.090     77310\n",
       "yearbuilt                            77117            99.660       263\n",
       "\n",
       "[68 rows x 3 columns]"
      ]
     },
     "execution_count": 13,
     "metadata": {},
     "output_type": "execute_result"
    }
   ],
   "source": [
    "count_and_percent_missing_column(df)"
   ]
  },
  {
   "cell_type": "markdown",
   "metadata": {},
   "source": [
    "\n",
    "\n",
    "#### Based on this I would want to delete columns that have less than 75% of their data missing.\n",
    "\n",
    "***"
   ]
  },
  {
   "cell_type": "markdown",
   "metadata": {},
   "source": [
    "## Prepare\n",
    "\n",
    "### 1. Remove any properties that are likely to be something other than single unit properties. (e.g. no duplexes, no land/lot, ...). There are multiple ways to estimate that a property is a single unit, and there is not a single \"right\" answer. But for this exercise, do not purely filter by unitcnt as we did previously. Add some new logic that will reduce the number of properties that are falsely removed. You might want to use # bedrooms, square feet, unit type or the like to then identify those with unitcnt not defined.\n"
   ]
  },
  {
   "cell_type": "markdown",
   "metadata": {},
   "source": [
    "Property Codes that Fit the Breif of (Single Unit Properties)\n",
    "\n",
    "propertylandusetypeid\n",
    "-        261          Single Family Residential\n",
    "-        263          Mobile Home\n",
    "-        264          Townhouse\n",
    "-        266          Condominium\n",
    "-        273          Bungalow\n",
    "-        276          Patio Home\n",
    "-        275          Manufactured, Modular, Prefabricated Homes\n",
    "-        279          Inferred Single Family Residential\n",
    "\n",
    "Alternate Methods to determine single Unit Properties\n",
    "\n",
    "df.unitcnt == 1   \n",
    "df.roomcnt > 0   \n",
    "df.garagecarcnt > 0   \n",
    "df.bedroomcnt > 0   \n",
    "df.bathroomcnt > 0   "
   ]
  },
  {
   "cell_type": "code",
   "execution_count": 14,
   "metadata": {},
   "outputs": [
    {
     "data": {
      "text/plain": [
       "(77380, 68)"
      ]
     },
     "execution_count": 14,
     "metadata": {},
     "output_type": "execute_result"
    }
   ],
   "source": [
    "df.shape"
   ]
  },
  {
   "cell_type": "code",
   "execution_count": 15,
   "metadata": {},
   "outputs": [
    {
     "data": {
      "text/plain": [
       "(47293, 70)"
      ]
     },
     "execution_count": 15,
     "metadata": {},
     "output_type": "execute_result"
    }
   ],
   "source": [
    "df = acquire.get_zillow_data(cached=True)\n",
    "unit_df = df[df['unitcnt']==1]\n",
    "unit_df.shape"
   ]
  },
  {
   "cell_type": "code",
   "execution_count": 16,
   "metadata": {},
   "outputs": [
    {
     "data": {
      "text/plain": [
       "(17573, 70)"
      ]
     },
     "execution_count": 16,
     "metadata": {},
     "output_type": "execute_result"
    }
   ],
   "source": [
    "df = acquire.get_zillow_data(cached=True)\n",
    "room_df = df[df['roomcnt']>0]\n",
    "room_df.shape"
   ]
  },
  {
   "cell_type": "code",
   "execution_count": 17,
   "metadata": {},
   "outputs": [
    {
     "data": {
      "text/plain": [
       "(25244, 70)"
      ]
     },
     "execution_count": 17,
     "metadata": {},
     "output_type": "execute_result"
    }
   ],
   "source": [
    "df = acquire.get_zillow_data(cached=True)\n",
    "garage_df = df[df['garagecarcnt']>0]\n",
    "garage_df.shape"
   ]
  },
  {
   "cell_type": "code",
   "execution_count": 18,
   "metadata": {},
   "outputs": [
    {
     "data": {
      "text/plain": [
       "(76551, 70)"
      ]
     },
     "execution_count": 18,
     "metadata": {},
     "output_type": "execute_result"
    }
   ],
   "source": [
    "df = acquire.get_zillow_data(cached=True)\n",
    "bed_df = df[df['bedroomcnt']>0]\n",
    "bed_df.shape"
   ]
  },
  {
   "cell_type": "code",
   "execution_count": 19,
   "metadata": {},
   "outputs": [
    {
     "data": {
      "text/plain": [
       "(76789, 70)"
      ]
     },
     "execution_count": 19,
     "metadata": {},
     "output_type": "execute_result"
    }
   ],
   "source": [
    "df = acquire.get_zillow_data(cached=True)\n",
    "bath_df = df[df['bathroomcnt']>0]\n",
    "bath_df.shape"
   ]
  },
  {
   "cell_type": "code",
   "execution_count": 20,
   "metadata": {},
   "outputs": [
    {
     "data": {
      "text/plain": [
       "(76871, 70)"
      ]
     },
     "execution_count": 20,
     "metadata": {},
     "output_type": "execute_result"
    }
   ],
   "source": [
    "# Unique dataframe that does not use proptertylandusetypeid to identify single unit properties\n",
    "seconday_featutes_df = pd.concat([bed_df, bath_df, garage_df, room_df, unit_df]).drop_duplicates('id').reset_index(drop=True)\n",
    "seconday_featutes_df.shape"
   ]
  },
  {
   "cell_type": "code",
   "execution_count": 21,
   "metadata": {},
   "outputs": [],
   "source": [
    "#pd.set_option('display.max_rows', df.shape[0]+1) # Shows all the rows\n",
    "#new_df.parcelid.value_counts(ascending=False)"
   ]
  },
  {
   "cell_type": "code",
   "execution_count": 22,
   "metadata": {},
   "outputs": [
    {
     "data": {
      "text/plain": [
       "(71752, 70)"
      ]
     },
     "execution_count": 22,
     "metadata": {},
     "output_type": "execute_result"
    }
   ],
   "source": [
    "# Unique dataframe tha uses propterylandusetypeid to identify single unit properties\n",
    "df = acquire.get_zillow_data(cached=True)\n",
    "p261_df = df[df['propertylandusetypeid'] == 261]\n",
    "p263_df = df[df['propertylandusetypeid'] == 263]\n",
    "p264_df = df[df['propertylandusetypeid'] == 264]    \n",
    "p266_df = df[df['propertylandusetypeid'] == 266] \n",
    "p273_df = df[df['propertylandusetypeid'] == 273]\n",
    "p275_df = df[df['propertylandusetypeid'] == 275]\n",
    "p276_df = df[df['propertylandusetypeid'] == 276]    \n",
    "p279_df = df[df['propertylandusetypeid'] == 279]\n",
    "property_df = pd.concat([p261_df, p263_df, p264_df, p266_df, p273_df, p275_df, p276_df, p279_df]).drop_duplicates('id').reset_index(drop=True)\n",
    "property_df.shape"
   ]
  },
  {
   "cell_type": "code",
   "execution_count": 23,
   "metadata": {},
   "outputs": [
    {
     "data": {
      "text/plain": [
       "(77056, 70)"
      ]
     },
     "execution_count": 23,
     "metadata": {},
     "output_type": "execute_result"
    }
   ],
   "source": [
    "# Combined Dataframe, seconday_features_df and verified property_df\n",
    "all_single_unit_properties_df = pd.concat([seconday_featutes_df, property_df]).drop_duplicates('id').reset_index(drop=True)\n",
    "all_single_unit_properties_df.shape"
   ]
  },
  {
   "cell_type": "code",
   "execution_count": 24,
   "metadata": {},
   "outputs": [
    {
     "name": "stdout",
     "output_type": "stream",
     "text": [
      "Duplicate Rows :\n"
     ]
    },
    {
     "data": {
      "text/html": [
       "<div>\n",
       "<style scoped>\n",
       "    .dataframe tbody tr th:only-of-type {\n",
       "        vertical-align: middle;\n",
       "    }\n",
       "\n",
       "    .dataframe tbody tr th {\n",
       "        vertical-align: top;\n",
       "    }\n",
       "\n",
       "    .dataframe thead th {\n",
       "        text-align: right;\n",
       "    }\n",
       "</style>\n",
       "<table border=\"1\" class=\"dataframe\">\n",
       "  <thead>\n",
       "    <tr style=\"text-align: right;\">\n",
       "      <th></th>\n",
       "      <th>parcelid</th>\n",
       "      <th>typeconstructiontypeid</th>\n",
       "      <th>storytypeid</th>\n",
       "      <th>propertylandusetypeid</th>\n",
       "      <th>heatingorsystemtypeid</th>\n",
       "      <th>buildingclasstypeid</th>\n",
       "      <th>architecturalstyletypeid</th>\n",
       "      <th>airconditioningtypeid</th>\n",
       "      <th>id</th>\n",
       "      <th>basementsqft</th>\n",
       "      <th>...</th>\n",
       "      <th>logerror</th>\n",
       "      <th>pid</th>\n",
       "      <th>tdate</th>\n",
       "      <th>airconditioningdesc</th>\n",
       "      <th>architecturalstyledesc</th>\n",
       "      <th>buildingclassdesc</th>\n",
       "      <th>heatingorsystemdesc</th>\n",
       "      <th>propertylandusedesc</th>\n",
       "      <th>storydesc</th>\n",
       "      <th>typeconstructiondesc</th>\n",
       "    </tr>\n",
       "  </thead>\n",
       "  <tbody>\n",
       "  </tbody>\n",
       "</table>\n",
       "<p>0 rows × 70 columns</p>\n",
       "</div>"
      ],
      "text/plain": [
       "Empty DataFrame\n",
       "Columns: [parcelid, typeconstructiontypeid, storytypeid, propertylandusetypeid, heatingorsystemtypeid, buildingclasstypeid, architecturalstyletypeid, airconditioningtypeid, id, basementsqft, bathroomcnt, bedroomcnt, buildingqualitytypeid, calculatedbathnbr, decktypeid, finishedfloor1squarefeet, calculatedfinishedsquarefeet, finishedsquarefeet12, finishedsquarefeet13, finishedsquarefeet15, finishedsquarefeet50, finishedsquarefeet6, fips, fireplacecnt, fullbathcnt, garagecarcnt, garagetotalsqft, hashottuborspa, latitude, longitude, lotsizesquarefeet, poolcnt, poolsizesum, pooltypeid10, pooltypeid2, pooltypeid7, propertycountylandusecode, propertyzoningdesc, rawcensustractandblock, regionidcity, regionidcounty, regionidneighborhood, regionidzip, roomcnt, threequarterbathnbr, unitcnt, yardbuildingsqft17, yardbuildingsqft26, yearbuilt, numberofstories, fireplaceflag, structuretaxvaluedollarcnt, taxvaluedollarcnt, assessmentyear, landtaxvaluedollarcnt, taxamount, taxdelinquencyflag, taxdelinquencyyear, censustractandblock, id, logerror, pid, tdate, airconditioningdesc, architecturalstyledesc, buildingclassdesc, heatingorsystemdesc, propertylandusedesc, storydesc, typeconstructiondesc]\n",
       "Index: []\n",
       "\n",
       "[0 rows x 70 columns]"
      ]
     },
     "execution_count": 24,
     "metadata": {},
     "output_type": "execute_result"
    }
   ],
   "source": [
    "# Check for duplicated rows\n",
    "duplicate = all_single_unit_properties_df[all_single_unit_properties_df.duplicated(keep = 'last')]   \n",
    "print(\"Duplicate Rows :\") \n",
    "duplicate"
   ]
  },
  {
   "cell_type": "code",
   "execution_count": 25,
   "metadata": {},
   "outputs": [],
   "source": [
    "df = df = pd.read_csv('zillow_df.csv')\n",
    "unit_df = df[df['unitcnt']==1]\n",
    "df = df = pd.read_csv('zillow_df.csv')\n",
    "room_df = df[df['roomcnt']>0]\n",
    "df = df = pd.read_csv('zillow_df.csv')\n",
    "garage_df = df[df['garagecarcnt']>0]\n",
    "df = df = pd.read_csv('zillow_df.csv')\n",
    "bed_df = df[df['bedroomcnt']>0]\n",
    "df = df = pd.read_csv('zillow_df.csv')\n",
    "bath_df = df[df['bathroomcnt']>0]\n",
    "df = df = pd.read_csv('zillow_df.csv')\n",
    "#seconday_featutes_df = pd.concat([bed_df, bath_df, garage_df, room_df, unit_df]).drop_duplicates('id').reset_index(drop=True)\n",
    "df = df = pd.read_csv('zillow_df.csv')\n",
    "p261_df = df[df['propertylandusetypeid'] == 261]\n",
    "df = df = pd.read_csv('zillow_df.csv')\n",
    "p263_df = df[df['propertylandusetypeid'] == 263]\n",
    "df = df = pd.read_csv('zillow_df.csv')\n",
    "p264_df = df[df['propertylandusetypeid'] == 264]    \n",
    "df = df = pd.read_csv('zillow_df.csv')\n",
    "p266_df = df[df['propertylandusetypeid'] == 266] \n",
    "df = df = pd.read_csv('zillow_df.csv')\n",
    "p273_df = df[df['propertylandusetypeid'] == 273]\n",
    "df = df = pd.read_csv('zillow_df.csv')\n",
    "p275_df = df[df['propertylandusetypeid'] == 275]\n",
    "df = df = pd.read_csv('zillow_df.csv')\n",
    "p276_df = df[df['propertylandusetypeid'] == 276]    \n",
    "df = df = pd.read_csv('zillow_df.csv')\n",
    "p279_df = df[df['propertylandusetypeid'] == 279]\n",
    "complete_df = pd.concat([p261_df, p263_df, p264_df, p266_df, p273_df, p275_df, p276_df, p279_df,bed_df, bath_df, garage_df, room_df, unit_df]).drop_duplicates('id').reset_index(drop=True)\n",
    "df = pd.concat([complete_df]).drop_duplicates('id').reset_index(drop=True)\n",
    "   "
   ]
  },
  {
   "cell_type": "code",
   "execution_count": 26,
   "metadata": {},
   "outputs": [
    {
     "name": "stdout",
     "output_type": "stream",
     "text": [
      "(77056, 71)\n",
      "Duplicate Rows :\n"
     ]
    },
    {
     "data": {
      "text/html": [
       "<div>\n",
       "<style scoped>\n",
       "    .dataframe tbody tr th:only-of-type {\n",
       "        vertical-align: middle;\n",
       "    }\n",
       "\n",
       "    .dataframe tbody tr th {\n",
       "        vertical-align: top;\n",
       "    }\n",
       "\n",
       "    .dataframe thead th {\n",
       "        text-align: right;\n",
       "    }\n",
       "</style>\n",
       "<table border=\"1\" class=\"dataframe\">\n",
       "  <thead>\n",
       "    <tr style=\"text-align: right;\">\n",
       "      <th></th>\n",
       "      <th>Unnamed: 0</th>\n",
       "      <th>parcelid</th>\n",
       "      <th>typeconstructiontypeid</th>\n",
       "      <th>storytypeid</th>\n",
       "      <th>propertylandusetypeid</th>\n",
       "      <th>heatingorsystemtypeid</th>\n",
       "      <th>buildingclasstypeid</th>\n",
       "      <th>architecturalstyletypeid</th>\n",
       "      <th>airconditioningtypeid</th>\n",
       "      <th>id</th>\n",
       "      <th>...</th>\n",
       "      <th>logerror</th>\n",
       "      <th>pid</th>\n",
       "      <th>tdate</th>\n",
       "      <th>airconditioningdesc</th>\n",
       "      <th>architecturalstyledesc</th>\n",
       "      <th>buildingclassdesc</th>\n",
       "      <th>heatingorsystemdesc</th>\n",
       "      <th>propertylandusedesc</th>\n",
       "      <th>storydesc</th>\n",
       "      <th>typeconstructiondesc</th>\n",
       "    </tr>\n",
       "  </thead>\n",
       "  <tbody>\n",
       "  </tbody>\n",
       "</table>\n",
       "<p>0 rows × 71 columns</p>\n",
       "</div>"
      ],
      "text/plain": [
       "Empty DataFrame\n",
       "Columns: [Unnamed: 0, parcelid, typeconstructiontypeid, storytypeid, propertylandusetypeid, heatingorsystemtypeid, buildingclasstypeid, architecturalstyletypeid, airconditioningtypeid, id, basementsqft, bathroomcnt, bedroomcnt, buildingqualitytypeid, calculatedbathnbr, decktypeid, finishedfloor1squarefeet, calculatedfinishedsquarefeet, finishedsquarefeet12, finishedsquarefeet13, finishedsquarefeet15, finishedsquarefeet50, finishedsquarefeet6, fips, fireplacecnt, fullbathcnt, garagecarcnt, garagetotalsqft, hashottuborspa, latitude, longitude, lotsizesquarefeet, poolcnt, poolsizesum, pooltypeid10, pooltypeid2, pooltypeid7, propertycountylandusecode, propertyzoningdesc, rawcensustractandblock, regionidcity, regionidcounty, regionidneighborhood, regionidzip, roomcnt, threequarterbathnbr, unitcnt, yardbuildingsqft17, yardbuildingsqft26, yearbuilt, numberofstories, fireplaceflag, structuretaxvaluedollarcnt, taxvaluedollarcnt, assessmentyear, landtaxvaluedollarcnt, taxamount, taxdelinquencyflag, taxdelinquencyyear, censustractandblock, id.1, logerror, pid, tdate, airconditioningdesc, architecturalstyledesc, buildingclassdesc, heatingorsystemdesc, propertylandusedesc, storydesc, typeconstructiondesc]\n",
       "Index: []\n",
       "\n",
       "[0 rows x 71 columns]"
      ]
     },
     "execution_count": 26,
     "metadata": {},
     "output_type": "execute_result"
    }
   ],
   "source": [
    "print(df.shape)\n",
    "duplicate = df[df.duplicated(keep = 'last')]   \n",
    "print(\"Duplicate Rows :\") \n",
    "duplicate"
   ]
  },
  {
   "cell_type": "markdown",
   "metadata": {},
   "source": [
    "\n",
    "#### This suggests that filtering by propertylandusetypeid over filtered the dataframe.  By combining the two filters wer were able to add 6,000 more records to our study\n",
    "\n",
    "***"
   ]
  },
  {
   "cell_type": "markdown",
   "metadata": {},
   "source": [
    "### 2. Create a function that will drop rows or columns based on the percent of values that are missing: handle_missing_values(df, prop_required_column, prop_required_row).\n",
    "\n",
    "***\n",
    "\n",
    "**The input:**   \n",
    "\n",
    " - A dataframe\n",
    " - A number between 0 and 1 that represents the proportion, for each column, of rows with non-missing values required to keep the column. i.e. if prop_required_column = .6, then you are requiring a column to have at least 60% of values not-NA (no more than 40% missing).\n",
    " - A number between 0 and 1 that represents the proportion, for each row, of columns/variables with non-missing values required to keep the row. For example, if prop_required_row = .75, then you are requiring a row to have at least 75% of variables with a non-missing value (no more that 25% missing).\n",
    "        \n",
    "        \n",
    "**The output:**   \n",
    "\n",
    "- The dataframe with the columns and rows dropped as indicated. Be sure to drop the columns prior to the rows in your function.\n",
    "       \n",
    "- hint:\n",
    "  - Look up the dropna documentation.\n",
    "  - You will want to compute a threshold from your input values (prop_required) and total number of rows or columns.\n",
    "  - Make use of inplace, i.e. inplace=True/False.\n",
    "\n"
   ]
  },
  {
   "cell_type": "markdown",
   "metadata": {},
   "source": [
    "### Prep Data Function:"
   ]
  },
  {
   "cell_type": "code",
   "execution_count": 27,
   "metadata": {},
   "outputs": [],
   "source": [
    "# Function to Prep Data\n",
    "def data_prep(df, cols_to_remove=[], prop_required_column=.5, prop_required_row=.75):\n",
    "    \n",
    "    def remove_columns(df, cols_to_remove):  \n",
    "        df = df.drop(columns=cols_to_remove)\n",
    "        return df\n",
    "\n",
    "    def handle_missing_values(df, prop_required_column = .5, prop_required_row = .75):\n",
    "        threshold = int(round(prop_required_column*len(df.index),0))\n",
    "        df.dropna(axis=1, thresh=threshold, inplace=True)\n",
    "        threshold = int(round(prop_required_row*len(df.columns),0))\n",
    "        df.dropna(axis=0, thresh=threshold, inplace=True)\n",
    "        return df\n",
    "    \n",
    "    df = remove_columns(df, cols_to_remove)  # Removes Specified Columns\n",
    "    df = handle_missing_values(df, prop_required_column, prop_required_row) # Removes Specified Rows\n",
    "    #df.dropna(inplace=True) # Drops all Null Values From Dataframe\n",
    "    return df\n",
    "\n",
    "\n",
    "# How to Call the Function\n",
    "# df = prepare.data_prep(\n",
    "#     df,\n",
    "#     cols_to_remove=[],\n",
    "#     prop_required_column=.6,\n",
    "#     prop_required_row=.75\n",
    "# )"
   ]
  },
  {
   "cell_type": "code",
   "execution_count": 28,
   "metadata": {},
   "outputs": [
    {
     "data": {
      "text/html": [
       "<div>\n",
       "<style scoped>\n",
       "    .dataframe tbody tr th:only-of-type {\n",
       "        vertical-align: middle;\n",
       "    }\n",
       "\n",
       "    .dataframe tbody tr th {\n",
       "        vertical-align: top;\n",
       "    }\n",
       "\n",
       "    .dataframe thead th {\n",
       "        text-align: right;\n",
       "    }\n",
       "</style>\n",
       "<table border=\"1\" class=\"dataframe\">\n",
       "  <thead>\n",
       "    <tr style=\"text-align: right;\">\n",
       "      <th></th>\n",
       "      <th>parcelid</th>\n",
       "      <th>propertylandusetypeid</th>\n",
       "      <th>heatingorsystemtypeid</th>\n",
       "      <th>id</th>\n",
       "      <th>bathroomcnt</th>\n",
       "      <th>bedroomcnt</th>\n",
       "      <th>buildingqualitytypeid</th>\n",
       "      <th>calculatedbathnbr</th>\n",
       "      <th>calculatedfinishedsquarefeet</th>\n",
       "      <th>finishedsquarefeet12</th>\n",
       "      <th>...</th>\n",
       "      <th>assessmentyear</th>\n",
       "      <th>landtaxvaluedollarcnt</th>\n",
       "      <th>taxamount</th>\n",
       "      <th>censustractandblock</th>\n",
       "      <th>id</th>\n",
       "      <th>logerror</th>\n",
       "      <th>pid</th>\n",
       "      <th>tdate</th>\n",
       "      <th>heatingorsystemdesc</th>\n",
       "      <th>propertylandusedesc</th>\n",
       "    </tr>\n",
       "  </thead>\n",
       "  <tbody>\n",
       "    <tr>\n",
       "      <th>3</th>\n",
       "      <td>12177905</td>\n",
       "      <td>261.0</td>\n",
       "      <td>2.0</td>\n",
       "      <td>2288172</td>\n",
       "      <td>3.0</td>\n",
       "      <td>4.0</td>\n",
       "      <td>8.0</td>\n",
       "      <td>3.0</td>\n",
       "      <td>2376.0</td>\n",
       "      <td>2376.0</td>\n",
       "      <td>...</td>\n",
       "      <td>2016.0</td>\n",
       "      <td>36225.0</td>\n",
       "      <td>1777.51</td>\n",
       "      <td>6.037300e+13</td>\n",
       "      <td>3</td>\n",
       "      <td>-0.103410</td>\n",
       "      <td>12177905</td>\n",
       "      <td>2017-01-01</td>\n",
       "      <td>Central</td>\n",
       "      <td>Single Family Residential</td>\n",
       "    </tr>\n",
       "    <tr>\n",
       "      <th>4</th>\n",
       "      <td>10887214</td>\n",
       "      <td>266.0</td>\n",
       "      <td>2.0</td>\n",
       "      <td>1970746</td>\n",
       "      <td>3.0</td>\n",
       "      <td>3.0</td>\n",
       "      <td>8.0</td>\n",
       "      <td>3.0</td>\n",
       "      <td>1312.0</td>\n",
       "      <td>1312.0</td>\n",
       "      <td>...</td>\n",
       "      <td>2016.0</td>\n",
       "      <td>45726.0</td>\n",
       "      <td>1533.89</td>\n",
       "      <td>6.037124e+13</td>\n",
       "      <td>4</td>\n",
       "      <td>0.006940</td>\n",
       "      <td>10887214</td>\n",
       "      <td>2017-01-01</td>\n",
       "      <td>Central</td>\n",
       "      <td>Condominium</td>\n",
       "    </tr>\n",
       "    <tr>\n",
       "      <th>6</th>\n",
       "      <td>12095076</td>\n",
       "      <td>261.0</td>\n",
       "      <td>2.0</td>\n",
       "      <td>781532</td>\n",
       "      <td>3.0</td>\n",
       "      <td>4.0</td>\n",
       "      <td>9.0</td>\n",
       "      <td>3.0</td>\n",
       "      <td>2962.0</td>\n",
       "      <td>2962.0</td>\n",
       "      <td>...</td>\n",
       "      <td>2016.0</td>\n",
       "      <td>496619.0</td>\n",
       "      <td>9516.26</td>\n",
       "      <td>6.037461e+13</td>\n",
       "      <td>6</td>\n",
       "      <td>-0.001011</td>\n",
       "      <td>12095076</td>\n",
       "      <td>2017-01-01</td>\n",
       "      <td>Central</td>\n",
       "      <td>Single Family Residential</td>\n",
       "    </tr>\n",
       "    <tr>\n",
       "      <th>8</th>\n",
       "      <td>12790562</td>\n",
       "      <td>261.0</td>\n",
       "      <td>2.0</td>\n",
       "      <td>1246926</td>\n",
       "      <td>3.0</td>\n",
       "      <td>4.0</td>\n",
       "      <td>9.0</td>\n",
       "      <td>3.0</td>\n",
       "      <td>3039.0</td>\n",
       "      <td>3039.0</td>\n",
       "      <td>...</td>\n",
       "      <td>2016.0</td>\n",
       "      <td>43056.0</td>\n",
       "      <td>3104.19</td>\n",
       "      <td>6.037500e+13</td>\n",
       "      <td>8</td>\n",
       "      <td>-0.040966</td>\n",
       "      <td>12790562</td>\n",
       "      <td>2017-01-02</td>\n",
       "      <td>Central</td>\n",
       "      <td>Single Family Residential</td>\n",
       "    </tr>\n",
       "    <tr>\n",
       "      <th>9</th>\n",
       "      <td>11542646</td>\n",
       "      <td>266.0</td>\n",
       "      <td>2.0</td>\n",
       "      <td>1585097</td>\n",
       "      <td>3.0</td>\n",
       "      <td>2.0</td>\n",
       "      <td>8.0</td>\n",
       "      <td>3.0</td>\n",
       "      <td>1290.0</td>\n",
       "      <td>1290.0</td>\n",
       "      <td>...</td>\n",
       "      <td>2016.0</td>\n",
       "      <td>220058.0</td>\n",
       "      <td>4557.32</td>\n",
       "      <td>6.037275e+13</td>\n",
       "      <td>9</td>\n",
       "      <td>-0.036763</td>\n",
       "      <td>11542646</td>\n",
       "      <td>2017-01-02</td>\n",
       "      <td>Central</td>\n",
       "      <td>Condominium</td>\n",
       "    </tr>\n",
       "  </tbody>\n",
       "</table>\n",
       "<p>5 rows × 36 columns</p>\n",
       "</div>"
      ],
      "text/plain": [
       "   parcelid  propertylandusetypeid  heatingorsystemtypeid       id  \\\n",
       "3  12177905                  261.0                    2.0  2288172   \n",
       "4  10887214                  266.0                    2.0  1970746   \n",
       "6  12095076                  261.0                    2.0   781532   \n",
       "8  12790562                  261.0                    2.0  1246926   \n",
       "9  11542646                  266.0                    2.0  1585097   \n",
       "\n",
       "   bathroomcnt  bedroomcnt  buildingqualitytypeid  calculatedbathnbr  \\\n",
       "3          3.0         4.0                    8.0                3.0   \n",
       "4          3.0         3.0                    8.0                3.0   \n",
       "6          3.0         4.0                    9.0                3.0   \n",
       "8          3.0         4.0                    9.0                3.0   \n",
       "9          3.0         2.0                    8.0                3.0   \n",
       "\n",
       "   calculatedfinishedsquarefeet  finishedsquarefeet12  ...  assessmentyear  \\\n",
       "3                        2376.0                2376.0  ...          2016.0   \n",
       "4                        1312.0                1312.0  ...          2016.0   \n",
       "6                        2962.0                2962.0  ...          2016.0   \n",
       "8                        3039.0                3039.0  ...          2016.0   \n",
       "9                        1290.0                1290.0  ...          2016.0   \n",
       "\n",
       "   landtaxvaluedollarcnt  taxamount  censustractandblock  id  logerror  \\\n",
       "3                36225.0    1777.51         6.037300e+13   3 -0.103410   \n",
       "4                45726.0    1533.89         6.037124e+13   4  0.006940   \n",
       "6               496619.0    9516.26         6.037461e+13   6 -0.001011   \n",
       "8                43056.0    3104.19         6.037500e+13   8 -0.040966   \n",
       "9               220058.0    4557.32         6.037275e+13   9 -0.036763   \n",
       "\n",
       "        pid       tdate  heatingorsystemdesc        propertylandusedesc  \n",
       "3  12177905  2017-01-01              Central  Single Family Residential  \n",
       "4  10887214  2017-01-01              Central                Condominium  \n",
       "6  12095076  2017-01-01              Central  Single Family Residential  \n",
       "8  12790562  2017-01-02              Central  Single Family Residential  \n",
       "9  11542646  2017-01-02              Central                Condominium  \n",
       "\n",
       "[5 rows x 36 columns]"
      ]
     },
     "execution_count": 28,
     "metadata": {},
     "output_type": "execute_result"
    }
   ],
   "source": [
    "df = prepare.data_prep(\n",
    "    all_single_unit_properties_df,\n",
    "    cols_to_remove=[],\n",
    "    prop_required_column=.6,\n",
    "    prop_required_row=.75\n",
    ")\n",
    "df.head()"
   ]
  },
  {
   "cell_type": "code",
   "execution_count": 29,
   "metadata": {},
   "outputs": [
    {
     "name": "stdout",
     "output_type": "stream",
     "text": [
      "<class 'pandas.core.frame.DataFrame'>\n",
      "Int64Index: 43779 entries, 3 to 76804\n",
      "Data columns (total 36 columns):\n",
      " #   Column                        Non-Null Count  Dtype  \n",
      "---  ------                        --------------  -----  \n",
      " 0   parcelid                      43779 non-null  int64  \n",
      " 1   propertylandusetypeid         43779 non-null  float64\n",
      " 2   heatingorsystemtypeid         43779 non-null  float64\n",
      " 3   id                            43779 non-null  int64  \n",
      " 4   bathroomcnt                   43779 non-null  float64\n",
      " 5   bedroomcnt                    43779 non-null  float64\n",
      " 6   buildingqualitytypeid         43779 non-null  float64\n",
      " 7   calculatedbathnbr             43779 non-null  float64\n",
      " 8   calculatedfinishedsquarefeet  43779 non-null  float64\n",
      " 9   finishedsquarefeet12          43779 non-null  float64\n",
      " 10  fips                          43779 non-null  float64\n",
      " 11  fullbathcnt                   43779 non-null  float64\n",
      " 12  latitude                      43779 non-null  float64\n",
      " 13  longitude                     43779 non-null  float64\n",
      " 14  lotsizesquarefeet             43779 non-null  float64\n",
      " 15  propertycountylandusecode     43779 non-null  object \n",
      " 16  propertyzoningdesc            43779 non-null  object \n",
      " 17  rawcensustractandblock        43779 non-null  float64\n",
      " 18  regionidcity                  43779 non-null  float64\n",
      " 19  regionidcounty                43779 non-null  float64\n",
      " 20  regionidzip                   43779 non-null  float64\n",
      " 21  roomcnt                       43779 non-null  float64\n",
      " 22  unitcnt                       43779 non-null  float64\n",
      " 23  yearbuilt                     43779 non-null  float64\n",
      " 24  structuretaxvaluedollarcnt    43779 non-null  float64\n",
      " 25  taxvaluedollarcnt             43779 non-null  float64\n",
      " 26  assessmentyear                43779 non-null  float64\n",
      " 27  landtaxvaluedollarcnt         43779 non-null  float64\n",
      " 28  taxamount                     43779 non-null  float64\n",
      " 29  censustractandblock           43779 non-null  float64\n",
      " 30  id                            43779 non-null  int64  \n",
      " 31  logerror                      43779 non-null  float64\n",
      " 32  pid                           43779 non-null  int64  \n",
      " 33  tdate                         43779 non-null  object \n",
      " 34  heatingorsystemdesc           43779 non-null  object \n",
      " 35  propertylandusedesc           43779 non-null  object \n",
      "dtypes: float64(27), int64(4), object(5)\n",
      "memory usage: 12.4+ MB\n"
     ]
    }
   ],
   "source": [
    "df.info()"
   ]
  },
  {
   "cell_type": "markdown",
   "metadata": {},
   "source": [
    "### 3. Decide how to handle the remaining missing values:\n",
    "\n",
    "- Fill with constant value.\n",
    "- Impute with mean, median, mode.\n",
    "- Drop row/column\n",
    "\n",
    "*** For simplicitys sake I will choose to drop the remaning NaN values, and will do that in the function.***"
   ]
  },
  {
   "cell_type": "markdown",
   "metadata": {},
   "source": [
    "### 4. Add Above Functions to File Called wrangle_zillow.py"
   ]
  },
  {
   "cell_type": "code",
   "execution_count": 30,
   "metadata": {},
   "outputs": [
    {
     "name": "stdout",
     "output_type": "stream",
     "text": [
      "The shape of the df:\n",
      "(77381, 71)\n",
      "\n",
      "\n",
      "Columns, Non-Null Count, Data Type:\n",
      "<class 'pandas.core.frame.DataFrame'>\n",
      "RangeIndex: 77381 entries, 0 to 77380\n",
      "Data columns (total 71 columns):\n",
      " #   Column                        Non-Null Count  Dtype  \n",
      "---  ------                        --------------  -----  \n",
      " 0   Unnamed: 0                    77381 non-null  int64  \n",
      " 1   parcelid                      77381 non-null  int64  \n",
      " 2   typeconstructiontypeid        222 non-null    float64\n",
      " 3   storytypeid                   50 non-null     float64\n",
      " 4   propertylandusetypeid         77381 non-null  float64\n",
      " 5   heatingorsystemtypeid         49440 non-null  float64\n",
      " 6   buildingclasstypeid           15 non-null     float64\n",
      " 7   architecturalstyletypeid      206 non-null    float64\n",
      " 8   airconditioningtypeid         24953 non-null  float64\n",
      " 9   id                            77381 non-null  int64  \n",
      " 10  basementsqft                  50 non-null     float64\n",
      " 11  bathroomcnt                   77381 non-null  float64\n",
      " 12  bedroomcnt                    77381 non-null  float64\n",
      " 13  buildingqualitytypeid         49672 non-null  float64\n",
      " 14  calculatedbathnbr             76772 non-null  float64\n",
      " 15  decktypeid                    614 non-null    float64\n",
      " 16  finishedfloor1squarefeet      6023 non-null   float64\n",
      " 17  calculatedfinishedsquarefeet  77185 non-null  float64\n",
      " 18  finishedsquarefeet12          73749 non-null  float64\n",
      " 19  finishedsquarefeet13          41 non-null     float64\n",
      " 20  finishedsquarefeet15          3009 non-null   float64\n",
      " 21  finishedsquarefeet50          6023 non-null   float64\n",
      " 22  finishedsquarefeet6           386 non-null    float64\n",
      " 23  fips                          77381 non-null  float64\n",
      " 24  fireplacecnt                  8276 non-null   float64\n",
      " 25  fullbathcnt                   76772 non-null  float64\n",
      " 26  garagecarcnt                  25474 non-null  float64\n",
      " 27  garagetotalsqft               25474 non-null  float64\n",
      " 28  hashottuborspa                1538 non-null   float64\n",
      " 29  latitude                      77381 non-null  float64\n",
      " 30  longitude                     77381 non-null  float64\n",
      " 31  lotsizesquarefeet             69142 non-null  float64\n",
      " 32  poolcnt                       16137 non-null  float64\n",
      " 33  poolsizesum                   867 non-null    float64\n",
      " 34  pooltypeid10                  464 non-null    float64\n",
      " 35  pooltypeid2                   1074 non-null   float64\n",
      " 36  pooltypeid7                   15042 non-null  float64\n",
      " 37  propertycountylandusecode     77381 non-null  object \n",
      " 38  propertyzoningdesc            50331 non-null  object \n",
      " 39  rawcensustractandblock        77381 non-null  float64\n",
      " 40  regionidcity                  75910 non-null  float64\n",
      " 41  regionidcounty                77381 non-null  float64\n",
      " 42  regionidneighborhood          30890 non-null  float64\n",
      " 43  regionidzip                   77331 non-null  float64\n",
      " 44  roomcnt                       77381 non-null  float64\n",
      " 45  threequarterbathnbr           10096 non-null  float64\n",
      " 46  unitcnt                       50563 non-null  float64\n",
      " 47  yardbuildingsqft17            2388 non-null   float64\n",
      " 48  yardbuildingsqft26            70 non-null     float64\n",
      " 49  yearbuilt                     77118 non-null  float64\n",
      " 50  numberofstories               17560 non-null  float64\n",
      " 51  fireplaceflag                 172 non-null    float64\n",
      " 52  structuretaxvaluedollarcnt    77269 non-null  float64\n",
      " 53  taxvaluedollarcnt             77380 non-null  float64\n",
      " 54  assessmentyear                77381 non-null  float64\n",
      " 55  landtaxvaluedollarcnt         77379 non-null  float64\n",
      " 56  taxamount                     77376 non-null  float64\n",
      " 57  taxdelinquencyflag            2886 non-null   object \n",
      " 58  taxdelinquencyyear            2886 non-null   float64\n",
      " 59  censustractandblock           77137 non-null  float64\n",
      " 60  id.1                          77381 non-null  int64  \n",
      " 61  logerror                      77381 non-null  float64\n",
      " 62  pid                           77381 non-null  int64  \n",
      " 63  tdate                         77381 non-null  object \n",
      " 64  airconditioningdesc           24953 non-null  object \n",
      " 65  architecturalstyledesc        206 non-null    object \n",
      " 66  buildingclassdesc             15 non-null     object \n",
      " 67  heatingorsystemdesc           49440 non-null  object \n",
      " 68  propertylandusedesc           77381 non-null  object \n",
      " 69  storydesc                     50 non-null     object \n",
      " 70  typeconstructiondesc          222 non-null    object \n",
      "dtypes: float64(55), int64(5), object(11)\n",
      "memory usage: 41.9+ MB\n",
      "None\n",
      "\n",
      "\n",
      "Summary statistics for the df:\n",
      "         Unnamed: 0      parcelid  typeconstructiontypeid  storytypeid  \\\n",
      "count  77381.000000  7.738100e+04              222.000000         50.0   \n",
      "mean   38690.000000  1.300715e+07                6.040541          7.0   \n",
      "std    22338.114927  3.481346e+06                0.557285          0.0   \n",
      "min        0.000000  1.071186e+07                4.000000          7.0   \n",
      "25%    19345.000000  1.153830e+07                6.000000          7.0   \n",
      "50%    38690.000000  1.253157e+07                6.000000          7.0   \n",
      "75%    58035.000000  1.421183e+07                6.000000          7.0   \n",
      "max    77380.000000  1.676893e+08               13.000000          7.0   \n",
      "\n",
      "       propertylandusetypeid  heatingorsystemtypeid  buildingclasstypeid  \\\n",
      "count           77381.000000           49440.000000            15.000000   \n",
      "mean              261.826340               3.920510             3.933333   \n",
      "std                 5.141199               3.592779             0.258199   \n",
      "min                31.000000               1.000000             3.000000   \n",
      "25%               261.000000               2.000000             4.000000   \n",
      "50%               261.000000               2.000000             4.000000   \n",
      "75%               266.000000               7.000000             4.000000   \n",
      "max               275.000000              24.000000             4.000000   \n",
      "\n",
      "       architecturalstyletypeid  airconditioningtypeid            id  ...  \\\n",
      "count                206.000000           24953.000000  7.738100e+04  ...   \n",
      "mean                   7.388350               1.813289  1.495139e+06  ...   \n",
      "std                    2.734542               2.967894  8.609071e+05  ...   \n",
      "min                    2.000000               1.000000  3.490000e+02  ...   \n",
      "25%                    7.000000               1.000000  7.520700e+05  ...   \n",
      "50%                    7.000000               1.000000  1.497932e+06  ...   \n",
      "75%                    7.000000               1.000000  2.240535e+06  ...   \n",
      "max                   21.000000              13.000000  2.982274e+06  ...   \n",
      "\n",
      "       structuretaxvaluedollarcnt  taxvaluedollarcnt  assessmentyear  \\\n",
      "count                7.726900e+04       7.738000e+04         77381.0   \n",
      "mean                 1.893145e+05       4.901345e+05          2016.0   \n",
      "std                  2.300874e+05       6.534440e+05             0.0   \n",
      "min                  4.400000e+01       1.000000e+03          2016.0   \n",
      "25%                  8.426500e+04       2.070000e+05          2016.0   \n",
      "50%                  1.364990e+05       3.589755e+05          2016.0   \n",
      "75%                  2.187870e+05       5.690015e+05          2016.0   \n",
      "max                  1.142179e+07       4.906124e+07          2016.0   \n",
      "\n",
      "       landtaxvaluedollarcnt      taxamount  taxdelinquencyyear  \\\n",
      "count           7.737900e+04   77376.000000         2886.000000   \n",
      "mean            3.010954e+05    5995.532346           14.087318   \n",
      "std             4.925960e+05    7622.844153            2.185663   \n",
      "min             1.610000e+02      19.920000            3.000000   \n",
      "25%             8.550400e+04    2715.632500           14.000000   \n",
      "50%             2.033720e+05    4450.695000           15.000000   \n",
      "75%             3.667965e+05    6927.790000           15.000000   \n",
      "max             4.895220e+07  586639.300000           99.000000   \n",
      "\n",
      "       censustractandblock          id.1      logerror           pid  \n",
      "count         7.713700e+04  77381.000000  77381.000000  7.738100e+04  \n",
      "mean          6.049673e+13  38848.692754      0.016625  1.300715e+07  \n",
      "std           1.535242e+12  22402.429065      0.170191  3.481346e+06  \n",
      "min           6.037101e+13      0.000000     -4.655420  1.071186e+07  \n",
      "25%           6.037311e+13  19461.000000     -0.024377  1.153830e+07  \n",
      "50%           6.037603e+13  38870.000000      0.006627  1.253157e+07  \n",
      "75%           6.059042e+13  58253.000000      0.039203  1.421183e+07  \n",
      "max           4.830301e+14  77613.000000      5.262999  1.676893e+08  \n",
      "\n",
      "[8 rows x 60 columns]\n",
      "\n",
      "\n",
      "Number of NaN values per column:\n",
      "Unnamed: 0                    0\n",
      "parcelid                      0\n",
      "typeconstructiontypeid    77159\n",
      "storytypeid               77331\n",
      "propertylandusetypeid         0\n",
      "                          ...  \n",
      "buildingclassdesc         77366\n",
      "heatingorsystemdesc       27941\n",
      "propertylandusedesc           0\n",
      "storydesc                 77331\n",
      "typeconstructiondesc      77159\n",
      "Length: 71, dtype: int64\n",
      "\n",
      "\n",
      "Number of NaN values per row:\n",
      "0        36\n",
      "1        33\n",
      "2        34\n",
      "3        32\n",
      "4        29\n",
      "         ..\n",
      "77376    33\n",
      "77377    32\n",
      "77378    32\n",
      "77379    34\n",
      "77380    34\n",
      "Length: 77381, dtype: int64\n",
      "\n",
      "\n",
      "Count and percent missing per row\n",
      "                        num_rows_missing  pct_rows_missing\n",
      "Unnamed: 0                             0          0.000000\n",
      "parcelid                               0          0.000000\n",
      "typeconstructiontypeid             77159         99.713108\n",
      "storytypeid                        77331         99.935385\n",
      "propertylandusetypeid                  0          0.000000\n",
      "...                                  ...               ...\n",
      "buildingclassdesc                  77366         99.980615\n",
      "heatingorsystemdesc                27941         36.108347\n",
      "propertylandusedesc                    0          0.000000\n",
      "storydesc                          77331         99.935385\n",
      "typeconstructiondesc               77159         99.713108\n",
      "\n",
      "[71 rows x 2 columns]\n",
      "\n",
      "\n",
      "Count and percent missing per column\n"
     ]
    },
    {
     "name": "stdout",
     "output_type": "stream",
     "text": [
      "                          num_cols_missing  pct_cols_missing  num_rows\n",
      "Unnamed: 0                               0             0.000         0\n",
      "airconditioningdesc                  24953            32.247     52428\n",
      "airconditioningtypeid                24953            32.247     52428\n",
      "architecturalstyledesc                 206             0.266     77175\n",
      "architecturalstyletypeid               206             0.266     77175\n",
      "...                                    ...               ...       ...\n",
      "typeconstructiontypeid                 222             0.287     77159\n",
      "unitcnt                              50563            65.343     26818\n",
      "yardbuildingsqft17                    2388             3.086     74993\n",
      "yardbuildingsqft26                      70             0.090     77311\n",
      "yearbuilt                            77118            99.660       263\n",
      "\n",
      "[71 rows x 3 columns]\n",
      "\n",
      "\n",
      "Value Counts per Column:\n",
      "----------------------------------------Unnamed: 0---------------------------------------- - "
     ]
    },
    {
     "data": {
      "text/plain": [
       "2047     1\n",
       "8849     1\n",
       "12947    1\n",
       "2708     1\n",
       "661      1\n",
       "6806     1\n",
       "4759     1\n",
       "27288    1\n",
       "25241    1\n",
       "31386    1\n",
       "Name: Unnamed: 0, dtype: int64"
      ]
     },
     "metadata": {},
     "output_type": "display_data"
    },
    {
     "name": "stdout",
     "output_type": "stream",
     "text": [
      "----------------------------------------parcelid---------------------------------------- - "
     ]
    },
    {
     "data": {
      "text/plain": [
       "12086286    1\n",
       "13842812    1\n",
       "17089101    1\n",
       "14604878    1\n",
       "11149905    1\n",
       "12104347    1\n",
       "11077074    1\n",
       "17173076    1\n",
       "12714581    1\n",
       "12458582    1\n",
       "Name: parcelid, dtype: int64"
      ]
     },
     "metadata": {},
     "output_type": "display_data"
    },
    {
     "name": "stdout",
     "output_type": "stream",
     "text": [
      "----------------------------------------typeconstructiontypeid---------------------------------------- - "
     ]
    },
    {
     "data": {
      "text/plain": [
       "NaN     77159\n",
       "6.0       219\n",
       "4.0         1\n",
       "13.0        1\n",
       "10.0        1\n",
       "Name: typeconstructiontypeid, dtype: int64"
      ]
     },
     "metadata": {},
     "output_type": "display_data"
    },
    {
     "name": "stdout",
     "output_type": "stream",
     "text": [
      "----------------------------------------storytypeid---------------------------------------- - "
     ]
    },
    {
     "data": {
      "text/plain": [
       "NaN    77331\n",
       "7.0       50\n",
       "Name: storytypeid, dtype: int64"
      ]
     },
     "metadata": {},
     "output_type": "display_data"
    },
    {
     "name": "stdout",
     "output_type": "stream",
     "text": [
      "----------------------------------------propertylandusetypeid---------------------------------------- - "
     ]
    },
    {
     "data": {
      "text/plain": [
       "261.0    52320\n",
       "266.0    19294\n",
       "246.0     2009\n",
       "269.0     1944\n",
       "248.0      727\n",
       "247.0      535\n",
       "265.0      333\n",
       "263.0       74\n",
       "275.0       58\n",
       "260.0       37\n",
       "Name: propertylandusetypeid, dtype: int64"
      ]
     },
     "metadata": {},
     "output_type": "display_data"
    },
    {
     "name": "stdout",
     "output_type": "stream",
     "text": [
      "----------------------------------------heatingorsystemtypeid---------------------------------------- - "
     ]
    },
    {
     "data": {
      "text/plain": [
       "2.0     33550\n",
       "NaN     27941\n",
       "7.0     14065\n",
       "24.0      846\n",
       "6.0       776\n",
       "20.0      104\n",
       "13.0       59\n",
       "18.0       23\n",
       "1.0        13\n",
       "10.0        3\n",
       "Name: heatingorsystemtypeid, dtype: int64"
      ]
     },
     "metadata": {},
     "output_type": "display_data"
    },
    {
     "name": "stdout",
     "output_type": "stream",
     "text": [
      "----------------------------------------buildingclasstypeid---------------------------------------- - "
     ]
    },
    {
     "data": {
      "text/plain": [
       "NaN    77366\n",
       "4.0       14\n",
       "3.0        1\n",
       "Name: buildingclasstypeid, dtype: int64"
      ]
     },
     "metadata": {},
     "output_type": "display_data"
    },
    {
     "name": "stdout",
     "output_type": "stream",
     "text": [
      "----------------------------------------architecturalstyletypeid---------------------------------------- - "
     ]
    },
    {
     "data": {
      "text/plain": [
       "NaN     77175\n",
       "7.0       172\n",
       "8.0        19\n",
       "21.0        7\n",
       "2.0         5\n",
       "3.0         3\n",
       "Name: architecturalstyletypeid, dtype: int64"
      ]
     },
     "metadata": {},
     "output_type": "display_data"
    },
    {
     "name": "stdout",
     "output_type": "stream",
     "text": [
      "----------------------------------------airconditioningtypeid---------------------------------------- - "
     ]
    },
    {
     "data": {
      "text/plain": [
       "NaN     52428\n",
       "1.0     23133\n",
       "13.0     1574\n",
       "5.0       167\n",
       "11.0       53\n",
       "9.0        26\n",
       "Name: airconditioningtypeid, dtype: int64"
      ]
     },
     "metadata": {},
     "output_type": "display_data"
    },
    {
     "name": "stdout",
     "output_type": "stream",
     "text": [
      "----------------------------------------id---------------------------------------- - "
     ]
    },
    {
     "data": {
      "text/plain": [
       "657407     1\n",
       "2052799    1\n",
       "2132676    1\n",
       "1499003    1\n",
       "2267846    1\n",
       "2677936    1\n",
       "1374922    1\n",
       "2159307    1\n",
       "1100492    1\n",
       "2153166    1\n",
       "Name: id, dtype: int64"
      ]
     },
     "metadata": {},
     "output_type": "display_data"
    },
    {
     "name": "stdout",
     "output_type": "stream",
     "text": [
      "----------------------------------------basementsqft---------------------------------------- - "
     ]
    },
    {
     "data": {
      "text/plain": [
       "NaN      77331\n",
       "700.0        2\n",
       "515.0        2\n",
       "900.0        2\n",
       "912.0        2\n",
       "640.0        2\n",
       "273.0        2\n",
       "100.0        2\n",
       "669.0        1\n",
       "252.0        1\n",
       "Name: basementsqft, dtype: int64"
      ]
     },
     "metadata": {},
     "output_type": "display_data"
    },
    {
     "name": "stdout",
     "output_type": "stream",
     "text": [
      "----------------------------------------bathroomcnt---------------------------------------- - "
     ]
    },
    {
     "data": {
      "text/plain": [
       "2.0    31485\n",
       "3.0    17313\n",
       "1.0    12902\n",
       "2.5     6604\n",
       "4.0     3352\n",
       "1.5     1415\n",
       "3.5     1034\n",
       "5.0     1026\n",
       "4.5      695\n",
       "0.0      592\n",
       "Name: bathroomcnt, dtype: int64"
      ]
     },
     "metadata": {},
     "output_type": "display_data"
    },
    {
     "name": "stdout",
     "output_type": "stream",
     "text": [
      "----------------------------------------bedroomcnt---------------------------------------- - "
     ]
    },
    {
     "data": {
      "text/plain": [
       "3.0    30362\n",
       "2.0    19169\n",
       "4.0    17513\n",
       "5.0     4543\n",
       "1.0     3379\n",
       "6.0      998\n",
       "0.0      830\n",
       "8.0      252\n",
       "7.0      208\n",
       "9.0       70\n",
       "Name: bedroomcnt, dtype: int64"
      ]
     },
     "metadata": {},
     "output_type": "display_data"
    },
    {
     "name": "stdout",
     "output_type": "stream",
     "text": [
      "----------------------------------------buildingqualitytypeid---------------------------------------- - "
     ]
    },
    {
     "data": {
      "text/plain": [
       "NaN     27709\n",
       "8.0     14645\n",
       "6.0     13462\n",
       "4.0      9483\n",
       "7.0      5971\n",
       "9.0      2299\n",
       "5.0      2088\n",
       "11.0      931\n",
       "3.0       329\n",
       "10.0      313\n",
       "Name: buildingqualitytypeid, dtype: int64"
      ]
     },
     "metadata": {},
     "output_type": "display_data"
    },
    {
     "name": "stdout",
     "output_type": "stream",
     "text": [
      "----------------------------------------calculatedbathnbr---------------------------------------- - "
     ]
    },
    {
     "data": {
      "text/plain": [
       "2.0    31485\n",
       "3.0    17313\n",
       "1.0    12902\n",
       "2.5     6595\n",
       "4.0     3352\n",
       "1.5     1408\n",
       "3.5     1034\n",
       "5.0     1026\n",
       "4.5      695\n",
       "NaN      609\n",
       "Name: calculatedbathnbr, dtype: int64"
      ]
     },
     "metadata": {},
     "output_type": "display_data"
    },
    {
     "name": "stdout",
     "output_type": "stream",
     "text": [
      "----------------------------------------decktypeid---------------------------------------- - "
     ]
    },
    {
     "data": {
      "text/plain": [
       "NaN     76767\n",
       "66.0      614\n",
       "Name: decktypeid, dtype: int64"
      ]
     },
     "metadata": {},
     "output_type": "display_data"
    },
    {
     "name": "stdout",
     "output_type": "stream",
     "text": [
      "----------------------------------------finishedfloor1squarefeet---------------------------------------- - "
     ]
    },
    {
     "data": {
      "text/plain": [
       "NaN       71358\n",
       "1252.0       22\n",
       "1498.0       21\n",
       "1441.0       21\n",
       "780.0        21\n",
       "1462.0       21\n",
       "1205.0       21\n",
       "1070.0       20\n",
       "1227.0       19\n",
       "1431.0       18\n",
       "Name: finishedfloor1squarefeet, dtype: int64"
      ]
     },
     "metadata": {},
     "output_type": "display_data"
    },
    {
     "name": "stdout",
     "output_type": "stream",
     "text": [
      "----------------------------------------calculatedfinishedsquarefeet---------------------------------------- - "
     ]
    },
    {
     "data": {
      "text/plain": [
       "NaN       196\n",
       "1200.0    181\n",
       "1120.0    169\n",
       "1440.0    147\n",
       "1080.0    132\n",
       "1260.0    120\n",
       "1176.0    119\n",
       "1300.0    118\n",
       "1040.0    118\n",
       "1232.0    117\n",
       "Name: calculatedfinishedsquarefeet, dtype: int64"
      ]
     },
     "metadata": {},
     "output_type": "display_data"
    },
    {
     "name": "stdout",
     "output_type": "stream",
     "text": [
      "----------------------------------------finishedsquarefeet12---------------------------------------- - "
     ]
    },
    {
     "data": {
      "text/plain": [
       "NaN       3632\n",
       "1200.0     176\n",
       "1120.0     165\n",
       "1080.0     131\n",
       "1440.0     120\n",
       "1232.0     116\n",
       "1260.0     116\n",
       "1040.0     116\n",
       "1300.0     114\n",
       "1570.0     114\n",
       "Name: finishedsquarefeet12, dtype: int64"
      ]
     },
     "metadata": {},
     "output_type": "display_data"
    },
    {
     "name": "stdout",
     "output_type": "stream",
     "text": [
      "----------------------------------------finishedsquarefeet13---------------------------------------- - "
     ]
    },
    {
     "data": {
      "text/plain": [
       "NaN       77340\n",
       "1440.0       18\n",
       "1344.0        5\n",
       "1488.0        3\n",
       "1536.0        3\n",
       "1248.0        2\n",
       "1152.0        2\n",
       "1392.0        2\n",
       "1512.0        1\n",
       "1200.0        1\n",
       "Name: finishedsquarefeet13, dtype: int64"
      ]
     },
     "metadata": {},
     "output_type": "display_data"
    },
    {
     "name": "stdout",
     "output_type": "stream",
     "text": [
      "----------------------------------------finishedsquarefeet15---------------------------------------- - "
     ]
    },
    {
     "data": {
      "text/plain": [
       "NaN       74372\n",
       "1680.0       16\n",
       "1536.0       12\n",
       "2016.0       12\n",
       "1600.0       10\n",
       "1440.0        9\n",
       "1560.0        9\n",
       "1512.0        9\n",
       "1740.0        8\n",
       "1584.0        8\n",
       "Name: finishedsquarefeet15, dtype: int64"
      ]
     },
     "metadata": {},
     "output_type": "display_data"
    },
    {
     "name": "stdout",
     "output_type": "stream",
     "text": [
      "----------------------------------------finishedsquarefeet50---------------------------------------- - "
     ]
    },
    {
     "data": {
      "text/plain": [
       "NaN       71358\n",
       "1252.0       22\n",
       "1462.0       21\n",
       "1441.0       21\n",
       "780.0        21\n",
       "1205.0       21\n",
       "1498.0       21\n",
       "1070.0       20\n",
       "1227.0       19\n",
       "1431.0       18\n",
       "Name: finishedsquarefeet50, dtype: int64"
      ]
     },
     "metadata": {},
     "output_type": "display_data"
    },
    {
     "name": "stdout",
     "output_type": "stream",
     "text": [
      "----------------------------------------finishedsquarefeet6---------------------------------------- - "
     ]
    },
    {
     "data": {
      "text/plain": [
       "NaN       76995\n",
       "952.0         4\n",
       "750.0         3\n",
       "3500.0        3\n",
       "3552.0        3\n",
       "520.0         3\n",
       "4300.0        2\n",
       "1539.0        2\n",
       "4213.0        2\n",
       "2110.0        2\n",
       "Name: finishedsquarefeet6, dtype: int64"
      ]
     },
     "metadata": {},
     "output_type": "display_data"
    },
    {
     "name": "stdout",
     "output_type": "stream",
     "text": [
      "----------------------------------------fips---------------------------------------- - "
     ]
    },
    {
     "data": {
      "text/plain": [
       "6037.0    50551\n",
       "6059.0    20593\n",
       "6111.0     6237\n",
       "Name: fips, dtype: int64"
      ]
     },
     "metadata": {},
     "output_type": "display_data"
    },
    {
     "name": "stdout",
     "output_type": "stream",
     "text": [
      "----------------------------------------fireplacecnt---------------------------------------- - "
     ]
    },
    {
     "data": {
      "text/plain": [
       "NaN    69105\n",
       "1.0     7008\n",
       "2.0      995\n",
       "3.0      235\n",
       "4.0       35\n",
       "5.0        3\n",
       "Name: fireplacecnt, dtype: int64"
      ]
     },
     "metadata": {},
     "output_type": "display_data"
    },
    {
     "name": "stdout",
     "output_type": "stream",
     "text": [
      "----------------------------------------fullbathcnt---------------------------------------- - "
     ]
    },
    {
     "data": {
      "text/plain": [
       "2.0    38097\n",
       "3.0    18351\n",
       "1.0    14310\n",
       "4.0     4048\n",
       "5.0     1245\n",
       "NaN      609\n",
       "6.0      454\n",
       "7.0      121\n",
       "8.0      111\n",
       "9.0       23\n",
       "Name: fullbathcnt, dtype: int64"
      ]
     },
     "metadata": {},
     "output_type": "display_data"
    },
    {
     "name": "stdout",
     "output_type": "stream",
     "text": [
      "----------------------------------------garagecarcnt---------------------------------------- - "
     ]
    },
    {
     "data": {
      "text/plain": [
       "NaN     51907\n",
       "2.0     18608\n",
       "1.0      5676\n",
       "3.0       632\n",
       "4.0       255\n",
       "0.0       230\n",
       "5.0        45\n",
       "6.0        14\n",
       "7.0         4\n",
       "10.0        3\n",
       "Name: garagecarcnt, dtype: int64"
      ]
     },
     "metadata": {},
     "output_type": "display_data"
    },
    {
     "name": "stdout",
     "output_type": "stream",
     "text": [
      "----------------------------------------garagetotalsqft---------------------------------------- - "
     ]
    },
    {
     "data": {
      "text/plain": [
       "NaN      51907\n",
       "0.0       7685\n",
       "400.0      786\n",
       "441.0      678\n",
       "462.0      658\n",
       "360.0      646\n",
       "460.0      569\n",
       "420.0      549\n",
       "440.0      539\n",
       "483.0      413\n",
       "Name: garagetotalsqft, dtype: int64"
      ]
     },
     "metadata": {},
     "output_type": "display_data"
    },
    {
     "name": "stdout",
     "output_type": "stream",
     "text": [
      "----------------------------------------hashottuborspa---------------------------------------- - "
     ]
    },
    {
     "data": {
      "text/plain": [
       "NaN    75843\n",
       "1.0     1538\n",
       "Name: hashottuborspa, dtype: int64"
      ]
     },
     "metadata": {},
     "output_type": "display_data"
    },
    {
     "name": "stdout",
     "output_type": "stream",
     "text": [
      "----------------------------------------latitude---------------------------------------- - "
     ]
    },
    {
     "data": {
      "text/plain": [
       "33984600.0    40\n",
       "33665651.0    38\n",
       "33766300.0    34\n",
       "34056700.0    32\n",
       "34225100.0    29\n",
       "34410700.0    27\n",
       "33785200.0    27\n",
       "33954400.0    26\n",
       "34171800.0    25\n",
       "34048000.0    23\n",
       "Name: latitude, dtype: int64"
      ]
     },
     "metadata": {},
     "output_type": "display_data"
    },
    {
     "name": "stdout",
     "output_type": "stream",
     "text": [
      "----------------------------------------longitude---------------------------------------- - "
     ]
    },
    {
     "data": {
      "text/plain": [
       "-118438000.0    63\n",
       "-118435000.0    62\n",
       "-118390000.0    60\n",
       "-118445000.0    60\n",
       "-118377000.0    59\n",
       "-118389000.0    58\n",
       "-118433000.0    56\n",
       "-118188000.0    55\n",
       "-118432000.0    55\n",
       "-118378000.0    52\n",
       "Name: longitude, dtype: int64"
      ]
     },
     "metadata": {},
     "output_type": "display_data"
    },
    {
     "name": "stdout",
     "output_type": "stream",
     "text": [
      "----------------------------------------lotsizesquarefeet---------------------------------------- - "
     ]
    },
    {
     "data": {
      "text/plain": [
       "NaN       8239\n",
       "6000.0     892\n",
       "5000.0     437\n",
       "7200.0     314\n",
       "7000.0     297\n",
       "6500.0     294\n",
       "7500.0     238\n",
       "6600.0     167\n",
       "5400.0     145\n",
       "4000.0     143\n",
       "Name: lotsizesquarefeet, dtype: int64"
      ]
     },
     "metadata": {},
     "output_type": "display_data"
    },
    {
     "name": "stdout",
     "output_type": "stream",
     "text": [
      "----------------------------------------poolcnt---------------------------------------- - "
     ]
    },
    {
     "data": {
      "text/plain": [
       "NaN    61244\n",
       "1.0    16137\n",
       "Name: poolcnt, dtype: int64"
      ]
     },
     "metadata": {},
     "output_type": "display_data"
    },
    {
     "name": "stdout",
     "output_type": "stream",
     "text": [
      "----------------------------------------poolsizesum---------------------------------------- - "
     ]
    },
    {
     "data": {
      "text/plain": [
       "NaN      76514\n",
       "450.0       90\n",
       "400.0       38\n",
       "500.0       30\n",
       "600.0       27\n",
       "512.0       25\n",
       "800.0       25\n",
       "480.0       19\n",
       "576.0       14\n",
       "544.0       14\n",
       "Name: poolsizesum, dtype: int64"
      ]
     },
     "metadata": {},
     "output_type": "display_data"
    },
    {
     "name": "stdout",
     "output_type": "stream",
     "text": [
      "----------------------------------------pooltypeid10---------------------------------------- - "
     ]
    },
    {
     "data": {
      "text/plain": [
       "NaN    76917\n",
       "1.0      464\n",
       "Name: pooltypeid10, dtype: int64"
      ]
     },
     "metadata": {},
     "output_type": "display_data"
    },
    {
     "name": "stdout",
     "output_type": "stream",
     "text": [
      "----------------------------------------pooltypeid2---------------------------------------- - "
     ]
    },
    {
     "data": {
      "text/plain": [
       "NaN    76307\n",
       "1.0     1074\n",
       "Name: pooltypeid2, dtype: int64"
      ]
     },
     "metadata": {},
     "output_type": "display_data"
    },
    {
     "name": "stdout",
     "output_type": "stream",
     "text": [
      "----------------------------------------pooltypeid7---------------------------------------- - "
     ]
    },
    {
     "data": {
      "text/plain": [
       "NaN    62339\n",
       "1.0    15042\n",
       "Name: pooltypeid7, dtype: int64"
      ]
     },
     "metadata": {},
     "output_type": "display_data"
    },
    {
     "name": "stdout",
     "output_type": "stream",
     "text": [
      "----------------------------------------propertycountylandusecode---------------------------------------- - "
     ]
    },
    {
     "data": {
      "text/plain": [
       "0100    26714\n",
       "122     13045\n",
       "010C     8813\n",
       "0101     6399\n",
       "34       4922\n",
       "1111     3353\n",
       "1        2393\n",
       "010E     2047\n",
       "010D     1943\n",
       "0200     1835\n",
       "Name: propertycountylandusecode, dtype: int64"
      ]
     },
     "metadata": {},
     "output_type": "display_data"
    },
    {
     "name": "stdout",
     "output_type": "stream",
     "text": [
      "----------------------------------------propertyzoningdesc---------------------------------------- - "
     ]
    },
    {
     "data": {
      "text/plain": [
       "NaN        27050\n",
       "LAR1        6747\n",
       "LAR3        2437\n",
       "LARS        1389\n",
       "LBR1N       1222\n",
       "LARD1.5     1127\n",
       "LAR2        1031\n",
       "SCUR2        956\n",
       "LARD2        849\n",
       "LARA         654\n",
       "Name: propertyzoningdesc, dtype: int64"
      ]
     },
     "metadata": {},
     "output_type": "display_data"
    },
    {
     "name": "stdout",
     "output_type": "stream",
     "text": [
      "----------------------------------------rawcensustractandblock---------------------------------------- - "
     ]
    },
    {
     "data": {
      "text/plain": [
       "6.059063e+07    60\n",
       "6.037137e+07    60\n",
       "6.037920e+07    58\n",
       "6.037277e+07    51\n",
       "6.059032e+07    43\n",
       "6.037139e+07    40\n",
       "6.037577e+07    39\n",
       "6.037274e+07    39\n",
       "6.059063e+07    39\n",
       "6.037578e+07    38\n",
       "Name: rawcensustractandblock, dtype: int64"
      ]
     },
     "metadata": {},
     "output_type": "display_data"
    },
    {
     "name": "stdout",
     "output_type": "stream",
     "text": [
      "----------------------------------------regionidcity---------------------------------------- - "
     ]
    },
    {
     "data": {
      "text/plain": [
       "12447.0    17948\n",
       "46298.0     2588\n",
       "5534.0      1912\n",
       "54311.0     1880\n",
       "52650.0     1669\n",
       "40227.0     1590\n",
       "NaN         1471\n",
       "16764.0     1467\n",
       "25218.0     1354\n",
       "34278.0     1195\n",
       "Name: regionidcity, dtype: int64"
      ]
     },
     "metadata": {},
     "output_type": "display_data"
    },
    {
     "name": "stdout",
     "output_type": "stream",
     "text": [
      "----------------------------------------regionidcounty---------------------------------------- - "
     ]
    },
    {
     "data": {
      "text/plain": [
       "3101.0    50551\n",
       "1286.0    20593\n",
       "2061.0     6237\n",
       "Name: regionidcounty, dtype: int64"
      ]
     },
     "metadata": {},
     "output_type": "display_data"
    },
    {
     "name": "stdout",
     "output_type": "stream",
     "text": [
      "----------------------------------------regionidneighborhood---------------------------------------- - "
     ]
    },
    {
     "data": {
      "text/plain": [
       "NaN         46491\n",
       "27080.0       717\n",
       "48570.0       704\n",
       "37739.0       684\n",
       "118208.0      669\n",
       "51906.0       549\n",
       "268496.0      531\n",
       "48200.0       525\n",
       "54300.0       521\n",
       "274049.0      466\n",
       "Name: regionidneighborhood, dtype: int64"
      ]
     },
     "metadata": {},
     "output_type": "display_data"
    },
    {
     "name": "stdout",
     "output_type": "stream",
     "text": [
      "----------------------------------------regionidzip---------------------------------------- - "
     ]
    },
    {
     "data": {
      "text/plain": [
       "97319.0    825\n",
       "96987.0    753\n",
       "97318.0    708\n",
       "97118.0    613\n",
       "96974.0    593\n",
       "96993.0    591\n",
       "97328.0    589\n",
       "97329.0    587\n",
       "96962.0    525\n",
       "96996.0    520\n",
       "Name: regionidzip, dtype: int64"
      ]
     },
     "metadata": {},
     "output_type": "display_data"
    },
    {
     "name": "stdout",
     "output_type": "stream",
     "text": [
      "----------------------------------------roomcnt---------------------------------------- - "
     ]
    },
    {
     "data": {
      "text/plain": [
       "0.0     59808\n",
       "6.0      4513\n",
       "7.0      3838\n",
       "5.0      3016\n",
       "8.0      2872\n",
       "4.0      1415\n",
       "9.0      1193\n",
       "10.0      339\n",
       "3.0       211\n",
       "11.0      108\n",
       "Name: roomcnt, dtype: int64"
      ]
     },
     "metadata": {},
     "output_type": "display_data"
    },
    {
     "name": "stdout",
     "output_type": "stream",
     "text": [
      "----------------------------------------threequarterbathnbr---------------------------------------- - "
     ]
    },
    {
     "data": {
      "text/plain": [
       "NaN    67285\n",
       "1.0    10012\n",
       "2.0       75\n",
       "3.0        8\n",
       "7.0        1\n",
       "Name: threequarterbathnbr, dtype: int64"
      ]
     },
     "metadata": {},
     "output_type": "display_data"
    },
    {
     "name": "stdout",
     "output_type": "stream",
     "text": [
      "----------------------------------------unitcnt---------------------------------------- - "
     ]
    },
    {
     "data": {
      "text/plain": [
       "1.0      47293\n",
       "NaN      26818\n",
       "2.0       2018\n",
       "4.0        723\n",
       "3.0        525\n",
       "6.0          1\n",
       "45.0         1\n",
       "237.0        1\n",
       "42.0         1\n",
       "Name: unitcnt, dtype: int64"
      ]
     },
     "metadata": {},
     "output_type": "display_data"
    },
    {
     "name": "stdout",
     "output_type": "stream",
     "text": [
      "----------------------------------------yardbuildingsqft17---------------------------------------- - "
     ]
    },
    {
     "data": {
      "text/plain": [
       "NaN      74993\n",
       "200.0      103\n",
       "240.0       76\n",
       "300.0       50\n",
       "180.0       42\n",
       "288.0       38\n",
       "120.0       38\n",
       "400.0       37\n",
       "360.0       35\n",
       "280.0       33\n",
       "Name: yardbuildingsqft17, dtype: int64"
      ]
     },
     "metadata": {},
     "output_type": "display_data"
    },
    {
     "name": "stdout",
     "output_type": "stream",
     "text": [
      "----------------------------------------yardbuildingsqft26---------------------------------------- - "
     ]
    },
    {
     "data": {
      "text/plain": [
       "NaN      77311\n",
       "30.0         3\n",
       "120.0        3\n",
       "240.0        2\n",
       "88.0         2\n",
       "56.0         2\n",
       "33.0         2\n",
       "300.0        2\n",
       "144.0        2\n",
       "448.0        2\n",
       "Name: yardbuildingsqft26, dtype: int64"
      ]
     },
     "metadata": {},
     "output_type": "display_data"
    },
    {
     "name": "stdout",
     "output_type": "stream",
     "text": [
      "----------------------------------------yearbuilt---------------------------------------- - "
     ]
    },
    {
     "data": {
      "text/plain": [
       "1955.0    1969\n",
       "1989.0    1787\n",
       "1950.0    1673\n",
       "1964.0    1642\n",
       "1954.0    1583\n",
       "1973.0    1567\n",
       "1953.0    1549\n",
       "1956.0    1448\n",
       "1987.0    1430\n",
       "1979.0    1428\n",
       "Name: yearbuilt, dtype: int64"
      ]
     },
     "metadata": {},
     "output_type": "display_data"
    },
    {
     "name": "stdout",
     "output_type": "stream",
     "text": [
      "----------------------------------------numberofstories---------------------------------------- - "
     ]
    },
    {
     "data": {
      "text/plain": [
       "NaN    59821\n",
       "1.0    10366\n",
       "2.0     6757\n",
       "3.0      436\n",
       "6.0        1\n",
       "Name: numberofstories, dtype: int64"
      ]
     },
     "metadata": {},
     "output_type": "display_data"
    },
    {
     "name": "stdout",
     "output_type": "stream",
     "text": [
      "----------------------------------------fireplaceflag---------------------------------------- - "
     ]
    },
    {
     "data": {
      "text/plain": [
       "NaN    77209\n",
       "1.0      172\n",
       "Name: fireplaceflag, dtype: int64"
      ]
     },
     "metadata": {},
     "output_type": "display_data"
    },
    {
     "name": "stdout",
     "output_type": "stream",
     "text": [
      "----------------------------------------structuretaxvaluedollarcnt---------------------------------------- - "
     ]
    },
    {
     "data": {
      "text/plain": [
       "NaN         112\n",
       "100000.0     82\n",
       "200000.0     58\n",
       "203050.0     55\n",
       "90000.0      52\n",
       "95000.0      49\n",
       "101525.0     49\n",
       "120000.0     44\n",
       "207106.0     43\n",
       "110000.0     42\n",
       "Name: structuretaxvaluedollarcnt, dtype: int64"
      ]
     },
     "metadata": {},
     "output_type": "display_data"
    },
    {
     "name": "stdout",
     "output_type": "stream",
     "text": [
      "----------------------------------------taxvaluedollarcnt---------------------------------------- - "
     ]
    },
    {
     "data": {
      "text/plain": [
       "400000.0    56\n",
       "600000.0    50\n",
       "350000.0    49\n",
       "450000.0    45\n",
       "500000.0    43\n",
       "455000.0    43\n",
       "420000.0    43\n",
       "340000.0    42\n",
       "375000.0    41\n",
       "300000.0    40\n",
       "Name: taxvaluedollarcnt, dtype: int64"
      ]
     },
     "metadata": {},
     "output_type": "display_data"
    },
    {
     "name": "stdout",
     "output_type": "stream",
     "text": [
      "----------------------------------------assessmentyear---------------------------------------- - "
     ]
    },
    {
     "data": {
      "text/plain": [
       "2016.0    77381\n",
       "Name: assessmentyear, dtype: int64"
      ]
     },
     "metadata": {},
     "output_type": "display_data"
    },
    {
     "name": "stdout",
     "output_type": "stream",
     "text": [
      "----------------------------------------landtaxvaluedollarcnt---------------------------------------- - "
     ]
    },
    {
     "data": {
      "text/plain": [
       "21299.0     97\n",
       "22755.0     68\n",
       "304575.0    65\n",
       "203050.0    63\n",
       "30210.0     63\n",
       "212207.0    61\n",
       "208047.0    59\n",
       "18611.0     56\n",
       "16749.0     55\n",
       "16522.0     53\n",
       "Name: landtaxvaluedollarcnt, dtype: int64"
      ]
     },
     "metadata": {},
     "output_type": "display_data"
    },
    {
     "name": "stdout",
     "output_type": "stream",
     "text": [
      "----------------------------------------taxamount---------------------------------------- - "
     ]
    },
    {
     "data": {
      "text/plain": [
       "2418.22    8\n",
       "3720.52    7\n",
       "NaN        5\n",
       "3815.22    5\n",
       "1725.20    5\n",
       "4401.72    5\n",
       "2217.31    5\n",
       "345.72     4\n",
       "3860.10    4\n",
       "2899.58    4\n",
       "Name: taxamount, dtype: int64"
      ]
     },
     "metadata": {},
     "output_type": "display_data"
    },
    {
     "name": "stdout",
     "output_type": "stream",
     "text": [
      "----------------------------------------taxdelinquencyflag---------------------------------------- - "
     ]
    },
    {
     "data": {
      "text/plain": [
       "NaN    74495\n",
       "Y       2886\n",
       "Name: taxdelinquencyflag, dtype: int64"
      ]
     },
     "metadata": {},
     "output_type": "display_data"
    },
    {
     "name": "stdout",
     "output_type": "stream",
     "text": [
      "----------------------------------------taxdelinquencyyear---------------------------------------- - "
     ]
    },
    {
     "data": {
      "text/plain": [
       "NaN     74495\n",
       "15.0     1552\n",
       "14.0      799\n",
       "13.0      183\n",
       "12.0      113\n",
       "11.0       98\n",
       "10.0       66\n",
       "9.0        47\n",
       "8.0        14\n",
       "7.0        10\n",
       "Name: taxdelinquencyyear, dtype: int64"
      ]
     },
     "metadata": {},
     "output_type": "display_data"
    },
    {
     "name": "stdout",
     "output_type": "stream",
     "text": [
      "----------------------------------------censustractandblock---------------------------------------- - "
     ]
    },
    {
     "data": {
      "text/plain": [
       "NaN             244\n",
       "6.037137e+13     60\n",
       "6.037277e+13     51\n",
       "6.059032e+13     44\n",
       "6.059063e+13     41\n",
       "6.037920e+13     41\n",
       "6.059063e+13     40\n",
       "6.037139e+13     40\n",
       "6.037920e+13     40\n",
       "6.037577e+13     39\n",
       "Name: censustractandblock, dtype: int64"
      ]
     },
     "metadata": {},
     "output_type": "display_data"
    },
    {
     "name": "stdout",
     "output_type": "stream",
     "text": [
      "----------------------------------------id.1---------------------------------------- - "
     ]
    },
    {
     "data": {
      "text/plain": [
       "2047     1\n",
       "4759     1\n",
       "25241    1\n",
       "31386    1\n",
       "29339    1\n",
       "19100    1\n",
       "17053    1\n",
       "23198    1\n",
       "21151    1\n",
       "76464    1\n",
       "Name: id.1, dtype: int64"
      ]
     },
     "metadata": {},
     "output_type": "display_data"
    },
    {
     "name": "stdout",
     "output_type": "stream",
     "text": [
      "----------------------------------------logerror---------------------------------------- - "
     ]
    },
    {
     "data": {
      "text/plain": [
       "0.002652    7\n",
       "0.000231    7\n",
       "0.000727    5\n",
       "0.011157    5\n",
       "0.006909    5\n",
       "0.003152    5\n",
       "0.000420    5\n",
       "0.008932    5\n",
       "0.008257    5\n",
       "0.001878    5\n",
       "Name: logerror, dtype: int64"
      ]
     },
     "metadata": {},
     "output_type": "display_data"
    },
    {
     "name": "stdout",
     "output_type": "stream",
     "text": [
      "----------------------------------------pid---------------------------------------- - "
     ]
    },
    {
     "data": {
      "text/plain": [
       "12086286    1\n",
       "13842812    1\n",
       "17089101    1\n",
       "14604878    1\n",
       "11149905    1\n",
       "12104347    1\n",
       "11077074    1\n",
       "17173076    1\n",
       "12714581    1\n",
       "12458582    1\n",
       "Name: pid, dtype: int64"
      ]
     },
     "metadata": {},
     "output_type": "display_data"
    },
    {
     "name": "stdout",
     "output_type": "stream",
     "text": [
      "----------------------------------------tdate---------------------------------------- - "
     ]
    },
    {
     "data": {
      "text/plain": [
       "2017-06-30    1189\n",
       "2017-04-28     911\n",
       "2017-05-31     867\n",
       "2017-07-28     814\n",
       "2017-08-31     781\n",
       "2017-03-31     770\n",
       "2017-05-26     743\n",
       "2017-06-16     727\n",
       "2017-06-23     706\n",
       "2017-08-25     696\n",
       "Name: tdate, dtype: int64"
      ]
     },
     "metadata": {},
     "output_type": "display_data"
    },
    {
     "name": "stdout",
     "output_type": "stream",
     "text": [
      "----------------------------------------airconditioningdesc---------------------------------------- - "
     ]
    },
    {
     "data": {
      "text/plain": [
       "NaN              52428\n",
       "Central          23133\n",
       "Yes               1574\n",
       "None               167\n",
       "Wall Unit           53\n",
       "Refrigeration       26\n",
       "Name: airconditioningdesc, dtype: int64"
      ]
     },
     "metadata": {},
     "output_type": "display_data"
    },
    {
     "name": "stdout",
     "output_type": "stream",
     "text": [
      "----------------------------------------architecturalstyledesc---------------------------------------- - "
     ]
    },
    {
     "data": {
      "text/plain": [
       "NaN              77175\n",
       "Contemporary       172\n",
       "Conventional        19\n",
       "Ranch/Rambler        7\n",
       "Bungalow             5\n",
       "Cape Cod             3\n",
       "Name: architecturalstyledesc, dtype: int64"
      ]
     },
     "metadata": {},
     "output_type": "display_data"
    },
    {
     "name": "stdout",
     "output_type": "stream",
     "text": [
      "----------------------------------------buildingclassdesc---------------------------------------- - "
     ]
    },
    {
     "data": {
      "text/plain": [
       "NaN                                                                                                                                                                                                                                        77366\n",
       "Buildings having wood or wood and steel frames                                                                                                                                                                                                14\n",
       "Buildings having exterior walls built of a non-combustible material such as brick, concrete, block or poured concrete. Interior partitions and roof structures are built of combustible materials. Floor may be concrete or wood frame.        1\n",
       "Name: buildingclassdesc, dtype: int64"
      ]
     },
     "metadata": {},
     "output_type": "display_data"
    },
    {
     "name": "stdout",
     "output_type": "stream",
     "text": [
      "----------------------------------------heatingorsystemdesc---------------------------------------- - "
     ]
    },
    {
     "data": {
      "text/plain": [
       "Central       33550\n",
       "NaN           27941\n",
       "Floor/Wall    14065\n",
       "Yes             846\n",
       "Forced air      776\n",
       "Solar           104\n",
       "None             59\n",
       "Radiant          23\n",
       "Baseboard        13\n",
       "Gravity           3\n",
       "Name: heatingorsystemdesc, dtype: int64"
      ]
     },
     "metadata": {},
     "output_type": "display_data"
    },
    {
     "name": "stdout",
     "output_type": "stream",
     "text": [
      "----------------------------------------propertylandusedesc---------------------------------------- - "
     ]
    },
    {
     "data": {
      "text/plain": [
       "Single Family Residential                     52320\n",
       "Condominium                                   19294\n",
       "Duplex (2 Units, Any Combination)              2009\n",
       "Planned Unit Development                       1944\n",
       "Quadruplex (4 Units, Any Combination)           727\n",
       "Triplex (3 Units, Any Combination)              535\n",
       "Cluster Home                                    333\n",
       "Mobile Home                                      74\n",
       "Manufactured, Modular, Prefabricated Homes       58\n",
       "Residential General                              37\n",
       "Name: propertylandusedesc, dtype: int64"
      ]
     },
     "metadata": {},
     "output_type": "display_data"
    },
    {
     "name": "stdout",
     "output_type": "stream",
     "text": [
      "----------------------------------------storydesc---------------------------------------- - "
     ]
    },
    {
     "data": {
      "text/plain": [
       "NaN         77331\n",
       "Basement       50\n",
       "Name: storydesc, dtype: int64"
      ]
     },
     "metadata": {},
     "output_type": "display_data"
    },
    {
     "name": "stdout",
     "output_type": "stream",
     "text": [
      "----------------------------------------typeconstructiondesc---------------------------------------- - "
     ]
    },
    {
     "data": {
      "text/plain": [
       "NaN         77159\n",
       "Frame         219\n",
       "Concrete        1\n",
       "Metal           1\n",
       "Masonry         1\n",
       "Name: typeconstructiondesc, dtype: int64"
      ]
     },
     "metadata": {},
     "output_type": "display_data"
    }
   ],
   "source": [
    "# df_summary(provides df info before wrangle function)\n",
    "df = df = pd.read_csv('zillow_df.csv')\n",
    "wrangle_zillow.df_summary(df)"
   ]
  },
  {
   "cell_type": "code",
   "execution_count": 31,
   "metadata": {},
   "outputs": [],
   "source": [
    "# Testing wrangle_zillow Function (Splits/Scales)\n",
    "\n",
    "df, X_train_explore, X_train_scaled, X_validate_scaled, X_test_scaled = wrangle_zillow.wrangle_zillow(acquire.get_zillow_data(cached=False))"
   ]
  },
  {
   "cell_type": "code",
   "execution_count": 32,
   "metadata": {},
   "outputs": [
    {
     "data": {
      "text/plain": [
       "((43779, 34), (24516, 34), (24516, 34), (10507, 34), (8756, 34))"
      ]
     },
     "execution_count": 32,
     "metadata": {},
     "output_type": "execute_result"
    }
   ],
   "source": [
    "df.shape, X_train_explore.shape, X_train_scaled.shape, X_validate_scaled.shape, X_test_scaled.shape "
   ]
  },
  {
   "cell_type": "code",
   "execution_count": 33,
   "metadata": {},
   "outputs": [
    {
     "name": "stdout",
     "output_type": "stream",
     "text": [
      "~~~\n",
      "parcelid_outliers\n",
      "count    0.0\n",
      "mean     NaN\n",
      "std      NaN\n",
      "min      NaN\n",
      "25%      NaN\n",
      "50%      NaN\n",
      "75%      NaN\n",
      "max      NaN\n",
      "Name: parcelid_outliers, dtype: float64\n",
      "~~~\n",
      "propertylandusetypeid_outliers\n",
      "count    0.0\n",
      "mean     NaN\n",
      "std      NaN\n",
      "min      NaN\n",
      "25%      NaN\n",
      "50%      NaN\n",
      "75%      NaN\n",
      "max      NaN\n",
      "Name: propertylandusetypeid_outliers, dtype: float64\n",
      "~~~\n",
      "heatingorsystemtypeid_outliers\n",
      "count    0.0\n",
      "mean     NaN\n",
      "std      NaN\n",
      "min      NaN\n",
      "25%      NaN\n",
      "50%      NaN\n",
      "75%      NaN\n",
      "max      NaN\n",
      "Name: heatingorsystemtypeid_outliers, dtype: float64\n",
      "~~~\n",
      "bathroomcnt_outliers\n",
      "count    615.000000\n",
      "mean       0.981301\n",
      "std        0.834453\n",
      "min        0.500000\n",
      "25%        0.500000\n",
      "50%        0.500000\n",
      "75%        1.500000\n",
      "max        5.500000\n",
      "Name: bathroomcnt_outliers, dtype: float64\n",
      "~~~\n",
      "bedroomcnt_outliers\n",
      "count    15.000000\n",
      "mean      1.400000\n",
      "std       0.828079\n",
      "min       1.000000\n",
      "25%       1.000000\n",
      "50%       1.000000\n",
      "75%       1.500000\n",
      "max       4.000000\n",
      "Name: bedroomcnt_outliers, dtype: float64\n",
      "~~~\n",
      "buildingqualitytypeid_outliers\n",
      "count    50.0\n",
      "mean      1.0\n",
      "std       0.0\n",
      "min       1.0\n",
      "25%       1.0\n",
      "50%       1.0\n",
      "75%       1.0\n",
      "max       1.0\n",
      "Name: buildingqualitytypeid_outliers, dtype: float64\n",
      "~~~\n",
      "calculatedbathnbr_outliers\n",
      "count    615.000000\n",
      "mean       0.981301\n",
      "std        0.834453\n",
      "min        0.500000\n",
      "25%        0.500000\n",
      "50%        0.500000\n",
      "75%        1.500000\n",
      "max        5.500000\n",
      "Name: calculatedbathnbr_outliers, dtype: float64\n",
      "~~~\n",
      "calculatedfinishedsquarefeet_outliers\n",
      "count    1344.000000\n",
      "mean      572.582589\n",
      "std       400.735350\n",
      "min         0.500000\n",
      "25%       213.500000\n",
      "50%       522.000000\n",
      "75%       900.750000\n",
      "max      1397.500000\n",
      "Name: calculatedfinishedsquarefeet_outliers, dtype: float64\n",
      "~~~\n",
      "finishedsquarefeet12_outliers\n",
      "count    1344.000000\n",
      "mean      572.582589\n",
      "std       400.735350\n",
      "min         0.500000\n",
      "25%       213.500000\n",
      "50%       522.000000\n",
      "75%       900.750000\n",
      "max      1397.500000\n",
      "Name: finishedsquarefeet12_outliers, dtype: float64\n",
      "~~~\n",
      "fips_outliers\n",
      "count    0.0\n",
      "mean     NaN\n",
      "std      NaN\n",
      "min      NaN\n",
      "25%      NaN\n",
      "50%      NaN\n",
      "75%      NaN\n",
      "max      NaN\n",
      "Name: fips_outliers, dtype: float64\n",
      "~~~\n",
      "fullbathcnt_outliers\n",
      "count    615.000000\n",
      "mean       0.981301\n",
      "std        0.834453\n",
      "min        0.500000\n",
      "25%        0.500000\n",
      "50%        0.500000\n",
      "75%        1.500000\n",
      "max        5.500000\n",
      "Name: fullbathcnt_outliers, dtype: float64\n",
      "~~~\n",
      "latitude_outliers\n",
      "count    0.0\n",
      "mean     NaN\n",
      "std      NaN\n",
      "min      NaN\n",
      "25%      NaN\n",
      "50%      NaN\n",
      "75%      NaN\n",
      "max      NaN\n",
      "Name: latitude_outliers, dtype: float64\n",
      "~~~\n",
      "longitude_outliers\n",
      "count    0.0\n",
      "mean     NaN\n",
      "std      NaN\n",
      "min      NaN\n",
      "25%      NaN\n",
      "50%      NaN\n",
      "75%      NaN\n",
      "max      NaN\n",
      "Name: longitude_outliers, dtype: float64\n",
      "~~~\n",
      "lotsizesquarefeet_outliers\n",
      "count    0.0\n",
      "mean     NaN\n",
      "std      NaN\n",
      "min      NaN\n",
      "25%      NaN\n",
      "50%      NaN\n",
      "75%      NaN\n",
      "max      NaN\n",
      "Name: lotsizesquarefeet_outliers, dtype: float64\n",
      "~~~\n",
      "propertycountylandusecode_outliers\n",
      "count    108.000000\n",
      "mean       2.055556\n",
      "std        0.267677\n",
      "min        1.000000\n",
      "25%        2.000000\n",
      "50%        2.000000\n",
      "75%        2.000000\n",
      "max        3.000000\n",
      "Name: propertycountylandusecode_outliers, dtype: float64\n",
      "~~~\n",
      "propertyzoningdesc_outliers\n",
      "count    0.0\n",
      "mean     NaN\n",
      "std      NaN\n",
      "min      NaN\n",
      "25%      NaN\n",
      "50%      NaN\n",
      "75%      NaN\n",
      "max      NaN\n",
      "Name: propertyzoningdesc_outliers, dtype: float64\n",
      "~~~\n",
      "rawcensustractandblock_outliers\n",
      "count    0.0\n",
      "mean     NaN\n",
      "std      NaN\n",
      "min      NaN\n",
      "25%      NaN\n",
      "50%      NaN\n",
      "75%      NaN\n",
      "max      NaN\n",
      "Name: rawcensustractandblock_outliers, dtype: float64\n",
      "~~~\n",
      "regionidcity_outliers\n",
      "count    0.0\n",
      "mean     NaN\n",
      "std      NaN\n",
      "min      NaN\n",
      "25%      NaN\n",
      "50%      NaN\n",
      "75%      NaN\n",
      "max      NaN\n",
      "Name: regionidcity_outliers, dtype: float64\n",
      "~~~\n",
      "regionidcounty_outliers\n",
      "count    0.0\n",
      "mean     NaN\n",
      "std      NaN\n",
      "min      NaN\n",
      "25%      NaN\n",
      "50%      NaN\n",
      "75%      NaN\n",
      "max      NaN\n",
      "Name: regionidcounty_outliers, dtype: float64\n",
      "~~~\n",
      "regionidzip_outliers\n",
      "count    0.0\n",
      "mean     NaN\n",
      "std      NaN\n",
      "min      NaN\n",
      "25%      NaN\n",
      "50%      NaN\n",
      "75%      NaN\n",
      "max      NaN\n",
      "Name: regionidzip_outliers, dtype: float64\n",
      "~~~\n",
      "roomcnt_outliers\n",
      "count    0.0\n",
      "mean     NaN\n",
      "std      NaN\n",
      "min      NaN\n",
      "25%      NaN\n",
      "50%      NaN\n",
      "75%      NaN\n",
      "max      NaN\n",
      "Name: roomcnt_outliers, dtype: float64\n",
      "~~~\n",
      "unitcnt_outliers\n",
      "count    9.000000\n",
      "mean     1.333333\n",
      "std      0.707107\n",
      "min      1.000000\n",
      "25%      1.000000\n",
      "50%      1.000000\n",
      "75%      1.000000\n",
      "max      3.000000\n",
      "Name: unitcnt_outliers, dtype: float64\n",
      "~~~\n",
      "yearbuilt_outliers\n",
      "count    0.0\n",
      "mean     NaN\n",
      "std      NaN\n",
      "min      NaN\n",
      "25%      NaN\n",
      "50%      NaN\n",
      "75%      NaN\n",
      "max      NaN\n",
      "Name: yearbuilt_outliers, dtype: float64\n",
      "~~~\n",
      "structuretaxvaluedollarcnt_outliers\n",
      "count    0.0\n",
      "mean     NaN\n",
      "std      NaN\n",
      "min      NaN\n",
      "25%      NaN\n",
      "50%      NaN\n",
      "75%      NaN\n",
      "max      NaN\n",
      "Name: structuretaxvaluedollarcnt_outliers, dtype: float64\n",
      "~~~\n",
      "taxvaluedollarcnt_outliers\n",
      "count    0.0\n",
      "mean     NaN\n",
      "std      NaN\n",
      "min      NaN\n",
      "25%      NaN\n",
      "50%      NaN\n",
      "75%      NaN\n",
      "max      NaN\n",
      "Name: taxvaluedollarcnt_outliers, dtype: float64\n",
      "~~~\n",
      "assessmentyear_outliers\n",
      "count    0.0\n",
      "mean     NaN\n",
      "std      NaN\n",
      "min      NaN\n",
      "25%      NaN\n",
      "50%      NaN\n",
      "75%      NaN\n",
      "max      NaN\n",
      "Name: assessmentyear_outliers, dtype: float64\n",
      "~~~\n",
      "landtaxvaluedollarcnt_outliers\n",
      "count    0.0\n",
      "mean     NaN\n",
      "std      NaN\n",
      "min      NaN\n",
      "25%      NaN\n",
      "50%      NaN\n",
      "75%      NaN\n",
      "max      NaN\n",
      "Name: landtaxvaluedollarcnt_outliers, dtype: float64\n",
      "~~~\n",
      "taxamount_outliers\n",
      "count    0.0\n",
      "mean     NaN\n",
      "std      NaN\n",
      "min      NaN\n",
      "25%      NaN\n",
      "50%      NaN\n",
      "75%      NaN\n",
      "max      NaN\n",
      "Name: taxamount_outliers, dtype: float64\n",
      "~~~\n",
      "censustractandblock_outliers\n",
      "count    0.0\n",
      "mean     NaN\n",
      "std      NaN\n",
      "min      NaN\n",
      "25%      NaN\n",
      "50%      NaN\n",
      "75%      NaN\n",
      "max      NaN\n",
      "Name: censustractandblock_outliers, dtype: float64\n",
      "~~~\n",
      "id_outliers\n",
      "count    0.0\n",
      "mean     NaN\n",
      "std      NaN\n",
      "min      NaN\n",
      "25%      NaN\n",
      "50%      NaN\n",
      "75%      NaN\n",
      "max      NaN\n",
      "Name: id_outliers, dtype: float64\n",
      "~~~\n",
      "logerror_outliers\n",
      "count    0.0\n",
      "mean     NaN\n",
      "std      NaN\n",
      "min      NaN\n",
      "25%      NaN\n",
      "50%      NaN\n",
      "75%      NaN\n",
      "max      NaN\n",
      "Name: logerror_outliers, dtype: float64\n",
      "~~~\n",
      "tdate_outliers\n",
      "count    0.0\n",
      "mean     NaN\n",
      "std      NaN\n",
      "min      NaN\n",
      "25%      NaN\n",
      "50%      NaN\n",
      "75%      NaN\n",
      "max      NaN\n",
      "Name: tdate_outliers, dtype: float64\n",
      "~~~\n",
      "heatingorsystemdesc_outliers\n",
      "count    0.0\n",
      "mean     NaN\n",
      "std      NaN\n",
      "min      NaN\n",
      "25%      NaN\n",
      "50%      NaN\n",
      "75%      NaN\n",
      "max      NaN\n",
      "Name: heatingorsystemdesc_outliers, dtype: float64\n",
      "~~~\n",
      "propertylandusedesc_outliers\n",
      "count    0.0\n",
      "mean     NaN\n",
      "std      NaN\n",
      "min      NaN\n",
      "25%      NaN\n",
      "50%      NaN\n",
      "75%      NaN\n",
      "max      NaN\n",
      "Name: propertylandusedesc_outliers, dtype: float64\n"
     ]
    }
   ],
   "source": [
    "# Testing IQR Function\n",
    "wrangle_zillow.quartiles_and_outliers(X_train_explore)"
   ]
  },
  {
   "cell_type": "markdown",
   "metadata": {},
   "source": [
    "### Visualizing and Determining IQR"
   ]
  },
  {
   "cell_type": "code",
   "execution_count": 34,
   "metadata": {},
   "outputs": [
    {
     "data": {
      "image/png": "[encoded data removed]",
      "text/plain": [
       "<Figure size 1728x720 with 36 Axes>"
      ]
     },
     "metadata": {
      "needs_background": "light"
     },
     "output_type": "display_data"
    }
   ],
   "source": [
    "# Visualize Data\n",
    "df.hist(figsize=(24, 10), bins=20)\n",
    "plt.show()"
   ]
  },
  {
   "cell_type": "code",
   "execution_count": 35,
   "metadata": {},
   "outputs": [],
   "source": [
    "def quartiles_and_outliers(df):\n",
    "    def get_upper_outliers(s, k):\n",
    "        '''\n",
    "        Given a series and a cutoff value, k, returns the upper outliers for the\n",
    "        series.\n",
    "\n",
    "        The values returned will be either 0 (if the point is not an outlier), or a\n",
    "        number that indicates how far away from the upper bound the observation is.\n",
    "        '''\n",
    "        q1, q3 = s.quantile([.25, .75])\n",
    "        iqr = q3 - q1\n",
    "        upper_bound = q3 + k * iqr\n",
    "        return s.apply(lambda x: max([x - upper_bound, 0]))\n",
    "\n",
    "    def add_upper_outlier_columns(df, k):\n",
    "        '''\n",
    "        Add a column with the suffix _outliers for all the numeric columns\n",
    "        in the given dataframe.\n",
    "        '''\n",
    "        # outlier_cols = {col + '_outliers': get_upper_outliers(df[col], k)\n",
    "        #                 for col in df.select_dtypes('number')}\n",
    "        # return df.assign(**outlier_cols)\n",
    "        for col in df.select_dtypes('number'):\n",
    "            df[col + '_outliers'] = get_upper_outliers(df[col], k)\n",
    "        return df\n",
    "\n",
    "    add_upper_outlier_columns(df, k=1.5)    \n",
    "    outlier_cols = [col for col in df if col.endswith('_outliers')]\n",
    "    for col in outlier_cols:\n",
    "        print('~~~\\n' + col)\n",
    "        data = df[col][df[col] > 0]\n",
    "        print(data.describe())"
   ]
  },
  {
   "cell_type": "code",
   "execution_count": 36,
   "metadata": {},
   "outputs": [
    {
     "name": "stdout",
     "output_type": "stream",
     "text": [
      "~~~\n",
      "parcelid_outliers\n",
      "count    0.0\n",
      "mean     NaN\n",
      "std      NaN\n",
      "min      NaN\n",
      "25%      NaN\n",
      "50%      NaN\n",
      "75%      NaN\n",
      "max      NaN\n",
      "Name: parcelid_outliers, dtype: float64\n",
      "~~~\n",
      "propertylandusetypeid_outliers\n",
      "count    0.0\n",
      "mean     NaN\n",
      "std      NaN\n",
      "min      NaN\n",
      "25%      NaN\n",
      "50%      NaN\n",
      "75%      NaN\n",
      "max      NaN\n",
      "Name: propertylandusetypeid_outliers, dtype: float64\n",
      "~~~\n",
      "heatingorsystemtypeid_outliers\n",
      "count    0.0\n",
      "mean     NaN\n",
      "std      NaN\n",
      "min      NaN\n",
      "25%      NaN\n",
      "50%      NaN\n",
      "75%      NaN\n",
      "max      NaN\n",
      "Name: heatingorsystemtypeid_outliers, dtype: float64\n",
      "~~~\n",
      "bathroomcnt_outliers\n",
      "count    1058.000000\n",
      "mean        0.982042\n",
      "std         0.848037\n",
      "min         0.500000\n",
      "25%         0.500000\n",
      "50%         0.500000\n",
      "75%         1.500000\n",
      "max         6.500000\n",
      "Name: bathroomcnt_outliers, dtype: float64\n",
      "~~~\n",
      "bedroomcnt_outliers\n",
      "count    25.000000\n",
      "mean      1.440000\n",
      "std       0.768115\n",
      "min       1.000000\n",
      "25%       1.000000\n",
      "50%       1.000000\n",
      "75%       2.000000\n",
      "max       4.000000\n",
      "Name: bedroomcnt_outliers, dtype: float64\n",
      "~~~\n",
      "buildingqualitytypeid_outliers\n",
      "count    101.0\n",
      "mean       1.0\n",
      "std        0.0\n",
      "min        1.0\n",
      "25%        1.0\n",
      "50%        1.0\n",
      "75%        1.0\n",
      "max        1.0\n",
      "Name: buildingqualitytypeid_outliers, dtype: float64\n",
      "~~~\n",
      "calculatedbathnbr_outliers\n",
      "count    1058.000000\n",
      "mean        0.982042\n",
      "std         0.848037\n",
      "min         0.500000\n",
      "25%         0.500000\n",
      "50%         0.500000\n",
      "75%         1.500000\n",
      "max         6.500000\n",
      "Name: calculatedbathnbr_outliers, dtype: float64\n",
      "~~~\n",
      "calculatedfinishedsquarefeet_outliers\n",
      "count    2394.000000\n",
      "mean      569.276525\n",
      "std       400.875952\n",
      "min         1.000000\n",
      "25%       214.250000\n",
      "50%       511.000000\n",
      "75%       891.000000\n",
      "max      1403.000000\n",
      "Name: calculatedfinishedsquarefeet_outliers, dtype: float64\n",
      "~~~\n",
      "finishedsquarefeet12_outliers\n",
      "count    2394.000000\n",
      "mean      569.276525\n",
      "std       400.875952\n",
      "min         1.000000\n",
      "25%       214.250000\n",
      "50%       511.000000\n",
      "75%       891.000000\n",
      "max      1403.000000\n",
      "Name: finishedsquarefeet12_outliers, dtype: float64\n",
      "~~~\n",
      "fips_outliers\n",
      "count    0.0\n",
      "mean     NaN\n",
      "std      NaN\n",
      "min      NaN\n",
      "25%      NaN\n",
      "50%      NaN\n",
      "75%      NaN\n",
      "max      NaN\n",
      "Name: fips_outliers, dtype: float64\n",
      "~~~\n",
      "fullbathcnt_outliers\n",
      "count    1058.000000\n",
      "mean        0.982042\n",
      "std         0.848037\n",
      "min         0.500000\n",
      "25%         0.500000\n",
      "50%         0.500000\n",
      "75%         1.500000\n",
      "max         6.500000\n",
      "Name: fullbathcnt_outliers, dtype: float64\n",
      "~~~\n",
      "latitude_outliers\n",
      "count    0.0\n",
      "mean     NaN\n",
      "std      NaN\n",
      "min      NaN\n",
      "25%      NaN\n",
      "50%      NaN\n",
      "75%      NaN\n",
      "max      NaN\n",
      "Name: latitude_outliers, dtype: float64\n",
      "~~~\n",
      "longitude_outliers\n",
      "count    0.0\n",
      "mean     NaN\n",
      "std      NaN\n",
      "min      NaN\n",
      "25%      NaN\n",
      "50%      NaN\n",
      "75%      NaN\n",
      "max      NaN\n",
      "Name: longitude_outliers, dtype: float64\n",
      "~~~\n",
      "lotsizesquarefeet_outliers\n",
      "count    0.0\n",
      "mean     NaN\n",
      "std      NaN\n",
      "min      NaN\n",
      "25%      NaN\n",
      "50%      NaN\n",
      "75%      NaN\n",
      "max      NaN\n",
      "Name: lotsizesquarefeet_outliers, dtype: float64\n",
      "~~~\n",
      "propertycountylandusecode_outliers\n",
      "count    184.000000\n",
      "mean       2.081522\n",
      "std        0.293622\n",
      "min        1.000000\n",
      "25%        2.000000\n",
      "50%        2.000000\n",
      "75%        2.000000\n",
      "max        3.000000\n",
      "Name: propertycountylandusecode_outliers, dtype: float64\n",
      "~~~\n",
      "propertyzoningdesc_outliers\n",
      "count    0.0\n",
      "mean     NaN\n",
      "std      NaN\n",
      "min      NaN\n",
      "25%      NaN\n",
      "50%      NaN\n",
      "75%      NaN\n",
      "max      NaN\n",
      "Name: propertyzoningdesc_outliers, dtype: float64\n",
      "~~~\n",
      "rawcensustractandblock_outliers\n",
      "count    0.0\n",
      "mean     NaN\n",
      "std      NaN\n",
      "min      NaN\n",
      "25%      NaN\n",
      "50%      NaN\n",
      "75%      NaN\n",
      "max      NaN\n",
      "Name: rawcensustractandblock_outliers, dtype: float64\n",
      "~~~\n",
      "regionidcity_outliers\n",
      "count    0.0\n",
      "mean     NaN\n",
      "std      NaN\n",
      "min      NaN\n",
      "25%      NaN\n",
      "50%      NaN\n",
      "75%      NaN\n",
      "max      NaN\n",
      "Name: regionidcity_outliers, dtype: float64\n",
      "~~~\n",
      "regionidcounty_outliers\n",
      "count    0.0\n",
      "mean     NaN\n",
      "std      NaN\n",
      "min      NaN\n",
      "25%      NaN\n",
      "50%      NaN\n",
      "75%      NaN\n",
      "max      NaN\n",
      "Name: regionidcounty_outliers, dtype: float64\n",
      "~~~\n",
      "regionidzip_outliers\n",
      "count    0.0\n",
      "mean     NaN\n",
      "std      NaN\n",
      "min      NaN\n",
      "25%      NaN\n",
      "50%      NaN\n",
      "75%      NaN\n",
      "max      NaN\n",
      "Name: regionidzip_outliers, dtype: float64\n",
      "~~~\n",
      "roomcnt_outliers\n",
      "count    0.0\n",
      "mean     NaN\n",
      "std      NaN\n",
      "min      NaN\n",
      "25%      NaN\n",
      "50%      NaN\n",
      "75%      NaN\n",
      "max      NaN\n",
      "Name: roomcnt_outliers, dtype: float64\n",
      "~~~\n",
      "unitcnt_outliers\n",
      "count    16.000000\n",
      "mean      1.187500\n",
      "std       0.543906\n",
      "min       1.000000\n",
      "25%       1.000000\n",
      "50%       1.000000\n",
      "75%       1.000000\n",
      "max       3.000000\n",
      "Name: unitcnt_outliers, dtype: float64\n",
      "~~~\n",
      "yearbuilt_outliers\n",
      "count    0.0\n",
      "mean     NaN\n",
      "std      NaN\n",
      "min      NaN\n",
      "25%      NaN\n",
      "50%      NaN\n",
      "75%      NaN\n",
      "max      NaN\n",
      "Name: yearbuilt_outliers, dtype: float64\n",
      "~~~\n",
      "structuretaxvaluedollarcnt_outliers\n",
      "count    0.0\n",
      "mean     NaN\n",
      "std      NaN\n",
      "min      NaN\n",
      "25%      NaN\n",
      "50%      NaN\n",
      "75%      NaN\n",
      "max      NaN\n",
      "Name: structuretaxvaluedollarcnt_outliers, dtype: float64\n",
      "~~~\n",
      "taxvaluedollarcnt_outliers\n",
      "count    0.0\n",
      "mean     NaN\n",
      "std      NaN\n",
      "min      NaN\n",
      "25%      NaN\n",
      "50%      NaN\n",
      "75%      NaN\n",
      "max      NaN\n",
      "Name: taxvaluedollarcnt_outliers, dtype: float64\n",
      "~~~\n",
      "assessmentyear_outliers\n",
      "count    0.0\n",
      "mean     NaN\n",
      "std      NaN\n",
      "min      NaN\n",
      "25%      NaN\n",
      "50%      NaN\n",
      "75%      NaN\n",
      "max      NaN\n",
      "Name: assessmentyear_outliers, dtype: float64\n",
      "~~~\n",
      "landtaxvaluedollarcnt_outliers\n",
      "count    0.0\n",
      "mean     NaN\n",
      "std      NaN\n",
      "min      NaN\n",
      "25%      NaN\n",
      "50%      NaN\n",
      "75%      NaN\n",
      "max      NaN\n",
      "Name: landtaxvaluedollarcnt_outliers, dtype: float64\n",
      "~~~\n",
      "taxamount_outliers\n",
      "count    0.0\n",
      "mean     NaN\n",
      "std      NaN\n",
      "min      NaN\n",
      "25%      NaN\n",
      "50%      NaN\n",
      "75%      NaN\n",
      "max      NaN\n",
      "Name: taxamount_outliers, dtype: float64\n",
      "~~~\n",
      "censustractandblock_outliers\n",
      "count    0.0\n",
      "mean     NaN\n",
      "std      NaN\n",
      "min      NaN\n",
      "25%      NaN\n",
      "50%      NaN\n",
      "75%      NaN\n",
      "max      NaN\n",
      "Name: censustractandblock_outliers, dtype: float64\n",
      "~~~\n",
      "id_outliers\n",
      "count    0.0\n",
      "mean     NaN\n",
      "std      NaN\n",
      "min      NaN\n",
      "25%      NaN\n",
      "50%      NaN\n",
      "75%      NaN\n",
      "max      NaN\n",
      "Name: id_outliers, dtype: float64\n",
      "~~~\n",
      "logerror_outliers\n",
      "count    0.0\n",
      "mean     NaN\n",
      "std      NaN\n",
      "min      NaN\n",
      "25%      NaN\n",
      "50%      NaN\n",
      "75%      NaN\n",
      "max      NaN\n",
      "Name: logerror_outliers, dtype: float64\n",
      "~~~\n",
      "tdate_outliers\n",
      "count    0.0\n",
      "mean     NaN\n",
      "std      NaN\n",
      "min      NaN\n",
      "25%      NaN\n",
      "50%      NaN\n",
      "75%      NaN\n",
      "max      NaN\n",
      "Name: tdate_outliers, dtype: float64\n",
      "~~~\n",
      "heatingorsystemdesc_outliers\n",
      "count    0.0\n",
      "mean     NaN\n",
      "std      NaN\n",
      "min      NaN\n",
      "25%      NaN\n",
      "50%      NaN\n",
      "75%      NaN\n",
      "max      NaN\n",
      "Name: heatingorsystemdesc_outliers, dtype: float64\n",
      "~~~\n",
      "propertylandusedesc_outliers\n",
      "count    0.0\n",
      "mean     NaN\n",
      "std      NaN\n",
      "min      NaN\n",
      "25%      NaN\n",
      "50%      NaN\n",
      "75%      NaN\n",
      "max      NaN\n",
      "Name: propertylandusedesc_outliers, dtype: float64\n"
     ]
    }
   ],
   "source": [
    "quartiles_and_outliers(df)"
   ]
  },
  {
   "cell_type": "markdown",
   "metadata": {},
   "source": []
  },
  {
   "cell_type": "code",
   "execution_count": 37,
   "metadata": {},
   "outputs": [
    {
     "name": "stdout",
     "output_type": "stream",
     "text": [
      "<class 'pandas.core.frame.DataFrame'>\n",
      "Int64Index: 43779 entries, 3 to 77380\n",
      "Data columns (total 68 columns):\n",
      " #   Column                                 Non-Null Count  Dtype  \n",
      "---  ------                                 --------------  -----  \n",
      " 0   parcelid                               43779 non-null  int32  \n",
      " 1   propertylandusetypeid                  43779 non-null  int8   \n",
      " 2   heatingorsystemtypeid                  43779 non-null  int8   \n",
      " 3   bathroomcnt                            43779 non-null  int8   \n",
      " 4   bedroomcnt                             43779 non-null  int8   \n",
      " 5   buildingqualitytypeid                  43779 non-null  int8   \n",
      " 6   calculatedbathnbr                      43779 non-null  int8   \n",
      " 7   calculatedfinishedsquarefeet           43779 non-null  int16  \n",
      " 8   finishedsquarefeet12                   43779 non-null  int16  \n",
      " 9   fips                                   43779 non-null  int8   \n",
      " 10  fullbathcnt                            43779 non-null  int8   \n",
      " 11  latitude                               43779 non-null  int32  \n",
      " 12  longitude                              43779 non-null  int32  \n",
      " 13  lotsizesquarefeet                      43779 non-null  int16  \n",
      " 14  propertycountylandusecode              43779 non-null  int8   \n",
      " 15  propertyzoningdesc                     43779 non-null  int16  \n",
      " 16  rawcensustractandblock                 43779 non-null  int16  \n",
      " 17  regionidcity                           43779 non-null  int16  \n",
      " 18  regionidcounty                         43779 non-null  int8   \n",
      " 19  regionidzip                            43779 non-null  int16  \n",
      " 20  roomcnt                                43779 non-null  int8   \n",
      " 21  unitcnt                                43779 non-null  int8   \n",
      " 22  yearbuilt                              43779 non-null  int16  \n",
      " 23  structuretaxvaluedollarcnt             43779 non-null  int16  \n",
      " 24  taxvaluedollarcnt                      43779 non-null  int16  \n",
      " 25  assessmentyear                         43779 non-null  int8   \n",
      " 26  landtaxvaluedollarcnt                  43779 non-null  int16  \n",
      " 27  taxamount                              43779 non-null  int32  \n",
      " 28  censustractandblock                    43779 non-null  int16  \n",
      " 29  id                                     43779 non-null  int32  \n",
      " 30  logerror                               43779 non-null  int32  \n",
      " 31  tdate                                  43779 non-null  int16  \n",
      " 32  heatingorsystemdesc                    43779 non-null  int8   \n",
      " 33  propertylandusedesc                    43779 non-null  int8   \n",
      " 34  parcelid_outliers                      43779 non-null  int64  \n",
      " 35  propertylandusetypeid_outliers         43779 non-null  int64  \n",
      " 36  heatingorsystemtypeid_outliers         43779 non-null  int64  \n",
      " 37  bathroomcnt_outliers                   43779 non-null  float64\n",
      " 38  bedroomcnt_outliers                    43779 non-null  float64\n",
      " 39  buildingqualitytypeid_outliers         43779 non-null  float64\n",
      " 40  calculatedbathnbr_outliers             43779 non-null  float64\n",
      " 41  calculatedfinishedsquarefeet_outliers  43779 non-null  float64\n",
      " 42  finishedsquarefeet12_outliers          43779 non-null  float64\n",
      " 43  fips_outliers                          43779 non-null  float64\n",
      " 44  fullbathcnt_outliers                   43779 non-null  float64\n",
      " 45  latitude_outliers                      43779 non-null  int64  \n",
      " 46  longitude_outliers                     43779 non-null  int64  \n",
      " 47  lotsizesquarefeet_outliers             43779 non-null  int64  \n",
      " 48  propertycountylandusecode_outliers     43779 non-null  float64\n",
      " 49  propertyzoningdesc_outliers            43779 non-null  int64  \n",
      " 50  rawcensustractandblock_outliers        43779 non-null  int64  \n",
      " 51  regionidcity_outliers                  43779 non-null  int64  \n",
      " 52  regionidcounty_outliers                43779 non-null  float64\n",
      " 53  regionidzip_outliers                   43779 non-null  int64  \n",
      " 54  roomcnt_outliers                       43779 non-null  float64\n",
      " 55  unitcnt_outliers                       43779 non-null  float64\n",
      " 56  yearbuilt_outliers                     43779 non-null  int64  \n",
      " 57  structuretaxvaluedollarcnt_outliers    43779 non-null  int64  \n",
      " 58  taxvaluedollarcnt_outliers             43779 non-null  int64  \n",
      " 59  assessmentyear_outliers                43779 non-null  float64\n",
      " 60  landtaxvaluedollarcnt_outliers         43779 non-null  int64  \n",
      " 61  taxamount_outliers                     43779 non-null  int64  \n",
      " 62  censustractandblock_outliers           43779 non-null  int64  \n",
      " 63  id_outliers                            43779 non-null  int64  \n",
      " 64  logerror_outliers                      43779 non-null  int64  \n",
      " 65  tdate_outliers                         43779 non-null  int64  \n",
      " 66  heatingorsystemdesc_outliers           43779 non-null  int64  \n",
      " 67  propertylandusedesc_outliers           43779 non-null  int64  \n",
      "dtypes: float64(13), int16(13), int32(6), int64(21), int8(15)\n",
      "memory usage: 14.4 MB\n"
     ]
    }
   ],
   "source": [
    "df.info()"
   ]
  },
  {
   "cell_type": "code",
   "execution_count": null,
   "metadata": {},
   "outputs": [],
   "source": []
  }
 ],
 "metadata": {
  "kernelspec": {
   "display_name": "Python 3",
   "language": "python",
   "name": "python3"
  },
  "language_info": {
   "codemirror_mode": {
    "name": "ipython",
    "version": 3
   },
   "file_extension": ".py",
   "mimetype": "text/x-python",
   "name": "python",
   "nbconvert_exporter": "python",
   "pygments_lexer": "ipython3",
   "version": "3.8.3"
  }
 },
 "nbformat": 4,
 "nbformat_minor": 4
}
