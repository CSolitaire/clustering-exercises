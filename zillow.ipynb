{
 "cells": [
  {
   "cell_type": "markdown",
   "metadata": {},
   "source": [
    "### Introduction to Machine Learning: Clustering\n",
    "#### Corey Solitaire\n",
    "#### 10/09/2020"
   ]
  },
  {
   "cell_type": "code",
   "execution_count": 1,
   "metadata": {},
   "outputs": [],
   "source": [
    "import acquire\n",
    "import prepare\n",
    "# import src.explore\n",
    "# import src.model\n",
    "import pandas as pd\n",
    "import numpy as np\n",
    "import seaborn as sns\n",
    "import matplotlib.pyplot as plt\n",
    "from math import sqrt\n",
    "from scipy import stats\n",
    "\n",
    "import warnings\n",
    "warnings.filterwarnings(\"ignore\")\n",
    "\n",
    "from statsmodels.formula.api import ols\n",
    "from sklearn.metrics import mean_squared_error, r2_score, explained_variance_score\n",
    "from sklearn.feature_selection import f_regression, SelectKBest, RFE \n",
    "from sklearn.linear_model import LinearRegression, LassoLars, TweedieRegressor\n",
    "from sklearn.preprocessing import PolynomialFeatures"
   ]
  },
  {
   "cell_type": "markdown",
   "metadata": {},
   "source": [
    "### Acquire & Summarize"
   ]
  },
  {
   "cell_type": "markdown",
   "metadata": {},
   "source": [
    "1. Acquire data from mySQL using the python module to connect and query. You will want to end with a single dataframe. Make sure to include: the logerror, all fields related to the properties that are available. You will end up using all the tables in the database.\n",
    "\n",
    "    - Be sure to do the correct join (inner, outer, etc.). We do not want to eliminate properties purely because they may have a null value for airconditioningtypeid.\n",
    "    - Only include properties with a transaction in 2017, and include only the last transaction for each properity (so no duplicate property ID's), along with zestimate error and date of transaction.\n",
    "    - Only include properties that include a latitude and longitude value."
   ]
  },
  {
   "cell_type": "code",
   "execution_count": 2,
   "metadata": {},
   "outputs": [],
   "source": [
    "df = acquire.get_zillow_data(cached=False)"
   ]
  },
  {
   "cell_type": "markdown",
   "metadata": {},
   "source": [
    "#### Summarize your data (summary stats, info, dtypes, shape, distributions, value_counts, etc.)\n",
    "\n",
    "2. Write a function that takes in a dataframe of observations and attributes and returns a dataframe where each row is an atttribute name, the first column is the number of rows with missing values for that attribute, and the second column is percent of total rows that have missing values for that attribute. Run the function and document takeaways from this on how you want to handle missing values. "
   ]
  },
  {
   "cell_type": "code",
   "execution_count": 3,
   "metadata": {},
   "outputs": [],
   "source": [
    "def df_summary(df):\n",
    "    print('The shape of the df:') \n",
    "    print(df.shape)  # df shape (row/column)\n",
    "    print('\\n')\n",
    "    print('Columns, Non-Null Count, Data Type:')\n",
    "    print(df.info())      # Column, Non Null Count, Data Type\n",
    "    print('\\n')\n",
    "    print('Summary statistics for the df:') \n",
    "    print(df.describe())             # Summary Statistics on Numeric Data Types\n",
    "    print('\\n')\n",
    "    print('Number of NaN values per column:') \n",
    "    print(df.isna().sum())           # NaN by column\n",
    "    print('\\n')\n",
    "    print('Number of NaN values per row:')  \n",
    "    print(df.isnull().sum(axis=1))   # NaN by row\n",
    "    print('\\n')\n",
    "    print('Value Counts per Column:')\n",
    "    def column_value_count():\n",
    "        for col in df.columns:\n",
    "            print('-' * 40 + col + '-' * 40 , end=' - ')\n",
    "            display(df[col].value_counts(dropna=False).head(10))\n",
    "            #display(df[col].value_counts(dropna=False)) # For all Values Returned\n",
    "    print(column_value_count())"
   ]
  },
  {
   "cell_type": "code",
   "execution_count": 4,
   "metadata": {},
   "outputs": [
    {
     "name": "stdout",
     "output_type": "stream",
     "text": [
      "The shape of the df:\n",
      "(77614, 62)\n",
      "\n",
      "\n",
      "Columns, Non-Null Count, Data Type:\n",
      "<class 'pandas.core.frame.DataFrame'>\n",
      "Int64Index: 77614 entries, 0 to 77613\n",
      "Data columns (total 62 columns):\n",
      " #   Column                        Non-Null Count  Dtype  \n",
      "---  ------                        --------------  -----  \n",
      " 0   id                            77614 non-null  int64  \n",
      " 1   parcelid                      77614 non-null  int64  \n",
      " 2   airconditioningtypeid         21457 non-null  float64\n",
      " 3   architecturalstyletypeid      151 non-null    float64\n",
      " 4   basementsqft                  45 non-null     float64\n",
      " 5   bathroomcnt                   77614 non-null  float64\n",
      " 6   bedroomcnt                    77614 non-null  float64\n",
      " 7   buildingclasstypeid           383 non-null    float64\n",
      " 8   buildingqualitytypeid         50322 non-null  float64\n",
      " 9   calculatedbathnbr             74391 non-null  float64\n",
      " 10  decktypeid                    513 non-null    float64\n",
      " 11  finishedfloor1squarefeet      5973 non-null   float64\n",
      " 12  calculatedfinishedsquarefeet  76502 non-null  float64\n",
      " 13  finishedsquarefeet12          70964 non-null  float64\n",
      " 14  finishedsquarefeet13          235 non-null    float64\n",
      " 15  finishedsquarefeet15          4758 non-null   float64\n",
      " 16  finishedsquarefeet50          5973 non-null   float64\n",
      " 17  finishedsquarefeet6           545 non-null    float64\n",
      " 18  fips                          77614 non-null  float64\n",
      " 19  fireplacecnt                  8412 non-null   float64\n",
      " 20  fullbathcnt                   74391 non-null  float64\n",
      " 21  garagecarcnt                  23300 non-null  float64\n",
      " 22  garagetotalsqft               23300 non-null  float64\n",
      " 23  hashottuborspa                1258 non-null   float64\n",
      " 24  heatingorsystemtypeid         48475 non-null  float64\n",
      " 25  latitude                      77614 non-null  float64\n",
      " 26  longitude                     77614 non-null  float64\n",
      " 27  lotsizesquarefeet             70535 non-null  float64\n",
      " 28  poolcnt                       14261 non-null  float64\n",
      " 29  poolsizesum                   777 non-null    float64\n",
      " 30  pooltypeid10                  424 non-null    float64\n",
      " 31  pooltypeid2                   834 non-null    float64\n",
      " 32  pooltypeid7                   13409 non-null  float64\n",
      " 33  propertycountylandusecode     77613 non-null  object \n",
      " 34  propertylandusetypeid         77614 non-null  float64\n",
      " 35  propertyzoningdesc            51362 non-null  object \n",
      " 36  rawcensustractandblock        77614 non-null  float64\n",
      " 37  regionidcity                  76088 non-null  float64\n",
      " 38  regionidcounty                77614 non-null  float64\n",
      " 39  regionidneighborhood          30512 non-null  float64\n",
      " 40  regionidzip                   77339 non-null  float64\n",
      " 41  roomcnt                       77613 non-null  float64\n",
      " 42  storytypeid                   45 non-null     float64\n",
      " 43  threequarterbathnbr           8204 non-null   float64\n",
      " 44  typeconstructiontypeid        166 non-null    float64\n",
      " 45  unitcnt                       51290 non-null  float64\n",
      " 46  yardbuildingsqft17            2423 non-null   float64\n",
      " 47  yardbuildingsqft26            66 non-null     float64\n",
      " 48  yearbuilt                     76444 non-null  float64\n",
      " 49  numberofstories               18119 non-null  float64\n",
      " 50  fireplaceflag                 125 non-null    float64\n",
      " 51  structuretaxvaluedollarcnt    76349 non-null  float64\n",
      " 52  taxvaluedollarcnt             76689 non-null  float64\n",
      " 53  assessmentyear                77614 non-null  float64\n",
      " 54  landtaxvaluedollarcnt         76003 non-null  float64\n",
      " 55  taxamount                     77103 non-null  float64\n",
      " 56  taxdelinquencyflag            1505 non-null   object \n",
      " 57  taxdelinquencyyear            1505 non-null   float64\n",
      " 58  censustractandblock           75519 non-null  float64\n",
      " 59  parcelid.1                    77614 non-null  int64  \n",
      " 60  logerror                      77614 non-null  float64\n",
      " 61  transactiondate               77614 non-null  object \n",
      "dtypes: float64(55), int64(3), object(4)\n",
      "memory usage: 37.3+ MB\n",
      "None\n",
      "\n",
      "\n",
      "Summary statistics for the df:\n",
      "                 id      parcelid  airconditioningtypeid  \\\n",
      "count  77614.000000  7.761400e+04           21457.000000   \n",
      "mean   38806.500000  1.337943e+07               1.927203   \n",
      "std    22405.376234  8.351448e+06               3.132917   \n",
      "min        0.000000  1.071174e+07               1.000000   \n",
      "25%    19403.250000  1.158572e+07               1.000000   \n",
      "50%    38806.500000  1.253225e+07               1.000000   \n",
      "75%    58209.750000  1.411509e+07               1.000000   \n",
      "max    77613.000000  1.696019e+08              13.000000   \n",
      "\n",
      "       architecturalstyletypeid  basementsqft   bathroomcnt    bedroomcnt  \\\n",
      "count                151.000000     45.000000  77614.000000  77614.000000   \n",
      "mean                   7.430464    593.133333      2.214626      3.083993   \n",
      "std                    2.629347    460.916902      1.083466      1.275545   \n",
      "min                    2.000000     63.000000      0.000000      0.000000   \n",
      "25%                    7.000000    220.000000      2.000000      2.000000   \n",
      "50%                    7.000000    540.000000      2.000000      3.000000   \n",
      "75%                    7.000000    732.000000      3.000000      4.000000   \n",
      "max                   21.000000   2443.000000     20.000000     25.000000   \n",
      "\n",
      "       buildingclasstypeid  buildingqualitytypeid  calculatedbathnbr  ...  \\\n",
      "count           383.000000           50322.000000       74391.000000  ...   \n",
      "mean              3.775457               6.300525           2.309742  ...   \n",
      "std               0.459596               1.725770           1.001984  ...   \n",
      "min               1.000000               1.000000           1.000000  ...   \n",
      "25%               4.000000               5.000000           2.000000  ...   \n",
      "50%               4.000000               6.000000           2.000000  ...   \n",
      "75%               4.000000               8.000000           3.000000  ...   \n",
      "max               5.000000              12.000000          20.000000  ...   \n",
      "\n",
      "       fireplaceflag  structuretaxvaluedollarcnt  taxvaluedollarcnt  \\\n",
      "count          125.0                7.634900e+04       7.668900e+04   \n",
      "mean             1.0                1.788615e+05       4.407452e+05   \n",
      "std              0.0                4.035321e+05       8.343268e+05   \n",
      "min              1.0                5.000000e+00       8.000000e+00   \n",
      "25%              1.0                7.833500e+04       1.870340e+05   \n",
      "50%              1.0                1.283910e+05       3.215800e+05   \n",
      "75%              1.0                2.055180e+05       5.130000e+05   \n",
      "max              1.0                6.640493e+07       1.491392e+08   \n",
      "\n",
      "       assessmentyear  landtaxvaluedollarcnt     taxamount  \\\n",
      "count    77614.000000           7.600300e+04  7.710300e+04   \n",
      "mean      2015.998222           2.650476e+05  5.371524e+03   \n",
      "std          0.068083           5.280792e+05  1.040755e+04   \n",
      "min       2003.000000           4.000000e+00  2.540000e+00   \n",
      "25%       2016.000000           7.840650e+04  2.449600e+03   \n",
      "50%       2016.000000           1.753420e+05  4.006660e+03   \n",
      "75%       2016.000000           3.246770e+05  6.198595e+03   \n",
      "max       2016.000000           9.401108e+07  1.824155e+06   \n",
      "\n",
      "       taxdelinquencyyear  censustractandblock    parcelid.1      logerror  \n",
      "count         1505.000000         7.551900e+04  7.761400e+04  77614.000000  \n",
      "mean            13.912957         6.048976e+13  1.300781e+07      0.016752  \n",
      "std              1.543603         2.100753e+11  3.518694e+06      0.170888  \n",
      "min              6.000000         6.037101e+13  1.071186e+07     -4.655420  \n",
      "25%             14.000000         6.037311e+13  1.153821e+07     -0.024329  \n",
      "50%             14.000000         6.037572e+13  1.253006e+07      0.006670  \n",
      "75%             15.000000         6.059042e+13  1.421100e+07      0.039294  \n",
      "max             15.000000         6.111009e+13  1.676893e+08      5.262999  \n",
      "\n",
      "[8 rows x 58 columns]\n",
      "\n",
      "\n",
      "Number of NaN values per column:\n",
      "id                              0\n",
      "parcelid                        0\n",
      "airconditioningtypeid       56157\n",
      "architecturalstyletypeid    77463\n",
      "basementsqft                77569\n",
      "                            ...  \n",
      "taxdelinquencyyear          76109\n",
      "censustractandblock          2095\n",
      "parcelid.1                      0\n",
      "logerror                        0\n",
      "transactiondate                 0\n",
      "Length: 62, dtype: int64\n",
      "\n",
      "\n",
      "Number of NaN values per row:\n",
      "0        41\n",
      "1        40\n",
      "2        32\n",
      "3        31\n",
      "4        31\n",
      "         ..\n",
      "77609    28\n",
      "77610    28\n",
      "77611    28\n",
      "77612    28\n",
      "77613    26\n",
      "Length: 77614, dtype: int64\n",
      "\n",
      "\n",
      "Value Counts per Column:\n",
      "----------------------------------------id---------------------------------------- - "
     ]
    },
    {
     "data": {
      "text/plain": [
       "2047     1\n",
       "12947    1\n",
       "661      1\n",
       "6806     1\n",
       "4759     1\n",
       "27288    1\n",
       "25241    1\n",
       "31386    1\n",
       "29339    1\n",
       "19100    1\n",
       "Name: id, dtype: int64"
      ]
     },
     "metadata": {},
     "output_type": "display_data"
    },
    {
     "name": "stdout",
     "output_type": "stream",
     "text": [
      "----------------------------------------parcelid---------------------------------------- - "
     ]
    },
    {
     "data": {
      "text/plain": [
       "13895679    1\n",
       "12153814    1\n",
       "10719911    1\n",
       "12708520    1\n",
       "10740393    1\n",
       "11664042    1\n",
       "12186283    1\n",
       "12569260    1\n",
       "10777156    1\n",
       "11653807    1\n",
       "Name: parcelid, dtype: int64"
      ]
     },
     "metadata": {},
     "output_type": "display_data"
    },
    {
     "name": "stdout",
     "output_type": "stream",
     "text": [
      "----------------------------------------airconditioningtypeid---------------------------------------- - "
     ]
    },
    {
     "data": {
      "text/plain": [
       "NaN     56157\n",
       "1.0     19627\n",
       "13.0     1509\n",
       "5.0       219\n",
       "9.0        55\n",
       "11.0       46\n",
       "12.0        1\n",
       "Name: airconditioningtypeid, dtype: int64"
      ]
     },
     "metadata": {},
     "output_type": "display_data"
    },
    {
     "name": "stdout",
     "output_type": "stream",
     "text": [
      "----------------------------------------architecturalstyletypeid---------------------------------------- - "
     ]
    },
    {
     "data": {
      "text/plain": [
       "NaN     77463\n",
       "7.0       133\n",
       "8.0        10\n",
       "21.0        5\n",
       "2.0         3\n",
       "Name: architecturalstyletypeid, dtype: int64"
      ]
     },
     "metadata": {},
     "output_type": "display_data"
    },
    {
     "name": "stdout",
     "output_type": "stream",
     "text": [
      "----------------------------------------basementsqft---------------------------------------- - "
     ]
    },
    {
     "data": {
      "text/plain": [
       "NaN       77569\n",
       "240.0         2\n",
       "1120.0        1\n",
       "540.0         1\n",
       "224.0         1\n",
       "688.0         1\n",
       "63.0          1\n",
       "555.0         1\n",
       "276.0         1\n",
       "550.0         1\n",
       "Name: basementsqft, dtype: int64"
      ]
     },
     "metadata": {},
     "output_type": "display_data"
    },
    {
     "name": "stdout",
     "output_type": "stream",
     "text": [
      "----------------------------------------bathroomcnt---------------------------------------- - "
     ]
    },
    {
     "data": {
      "text/plain": [
       "2.0    31561\n",
       "3.0    16677\n",
       "1.0    12779\n",
       "2.5     5416\n",
       "4.0     3442\n",
       "0.0     3200\n",
       "1.5     1178\n",
       "5.0     1025\n",
       "3.5      836\n",
       "4.5      519\n",
       "Name: bathroomcnt, dtype: int64"
      ]
     },
     "metadata": {},
     "output_type": "display_data"
    },
    {
     "name": "stdout",
     "output_type": "stream",
     "text": [
      "----------------------------------------bedroomcnt---------------------------------------- - "
     ]
    },
    {
     "data": {
      "text/plain": [
       "3.0    30322\n",
       "4.0    19080\n",
       "2.0    15841\n",
       "5.0     4805\n",
       "0.0     3328\n",
       "1.0     2154\n",
       "6.0     1276\n",
       "8.0      334\n",
       "7.0      278\n",
       "9.0      113\n",
       "Name: bedroomcnt, dtype: int64"
      ]
     },
     "metadata": {},
     "output_type": "display_data"
    },
    {
     "name": "stdout",
     "output_type": "stream",
     "text": [
      "----------------------------------------buildingclasstypeid---------------------------------------- - "
     ]
    },
    {
     "data": {
      "text/plain": [
       "NaN    77231\n",
       "4.0      300\n",
       "3.0       78\n",
       "2.0        3\n",
       "5.0        1\n",
       "1.0        1\n",
       "Name: buildingclasstypeid, dtype: int64"
      ]
     },
     "metadata": {},
     "output_type": "display_data"
    },
    {
     "name": "stdout",
     "output_type": "stream",
     "text": [
      "----------------------------------------buildingqualitytypeid---------------------------------------- - "
     ]
    },
    {
     "data": {
      "text/plain": [
       "NaN     27292\n",
       "6.0     14637\n",
       "8.0     13206\n",
       "4.0     11424\n",
       "7.0      4938\n",
       "5.0      2669\n",
       "9.0      1801\n",
       "11.0      735\n",
       "3.0       474\n",
       "10.0      292\n",
       "Name: buildingqualitytypeid, dtype: int64"
      ]
     },
     "metadata": {},
     "output_type": "display_data"
    },
    {
     "name": "stdout",
     "output_type": "stream",
     "text": [
      "----------------------------------------calculatedbathnbr---------------------------------------- - "
     ]
    },
    {
     "data": {
      "text/plain": [
       "2.0    31561\n",
       "3.0    16677\n",
       "1.0    12778\n",
       "2.5     5406\n",
       "4.0     3442\n",
       "NaN     3223\n",
       "1.5     1171\n",
       "5.0     1025\n",
       "3.5      835\n",
       "4.5      517\n",
       "Name: calculatedbathnbr, dtype: int64"
      ]
     },
     "metadata": {},
     "output_type": "display_data"
    },
    {
     "name": "stdout",
     "output_type": "stream",
     "text": [
      "----------------------------------------decktypeid---------------------------------------- - "
     ]
    },
    {
     "data": {
      "text/plain": [
       "NaN     77101\n",
       "66.0      513\n",
       "Name: decktypeid, dtype: int64"
      ]
     },
     "metadata": {},
     "output_type": "display_data"
    },
    {
     "name": "stdout",
     "output_type": "stream",
     "text": [
      "----------------------------------------finishedfloor1squarefeet---------------------------------------- - "
     ]
    },
    {
     "data": {
      "text/plain": [
       "NaN       71641\n",
       "1252.0       34\n",
       "1233.0       32\n",
       "1441.0       22\n",
       "725.0        21\n",
       "1244.0       20\n",
       "1205.0       20\n",
       "1218.0       20\n",
       "441.0        20\n",
       "960.0        19\n",
       "Name: finishedfloor1squarefeet, dtype: int64"
      ]
     },
     "metadata": {},
     "output_type": "display_data"
    },
    {
     "name": "stdout",
     "output_type": "stream",
     "text": [
      "----------------------------------------calculatedfinishedsquarefeet---------------------------------------- - "
     ]
    },
    {
     "data": {
      "text/plain": [
       "NaN       1112\n",
       "1440.0     209\n",
       "1344.0     190\n",
       "1200.0     176\n",
       "960.0      171\n",
       "1248.0     159\n",
       "1080.0     156\n",
       "1040.0     152\n",
       "1120.0     150\n",
       "1056.0     134\n",
       "Name: calculatedfinishedsquarefeet, dtype: int64"
      ]
     },
     "metadata": {},
     "output_type": "display_data"
    },
    {
     "name": "stdout",
     "output_type": "stream",
     "text": [
      "----------------------------------------finishedsquarefeet12---------------------------------------- - "
     ]
    },
    {
     "data": {
      "text/plain": [
       "NaN       6650\n",
       "1344.0     171\n",
       "1200.0     166\n",
       "1440.0     164\n",
       "960.0      160\n",
       "1080.0     151\n",
       "1120.0     142\n",
       "1040.0     140\n",
       "1248.0     133\n",
       "1056.0     122\n",
       "Name: finishedsquarefeet12, dtype: int64"
      ]
     },
     "metadata": {},
     "output_type": "display_data"
    },
    {
     "name": "stdout",
     "output_type": "stream",
     "text": [
      "----------------------------------------finishedsquarefeet13---------------------------------------- - "
     ]
    },
    {
     "data": {
      "text/plain": [
       "NaN       77379\n",
       "1440.0       38\n",
       "1248.0       19\n",
       "1344.0       17\n",
       "720.0        10\n",
       "1056.0        7\n",
       "1536.0        7\n",
       "960.0         7\n",
       "1040.0        6\n",
       "800.0         6\n",
       "Name: finishedsquarefeet13, dtype: int64"
      ]
     },
     "metadata": {},
     "output_type": "display_data"
    },
    {
     "name": "stdout",
     "output_type": "stream",
     "text": [
      "----------------------------------------finishedsquarefeet15---------------------------------------- - "
     ]
    },
    {
     "data": {
      "text/plain": [
       "NaN       72856\n",
       "1536.0       21\n",
       "1600.0       12\n",
       "1836.0       11\n",
       "2400.0       11\n",
       "1904.0       10\n",
       "1768.0       10\n",
       "2024.0       10\n",
       "1612.0       10\n",
       "1560.0       10\n",
       "Name: finishedsquarefeet15, dtype: int64"
      ]
     },
     "metadata": {},
     "output_type": "display_data"
    },
    {
     "name": "stdout",
     "output_type": "stream",
     "text": [
      "----------------------------------------finishedsquarefeet50---------------------------------------- - "
     ]
    },
    {
     "data": {
      "text/plain": [
       "NaN       71641\n",
       "1252.0       34\n",
       "1233.0       32\n",
       "1441.0       22\n",
       "725.0        21\n",
       "1244.0       20\n",
       "1205.0       20\n",
       "1218.0       20\n",
       "441.0        20\n",
       "960.0        19\n",
       "Name: finishedsquarefeet50, dtype: int64"
      ]
     },
     "metadata": {},
     "output_type": "display_data"
    },
    {
     "name": "stdout",
     "output_type": "stream",
     "text": [
      "----------------------------------------finishedsquarefeet6---------------------------------------- - "
     ]
    },
    {
     "data": {
      "text/plain": [
       "NaN       77069\n",
       "3820.0        4\n",
       "2530.0        3\n",
       "816.0         3\n",
       "1056.0        3\n",
       "4700.0        3\n",
       "1750.0        3\n",
       "725.0         3\n",
       "1920.0        3\n",
       "800.0         3\n",
       "Name: finishedsquarefeet6, dtype: int64"
      ]
     },
     "metadata": {},
     "output_type": "display_data"
    },
    {
     "name": "stdout",
     "output_type": "stream",
     "text": [
      "----------------------------------------fips---------------------------------------- - "
     ]
    },
    {
     "data": {
      "text/plain": [
       "6037.0    52235\n",
       "6059.0    18808\n",
       "6111.0     6571\n",
       "Name: fips, dtype: int64"
      ]
     },
     "metadata": {},
     "output_type": "display_data"
    },
    {
     "name": "stdout",
     "output_type": "stream",
     "text": [
      "----------------------------------------fireplacecnt---------------------------------------- - "
     ]
    },
    {
     "data": {
      "text/plain": [
       "NaN    69202\n",
       "1.0     7267\n",
       "2.0      914\n",
       "3.0      207\n",
       "4.0       17\n",
       "5.0        4\n",
       "9.0        2\n",
       "7.0        1\n",
       "Name: fireplacecnt, dtype: int64"
      ]
     },
     "metadata": {},
     "output_type": "display_data"
    },
    {
     "name": "stdout",
     "output_type": "stream",
     "text": [
      "----------------------------------------fullbathcnt---------------------------------------- - "
     ]
    },
    {
     "data": {
      "text/plain": [
       "2.0    36977\n",
       "3.0    17520\n",
       "1.0    13949\n",
       "4.0     3956\n",
       "NaN     3223\n",
       "5.0     1185\n",
       "6.0      464\n",
       "7.0      171\n",
       "8.0      104\n",
       "9.0       36\n",
       "Name: fullbathcnt, dtype: int64"
      ]
     },
     "metadata": {},
     "output_type": "display_data"
    },
    {
     "name": "stdout",
     "output_type": "stream",
     "text": [
      "----------------------------------------garagecarcnt---------------------------------------- - "
     ]
    },
    {
     "data": {
      "text/plain": [
       "NaN    54314\n",
       "2.0    17442\n",
       "1.0     4684\n",
       "3.0      513\n",
       "0.0      361\n",
       "4.0      207\n",
       "5.0       58\n",
       "6.0       13\n",
       "8.0        9\n",
       "7.0        3\n",
       "Name: garagecarcnt, dtype: int64"
      ]
     },
     "metadata": {},
     "output_type": "display_data"
    },
    {
     "name": "stdout",
     "output_type": "stream",
     "text": [
      "----------------------------------------garagetotalsqft---------------------------------------- - "
     ]
    },
    {
     "data": {
      "text/plain": [
       "NaN      54314\n",
       "0.0       5274\n",
       "400.0      869\n",
       "360.0      798\n",
       "441.0      714\n",
       "462.0      701\n",
       "460.0      632\n",
       "440.0      609\n",
       "420.0      496\n",
       "483.0      453\n",
       "Name: garagetotalsqft, dtype: int64"
      ]
     },
     "metadata": {},
     "output_type": "display_data"
    },
    {
     "name": "stdout",
     "output_type": "stream",
     "text": [
      "----------------------------------------hashottuborspa---------------------------------------- - "
     ]
    },
    {
     "data": {
      "text/plain": [
       "NaN    76356\n",
       "1.0     1258\n",
       "Name: hashottuborspa, dtype: int64"
      ]
     },
     "metadata": {},
     "output_type": "display_data"
    },
    {
     "name": "stdout",
     "output_type": "stream",
     "text": [
      "----------------------------------------heatingorsystemtypeid---------------------------------------- - "
     ]
    },
    {
     "data": {
      "text/plain": [
       "2.0     30568\n",
       "NaN     29139\n",
       "7.0     16593\n",
       "6.0       662\n",
       "24.0      511\n",
       "20.0       84\n",
       "13.0       38\n",
       "18.0       14\n",
       "1.0         2\n",
       "12.0        2\n",
       "Name: heatingorsystemtypeid, dtype: int64"
      ]
     },
     "metadata": {},
     "output_type": "display_data"
    },
    {
     "name": "stdout",
     "output_type": "stream",
     "text": [
      "----------------------------------------latitude---------------------------------------- - "
     ]
    },
    {
     "data": {
      "text/plain": [
       "33984600.0    25\n",
       "33708500.0    22\n",
       "33856782.0    18\n",
       "34169800.0    17\n",
       "33766300.0    16\n",
       "34410700.0    16\n",
       "34274400.0    15\n",
       "33785200.0    15\n",
       "33665651.0    15\n",
       "34150700.0    14\n",
       "Name: latitude, dtype: int64"
      ]
     },
     "metadata": {},
     "output_type": "display_data"
    },
    {
     "name": "stdout",
     "output_type": "stream",
     "text": [
      "----------------------------------------longitude---------------------------------------- - "
     ]
    },
    {
     "data": {
      "text/plain": [
       "-118390000.0    45\n",
       "-118436000.0    38\n",
       "-118389000.0    38\n",
       "-118438000.0    38\n",
       "-118433000.0    38\n",
       "-118450000.0    37\n",
       "-118445000.0    37\n",
       "-118432000.0    36\n",
       "-118252000.0    36\n",
       "-118435000.0    33\n",
       "Name: longitude, dtype: int64"
      ]
     },
     "metadata": {},
     "output_type": "display_data"
    },
    {
     "name": "stdout",
     "output_type": "stream",
     "text": [
      "----------------------------------------lotsizesquarefeet---------------------------------------- - "
     ]
    },
    {
     "data": {
      "text/plain": [
       "NaN       7079\n",
       "6000.0    1159\n",
       "5000.0     481\n",
       "7200.0     412\n",
       "7000.0     300\n",
       "6500.0     280\n",
       "7500.0     254\n",
       "6600.0     198\n",
       "5500.0     164\n",
       "5400.0     160\n",
       "Name: lotsizesquarefeet, dtype: int64"
      ]
     },
     "metadata": {},
     "output_type": "display_data"
    },
    {
     "name": "stdout",
     "output_type": "stream",
     "text": [
      "----------------------------------------poolcnt---------------------------------------- - "
     ]
    },
    {
     "data": {
      "text/plain": [
       "NaN    63353\n",
       "1.0    14261\n",
       "Name: poolcnt, dtype: int64"
      ]
     },
     "metadata": {},
     "output_type": "display_data"
    },
    {
     "name": "stdout",
     "output_type": "stream",
     "text": [
      "----------------------------------------poolsizesum---------------------------------------- - "
     ]
    },
    {
     "data": {
      "text/plain": [
       "NaN      76837\n",
       "450.0       87\n",
       "800.0       29\n",
       "400.0       25\n",
       "480.0       25\n",
       "512.0       20\n",
       "500.0       20\n",
       "600.0       17\n",
       "525.0       17\n",
       "360.0       14\n",
       "Name: poolsizesum, dtype: int64"
      ]
     },
     "metadata": {},
     "output_type": "display_data"
    },
    {
     "name": "stdout",
     "output_type": "stream",
     "text": [
      "----------------------------------------pooltypeid10---------------------------------------- - "
     ]
    },
    {
     "data": {
      "text/plain": [
       "NaN    77190\n",
       "1.0      424\n",
       "Name: pooltypeid10, dtype: int64"
      ]
     },
     "metadata": {},
     "output_type": "display_data"
    },
    {
     "name": "stdout",
     "output_type": "stream",
     "text": [
      "----------------------------------------pooltypeid2---------------------------------------- - "
     ]
    },
    {
     "data": {
      "text/plain": [
       "NaN    76780\n",
       "1.0      834\n",
       "Name: pooltypeid2, dtype: int64"
      ]
     },
     "metadata": {},
     "output_type": "display_data"
    },
    {
     "name": "stdout",
     "output_type": "stream",
     "text": [
      "----------------------------------------pooltypeid7---------------------------------------- - "
     ]
    },
    {
     "data": {
      "text/plain": [
       "NaN    64205\n",
       "1.0    13409\n",
       "Name: pooltypeid7, dtype: int64"
      ]
     },
     "metadata": {},
     "output_type": "display_data"
    },
    {
     "name": "stdout",
     "output_type": "stream",
     "text": [
      "----------------------------------------propertycountylandusecode---------------------------------------- - "
     ]
    },
    {
     "data": {
      "text/plain": [
       "0100    29754\n",
       "122     13114\n",
       "0101     6740\n",
       "010C     5839\n",
       "1111     3697\n",
       "34       3075\n",
       "0200     2553\n",
       "1        1679\n",
       "010D     1593\n",
       "010E     1266\n",
       "Name: propertycountylandusecode, dtype: int64"
      ]
     },
     "metadata": {},
     "output_type": "display_data"
    },
    {
     "name": "stdout",
     "output_type": "stream",
     "text": [
      "----------------------------------------propertylandusetypeid---------------------------------------- - "
     ]
    },
    {
     "data": {
      "text/plain": [
       "261.0    56080\n",
       "266.0    12491\n",
       "246.0     2852\n",
       "263.0     1681\n",
       "269.0     1609\n",
       "247.0     1021\n",
       "248.0      980\n",
       "265.0      288\n",
       "31.0       272\n",
       "47.0       144\n",
       "Name: propertylandusetypeid, dtype: int64"
      ]
     },
     "metadata": {},
     "output_type": "display_data"
    },
    {
     "name": "stdout",
     "output_type": "stream",
     "text": [
      "----------------------------------------propertyzoningdesc---------------------------------------- - "
     ]
    },
    {
     "data": {
      "text/plain": [
       "NaN        26252\n",
       "LAR1        7457\n",
       "LAR3        1746\n",
       "LARS        1580\n",
       "LBR1N       1315\n",
       "LAR2        1204\n",
       "LARD1.5     1033\n",
       "SCUR2        870\n",
       "LARA         778\n",
       "LARD2        748\n",
       "Name: propertyzoningdesc, dtype: int64"
      ]
     },
     "metadata": {},
     "output_type": "display_data"
    },
    {
     "name": "stdout",
     "output_type": "stream",
     "text": [
      "----------------------------------------rawcensustractandblock---------------------------------------- - "
     ]
    },
    {
     "data": {
      "text/plain": [
       "6.037920e+07    40\n",
       "6.059052e+07    36\n",
       "6.059052e+07    35\n",
       "6.037277e+07    25\n",
       "6.037274e+07    25\n",
       "6.037142e+07    25\n",
       "6.059087e+07    23\n",
       "6.037920e+07    23\n",
       "6.037275e+07    23\n",
       "6.037920e+07    23\n",
       "Name: rawcensustractandblock, dtype: int64"
      ]
     },
     "metadata": {},
     "output_type": "display_data"
    },
    {
     "name": "stdout",
     "output_type": "stream",
     "text": [
      "----------------------------------------regionidcity---------------------------------------- - "
     ]
    },
    {
     "data": {
      "text/plain": [
       "12447.0    18015\n",
       "46298.0     2321\n",
       "54311.0     1574\n",
       "NaN         1526\n",
       "16764.0     1500\n",
       "52650.0     1466\n",
       "25218.0     1409\n",
       "40227.0     1281\n",
       "13150.0     1250\n",
       "5534.0      1243\n",
       "Name: regionidcity, dtype: int64"
      ]
     },
     "metadata": {},
     "output_type": "display_data"
    },
    {
     "name": "stdout",
     "output_type": "stream",
     "text": [
      "----------------------------------------regionidcounty---------------------------------------- - "
     ]
    },
    {
     "data": {
      "text/plain": [
       "3101.0    52235\n",
       "1286.0    18808\n",
       "2061.0     6571\n",
       "Name: regionidcounty, dtype: int64"
      ]
     },
     "metadata": {},
     "output_type": "display_data"
    },
    {
     "name": "stdout",
     "output_type": "stream",
     "text": [
      "----------------------------------------regionidneighborhood---------------------------------------- - "
     ]
    },
    {
     "data": {
      "text/plain": [
       "NaN         47102\n",
       "118208.0      788\n",
       "48570.0       625\n",
       "268496.0      571\n",
       "27080.0       569\n",
       "37739.0       545\n",
       "34213.0       511\n",
       "33183.0       499\n",
       "51906.0       470\n",
       "41131.0       455\n",
       "Name: regionidneighborhood, dtype: int64"
      ]
     },
     "metadata": {},
     "output_type": "display_data"
    },
    {
     "name": "stdout",
     "output_type": "stream",
     "text": [
      "----------------------------------------regionidzip---------------------------------------- - "
     ]
    },
    {
     "data": {
      "text/plain": [
       "97118.0    604\n",
       "96368.0    597\n",
       "96987.0    560\n",
       "96193.0    536\n",
       "97318.0    523\n",
       "97319.0    507\n",
       "97328.0    504\n",
       "96361.0    503\n",
       "97116.0    498\n",
       "96990.0    478\n",
       "Name: regionidzip, dtype: int64"
      ]
     },
     "metadata": {},
     "output_type": "display_data"
    },
    {
     "name": "stdout",
     "output_type": "stream",
     "text": [
      "----------------------------------------roomcnt---------------------------------------- - "
     ]
    },
    {
     "data": {
      "text/plain": [
       "0.0     60043\n",
       "6.0      4705\n",
       "7.0      4083\n",
       "8.0      3230\n",
       "5.0      2605\n",
       "9.0      1175\n",
       "4.0      1158\n",
       "10.0      295\n",
       "3.0       167\n",
       "11.0       75\n",
       "Name: roomcnt, dtype: int64"
      ]
     },
     "metadata": {},
     "output_type": "display_data"
    },
    {
     "name": "stdout",
     "output_type": "stream",
     "text": [
      "----------------------------------------storytypeid---------------------------------------- - "
     ]
    },
    {
     "data": {
      "text/plain": [
       "NaN    77569\n",
       "7.0       45\n",
       "Name: storytypeid, dtype: int64"
      ]
     },
     "metadata": {},
     "output_type": "display_data"
    },
    {
     "name": "stdout",
     "output_type": "stream",
     "text": [
      "----------------------------------------threequarterbathnbr---------------------------------------- - "
     ]
    },
    {
     "data": {
      "text/plain": [
       "NaN    69410\n",
       "1.0     8138\n",
       "2.0       58\n",
       "3.0        4\n",
       "4.0        4\n",
       "Name: threequarterbathnbr, dtype: int64"
      ]
     },
     "metadata": {},
     "output_type": "display_data"
    },
    {
     "name": "stdout",
     "output_type": "stream",
     "text": [
      "----------------------------------------typeconstructiontypeid---------------------------------------- - "
     ]
    },
    {
     "data": {
      "text/plain": [
       "NaN    77448\n",
       "6.0      165\n",
       "4.0        1\n",
       "Name: typeconstructiontypeid, dtype: int64"
      ]
     },
     "metadata": {},
     "output_type": "display_data"
    },
    {
     "name": "stdout",
     "output_type": "stream",
     "text": [
      "----------------------------------------unitcnt---------------------------------------- - "
     ]
    },
    {
     "data": {
      "text/plain": [
       "1.0     46371\n",
       "NaN     26324\n",
       "2.0      2886\n",
       "3.0      1030\n",
       "4.0       964\n",
       "5.0        12\n",
       "6.0         3\n",
       "9.0         2\n",
       "11.0        1\n",
       "12.0        1\n",
       "Name: unitcnt, dtype: int64"
      ]
     },
     "metadata": {},
     "output_type": "display_data"
    },
    {
     "name": "stdout",
     "output_type": "stream",
     "text": [
      "----------------------------------------yardbuildingsqft17---------------------------------------- - "
     ]
    },
    {
     "data": {
      "text/plain": [
       "NaN      75191\n",
       "240.0      105\n",
       "200.0       89\n",
       "300.0       66\n",
       "180.0       53\n",
       "288.0       48\n",
       "360.0       45\n",
       "280.0       39\n",
       "150.0       37\n",
       "400.0       37\n",
       "Name: yardbuildingsqft17, dtype: int64"
      ]
     },
     "metadata": {},
     "output_type": "display_data"
    },
    {
     "name": "stdout",
     "output_type": "stream",
     "text": [
      "----------------------------------------yardbuildingsqft26---------------------------------------- - "
     ]
    },
    {
     "data": {
      "text/plain": [
       "NaN      77548\n",
       "240.0        4\n",
       "100.0        3\n",
       "360.0        2\n",
       "160.0        2\n",
       "30.0         2\n",
       "36.0         2\n",
       "432.0        2\n",
       "80.0         2\n",
       "112.0        2\n",
       "Name: yardbuildingsqft26, dtype: int64"
      ]
     },
     "metadata": {},
     "output_type": "display_data"
    },
    {
     "name": "stdout",
     "output_type": "stream",
     "text": [
      "----------------------------------------yearbuilt---------------------------------------- - "
     ]
    },
    {
     "data": {
      "text/plain": [
       "1955.0    2271\n",
       "1950.0    1970\n",
       "1954.0    1950\n",
       "1956.0    1779\n",
       "1953.0    1709\n",
       "1964.0    1668\n",
       "1951.0    1518\n",
       "1952.0    1457\n",
       "1963.0    1397\n",
       "1948.0    1393\n",
       "Name: yearbuilt, dtype: int64"
      ]
     },
     "metadata": {},
     "output_type": "display_data"
    },
    {
     "name": "stdout",
     "output_type": "stream",
     "text": [
      "----------------------------------------numberofstories---------------------------------------- - "
     ]
    },
    {
     "data": {
      "text/plain": [
       "NaN    59495\n",
       "1.0    11266\n",
       "2.0     6445\n",
       "3.0      402\n",
       "4.0        6\n",
       "Name: numberofstories, dtype: int64"
      ]
     },
     "metadata": {},
     "output_type": "display_data"
    },
    {
     "name": "stdout",
     "output_type": "stream",
     "text": [
      "----------------------------------------fireplaceflag---------------------------------------- - "
     ]
    },
    {
     "data": {
      "text/plain": [
       "NaN    77489\n",
       "1.0      125\n",
       "Name: fireplaceflag, dtype: int64"
      ]
     },
     "metadata": {},
     "output_type": "display_data"
    },
    {
     "name": "stdout",
     "output_type": "stream",
     "text": [
      "----------------------------------------structuretaxvaluedollarcnt---------------------------------------- - "
     ]
    },
    {
     "data": {
      "text/plain": [
       "NaN         1265\n",
       "100000.0      39\n",
       "106103.0      39\n",
       "104023.0      38\n",
       "200000.0      38\n",
       "105000.0      35\n",
       "208047.0      32\n",
       "103553.0      31\n",
       "28767.0       31\n",
       "88000.0       30\n",
       "Name: structuretaxvaluedollarcnt, dtype: int64"
      ]
     },
     "metadata": {},
     "output_type": "display_data"
    },
    {
     "name": "stdout",
     "output_type": "stream",
     "text": [
      "----------------------------------------taxvaluedollarcnt---------------------------------------- - "
     ]
    },
    {
     "data": {
      "text/plain": [
       "NaN         925\n",
       "400000.0     38\n",
       "9.0          38\n",
       "450000.0     37\n",
       "390000.0     35\n",
       "475000.0     34\n",
       "460000.0     34\n",
       "350000.0     33\n",
       "440000.0     33\n",
       "525000.0     32\n",
       "Name: taxvaluedollarcnt, dtype: int64"
      ]
     },
     "metadata": {},
     "output_type": "display_data"
    },
    {
     "name": "stdout",
     "output_type": "stream",
     "text": [
      "----------------------------------------assessmentyear---------------------------------------- - "
     ]
    },
    {
     "data": {
      "text/plain": [
       "2016.0    77521\n",
       "2015.0       59\n",
       "2014.0       33\n",
       "2003.0        1\n",
       "Name: assessmentyear, dtype: int64"
      ]
     },
     "metadata": {},
     "output_type": "display_data"
    },
    {
     "name": "stdout",
     "output_type": "stream",
     "text": [
      "----------------------------------------landtaxvaluedollarcnt---------------------------------------- - "
     ]
    },
    {
     "data": {
      "text/plain": [
       "NaN        1611\n",
       "21299.0      88\n",
       "22755.0      64\n",
       "16522.0      61\n",
       "16956.0      59\n",
       "19441.0      58\n",
       "30210.0      57\n",
       "18611.0      55\n",
       "23175.0      55\n",
       "18588.0      53\n",
       "Name: landtaxvaluedollarcnt, dtype: int64"
      ]
     },
     "metadata": {},
     "output_type": "display_data"
    },
    {
     "name": "stdout",
     "output_type": "stream",
     "text": [
      "----------------------------------------taxamount---------------------------------------- - "
     ]
    },
    {
     "data": {
      "text/plain": [
       "NaN        511\n",
       "4543.58      6\n",
       "54.28        4\n",
       "5259.64      4\n",
       "3252.16      4\n",
       "1263.20      4\n",
       "7148.84      4\n",
       "977.09       4\n",
       "4403.43      4\n",
       "3507.46      4\n",
       "Name: taxamount, dtype: int64"
      ]
     },
     "metadata": {},
     "output_type": "display_data"
    },
    {
     "name": "stdout",
     "output_type": "stream",
     "text": [
      "----------------------------------------taxdelinquencyflag---------------------------------------- - "
     ]
    },
    {
     "data": {
      "text/plain": [
       "NaN    76109\n",
       "Y       1505\n",
       "Name: taxdelinquencyflag, dtype: int64"
      ]
     },
     "metadata": {},
     "output_type": "display_data"
    },
    {
     "name": "stdout",
     "output_type": "stream",
     "text": [
      "----------------------------------------taxdelinquencyyear---------------------------------------- - "
     ]
    },
    {
     "data": {
      "text/plain": [
       "NaN     76109\n",
       "15.0      702\n",
       "14.0      465\n",
       "13.0      130\n",
       "12.0       66\n",
       "11.0       65\n",
       "10.0       34\n",
       "9.0        26\n",
       "8.0        11\n",
       "7.0         4\n",
       "Name: taxdelinquencyyear, dtype: int64"
      ]
     },
     "metadata": {},
     "output_type": "display_data"
    },
    {
     "name": "stdout",
     "output_type": "stream",
     "text": [
      "----------------------------------------censustractandblock---------------------------------------- - "
     ]
    },
    {
     "data": {
      "text/plain": [
       "NaN             2095\n",
       "6.037920e+13      32\n",
       "6.037277e+13      25\n",
       "6.037142e+13      25\n",
       "6.037920e+13      24\n",
       "6.037920e+13      23\n",
       "6.037275e+13      22\n",
       "6.059063e+13      21\n",
       "6.037137e+13      21\n",
       "6.059052e+13      21\n",
       "Name: censustractandblock, dtype: int64"
      ]
     },
     "metadata": {},
     "output_type": "display_data"
    },
    {
     "name": "stdout",
     "output_type": "stream",
     "text": [
      "----------------------------------------parcelid.1---------------------------------------- - "
     ]
    },
    {
     "data": {
      "text/plain": [
       "10857130    3\n",
       "12612211    3\n",
       "11991059    3\n",
       "13083743    3\n",
       "12402398    2\n",
       "11429175    2\n",
       "12102046    2\n",
       "12847318    2\n",
       "13863275    2\n",
       "11367981    2\n",
       "Name: parcelid.1, dtype: int64"
      ]
     },
     "metadata": {},
     "output_type": "display_data"
    },
    {
     "name": "stdout",
     "output_type": "stream",
     "text": [
      "----------------------------------------logerror---------------------------------------- - "
     ]
    },
    {
     "data": {
      "text/plain": [
       "0.000231    7\n",
       "0.002652    7\n",
       "0.001878    5\n",
       "0.008932    5\n",
       "0.008257    5\n",
       "0.011157    5\n",
       "0.000420    5\n",
       "0.006909    5\n",
       "0.000727    5\n",
       "0.003152    5\n",
       "Name: logerror, dtype: int64"
      ]
     },
     "metadata": {},
     "output_type": "display_data"
    },
    {
     "name": "stdout",
     "output_type": "stream",
     "text": [
      "----------------------------------------transactiondate---------------------------------------- - "
     ]
    },
    {
     "data": {
      "text/plain": [
       "2017-06-30    1195\n",
       "2017-04-28     917\n",
       "2017-05-31     868\n",
       "2017-07-28     815\n",
       "2017-08-31     782\n",
       "2017-03-31     772\n",
       "2017-05-26     746\n",
       "2017-06-16     728\n",
       "2017-06-23     707\n",
       "2017-08-25     697\n",
       "Name: transactiondate, dtype: int64"
      ]
     },
     "metadata": {},
     "output_type": "display_data"
    },
    {
     "name": "stdout",
     "output_type": "stream",
     "text": [
      "None\n"
     ]
    }
   ],
   "source": [
    "df_summary(df)"
   ]
  },
  {
   "attachments": {
    "image.png": {
     "image/png": "[encoded data removed]"
    }
   },
   "cell_type": "markdown",
   "metadata": {},
   "source": [
    "3. Write a function that takes in a dataframe of observations and attributes and returns a dataframe where each row is an atttribute name, the first column is the number of rows with missing values for that attribute, and the second column is percent of total rows that have missing values for that attribute. Run the function and document takeaways from this on how you want to handle missing values. \n",
    "\n",
    "![image.png](attachment:image.png)"
   ]
  },
  {
   "cell_type": "code",
   "execution_count": 9,
   "metadata": {},
   "outputs": [],
   "source": []
  },
  {
   "cell_type": "code",
   "execution_count": 10,
   "metadata": {},
   "outputs": [
    {
     "data": {
      "text/plain": [
       "(75575, 33)"
      ]
     },
     "execution_count": 10,
     "metadata": {},
     "output_type": "execute_result"
    }
   ],
   "source": []
  },
  {
   "cell_type": "code",
   "execution_count": null,
   "metadata": {},
   "outputs": [],
   "source": []
  },
  {
   "cell_type": "markdown",
   "metadata": {},
   "source": [
    "### Prep Data Function:"
   ]
  },
  {
   "cell_type": "code",
   "execution_count": 8,
   "metadata": {},
   "outputs": [],
   "source": [
    "# Function to Prep Data\n",
    "def data_prep(df, cols_to_remove=[], prop_required_column=.5, prop_required_row=.75):\n",
    "    \n",
    "    def remove_columns(df, cols_to_remove):  \n",
    "        df = df.drop(columns=cols_to_remove)\n",
    "        return df\n",
    "\n",
    "    def handle_missing_values(df, prop_required_column = .5, prop_required_row = .75):\n",
    "        threshold = int(round(prop_required_column*len(df.index),0))\n",
    "        df.dropna(axis=1, thresh=threshold, inplace=True)\n",
    "        threshold = int(round(prop_required_row*len(df.columns),0))\n",
    "        df.dropna(axis=0, thresh=threshold, inplace=True)\n",
    "        return df\n",
    "    \n",
    "    df = remove_columns(df, cols_to_remove)  # Removes Specified Columns\n",
    "    df = handle_missing_values(df, prop_required_column, prop_required_row) # Removes Specified Rows\n",
    "    #df.dropna(inplace=True) # Drops all Null Values From Dataframe\n",
    "    return df\n",
    "\n",
    "\n",
    "# How to Call the Function\n",
    "# df = prepare.data_prep(\n",
    "#     df,\n",
    "#     cols_to_remove=[],\n",
    "#     prop_required_column=.6,\n",
    "#     prop_required_row=.75\n",
    "# )"
   ]
  }
 ],
 "metadata": {
  "kernelspec": {
   "display_name": "Python 3",
   "language": "python",
   "name": "python3"
  },
  "language_info": {
   "codemirror_mode": {
    "name": "ipython",
    "version": 3
   },
   "file_extension": ".py",
   "mimetype": "text/x-python",
   "name": "python",
   "nbconvert_exporter": "python",
   "pygments_lexer": "ipython3",
   "version": "3.8.3"
  }
 },
 "nbformat": 4,
 "nbformat_minor": 4
}
